{
 "cells": [
  {
   "cell_type": "markdown",
   "metadata": {},
   "source": [
    "## Dragonboat web scraping.\n",
    "---"
   ]
  },
  {
   "cell_type": "markdown",
   "metadata": {},
   "source": [
    "**ATENCIÓN ALMIRANTES:**\n",
    "\n",
    "PRIMERO Y MÁS IMPORTANTE, no tomar ejemplo del código de este programa. Todas las órdenes tienen que ir en funciones y/o clases, la documentación mucho más cuidada, etc.\n",
    "\n",
    "No tengas prisa a la hora de ejecutar el código. Espera un poco a que todo esté listo. Es un web scraping poco ambicioso y por eso no me he ocupado demasiado de programar las esperas.\n",
    "\n",
    "---"
   ]
  },
  {
   "cell_type": "markdown",
   "metadata": {},
   "source": [
    "¡Importaciones las justas! \n",
    "\n",
    "Es una página sencilla de scrapear. La url de acceso a los datos es única, no hay que andar saltando entre webs y quemando el servidor a peticiones. Lo único que hay que hacer es localizar los elementos (con sus etiquetas CSS) y almacenar su contenido. No he tenido que gestionar ningún error en tiempo de ejecución (excepciones).\n",
    "\n",
    "Recordar:\n",
    "\n",
    "- El webdriver es el objeto navegador. Simula el comportamiento del usuario en la web.\n",
    "- El By es una cómoda herramienta de localización de elementos en la web.\n",
    "- El Keys permite introducir teclas del teclado.\n",
    "- El WebDriverWait y las EC vienen en pack y definen las esperas explícitas.\n",
    "\n",
    "La parte de esperas explícitas te la he dejado más por motivos académicos. En este caso casi que ni hace falta programar esperas."
   ]
  },
  {
   "cell_type": "code",
   "execution_count": 1,
   "metadata": {},
   "outputs": [],
   "source": [
    "# Importaciones\n",
    "\n",
    "from selenium import webdriver\n",
    "from selenium.webdriver.common.by import By\n",
    "from selenium.webdriver.common.keys import Keys\n",
    "from selenium.webdriver.support.ui import WebDriverWait\n",
    "from selenium.webdriver.support import expected_conditions as EC"
   ]
  },
  {
   "cell_type": "markdown",
   "metadata": {},
   "source": [
    "**MUY IMPORTANTE**\n",
    "\n",
    "Selenium es una librería de automatización de pruebas para verificar el correcto funcionamiento de una web. Para poder trabajar con Selenium necesitamos descargar un elemento que haga las funciones de NAVEGADOR. Este elemento es único para cada navegador web (valga la redundancia).\n",
    "\n",
    "Por ejemplo, yo utilizo Google Chrome como navegador, necesito descargar el *Google Chrome Webdriver*. Se puede acceder desde el siguiente enlace:\n",
    "\n",
    "https://chromedriver.chromium.org/downloads\n",
    "\n",
    "Por ejemplo, yo utilizo la versión 83 de Chrome, así que me bajo el ChromeDriver 83.0.4103.39.\n",
    "\n",
    "Cuando te bajes la versión correspondiente a tu navegador tendrá el formato de carpeta comprimida. Descomprime esa carpeta en el mismo directorio (carpeta) donde tengas este archivo, es lo más cómodo para no tener que andar modificando paths. También puedes no hacerlo y modificar la dirección de la variable PATH para encontrar tu archivo. \n",
    "\n",
    "Después de descomprimirlo obtendrás un archivo llamado 'chromedriver'. No sé si hace falta ejecutarlo o no. Prueba. La cosa es que si lo has hecho bien debería funcionarte la orden siguiente donde se crea el objeto navegador y se define su espera explícita."
   ]
  },
  {
   "cell_type": "code",
   "execution_count": 2,
   "metadata": {},
   "outputs": [],
   "source": [
    "# Inicialización del elemento navegador.\n",
    "\n",
    "PATH = \"./chromedriver\"\n",
    "driver = webdriver.Chrome(PATH)\n",
    "\n",
    "# Definición de las esperas explícitas.\n",
    "\n",
    "wait = WebDriverWait(driver, 10)"
   ]
  },
  {
   "cell_type": "code",
   "execution_count": 3,
   "metadata": {},
   "outputs": [],
   "source": [
    "# Ir a la dirección de los datos de Dragonboat.\n",
    "\n",
    "url = \"https://idbfchamps.org/2019tha\"\n",
    "driver.get(url)"
   ]
  },
  {
   "cell_type": "markdown",
   "metadata": {},
   "source": [
    "El esquema a partir de aquí es siempre el mismo:\n",
    "\n",
    "- Espera hasta la disponibilidad de los elementos con los que vamos a interactuar.\n",
    "- Localización de elementos a través del código fuente de la página (CSS).\n",
    "- Interacción con los elementos localizados.\n",
    "\n",
    "Los elementos han sido localizados mediante la herramienta By y por su código CSS.\n",
    "Las interacciones en la mayoría de los casos (en este scraping en particular) se han basado en almacenar información envariables."
   ]
  },
  {
   "cell_type": "code",
   "execution_count": 4,
   "metadata": {},
   "outputs": [],
   "source": [
    "# Desde la página principal, direccionamiento a 'ALL RESULTS'.\n",
    "\n",
    "wait.until(EC.presence_of_element_located((By.NAME, \"all_results\")))\n",
    "button = driver.find_element(By.NAME, \"all_results\")\n",
    "button.send_keys(Keys.RETURN)"
   ]
  },
  {
   "cell_type": "code",
   "execution_count": 5,
   "metadata": {},
   "outputs": [],
   "source": [
    "# Localización de la tabla de resultados con el contenido: títulos e información (datos).\n",
    "\n",
    "wait.until(EC.presence_of_element_located((By.ID, \"results\")))\n",
    "results = driver.find_element(By.ID, \"results\")"
   ]
  },
  {
   "cell_type": "code",
   "execution_count": 6,
   "metadata": {},
   "outputs": [],
   "source": [
    "# Localización de títulos. Almacenamiento en la lista 'categories'.\n",
    "\n",
    "titles = results.find_elements(By.TAG_NAME, \"th\")\n",
    "categories = [title.text for title in titles]"
   ]
  },
  {
   "cell_type": "markdown",
   "metadata": {},
   "source": [
    "La localización de datos tarda bastante en ejecutarse. Por este motivo te paso el .csv directamente (pero debería funcionar). Prueba."
   ]
  },
  {
   "cell_type": "code",
   "execution_count": 7,
   "metadata": {},
   "outputs": [],
   "source": [
    "# Localización de datos. Almacenamiento en la lista 'all_data'\n",
    "\n",
    "data = results.find_elements(By.TAG_NAME, \"tr[lane]\")\n",
    "all_data = []\n",
    "for element in data:\n",
    "    values = element.find_elements(By.TAG_NAME, \"td\")\n",
    "    all_data.append([value.text for value in values])"
   ]
  },
  {
   "cell_type": "code",
   "execution_count": 8,
   "metadata": {},
   "outputs": [
    {
     "data": {
      "text/plain": [
       "1830"
      ]
     },
     "execution_count": 8,
     "metadata": {},
     "output_type": "execute_result"
    }
   ],
   "source": [
    "# Comprobación (deben ser 1830 entradas).\n",
    "\n",
    "len(all_data)"
   ]
  },
  {
   "cell_type": "code",
   "execution_count": 10,
   "metadata": {},
   "outputs": [],
   "source": [
    "# Escritura de los datos en el archivo con formato '.csv'.\n",
    "\n",
    "with open(\"dragonboat.csv\", \"w\") as file:\n",
    "    file.write(\",\".join(categories))\n",
    "    file.write(\"\\n\")\n",
    "    for line in all_data:\n",
    "        file.write(\",\".join(line))\n",
    "        file.write(\"\\n\")"
   ]
  },
  {
   "cell_type": "markdown",
   "metadata": {},
   "source": [
    "Por último, no me atrevo a asegurártelo a ciencia cierta pero es posible que este código te sirva para escrapear algunas de las competiciones de otros años. He visto que tienen una estructura similar. Lo único que tendrías que hacer es cambiar la url original. Prueba."
   ]
  }
 ],
 "metadata": {
  "kernelspec": {
   "display_name": "Python 3",
   "language": "python",
   "name": "python3"
  },
  "language_info": {
   "codemirror_mode": {
    "name": "ipython",
    "version": 3
   },
   "file_extension": ".py",
   "mimetype": "text/x-python",
   "name": "python",
   "nbconvert_exporter": "python",
   "pygments_lexer": "ipython3",
   "version": "3.7.4"
  }
 },
 "nbformat": 4,
 "nbformat_minor": 4
}
