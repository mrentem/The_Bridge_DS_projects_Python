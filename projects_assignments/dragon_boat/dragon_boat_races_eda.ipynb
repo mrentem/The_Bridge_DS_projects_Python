{
 "nbformat": 4,
 "nbformat_minor": 2,
 "metadata": {
  "language_info": {
   "name": "python",
   "codemirror_mode": {
    "name": "ipython",
    "version": 3
   },
   "version": "3.7.4-final"
  },
  "orig_nbformat": 2,
  "file_extension": ".py",
  "mimetype": "text/x-python",
  "name": "python",
  "npconvert_exporter": "python",
  "pygments_lexer": "ipython3",
  "version": 3,
  "kernelspec": {
   "name": "python37464bitbaseconda2bb33fe5ffce4701a66c14f076279995",
   "display_name": "Python 3.7.4 64-bit ('base': conda)"
  }
 },
 "cells": [
  {
   "cell_type": "markdown",
   "metadata": {},
   "source": [
    "# International Dragon Boat Races - Exploratory Data Analysis\n",
    "\n",
    "The aim of this project is threefold:\n",
    "- Data Collection: Identification of Data sources, addition on new Data.\n",
    "- Data Wrangling: Ensuring a common and clean data structure.\n",
    "- Data Analysis: Based on the available data, answer some questions aboout How Dragon Boat teams are performing in races around the Globe."
   ],
   "execution_count": null,
   "outputs": []
  },
  {
   "cell_type": "markdown",
   "metadata": {},
   "source": [
    "## 1. Data Collection:\n",
    "\n",
    "The main problem in Dragon Boat is the reduced amount of available data. Although being a National sport in many countries, specially in Asia, it is still a minority sport in most of the World. However, it is getting increased attention and races and events are getting more attention.\n",
    "\n",
    "\n",
    "Therefore, the first step of the project was to identify a reliable and sufficiently rich source of Data. This was possible by accessing the data available in the International Dragon Boat Federation (IDBF) website.\n",
    "- Data source: https://www.dragonboat.sport/world\n",
    "\n",
    "\n",
    "Thanks to the work of IDBF IT Team, there is access to the data of the results of International Dragon Boat Events. These data will be the base for the first steps of the analysis."
   ],
   "execution_count": null,
   "outputs": []
  },
  {
   "cell_type": "markdown",
   "metadata": {},
   "source": [
    "## 2. Data Wrangling:\n",
    "Once we ingested the datasets, we have to do some wrangling in order to do further analysis. Most data wrangling was done in Excel, which included trimming some spaces taking the character format into account, as well as dealing with the format in the 'result' column. \n",
    "\n",
    "\n",
    "The structure was already pretty clean, but decisions had to be made as to integrate all data in one same dataset, to structure them in groups, etc.\n",
    "\n",
    "\n",
    "In order to be able to present some preliminary results, we opted to integrate in one single dataset data coming from the results of various events. As the projects grows, we will decide the data structure accordingly."
   ],
   "execution_count": null,
   "outputs": []
  },
  {
   "cell_type": "markdown",
   "metadata": {},
   "source": [
    "## 3. Data Analysis:\n",
    "The aim of the project is to answer some questions about the state of the art of Dragon Boat in International Races. Questions such as: *How did different countries performance evolve in the last years? How do countries perform in different kind of events (International Vs Regional)? Is Dragon Boat a private club for only a few countries dominating the scene? Are there any challengers? Do all countries perform equally in all distances and cathegories? Do some countries have more explosive paddlers Vs other long distance ones?*"
   ],
   "execution_count": null,
   "outputs": []
  },
  {
   "cell_type": "markdown",
   "metadata": {},
   "source": [
    "### Importing Data:"
   ],
   "execution_count": null,
   "outputs": []
  },
  {
   "cell_type": "code",
   "execution_count": 1,
   "metadata": {},
   "outputs": [],
   "source": [
    "import pandas as pd\n",
    "import numpy as np"
   ]
  },
  {
   "cell_type": "code",
   "execution_count": 2,
   "metadata": {},
   "outputs": [
    {
     "output_type": "execute_result",
     "data": {
      "text/plain": "                     event  year event_type organizer     result   country  \\\n0  201908_thailand_pattaya  2019      WDBRC      IDBF  00:39.251     China   \n1  201908_thailand_pattaya  2019      WDBRC      IDBF  00:40.330  Thailand   \n2  201908_thailand_pattaya  2019      WDBRC      IDBF  00:41.047     China   \n3  201908_thailand_pattaya  2019      WDBRC      IDBF  00:41.253    Canada   \n4  201908_thailand_pattaya  2019      WDBRC      IDBF  00:41.648  Thailand   \n\n   boat_type  distance age_category gender race_number  lane_number  \\\n0         20       200      premier   open         275            3   \n1         20       200      premier   open         275            4   \n2         20       200      premier   open         221            3   \n3         20       200      premier   open         275            2   \n4         20       200      premier   open         222            3   \n\n         stage all comers comment  \n0  grand final        NaN     NaN  \n1  grand final        NaN     NaN  \n2       heat 1        NaN     NaN  \n3  grand final        NaN     NaN  \n4       heat 2        NaN     NaN  ",
      "text/html": "<div>\n<style scoped>\n    .dataframe tbody tr th:only-of-type {\n        vertical-align: middle;\n    }\n\n    .dataframe tbody tr th {\n        vertical-align: top;\n    }\n\n    .dataframe thead th {\n        text-align: right;\n    }\n</style>\n<table border=\"1\" class=\"dataframe\">\n  <thead>\n    <tr style=\"text-align: right;\">\n      <th></th>\n      <th>event</th>\n      <th>year</th>\n      <th>event_type</th>\n      <th>organizer</th>\n      <th>result</th>\n      <th>country</th>\n      <th>boat_type</th>\n      <th>distance</th>\n      <th>age_category</th>\n      <th>gender</th>\n      <th>race_number</th>\n      <th>lane_number</th>\n      <th>stage</th>\n      <th>all comers</th>\n      <th>comment</th>\n    </tr>\n  </thead>\n  <tbody>\n    <tr>\n      <td>0</td>\n      <td>201908_thailand_pattaya</td>\n      <td>2019</td>\n      <td>WDBRC</td>\n      <td>IDBF</td>\n      <td>00:39.251</td>\n      <td>China</td>\n      <td>20</td>\n      <td>200</td>\n      <td>premier</td>\n      <td>open</td>\n      <td>275</td>\n      <td>3</td>\n      <td>grand final</td>\n      <td>NaN</td>\n      <td>NaN</td>\n    </tr>\n    <tr>\n      <td>1</td>\n      <td>201908_thailand_pattaya</td>\n      <td>2019</td>\n      <td>WDBRC</td>\n      <td>IDBF</td>\n      <td>00:40.330</td>\n      <td>Thailand</td>\n      <td>20</td>\n      <td>200</td>\n      <td>premier</td>\n      <td>open</td>\n      <td>275</td>\n      <td>4</td>\n      <td>grand final</td>\n      <td>NaN</td>\n      <td>NaN</td>\n    </tr>\n    <tr>\n      <td>2</td>\n      <td>201908_thailand_pattaya</td>\n      <td>2019</td>\n      <td>WDBRC</td>\n      <td>IDBF</td>\n      <td>00:41.047</td>\n      <td>China</td>\n      <td>20</td>\n      <td>200</td>\n      <td>premier</td>\n      <td>open</td>\n      <td>221</td>\n      <td>3</td>\n      <td>heat 1</td>\n      <td>NaN</td>\n      <td>NaN</td>\n    </tr>\n    <tr>\n      <td>3</td>\n      <td>201908_thailand_pattaya</td>\n      <td>2019</td>\n      <td>WDBRC</td>\n      <td>IDBF</td>\n      <td>00:41.253</td>\n      <td>Canada</td>\n      <td>20</td>\n      <td>200</td>\n      <td>premier</td>\n      <td>open</td>\n      <td>275</td>\n      <td>2</td>\n      <td>grand final</td>\n      <td>NaN</td>\n      <td>NaN</td>\n    </tr>\n    <tr>\n      <td>4</td>\n      <td>201908_thailand_pattaya</td>\n      <td>2019</td>\n      <td>WDBRC</td>\n      <td>IDBF</td>\n      <td>00:41.648</td>\n      <td>Thailand</td>\n      <td>20</td>\n      <td>200</td>\n      <td>premier</td>\n      <td>open</td>\n      <td>222</td>\n      <td>3</td>\n      <td>heat 2</td>\n      <td>NaN</td>\n      <td>NaN</td>\n    </tr>\n  </tbody>\n</table>\n</div>"
     },
     "metadata": {},
     "execution_count": 2
    }
   ],
   "source": [
    "data = pd.read_csv('WDBRC_data.csv', sep=';')\n",
    "data.head()"
   ]
  },
  {
   "cell_type": "markdown",
   "metadata": {},
   "source": [
    "### Description of Variables:\n",
    "\n",
    "- event: Race Event\n",
    "- year: Year in which the event tool place ---- `NEEDS REFINEMENT IN DATA STRUCTURE`\n",
    "- event_type: Cathegory of the event, wether it is a World Dragon Boat Racing Championship (WDBRC), a Club Crew World Championship (CCWC), etc ---- `NEEDS REFINEMENT IN DATA STRUCTURE`\n",
    "- organizer: Organization, Federation or Association organizing the event\n",
    "- result: time result for that particular crew in that perticular race in the event\n",
    "- country: country of origin of the crew ---- `NEEDS REFINEMENT IN DATA STRUCTURE`\n",
    "- boat_type: standard boat (20 paddlers), small boat (10 paddlers)\n",
    "- distance: race distance (200 m., 500 m., 1000 m., 2000 m.)\n",
    "- age_category: racing cathegory of the crew (premier, senior A, senior B, senior C, u24, junior A, junior B, PD-1, PD-2)\n",
    "- gender: gender composition of the crew (open, women, mixed)\n",
    "- race_number: ID number of the race in that particulat event ---- `NEEDS REFINEMENT IN DATA STRUCTURE`\n",
    "- lane_number: lane in which that crew raced in that race number\n",
    "- stage: stage in the competition that race took place (heat, repechage, semi final, tail race, minor final, grand final, final round)\n",
    "- all comers\n",
    "- comment: any comment relevant for that crew in that race, usually related to penalties and such issues"
   ],
   "execution_count": null,
   "outputs": []
  },
  {
   "cell_type": "code",
   "execution_count": 3,
   "metadata": {},
   "outputs": [
    {
     "output_type": "stream",
     "name": "stdout",
     "text": "<class 'pandas.core.frame.DataFrame'>\nRangeIndex: 6061 entries, 0 to 6060\nData columns (total 15 columns):\nevent           6061 non-null object\nyear            6061 non-null int64\nevent_type      6061 non-null object\norganizer       6061 non-null object\nresult          6061 non-null object\ncountry         6061 non-null object\nboat_type       6061 non-null int64\ndistance        6061 non-null int64\nage_category    6061 non-null object\ngender          6061 non-null object\nrace_number     6061 non-null object\nlane_number     6061 non-null int64\nstage           6061 non-null object\nall comers      93 non-null object\ncomment         45 non-null object\ndtypes: int64(4), object(11)\nmemory usage: 710.4+ KB\n"
    }
   ],
   "source": [
    "data.info()"
   ]
  },
  {
   "cell_type": "code",
   "execution_count": null,
   "metadata": {},
   "outputs": [],
   "source": []
  }
 ]
}