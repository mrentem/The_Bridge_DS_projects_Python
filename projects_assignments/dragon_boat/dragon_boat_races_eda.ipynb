{
 "nbformat": 4,
 "nbformat_minor": 2,
 "metadata": {
  "language_info": {
   "name": "python",
   "codemirror_mode": {
    "name": "ipython",
    "version": 3
   },
   "version": "3.7.4-final"
  },
  "orig_nbformat": 2,
  "file_extension": ".py",
  "mimetype": "text/x-python",
  "name": "python",
  "npconvert_exporter": "python",
  "pygments_lexer": "ipython3",
  "version": 3,
  "kernelspec": {
   "name": "python37464bitbaseconda2bb33fe5ffce4701a66c14f076279995",
   "display_name": "Python 3.7.4 64-bit ('base': conda)"
  }
 },
 "cells": [
  {
   "cell_type": "markdown",
   "metadata": {},
   "source": [
    "# International Dragon Boat Races - Exploratory Data Analysis\n",
    "\n",
    "## Business Case description \n",
    "\n",
    "Dragon Boat is a canoe-sport whose origins go back 2.500 years in ancient China. It began as a modern sport in 1976 in Hong Kong and has since become a very popular sport all around the World. It is practised in standard DB20 boats or small DB10 boats, each with a crew of 20 or 10 paddlers plus a drum and a steer-person.\n",
    "\n",
    "\n",
    "Despite being a National sport in many countries and gaining increased popularity in many other countries, there are little data resources and analysis available so far.\n",
    "\n",
    "\n",
    "The aim of this project is to **answer some questions about the state of the art of Dragon Boat in International Races**. Questions such as: \n",
    "- *How did different countries performance evolve in the last years?*\n",
    "- *How do countries perform in different kind of events (International Vs Regional)?*\n",
    "- *Is Dragon Boat a private club for only a few countries dominating the scene? Are there any challengers?*\n",
    "- *Do all countries perform equally in all distances and cathegories?*\n",
    "- *Do some countries have more explosive paddlers Vs other long distance ones?*\n",
    "\n",
    "\n",
    "For that purpose, we will **structure the project in the following steps**:\n",
    "- **Data Collection**: Identification of Data sources, addition on new Data.\n",
    "- **Data Wrangling**: Ensuring a common and clean data structure.\n",
    "- **Data Analysis**: Based on the available data, answer some questions about How Dragon Boat teams are performing in races around the Globe."
   ],
   "execution_count": null,
   "outputs": []
  },
  {
   "cell_type": "markdown",
   "metadata": {},
   "source": [
    "## 1. Data Collection:\n",
    "\n",
    "The main problem in Dragon Boat is the reduced amount of available data. Therefore, the first step of the project was to identify a reliable and sufficiently rich source of Data. This was possible by accessing the data available in the International Dragon Boat Federation (IDBF) website.\n",
    "\n",
    "- Data source: https://www.dragonboat.sport/world\n",
    "\n",
    "\n",
    "Thanks to the work of IDBF IT Team, there is access to data of the results of International Dragon Boat Events. These data will be the base for the first steps of the analysis.\n",
    "\n",
    "### Original Data Structure:\n",
    "Data ingested from the original site contained the following variables, which were treated accordingly:\n",
    "- **# in dst.**: number reference in the original dataset.\n",
    "- **# in filtered dst.**:  number reference in filtered dataset.\n",
    "- **result**: race time for that particular crew in that particular event.\n",
    "- **crew**: racing team (either country of the National Team, or Club Crew).\n",
    "- **boat**: standard boat (20 paddlers), small boat (10 paddlers).\n",
    "- **distance**: race distance (200 m., 500 m., 1000 m., 2000 m.).\n",
    "- **age**: racing cathegory of the crew (premier, senior A, senior B, senior C, u24, junior A, junior B, PD-1, PD-2)\n",
    "- **gender**: crew gender (open, women or mixed crew).\n",
    "- **race no**: reference number of one particular race in one particular event.\n",
    "- **lane**: racing lane for that boat in that particular race.\n",
    "- **stage**: stage of the championchip in which that race took place (heat, repechage, semi final, tail race, minor final, grand final, final round).\n",
    "- **all comers**: (tbc).\n",
    "- **comment**: any comments related to that race and crew (any penalties or other comments)."
   ],
   "execution_count": null,
   "outputs": []
  },
  {
   "cell_type": "markdown",
   "metadata": {},
   "source": [
    "## 2. Data Wrangling:\n",
    "Once we ingested the datasets, we have to do some data wrangling in order to pursue further analysis. Some good part of that data wrangling was done in a first stage in Excel. Data wrangling at this stage included:\n",
    "\n",
    "- Trimming column 'crew': using function SUBSTITUTE(). The function TRIM() couldn't be used, as the spaces to be trimmed were not char 32.\n",
    "- Formating column 'result': in order to hace the column 'result' in the same format mm:ss.sss, we first had to append the extra \"00:\", or \"0\", to all timings under 10:00.000, and then finish the formar by applying LEFT() and RIGHT() functions and appending \".\" in position 6. \n",
    "- Dropping columns '# in dst.' and '# in filtered dst.'\n",
    "- Adding columns: 'event', 'venue', 'year', 'month', 'event_type', 'organizer':\n",
    "\n",
    "\n",
    "- event: Race Event\n",
    "- venue: Country and City hosting the event\n",
    "- year: Year in which the event took place\n",
    "- month: Month in which the event took place\n",
    "- event_type: Cathegory of the event, wether it is a World Dragon Boat Racing Championship (WDBRC), a Club Crew World Championship (CCWC), etc\n",
    "- organizer: Organization, Federation or Association organizing the event\n",
    "\n",
    "\n",
    "- Changing columns 'crew' and 'country:\n",
    "\n",
    "\n",
    "- crew: wether National Team or one particular Club Crew\n",
    "- country: country of origin of the crew\n",
    "\n",
    "\n",
    "### Data Structure:\n",
    "In order to present some preliminary results, we opted by integrating in one single dataset all data coming from World Dragon Boat Racing Championship (WDBRC). As the projects grows, we will decide the data structure accordingly."
   ],
   "execution_count": null,
   "outputs": []
  },
  {
   "cell_type": "markdown",
   "metadata": {},
   "source": [
    "## 3. Data Analysis:\n"
   ],
   "execution_count": null,
   "outputs": []
  },
  {
   "cell_type": "markdown",
   "metadata": {},
   "source": [
    "### Importing Data:\n",
    "Once we have a few data in our csv, let's import and do some preliminary analysis and further data wrangling in case it is still required"
   ],
   "execution_count": null,
   "outputs": []
  },
  {
   "cell_type": "code",
   "execution_count": 1,
   "metadata": {},
   "outputs": [],
   "source": [
    "# Import libraries\n",
    "\n",
    "import pandas as pd\n",
    "import numpy as np\n",
    "import matplotlib\n",
    "import matplotlib.pyplot as plt\n",
    "import seaborn as sns\n",
    "%matplotlib inline"
   ]
  },
  {
   "cell_type": "code",
   "execution_count": 2,
   "metadata": {},
   "outputs": [
    {
     "output_type": "execute_result",
     "data": {
      "text/plain": "                     event               venue  year  month event_type  \\\n0  201908_thailand_pattaya  Thailand - Pattaya  2019      8      WDBRC   \n1  201908_thailand_pattaya  Thailand - Pattaya  2019      8      WDBRC   \n2  201908_thailand_pattaya  Thailand - Pattaya  2019      8      WDBRC   \n3  201908_thailand_pattaya  Thailand - Pattaya  2019      8      WDBRC   \n4  201908_thailand_pattaya  Thailand - Pattaya  2019      8      WDBRC   \n\n  organizer     result   country           crew  boat_type  distance  \\\n0      IDBF  00:39.251     China  National Team         20       200   \n1      IDBF  00:40.330  Thailand  National Team         20       200   \n2      IDBF  00:41.047     China  National Team         20       200   \n3      IDBF  00:41.253    Canada  National Team         20       200   \n4      IDBF  00:41.648  Thailand  National Team         20       200   \n\n  age_category gender race_number  lane_number        stage all comers comment  \n0      premier   open         275            3  grand final        NaN     NaN  \n1      premier   open         275            4  grand final        NaN     NaN  \n2      premier   open         221            3       heat 1        NaN     NaN  \n3      premier   open         275            2  grand final        NaN     NaN  \n4      premier   open         222            3       heat 2        NaN     NaN  ",
      "text/html": "<div>\n<style scoped>\n    .dataframe tbody tr th:only-of-type {\n        vertical-align: middle;\n    }\n\n    .dataframe tbody tr th {\n        vertical-align: top;\n    }\n\n    .dataframe thead th {\n        text-align: right;\n    }\n</style>\n<table border=\"1\" class=\"dataframe\">\n  <thead>\n    <tr style=\"text-align: right;\">\n      <th></th>\n      <th>event</th>\n      <th>venue</th>\n      <th>year</th>\n      <th>month</th>\n      <th>event_type</th>\n      <th>organizer</th>\n      <th>result</th>\n      <th>country</th>\n      <th>crew</th>\n      <th>boat_type</th>\n      <th>distance</th>\n      <th>age_category</th>\n      <th>gender</th>\n      <th>race_number</th>\n      <th>lane_number</th>\n      <th>stage</th>\n      <th>all comers</th>\n      <th>comment</th>\n    </tr>\n  </thead>\n  <tbody>\n    <tr>\n      <td>0</td>\n      <td>201908_thailand_pattaya</td>\n      <td>Thailand - Pattaya</td>\n      <td>2019</td>\n      <td>8</td>\n      <td>WDBRC</td>\n      <td>IDBF</td>\n      <td>00:39.251</td>\n      <td>China</td>\n      <td>National Team</td>\n      <td>20</td>\n      <td>200</td>\n      <td>premier</td>\n      <td>open</td>\n      <td>275</td>\n      <td>3</td>\n      <td>grand final</td>\n      <td>NaN</td>\n      <td>NaN</td>\n    </tr>\n    <tr>\n      <td>1</td>\n      <td>201908_thailand_pattaya</td>\n      <td>Thailand - Pattaya</td>\n      <td>2019</td>\n      <td>8</td>\n      <td>WDBRC</td>\n      <td>IDBF</td>\n      <td>00:40.330</td>\n      <td>Thailand</td>\n      <td>National Team</td>\n      <td>20</td>\n      <td>200</td>\n      <td>premier</td>\n      <td>open</td>\n      <td>275</td>\n      <td>4</td>\n      <td>grand final</td>\n      <td>NaN</td>\n      <td>NaN</td>\n    </tr>\n    <tr>\n      <td>2</td>\n      <td>201908_thailand_pattaya</td>\n      <td>Thailand - Pattaya</td>\n      <td>2019</td>\n      <td>8</td>\n      <td>WDBRC</td>\n      <td>IDBF</td>\n      <td>00:41.047</td>\n      <td>China</td>\n      <td>National Team</td>\n      <td>20</td>\n      <td>200</td>\n      <td>premier</td>\n      <td>open</td>\n      <td>221</td>\n      <td>3</td>\n      <td>heat 1</td>\n      <td>NaN</td>\n      <td>NaN</td>\n    </tr>\n    <tr>\n      <td>3</td>\n      <td>201908_thailand_pattaya</td>\n      <td>Thailand - Pattaya</td>\n      <td>2019</td>\n      <td>8</td>\n      <td>WDBRC</td>\n      <td>IDBF</td>\n      <td>00:41.253</td>\n      <td>Canada</td>\n      <td>National Team</td>\n      <td>20</td>\n      <td>200</td>\n      <td>premier</td>\n      <td>open</td>\n      <td>275</td>\n      <td>2</td>\n      <td>grand final</td>\n      <td>NaN</td>\n      <td>NaN</td>\n    </tr>\n    <tr>\n      <td>4</td>\n      <td>201908_thailand_pattaya</td>\n      <td>Thailand - Pattaya</td>\n      <td>2019</td>\n      <td>8</td>\n      <td>WDBRC</td>\n      <td>IDBF</td>\n      <td>00:41.648</td>\n      <td>Thailand</td>\n      <td>National Team</td>\n      <td>20</td>\n      <td>200</td>\n      <td>premier</td>\n      <td>open</td>\n      <td>222</td>\n      <td>3</td>\n      <td>heat 2</td>\n      <td>NaN</td>\n      <td>NaN</td>\n    </tr>\n  </tbody>\n</table>\n</div>"
     },
     "metadata": {},
     "execution_count": 2
    }
   ],
   "source": [
    "wdbrc_data = pd.read_csv('WDBRC_data.csv', sep=';')\n",
    "wdbrc_data.head()"
   ]
  },
  {
   "cell_type": "markdown",
   "metadata": {},
   "source": [
    "### Description of Variables:\n",
    "By running the ciode bellow "
   ],
   "execution_count": null,
   "outputs": []
  },
  {
   "cell_type": "code",
   "execution_count": 3,
   "metadata": {},
   "outputs": [
    {
     "output_type": "stream",
     "name": "stdout",
     "text": "<class 'pandas.core.frame.DataFrame'>\nRangeIndex: 7126 entries, 0 to 7125\nData columns (total 18 columns):\nevent           7126 non-null object\nvenue           7126 non-null object\nyear            7126 non-null int64\nmonth           7126 non-null int64\nevent_type      7126 non-null object\norganizer       7126 non-null object\nresult          7126 non-null object\ncountry         7126 non-null object\ncrew            7126 non-null object\nboat_type       7126 non-null int64\ndistance        7126 non-null int64\nage_category    7126 non-null object\ngender          7126 non-null object\nrace_number     7126 non-null object\nlane_number     7126 non-null int64\nstage           7126 non-null object\nall comers      93 non-null object\ncomment         49 non-null object\ndtypes: int64(5), object(13)\nmemory usage: 1002.2+ KB\n"
    }
   ],
   "source": [
    "wdbrc_data.info()"
   ]
  },
  {
   "cell_type": "code",
   "execution_count": null,
   "metadata": {},
   "outputs": [],
   "source": []
  }
 ]
}