{
 "cells": [
  {
   "cell_type": "markdown",
   "metadata": {
    "slideshow": {
     "slide_type": "slide"
    }
   },
   "source": [
    "# Dragon Boat Exploratory Data Analysis"
   ]
  },
  {
   "cell_type": "markdown",
   "metadata": {
    "slideshow": {
     "slide_type": "slide"
    }
   },
   "source": [
    "## The Analysis"
   ]
  },
  {
   "cell_type": "code",
   "execution_count": 8,
   "metadata": {
    "slideshow": {
     "slide_type": "skip"
    }
   },
   "outputs": [],
   "source": [
    "import pandas as pd"
   ]
  },
  {
   "cell_type": "code",
   "execution_count": 9,
   "metadata": {
    "slideshow": {
     "slide_type": "slide"
    }
   },
   "outputs": [
    {
     "data": {
      "text/html": [
       "<div>\n",
       "<style scoped>\n",
       "    .dataframe tbody tr th:only-of-type {\n",
       "        vertical-align: middle;\n",
       "    }\n",
       "\n",
       "    .dataframe tbody tr th {\n",
       "        vertical-align: top;\n",
       "    }\n",
       "\n",
       "    .dataframe thead th {\n",
       "        text-align: right;\n",
       "    }\n",
       "</style>\n",
       "<table border=\"1\" class=\"dataframe\">\n",
       "  <thead>\n",
       "    <tr style=\"text-align: right;\">\n",
       "      <th></th>\n",
       "      <th># in dst.</th>\n",
       "      <th># in filtered dst.</th>\n",
       "      <th>result</th>\n",
       "      <th>crew</th>\n",
       "      <th>boat</th>\n",
       "      <th>distance</th>\n",
       "      <th>age</th>\n",
       "      <th>gender</th>\n",
       "      <th>race no</th>\n",
       "      <th>lane</th>\n",
       "      <th>stage</th>\n",
       "      <th>all comers</th>\n",
       "      <th>comment</th>\n",
       "    </tr>\n",
       "  </thead>\n",
       "  <tbody>\n",
       "    <tr>\n",
       "      <td>0</td>\n",
       "      <td>1.0</td>\n",
       "      <td>1.0</td>\n",
       "      <td>46.646</td>\n",
       "      <td>Germany</td>\n",
       "      <td>20</td>\n",
       "      <td>200</td>\n",
       "      <td>premier</td>\n",
       "      <td>open</td>\n",
       "      <td>115</td>\n",
       "      <td>3</td>\n",
       "      <td>round 2</td>\n",
       "      <td>NaN</td>\n",
       "      <td>NaN</td>\n",
       "    </tr>\n",
       "    <tr>\n",
       "      <td>1</td>\n",
       "      <td>2.0</td>\n",
       "      <td>2.0</td>\n",
       "      <td>46.851</td>\n",
       "      <td>Ukraine</td>\n",
       "      <td>20</td>\n",
       "      <td>200</td>\n",
       "      <td>premier</td>\n",
       "      <td>open</td>\n",
       "      <td>115</td>\n",
       "      <td>2</td>\n",
       "      <td>round 2</td>\n",
       "      <td>NaN</td>\n",
       "      <td>NaN</td>\n",
       "    </tr>\n",
       "    <tr>\n",
       "      <td>2</td>\n",
       "      <td>3.0</td>\n",
       "      <td>3.0</td>\n",
       "      <td>46.873</td>\n",
       "      <td>Germany</td>\n",
       "      <td>20</td>\n",
       "      <td>200</td>\n",
       "      <td>premier</td>\n",
       "      <td>open</td>\n",
       "      <td>106</td>\n",
       "      <td>2</td>\n",
       "      <td>round 1</td>\n",
       "      <td>NaN</td>\n",
       "      <td>NaN</td>\n",
       "    </tr>\n",
       "    <tr>\n",
       "      <td>3</td>\n",
       "      <td>4.0</td>\n",
       "      <td>4.0</td>\n",
       "      <td>47.015</td>\n",
       "      <td>Germany</td>\n",
       "      <td>20</td>\n",
       "      <td>200</td>\n",
       "      <td>premier</td>\n",
       "      <td>open</td>\n",
       "      <td>124</td>\n",
       "      <td>4</td>\n",
       "      <td>round 3</td>\n",
       "      <td>NaN</td>\n",
       "      <td>NaN</td>\n",
       "    </tr>\n",
       "    <tr>\n",
       "      <td>4</td>\n",
       "      <td>5.0</td>\n",
       "      <td>5.0</td>\n",
       "      <td>47.385</td>\n",
       "      <td>Germany</td>\n",
       "      <td>20</td>\n",
       "      <td>200</td>\n",
       "      <td>premier</td>\n",
       "      <td>mixed</td>\n",
       "      <td>56</td>\n",
       "      <td>2</td>\n",
       "      <td>round 1</td>\n",
       "      <td>NaN</td>\n",
       "      <td>NaN</td>\n",
       "    </tr>\n",
       "  </tbody>\n",
       "</table>\n",
       "</div>"
      ],
      "text/plain": [
       "   # in dst.  # in filtered dst.  result       crew  boat  distance      age  \\\n",
       "0        1.0                 1.0  46.646    Germany    20       200  premier   \n",
       "1        2.0                 2.0  46.851    Ukraine    20       200  premier   \n",
       "2        3.0                 3.0  46.873    Germany    20       200  premier   \n",
       "3        4.0                 4.0  47.015    Germany    20       200  premier   \n",
       "4        5.0                 5.0  47.385    Germany    20       200  premier   \n",
       "\n",
       "  gender  race no  lane    stage  all comers comment  \n",
       "0   open      115     3  round 2         NaN     NaN  \n",
       "1   open      115     2  round 2         NaN     NaN  \n",
       "2   open      106     2  round 1         NaN     NaN  \n",
       "3   open      124     4  round 3         NaN     NaN  \n",
       "4  mixed       56     2  round 1         NaN     NaN  "
      ]
     },
     "execution_count": 9,
     "metadata": {},
     "output_type": "execute_result"
    }
   ],
   "source": [
    "data = pd.read_csv('ENDBC_2018_de_brandenburg.csv', sep=';')\n",
    "data.head()"
   ]
  },
  {
   "cell_type": "code",
   "execution_count": 10,
   "metadata": {
    "slideshow": {
     "slide_type": "skip"
    }
   },
   "outputs": [
    {
     "name": "stdout",
     "output_type": "stream",
     "text": [
      "<class 'pandas.core.frame.DataFrame'>\n",
      "RangeIndex: 812 entries, 0 to 811\n",
      "Data columns (total 13 columns):\n",
      "# in dst.             812 non-null float64\n",
      "# in filtered dst.    812 non-null float64\n",
      "result                812 non-null object\n",
      "crew                  812 non-null object\n",
      "boat                  812 non-null int64\n",
      "distance              812 non-null int64\n",
      "age                   812 non-null object\n",
      "gender                812 non-null object\n",
      "race no               812 non-null int64\n",
      "lane                  812 non-null int64\n",
      "stage                 812 non-null object\n",
      "all comers            0 non-null float64\n",
      "comment               12 non-null object\n",
      "dtypes: float64(3), int64(4), object(6)\n",
      "memory usage: 82.6+ KB\n"
     ]
    }
   ],
   "source": [
    "data.info()"
   ]
  },
  {
   "cell_type": "code",
   "execution_count": 11,
   "metadata": {
    "slideshow": {
     "slide_type": "slide"
    }
   },
   "outputs": [
    {
     "data": {
      "text/html": [
       "<div>\n",
       "<style scoped>\n",
       "    .dataframe tbody tr th:only-of-type {\n",
       "        vertical-align: middle;\n",
       "    }\n",
       "\n",
       "    .dataframe tbody tr th {\n",
       "        vertical-align: top;\n",
       "    }\n",
       "\n",
       "    .dataframe thead th {\n",
       "        text-align: right;\n",
       "    }\n",
       "</style>\n",
       "<table border=\"1\" class=\"dataframe\">\n",
       "  <thead>\n",
       "    <tr style=\"text-align: right;\">\n",
       "      <th></th>\n",
       "      <th>result</th>\n",
       "      <th>country</th>\n",
       "      <th>boat_type</th>\n",
       "      <th>distance</th>\n",
       "      <th>age_category</th>\n",
       "      <th>gender</th>\n",
       "      <th>race_number</th>\n",
       "      <th>lane_number</th>\n",
       "      <th>stage</th>\n",
       "    </tr>\n",
       "  </thead>\n",
       "  <tbody>\n",
       "    <tr>\n",
       "      <td>0</td>\n",
       "      <td>46.646</td>\n",
       "      <td>Germany</td>\n",
       "      <td>20</td>\n",
       "      <td>200</td>\n",
       "      <td>premier</td>\n",
       "      <td>open</td>\n",
       "      <td>115</td>\n",
       "      <td>3</td>\n",
       "      <td>round 2</td>\n",
       "    </tr>\n",
       "    <tr>\n",
       "      <td>1</td>\n",
       "      <td>46.851</td>\n",
       "      <td>Ukraine</td>\n",
       "      <td>20</td>\n",
       "      <td>200</td>\n",
       "      <td>premier</td>\n",
       "      <td>open</td>\n",
       "      <td>115</td>\n",
       "      <td>2</td>\n",
       "      <td>round 2</td>\n",
       "    </tr>\n",
       "    <tr>\n",
       "      <td>2</td>\n",
       "      <td>46.873</td>\n",
       "      <td>Germany</td>\n",
       "      <td>20</td>\n",
       "      <td>200</td>\n",
       "      <td>premier</td>\n",
       "      <td>open</td>\n",
       "      <td>106</td>\n",
       "      <td>2</td>\n",
       "      <td>round 1</td>\n",
       "    </tr>\n",
       "    <tr>\n",
       "      <td>3</td>\n",
       "      <td>47.015</td>\n",
       "      <td>Germany</td>\n",
       "      <td>20</td>\n",
       "      <td>200</td>\n",
       "      <td>premier</td>\n",
       "      <td>open</td>\n",
       "      <td>124</td>\n",
       "      <td>4</td>\n",
       "      <td>round 3</td>\n",
       "    </tr>\n",
       "    <tr>\n",
       "      <td>4</td>\n",
       "      <td>47.385</td>\n",
       "      <td>Germany</td>\n",
       "      <td>20</td>\n",
       "      <td>200</td>\n",
       "      <td>premier</td>\n",
       "      <td>mixed</td>\n",
       "      <td>56</td>\n",
       "      <td>2</td>\n",
       "      <td>round 1</td>\n",
       "    </tr>\n",
       "    <tr>\n",
       "      <td>...</td>\n",
       "      <td>...</td>\n",
       "      <td>...</td>\n",
       "      <td>...</td>\n",
       "      <td>...</td>\n",
       "      <td>...</td>\n",
       "      <td>...</td>\n",
       "      <td>...</td>\n",
       "      <td>...</td>\n",
       "      <td>...</td>\n",
       "    </tr>\n",
       "    <tr>\n",
       "      <td>807</td>\n",
       "      <td>11:46.994</td>\n",
       "      <td>Ukraine</td>\n",
       "      <td>10</td>\n",
       "      <td>2000</td>\n",
       "      <td>senior B</td>\n",
       "      <td>women</td>\n",
       "      <td>42</td>\n",
       "      <td>8</td>\n",
       "      <td>final</td>\n",
       "    </tr>\n",
       "    <tr>\n",
       "      <td>808</td>\n",
       "      <td>11:57.529</td>\n",
       "      <td>Netherlands</td>\n",
       "      <td>10</td>\n",
       "      <td>2000</td>\n",
       "      <td>junior A</td>\n",
       "      <td>open</td>\n",
       "      <td>40</td>\n",
       "      <td>1</td>\n",
       "      <td>final</td>\n",
       "    </tr>\n",
       "    <tr>\n",
       "      <td>809</td>\n",
       "      <td>12:19.359</td>\n",
       "      <td>Czech Republic</td>\n",
       "      <td>10</td>\n",
       "      <td>2000</td>\n",
       "      <td>senior C</td>\n",
       "      <td>women</td>\n",
       "      <td>42</td>\n",
       "      <td>12</td>\n",
       "      <td>final</td>\n",
       "    </tr>\n",
       "    <tr>\n",
       "      <td>810</td>\n",
       "      <td>12:44.964</td>\n",
       "      <td>Cyprus</td>\n",
       "      <td>10</td>\n",
       "      <td>2000</td>\n",
       "      <td>senior A</td>\n",
       "      <td>women</td>\n",
       "      <td>44</td>\n",
       "      <td>8</td>\n",
       "      <td>final</td>\n",
       "    </tr>\n",
       "    <tr>\n",
       "      <td>811</td>\n",
       "      <td>16:04.941</td>\n",
       "      <td>Italy</td>\n",
       "      <td>10</td>\n",
       "      <td>2000</td>\n",
       "      <td>senior C</td>\n",
       "      <td>women</td>\n",
       "      <td>42</td>\n",
       "      <td>11</td>\n",
       "      <td>final</td>\n",
       "    </tr>\n",
       "  </tbody>\n",
       "</table>\n",
       "<p>812 rows × 9 columns</p>\n",
       "</div>"
      ],
      "text/plain": [
       "        result           country  boat_type  distance age_category gender  \\\n",
       "0       46.646           Germany         20       200      premier   open   \n",
       "1       46.851           Ukraine         20       200      premier   open   \n",
       "2       46.873           Germany         20       200      premier   open   \n",
       "3       47.015           Germany         20       200      premier   open   \n",
       "4       47.385           Germany         20       200      premier  mixed   \n",
       "..         ...               ...        ...       ...          ...    ...   \n",
       "807  11:46.994           Ukraine         10      2000     senior B  women   \n",
       "808  11:57.529       Netherlands         10      2000     junior A   open   \n",
       "809  12:19.359    Czech Republic         10      2000     senior C  women   \n",
       "810  12:44.964            Cyprus         10      2000     senior A  women   \n",
       "811  16:04.941             Italy         10      2000     senior C  women   \n",
       "\n",
       "     race_number  lane_number    stage  \n",
       "0            115            3  round 2  \n",
       "1            115            2  round 2  \n",
       "2            106            2  round 1  \n",
       "3            124            4  round 3  \n",
       "4             56            2  round 1  \n",
       "..           ...          ...      ...  \n",
       "807           42            8    final  \n",
       "808           40            1    final  \n",
       "809           42           12    final  \n",
       "810           44            8    final  \n",
       "811           42           11    final  \n",
       "\n",
       "[812 rows x 9 columns]"
      ]
     },
     "execution_count": 11,
     "metadata": {},
     "output_type": "execute_result"
    }
   ],
   "source": [
    "# Renaming columns:\n",
    "\n",
    "data.rename(columns={'race no': 'race_number',\n",
    "                     'lane': 'lane_number',\n",
    "                     'age': 'age_category',\n",
    "                     'boat': 'boat_type',\n",
    "                     'crew': 'country'}, errors=\"raise\", inplace=True)\n",
    "\n",
    "# Dropping order and Nan columns:\n",
    "\n",
    "data.drop(['# in dst.', '# in filtered dst.', 'all comers', 'comment'], axis=1)\n"
   ]
  },
  {
   "cell_type": "code",
   "execution_count": 12,
   "metadata": {},
   "outputs": [],
   "source": [
    "# Trimming 'crew' column\n",
    "\n",
    "data['country'] = data['country'].str.strip()"
   ]
  },
  {
   "cell_type": "code",
   "execution_count": 13,
   "metadata": {},
   "outputs": [
    {
     "data": {
      "text/plain": [
       "0      00:46.646\n",
       "1      00:46.851\n",
       "2      00:46.873\n",
       "3      00:47.015\n",
       "4      00:47.385\n",
       "         ...    \n",
       "807    11:46.994\n",
       "808    11:57.529\n",
       "809    12:19.359\n",
       "810    12:44.964\n",
       "811    16:04.941\n",
       "Name: new_result, Length: 812, dtype: object"
      ]
     },
     "execution_count": 13,
     "metadata": {},
     "output_type": "execute_result"
    }
   ],
   "source": [
    "# Formating 'result' column. It is a :\n",
    "\n",
    "data['new_result'] = data['result'].str.pad(9, side='left', fillchar='-')\n",
    "data['new_result'] = data['new_result'].str.replace('---','00:')\n",
    "data['new_result'] = data['new_result'].str.replace('-','0')\n",
    "data['new_result']"
   ]
  },
  {
   "cell_type": "code",
   "execution_count": 14,
   "metadata": {},
   "outputs": [
    {
     "data": {
      "text/plain": [
       "0      00:46:646\n",
       "1      00:46:851\n",
       "2      00:46:873\n",
       "3      00:47:015\n",
       "4      00:47:385\n",
       "         ...    \n",
       "807    11:46:994\n",
       "808    11:57:529\n",
       "809    12:19:359\n",
       "810    12:44:964\n",
       "811    16:04:941\n",
       "Name: new_result, Length: 812, dtype: object"
      ]
     },
     "execution_count": 14,
     "metadata": {},
     "output_type": "execute_result"
    }
   ],
   "source": [
    "data['new_result'] = data['new_result'].str.replace('.',':')\n",
    "data['new_result']"
   ]
  },
  {
   "cell_type": "code",
   "execution_count": 15,
   "metadata": {},
   "outputs": [
    {
     "data": {
      "text/plain": [
       "0    46646\n",
       "1    46851\n",
       "2    46873\n",
       "3    47015\n",
       "4    47385\n",
       "Name: race_result, dtype: int64"
      ]
     },
     "execution_count": 15,
     "metadata": {},
     "output_type": "execute_result"
    }
   ],
   "source": [
    "data['race_result'] = data['new_result'].apply(str)\n",
    "time = data['race_result'].str.split(':', n = 3, expand = True)\n",
    "data['race_result'] = pd.to_numeric(time[0])*60000 + pd.to_numeric(time[1])*1000 + pd.to_numeric(time[2])\n",
    "data['race_result'].head()"
   ]
  },
  {
   "cell_type": "code",
   "execution_count": null,
   "metadata": {},
   "outputs": [],
   "source": []
  }
 ],
 "metadata": {
  "celltoolbar": "Slideshow",
  "kernelspec": {
   "display_name": "Python 3.7.4 64-bit ('base': conda)",
   "language": "python",
   "name": "python37464bitbaseconda2bb33fe5ffce4701a66c14f076279995"
  },
  "language_info": {
   "codemirror_mode": {
    "name": "ipython",
    "version": 3
   },
   "file_extension": ".py",
   "mimetype": "text/x-python",
   "name": "python",
   "nbconvert_exporter": "python",
   "pygments_lexer": "ipython3",
   "version": "3.7.4"
  }
 },
 "nbformat": 4,
 "nbformat_minor": 2
}
