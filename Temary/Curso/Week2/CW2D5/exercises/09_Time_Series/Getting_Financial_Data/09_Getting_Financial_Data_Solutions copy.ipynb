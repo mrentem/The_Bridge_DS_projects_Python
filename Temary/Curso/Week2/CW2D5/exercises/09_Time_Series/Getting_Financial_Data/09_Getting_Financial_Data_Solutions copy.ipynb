{
 "cells": [
  {
   "cell_type": "markdown",
   "execution_count": null,
   "metadata": {},
   "outputs": [],
   "source": [
    "# Getting Financial Data - Google Finance"
   ]
  },
  {
   "cell_type": "markdown",
   "execution_count": null,
   "metadata": {},
   "outputs": [],
   "source": [
    "### Introduction:\n",
    "\n",
    "This time you will get data from a website.\n",
    "\n",
    "\n",
    "### Step 1. Import the necessary libraries"
   ]
  },
  {
   "cell_type": "code",
   "execution_count": 1,
   "metadata": {},
   "outputs": [],
   "source": [
    "import pandas as pd\n",
    "\n",
    "# package to extract data from various Internet sources into a DataFrame\n",
    "# make sure you have it installed\n",
    "from pandas_datareader import data, wb\n",
    "\n",
    "# package for dates\n",
    "import datetime as dt"
   ]
  },
  {
   "cell_type": "markdown",
   "execution_count": null,
   "metadata": {},
   "outputs": [],
   "source": [
    "### Step 2. Create your time range (start and end variables). The start date should be 01/01/2015 and the end should today (whatever your today is)"
   ]
  },
  {
   "cell_type": "code",
   "execution_count": null,
   "metadata": {
    "collapsed": false
   },
   "outputs": [],
   "source": []
  },
  {
   "cell_type": "markdown",
   "execution_count": null,
   "metadata": {},
   "outputs": [],
   "source": [
    "### Step 3. Select the Apple, Tesla, Twitter, IBM, LinkedIn stocks symbols and assign them to a variable called stocks"
   ]
  },
  {
   "cell_type": "code",
   "execution_count": null,
   "metadata": {
    "collapsed": false
   },
   "outputs": [],
   "source": []
  },
  {
   "cell_type": "markdown",
   "execution_count": null,
   "metadata": {},
   "outputs": [],
   "source": [
    "### Step 4. Read the data from google, assign to df and print it"
   ]
  },
  {
   "cell_type": "code",
   "execution_count": 2,
   "metadata": {},
   "outputs": [
    {
     "data": {
      "text/html": "<div>\n<style scoped>\n    .dataframe tbody tr th:only-of-type {\n        vertical-align: middle;\n    }\n\n    .dataframe tbody tr th {\n        vertical-align: top;\n    }\n\n    .dataframe thead th {\n        text-align: right;\n    }\n</style>\n<table border=\"1\" class=\"dataframe\">\n  <thead>\n    <tr style=\"text-align: right;\">\n      <th></th>\n      <th>Attributes</th>\n      <th>Adj Close</th>\n      <th>Adj Close.1</th>\n      <th>Adj Close.2</th>\n      <th>Adj Close.3</th>\n      <th>Close</th>\n      <th>Close.1</th>\n      <th>Close.2</th>\n      <th>Close.3</th>\n      <th>High</th>\n      <th>...</th>\n      <th>Low.2</th>\n      <th>Low.3</th>\n      <th>Open</th>\n      <th>Open.1</th>\n      <th>Open.2</th>\n      <th>Open.3</th>\n      <th>Volume</th>\n      <th>Volume.1</th>\n      <th>Volume.2</th>\n      <th>Volume.3</th>\n    </tr>\n  </thead>\n  <tbody>\n    <tr>\n      <td>0</td>\n      <td>Symbols</td>\n      <td>AAPL</td>\n      <td>TSLA</td>\n      <td>IBM</td>\n      <td>LNKD</td>\n      <td>AAPL</td>\n      <td>TSLA</td>\n      <td>IBM</td>\n      <td>LNKD</td>\n      <td>AAPL</td>\n      <td>...</td>\n      <td>IBM</td>\n      <td>LNKD</td>\n      <td>AAPL</td>\n      <td>TSLA</td>\n      <td>IBM</td>\n      <td>LNKD</td>\n      <td>AAPL</td>\n      <td>TSLA</td>\n      <td>IBM</td>\n      <td>LNKD</td>\n    </tr>\n    <tr>\n      <td>1</td>\n      <td>Date</td>\n      <td>NaN</td>\n      <td>NaN</td>\n      <td>NaN</td>\n      <td>NaN</td>\n      <td>NaN</td>\n      <td>NaN</td>\n      <td>NaN</td>\n      <td>NaN</td>\n      <td>NaN</td>\n      <td>...</td>\n      <td>NaN</td>\n      <td>NaN</td>\n      <td>NaN</td>\n      <td>NaN</td>\n      <td>NaN</td>\n      <td>NaN</td>\n      <td>NaN</td>\n      <td>NaN</td>\n      <td>NaN</td>\n      <td>NaN</td>\n    </tr>\n    <tr>\n      <td>2</td>\n      <td>2015-01-02</td>\n      <td>100.2164535522461</td>\n      <td>219.30999755859375</td>\n      <td>129.24151611328125</td>\n      <td>NaN</td>\n      <td>109.33000183105469</td>\n      <td>219.30999755859375</td>\n      <td>162.05999755859375</td>\n      <td>NaN</td>\n      <td>111.44000244140625</td>\n      <td>...</td>\n      <td>161.0</td>\n      <td>NaN</td>\n      <td>111.38999938964844</td>\n      <td>222.8699951171875</td>\n      <td>161.30999755859375</td>\n      <td>NaN</td>\n      <td>53204600.0</td>\n      <td>4764400.0</td>\n      <td>5525500.0</td>\n      <td>NaN</td>\n    </tr>\n    <tr>\n      <td>3</td>\n      <td>2015-01-05</td>\n      <td>97.39318084716797</td>\n      <td>210.08999633789062</td>\n      <td>127.20793151855469</td>\n      <td>NaN</td>\n      <td>106.25</td>\n      <td>210.08999633789062</td>\n      <td>159.50999450683594</td>\n      <td>NaN</td>\n      <td>108.6500015258789</td>\n      <td>...</td>\n      <td>159.19000244140625</td>\n      <td>NaN</td>\n      <td>108.29000091552734</td>\n      <td>214.5500030517578</td>\n      <td>161.27000427246094</td>\n      <td>NaN</td>\n      <td>64285500.0</td>\n      <td>5368500.0</td>\n      <td>4880400.0</td>\n      <td>NaN</td>\n    </tr>\n    <tr>\n      <td>4</td>\n      <td>2015-01-06</td>\n      <td>97.40237426757812</td>\n      <td>211.27999877929688</td>\n      <td>124.464599609375</td>\n      <td>NaN</td>\n      <td>106.26000213623047</td>\n      <td>211.27999877929688</td>\n      <td>156.07000732421875</td>\n      <td>NaN</td>\n      <td>107.43000030517578</td>\n      <td>...</td>\n      <td>155.1699981689453</td>\n      <td>NaN</td>\n      <td>106.54000091552734</td>\n      <td>210.05999755859375</td>\n      <td>159.6699981689453</td>\n      <td>NaN</td>\n      <td>65797100.0</td>\n      <td>6261900.0</td>\n      <td>6146700.0</td>\n      <td>NaN</td>\n    </tr>\n  </tbody>\n</table>\n<p>5 rows × 25 columns</p>\n</div>",
      "text/plain": "   Attributes          Adj Close         Adj Close.1         Adj Close.2  \\\n0     Symbols               AAPL                TSLA                 IBM   \n1        Date                NaN                 NaN                 NaN   \n2  2015-01-02  100.2164535522461  219.30999755859375  129.24151611328125   \n3  2015-01-05  97.39318084716797  210.08999633789062  127.20793151855469   \n4  2015-01-06  97.40237426757812  211.27999877929688    124.464599609375   \n\n  Adj Close.3               Close             Close.1             Close.2  \\\n0        LNKD                AAPL                TSLA                 IBM   \n1         NaN                 NaN                 NaN                 NaN   \n2         NaN  109.33000183105469  219.30999755859375  162.05999755859375   \n3         NaN              106.25  210.08999633789062  159.50999450683594   \n4         NaN  106.26000213623047  211.27999877929688  156.07000732421875   \n\n  Close.3                High  ...               Low.2 Low.3  \\\n0    LNKD                AAPL  ...                 IBM  LNKD   \n1     NaN                 NaN  ...                 NaN   NaN   \n2     NaN  111.44000244140625  ...               161.0   NaN   \n3     NaN   108.6500015258789  ...  159.19000244140625   NaN   \n4     NaN  107.43000030517578  ...   155.1699981689453   NaN   \n\n                 Open              Open.1              Open.2 Open.3  \\\n0                AAPL                TSLA                 IBM   LNKD   \n1                 NaN                 NaN                 NaN    NaN   \n2  111.38999938964844   222.8699951171875  161.30999755859375    NaN   \n3  108.29000091552734   214.5500030517578  161.27000427246094    NaN   \n4  106.54000091552734  210.05999755859375   159.6699981689453    NaN   \n\n       Volume   Volume.1   Volume.2 Volume.3  \n0        AAPL       TSLA        IBM     LNKD  \n1         NaN        NaN        NaN      NaN  \n2  53204600.0  4764400.0  5525500.0      NaN  \n3  64285500.0  5368500.0  4880400.0      NaN  \n4  65797100.0  6261900.0  6146700.0      NaN  \n\n[5 rows x 25 columns]"
     },
     "execution_count": 2,
     "metadata": {},
     "output_type": "execute_result"
    }
   ],
   "source": [
    "df = pd.read_csv('file.csv')\n",
    "df.head()"
   ]
  },
  {
   "cell_type": "markdown",
   "execution_count": null,
   "metadata": {},
   "outputs": [],
   "source": [
    "### Step 5.  What is the type of structure of df ?"
   ]
  },
  {
   "cell_type": "code",
   "execution_count": null,
   "metadata": {
    "collapsed": false
   },
   "outputs": [],
   "source": [
    "# 'pandas.core.panel.Panel'"
   ]
  },
  {
   "cell_type": "markdown",
   "execution_count": null,
   "metadata": {},
   "outputs": [],
   "source": [
    "### Step 6. Print all the Items axis values\n",
    "#### To learn more about the Panel structure go to [documentation](http://pandas.pydata.org/pandas-docs/stable/dsintro.html#panel) "
   ]
  },
  {
   "cell_type": "code",
   "execution_count": null,
   "metadata": {
    "collapsed": false
   },
   "outputs": [],
   "source": []
  },
  {
   "cell_type": "markdown",
   "execution_count": null,
   "metadata": {},
   "outputs": [],
   "source": [
    "### Step 7. Good, now we know  the data avaiable. Create a dataFrame called vol, with the Volume values."
   ]
  },
  {
   "cell_type": "code",
   "execution_count": null,
   "metadata": {
    "collapsed": false
   },
   "outputs": [],
   "source": []
  },
  {
   "cell_type": "markdown",
   "execution_count": null,
   "metadata": {},
   "outputs": [],
   "source": [
    "### Step 8. Aggregate the data of Volume to weekly\n",
    "#### Hint: Be careful to not sum data from the same week of 2015 and other years."
   ]
  },
  {
   "cell_type": "code",
   "execution_count": null,
   "metadata": {
    "collapsed": false,
    "scrolled": true
   },
   "outputs": [],
   "source": []
  },
  {
   "cell_type": "markdown",
   "execution_count": null,
   "metadata": {},
   "outputs": [],
   "source": [
    "### Step 9. Find all the volume traded in the year of 2015"
   ]
  },
  {
   "cell_type": "code",
   "execution_count": null,
   "metadata": {
    "collapsed": false
   },
   "outputs": [],
   "source": []
  },
  {
   "cell_type": "code",
   "execution_count": null,
   "metadata": {
    "collapsed": true
   },
   "outputs": [],
   "source": []
  }
 ],
 "metadata": {
  "kernelspec": {
   "display_name": "Python 3.7.4 64-bit ('base': conda)",
   "language": "python",
   "name": "python37464bitbaseconda2bb33fe5ffce4701a66c14f076279995"
  },
  "language_info": {
   "codemirror_mode": {
    "name": "ipython",
    "version": 2
   },
   "file_extension": ".py",
   "mimetype": "text/x-python",
   "name": "python",
   "nbconvert_exporter": "python",
   "pygments_lexer": "ipython2",
   "version": "3.7.4-final"
  }
 },
 "nbformat": 4,
 "nbformat_minor": 0
}