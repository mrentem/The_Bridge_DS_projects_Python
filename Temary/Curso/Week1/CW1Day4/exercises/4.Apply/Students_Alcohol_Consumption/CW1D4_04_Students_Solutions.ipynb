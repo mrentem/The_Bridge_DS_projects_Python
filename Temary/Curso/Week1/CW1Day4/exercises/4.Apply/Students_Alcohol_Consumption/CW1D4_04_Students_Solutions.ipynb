{
 "cells": [
  {
   "cell_type": "markdown",
   "metadata": {},
   "source": [
    "# Student Alcohol Consumption"
   ]
  },
  {
   "cell_type": "markdown",
   "metadata": {},
   "source": [
    "### Introduction:\n",
    "\n",
    "This time you will download a dataset from the UCI.\n",
    "\n",
    "### Step 1. Import the necessary libraries"
   ]
  },
  {
   "cell_type": "code",
   "execution_count": 1,
   "metadata": {},
   "outputs": [],
   "source": [
    "import pandas as pd\n",
    "import numpy"
   ]
  },
  {
   "cell_type": "markdown",
   "metadata": {},
   "source": [
    "### Step 2. Import the dataset from this [address](https://raw.githubusercontent.com/guipsamora/pandas_exercises/master/04_Apply/Students_Alcohol_Consumption/student-mat.csv)."
   ]
  },
  {
   "cell_type": "markdown",
   "metadata": {},
   "source": [
    "### Step 3. Assign it to a variable called df."
   ]
  },
  {
   "cell_type": "code",
   "execution_count": 2,
   "metadata": {},
   "outputs": [
    {
     "data": {
      "text/html": "<div>\n<style scoped>\n    .dataframe tbody tr th:only-of-type {\n        vertical-align: middle;\n    }\n\n    .dataframe tbody tr th {\n        vertical-align: top;\n    }\n\n    .dataframe thead th {\n        text-align: right;\n    }\n</style>\n<table border=\"1\" class=\"dataframe\">\n  <thead>\n    <tr style=\"text-align: right;\">\n      <th></th>\n      <th>school</th>\n      <th>sex</th>\n      <th>age</th>\n      <th>address</th>\n      <th>famsize</th>\n      <th>Pstatus</th>\n      <th>Medu</th>\n      <th>Fedu</th>\n      <th>Mjob</th>\n      <th>Fjob</th>\n      <th>...</th>\n      <th>famrel</th>\n      <th>freetime</th>\n      <th>goout</th>\n      <th>Dalc</th>\n      <th>Walc</th>\n      <th>health</th>\n      <th>absences</th>\n      <th>G1</th>\n      <th>G2</th>\n      <th>G3</th>\n    </tr>\n  </thead>\n  <tbody>\n    <tr>\n      <td>0</td>\n      <td>GP</td>\n      <td>F</td>\n      <td>18</td>\n      <td>U</td>\n      <td>GT3</td>\n      <td>A</td>\n      <td>4</td>\n      <td>4</td>\n      <td>at_home</td>\n      <td>teacher</td>\n      <td>...</td>\n      <td>4</td>\n      <td>3</td>\n      <td>4</td>\n      <td>1</td>\n      <td>1</td>\n      <td>3</td>\n      <td>6</td>\n      <td>5</td>\n      <td>6</td>\n      <td>6</td>\n    </tr>\n    <tr>\n      <td>1</td>\n      <td>GP</td>\n      <td>F</td>\n      <td>17</td>\n      <td>U</td>\n      <td>GT3</td>\n      <td>T</td>\n      <td>1</td>\n      <td>1</td>\n      <td>at_home</td>\n      <td>other</td>\n      <td>...</td>\n      <td>5</td>\n      <td>3</td>\n      <td>3</td>\n      <td>1</td>\n      <td>1</td>\n      <td>3</td>\n      <td>4</td>\n      <td>5</td>\n      <td>5</td>\n      <td>6</td>\n    </tr>\n    <tr>\n      <td>2</td>\n      <td>GP</td>\n      <td>F</td>\n      <td>15</td>\n      <td>U</td>\n      <td>LE3</td>\n      <td>T</td>\n      <td>1</td>\n      <td>1</td>\n      <td>at_home</td>\n      <td>other</td>\n      <td>...</td>\n      <td>4</td>\n      <td>3</td>\n      <td>2</td>\n      <td>2</td>\n      <td>3</td>\n      <td>3</td>\n      <td>10</td>\n      <td>7</td>\n      <td>8</td>\n      <td>10</td>\n    </tr>\n    <tr>\n      <td>3</td>\n      <td>GP</td>\n      <td>F</td>\n      <td>15</td>\n      <td>U</td>\n      <td>GT3</td>\n      <td>T</td>\n      <td>4</td>\n      <td>2</td>\n      <td>health</td>\n      <td>services</td>\n      <td>...</td>\n      <td>3</td>\n      <td>2</td>\n      <td>2</td>\n      <td>1</td>\n      <td>1</td>\n      <td>5</td>\n      <td>2</td>\n      <td>15</td>\n      <td>14</td>\n      <td>15</td>\n    </tr>\n    <tr>\n      <td>4</td>\n      <td>GP</td>\n      <td>F</td>\n      <td>16</td>\n      <td>U</td>\n      <td>GT3</td>\n      <td>T</td>\n      <td>3</td>\n      <td>3</td>\n      <td>other</td>\n      <td>other</td>\n      <td>...</td>\n      <td>4</td>\n      <td>3</td>\n      <td>2</td>\n      <td>1</td>\n      <td>2</td>\n      <td>5</td>\n      <td>4</td>\n      <td>6</td>\n      <td>10</td>\n      <td>10</td>\n    </tr>\n  </tbody>\n</table>\n<p>5 rows × 33 columns</p>\n</div>",
      "text/plain": "  school sex  age address famsize Pstatus  Medu  Fedu     Mjob      Fjob  ...  \\\n0     GP   F   18       U     GT3       A     4     4  at_home   teacher  ...   \n1     GP   F   17       U     GT3       T     1     1  at_home     other  ...   \n2     GP   F   15       U     LE3       T     1     1  at_home     other  ...   \n3     GP   F   15       U     GT3       T     4     2   health  services  ...   \n4     GP   F   16       U     GT3       T     3     3    other     other  ...   \n\n  famrel freetime  goout  Dalc  Walc health absences  G1  G2  G3  \n0      4        3      4     1     1      3        6   5   6   6  \n1      5        3      3     1     1      3        4   5   5   6  \n2      4        3      2     2     3      3       10   7   8  10  \n3      3        2      2     1     1      5        2  15  14  15  \n4      4        3      2     1     2      5        4   6  10  10  \n\n[5 rows x 33 columns]"
     },
     "execution_count": 2,
     "metadata": {},
     "output_type": "execute_result"
    }
   ],
   "source": [
    "csv_url = 'https://raw.githubusercontent.com/guipsamora/pandas_exercises/master/04_Apply/Students_Alcohol_Consumption/student-mat.csv'\n",
    "df = pd.read_csv(csv_url)\n",
    "df.head()"
   ]
  },
  {
   "cell_type": "markdown",
   "metadata": {},
   "source": [
    "### Step 4. For the purpose of this exercise slice the dataframe from 'school' until the 'guardian' column"
   ]
  },
  {
   "cell_type": "code",
   "execution_count": 3,
   "metadata": {},
   "outputs": [
    {
     "data": {
      "text/html": "<div>\n<style scoped>\n    .dataframe tbody tr th:only-of-type {\n        vertical-align: middle;\n    }\n\n    .dataframe tbody tr th {\n        vertical-align: top;\n    }\n\n    .dataframe thead th {\n        text-align: right;\n    }\n</style>\n<table border=\"1\" class=\"dataframe\">\n  <thead>\n    <tr style=\"text-align: right;\">\n      <th></th>\n      <th>school</th>\n      <th>sex</th>\n      <th>age</th>\n      <th>address</th>\n      <th>famsize</th>\n      <th>Pstatus</th>\n      <th>Medu</th>\n      <th>Fedu</th>\n      <th>Mjob</th>\n      <th>Fjob</th>\n      <th>reason</th>\n      <th>guardian</th>\n    </tr>\n  </thead>\n  <tbody>\n    <tr>\n      <td>0</td>\n      <td>GP</td>\n      <td>F</td>\n      <td>18</td>\n      <td>U</td>\n      <td>GT3</td>\n      <td>A</td>\n      <td>4</td>\n      <td>4</td>\n      <td>at_home</td>\n      <td>teacher</td>\n      <td>course</td>\n      <td>mother</td>\n    </tr>\n    <tr>\n      <td>1</td>\n      <td>GP</td>\n      <td>F</td>\n      <td>17</td>\n      <td>U</td>\n      <td>GT3</td>\n      <td>T</td>\n      <td>1</td>\n      <td>1</td>\n      <td>at_home</td>\n      <td>other</td>\n      <td>course</td>\n      <td>father</td>\n    </tr>\n    <tr>\n      <td>2</td>\n      <td>GP</td>\n      <td>F</td>\n      <td>15</td>\n      <td>U</td>\n      <td>LE3</td>\n      <td>T</td>\n      <td>1</td>\n      <td>1</td>\n      <td>at_home</td>\n      <td>other</td>\n      <td>other</td>\n      <td>mother</td>\n    </tr>\n    <tr>\n      <td>3</td>\n      <td>GP</td>\n      <td>F</td>\n      <td>15</td>\n      <td>U</td>\n      <td>GT3</td>\n      <td>T</td>\n      <td>4</td>\n      <td>2</td>\n      <td>health</td>\n      <td>services</td>\n      <td>home</td>\n      <td>mother</td>\n    </tr>\n    <tr>\n      <td>4</td>\n      <td>GP</td>\n      <td>F</td>\n      <td>16</td>\n      <td>U</td>\n      <td>GT3</td>\n      <td>T</td>\n      <td>3</td>\n      <td>3</td>\n      <td>other</td>\n      <td>other</td>\n      <td>home</td>\n      <td>father</td>\n    </tr>\n  </tbody>\n</table>\n</div>",
      "text/plain": "  school sex  age address famsize Pstatus  Medu  Fedu     Mjob      Fjob  \\\n0     GP   F   18       U     GT3       A     4     4  at_home   teacher   \n1     GP   F   17       U     GT3       T     1     1  at_home     other   \n2     GP   F   15       U     LE3       T     1     1  at_home     other   \n3     GP   F   15       U     GT3       T     4     2   health  services   \n4     GP   F   16       U     GT3       T     3     3    other     other   \n\n   reason guardian  \n0  course   mother  \n1  course   father  \n2   other   mother  \n3    home   mother  \n4    home   father  "
     },
     "execution_count": 3,
     "metadata": {},
     "output_type": "execute_result"
    }
   ],
   "source": [
    "stud_alcoh = df.loc[: , \"school\":\"guardian\"]\n",
    "stud_alcoh.head()"
   ]
  },
  {
   "cell_type": "markdown",
   "metadata": {},
   "source": [
    "### Step 5. Create a lambda function that will capitalize strings."
   ]
  },
  {
   "cell_type": "code",
   "execution_count": 4,
   "metadata": {},
   "outputs": [
    {
     "data": {
      "text/plain": "'Gabriel'"
     },
     "execution_count": 4,
     "metadata": {},
     "output_type": "execute_result"
    }
   ],
   "source": [
    "s = \"gabriel\"\n",
    "s.capitalize()"
   ]
  },
  {
   "cell_type": "code",
   "execution_count": 5,
   "metadata": {},
   "outputs": [],
   "source": [
    "def capitalizer(x):\n",
    "    return x.capitalize()"
   ]
  },
  {
   "cell_type": "code",
   "execution_count": 6,
   "metadata": {},
   "outputs": [],
   "source": [
    "capitalizer = lambda x: x.capitalize()"
   ]
  },
  {
   "cell_type": "markdown",
   "metadata": {},
   "source": [
    "### Step 6. Capitalize both Mjob and Fjob"
   ]
  },
  {
   "cell_type": "code",
   "execution_count": 7,
   "metadata": {},
   "outputs": [],
   "source": [
    "stud_alcoh['Mjob'] =stud_alcoh['Mjob'].apply(capitalizer)"
   ]
  },
  {
   "cell_type": "code",
   "execution_count": 8,
   "metadata": {},
   "outputs": [
    {
     "data": {
      "text/html": "<div>\n<style scoped>\n    .dataframe tbody tr th:only-of-type {\n        vertical-align: middle;\n    }\n\n    .dataframe tbody tr th {\n        vertical-align: top;\n    }\n\n    .dataframe thead th {\n        text-align: right;\n    }\n</style>\n<table border=\"1\" class=\"dataframe\">\n  <thead>\n    <tr style=\"text-align: right;\">\n      <th></th>\n      <th>Mjob</th>\n      <th>Fjob</th>\n    </tr>\n  </thead>\n  <tbody>\n    <tr>\n      <td>0</td>\n      <td>At_home</td>\n      <td>Teacher</td>\n    </tr>\n    <tr>\n      <td>1</td>\n      <td>At_home</td>\n      <td>Other</td>\n    </tr>\n    <tr>\n      <td>2</td>\n      <td>At_home</td>\n      <td>Other</td>\n    </tr>\n    <tr>\n      <td>3</td>\n      <td>Health</td>\n      <td>Services</td>\n    </tr>\n    <tr>\n      <td>4</td>\n      <td>Other</td>\n      <td>Other</td>\n    </tr>\n    <tr>\n      <td>...</td>\n      <td>...</td>\n      <td>...</td>\n    </tr>\n    <tr>\n      <td>390</td>\n      <td>Services</td>\n      <td>Services</td>\n    </tr>\n    <tr>\n      <td>391</td>\n      <td>Services</td>\n      <td>Services</td>\n    </tr>\n    <tr>\n      <td>392</td>\n      <td>Other</td>\n      <td>Other</td>\n    </tr>\n    <tr>\n      <td>393</td>\n      <td>Services</td>\n      <td>Other</td>\n    </tr>\n    <tr>\n      <td>394</td>\n      <td>Other</td>\n      <td>At_home</td>\n    </tr>\n  </tbody>\n</table>\n<p>395 rows × 2 columns</p>\n</div>",
      "text/plain": "         Mjob      Fjob\n0     At_home   Teacher\n1     At_home     Other\n2     At_home     Other\n3      Health  Services\n4       Other     Other\n..        ...       ...\n390  Services  Services\n391  Services  Services\n392     Other     Other\n393  Services     Other\n394     Other   At_home\n\n[395 rows x 2 columns]"
     },
     "execution_count": 8,
     "metadata": {},
     "output_type": "execute_result"
    }
   ],
   "source": [
    "sdf = stud_alcoh[['Mjob', 'Fjob']].apply(lambda x: x.str.capitalize())\n",
    "sdf"
   ]
  },
  {
   "cell_type": "code",
   "execution_count": 9,
   "metadata": {},
   "outputs": [
    {
     "data": {
      "text/plain": "0       Teacher\n1         Other\n2         Other\n3      Services\n4         Other\n         ...   \n390    Services\n391    Services\n392       Other\n393       Other\n394     At_home\nName: Fjob, Length: 395, dtype: object"
     },
     "execution_count": 9,
     "metadata": {},
     "output_type": "execute_result"
    }
   ],
   "source": [
    "stud_alcoh['Fjob'].apply(capitalizer)"
   ]
  },
  {
   "cell_type": "code",
   "execution_count": 10,
   "metadata": {},
   "outputs": [
    {
     "ename": "NameError",
     "evalue": "name 'df_alcohol' is not defined",
     "output_type": "error",
     "traceback": [
      "\u001b[0;31m---------------------------------------------------------------------------\u001b[0m",
      "\u001b[0;31mNameError\u001b[0m                                 Traceback (most recent call last)",
      "\u001b[0;32m<ipython-input-10-e2d7bab660a0>\u001b[0m in \u001b[0;36m<module>\u001b[0;34m\u001b[0m\n\u001b[0;32m----> 1\u001b[0;31m \u001b[0mdf_alcohol_MF\u001b[0m \u001b[0;34m=\u001b[0m \u001b[0mdf_alcohol\u001b[0m\u001b[0;34m[\u001b[0m\u001b[0;34m[\u001b[0m\u001b[0;34m'Mjob'\u001b[0m\u001b[0;34m,\u001b[0m \u001b[0;34m'Fjob'\u001b[0m\u001b[0;34m]\u001b[0m\u001b[0;34m]\u001b[0m\u001b[0;34m.\u001b[0m\u001b[0mapply\u001b[0m\u001b[0;34m(\u001b[0m\u001b[0;32mlambda\u001b[0m \u001b[0mx\u001b[0m\u001b[0;34m:\u001b[0m \u001b[0mx\u001b[0m\u001b[0;34m.\u001b[0m\u001b[0mastype\u001b[0m\u001b[0;34m(\u001b[0m\u001b[0mstr\u001b[0m\u001b[0;34m)\u001b[0m\u001b[0;34m.\u001b[0m\u001b[0mstr\u001b[0m\u001b[0;34m.\u001b[0m\u001b[0mcapitalize\u001b[0m\u001b[0;34m(\u001b[0m\u001b[0;34m)\u001b[0m\u001b[0;34m)\u001b[0m\u001b[0;34m\u001b[0m\u001b[0;34m\u001b[0m\u001b[0m\n\u001b[0m\u001b[1;32m      2\u001b[0m \u001b[0mdf_alcohol_MF\u001b[0m\u001b[0;34m\u001b[0m\u001b[0;34m\u001b[0m\u001b[0m\n",
      "\u001b[0;31mNameError\u001b[0m: name 'df_alcohol' is not defined"
     ]
    }
   ],
   "source": [
    "df_alcohol_MF = df_alcohol[['Mjob', 'Fjob']].apply(lambda x: x.astype(str).str.capitalize())\n",
    "df_alcohol_MF"
   ]
  },
  {
   "cell_type": "markdown",
   "metadata": {},
   "source": [
    "### Step 7. Print the last elements of the data set."
   ]
  },
  {
   "cell_type": "code",
   "execution_count": 11,
   "metadata": {},
   "outputs": [
    {
     "data": {
      "text/html": "<div>\n<style scoped>\n    .dataframe tbody tr th:only-of-type {\n        vertical-align: middle;\n    }\n\n    .dataframe tbody tr th {\n        vertical-align: top;\n    }\n\n    .dataframe thead th {\n        text-align: right;\n    }\n</style>\n<table border=\"1\" class=\"dataframe\">\n  <thead>\n    <tr style=\"text-align: right;\">\n      <th></th>\n      <th>school</th>\n      <th>sex</th>\n      <th>age</th>\n      <th>address</th>\n      <th>famsize</th>\n      <th>Pstatus</th>\n      <th>Medu</th>\n      <th>Fedu</th>\n      <th>Mjob</th>\n      <th>Fjob</th>\n      <th>reason</th>\n      <th>guardian</th>\n    </tr>\n  </thead>\n  <tbody>\n    <tr>\n      <td>390</td>\n      <td>MS</td>\n      <td>M</td>\n      <td>20</td>\n      <td>U</td>\n      <td>LE3</td>\n      <td>A</td>\n      <td>2</td>\n      <td>2</td>\n      <td>Services</td>\n      <td>services</td>\n      <td>course</td>\n      <td>other</td>\n    </tr>\n    <tr>\n      <td>391</td>\n      <td>MS</td>\n      <td>M</td>\n      <td>17</td>\n      <td>U</td>\n      <td>LE3</td>\n      <td>T</td>\n      <td>3</td>\n      <td>1</td>\n      <td>Services</td>\n      <td>services</td>\n      <td>course</td>\n      <td>mother</td>\n    </tr>\n    <tr>\n      <td>392</td>\n      <td>MS</td>\n      <td>M</td>\n      <td>21</td>\n      <td>R</td>\n      <td>GT3</td>\n      <td>T</td>\n      <td>1</td>\n      <td>1</td>\n      <td>Other</td>\n      <td>other</td>\n      <td>course</td>\n      <td>other</td>\n    </tr>\n    <tr>\n      <td>393</td>\n      <td>MS</td>\n      <td>M</td>\n      <td>18</td>\n      <td>R</td>\n      <td>LE3</td>\n      <td>T</td>\n      <td>3</td>\n      <td>2</td>\n      <td>Services</td>\n      <td>other</td>\n      <td>course</td>\n      <td>mother</td>\n    </tr>\n    <tr>\n      <td>394</td>\n      <td>MS</td>\n      <td>M</td>\n      <td>19</td>\n      <td>U</td>\n      <td>LE3</td>\n      <td>T</td>\n      <td>1</td>\n      <td>1</td>\n      <td>Other</td>\n      <td>at_home</td>\n      <td>course</td>\n      <td>father</td>\n    </tr>\n  </tbody>\n</table>\n</div>",
      "text/plain": "    school sex  age address famsize Pstatus  Medu  Fedu      Mjob      Fjob  \\\n390     MS   M   20       U     LE3       A     2     2  Services  services   \n391     MS   M   17       U     LE3       T     3     1  Services  services   \n392     MS   M   21       R     GT3       T     1     1     Other     other   \n393     MS   M   18       R     LE3       T     3     2  Services     other   \n394     MS   M   19       U     LE3       T     1     1     Other   at_home   \n\n     reason guardian  \n390  course    other  \n391  course   mother  \n392  course    other  \n393  course   mother  \n394  course   father  "
     },
     "execution_count": 11,
     "metadata": {},
     "output_type": "execute_result"
    }
   ],
   "source": [
    "stud_alcoh.tail()"
   ]
  },
  {
   "cell_type": "markdown",
   "metadata": {},
   "source": [
    "### Step 8. Did you notice the original dataframe is still lowercase? Why is that? Fix it and capitalize Mjob and Fjob."
   ]
  },
  {
   "cell_type": "code",
   "execution_count": 12,
   "metadata": {},
   "outputs": [
    {
     "data": {
      "text/html": "<div>\n<style scoped>\n    .dataframe tbody tr th:only-of-type {\n        vertical-align: middle;\n    }\n\n    .dataframe tbody tr th {\n        vertical-align: top;\n    }\n\n    .dataframe thead th {\n        text-align: right;\n    }\n</style>\n<table border=\"1\" class=\"dataframe\">\n  <thead>\n    <tr style=\"text-align: right;\">\n      <th></th>\n      <th>school</th>\n      <th>sex</th>\n      <th>age</th>\n      <th>address</th>\n      <th>famsize</th>\n      <th>Pstatus</th>\n      <th>Medu</th>\n      <th>Fedu</th>\n      <th>Mjob</th>\n      <th>Fjob</th>\n      <th>reason</th>\n      <th>guardian</th>\n    </tr>\n  </thead>\n  <tbody>\n    <tr>\n      <td>0</td>\n      <td>GP</td>\n      <td>F</td>\n      <td>18</td>\n      <td>U</td>\n      <td>GT3</td>\n      <td>A</td>\n      <td>4</td>\n      <td>4</td>\n      <td>At_home</td>\n      <td>Teacher</td>\n      <td>course</td>\n      <td>mother</td>\n    </tr>\n    <tr>\n      <td>1</td>\n      <td>GP</td>\n      <td>F</td>\n      <td>17</td>\n      <td>U</td>\n      <td>GT3</td>\n      <td>T</td>\n      <td>1</td>\n      <td>1</td>\n      <td>At_home</td>\n      <td>Other</td>\n      <td>course</td>\n      <td>father</td>\n    </tr>\n    <tr>\n      <td>2</td>\n      <td>GP</td>\n      <td>F</td>\n      <td>15</td>\n      <td>U</td>\n      <td>LE3</td>\n      <td>T</td>\n      <td>1</td>\n      <td>1</td>\n      <td>At_home</td>\n      <td>Other</td>\n      <td>other</td>\n      <td>mother</td>\n    </tr>\n    <tr>\n      <td>3</td>\n      <td>GP</td>\n      <td>F</td>\n      <td>15</td>\n      <td>U</td>\n      <td>GT3</td>\n      <td>T</td>\n      <td>4</td>\n      <td>2</td>\n      <td>Health</td>\n      <td>Services</td>\n      <td>home</td>\n      <td>mother</td>\n    </tr>\n    <tr>\n      <td>4</td>\n      <td>GP</td>\n      <td>F</td>\n      <td>16</td>\n      <td>U</td>\n      <td>GT3</td>\n      <td>T</td>\n      <td>3</td>\n      <td>3</td>\n      <td>Other</td>\n      <td>Other</td>\n      <td>home</td>\n      <td>father</td>\n    </tr>\n    <tr>\n      <td>...</td>\n      <td>...</td>\n      <td>...</td>\n      <td>...</td>\n      <td>...</td>\n      <td>...</td>\n      <td>...</td>\n      <td>...</td>\n      <td>...</td>\n      <td>...</td>\n      <td>...</td>\n      <td>...</td>\n      <td>...</td>\n    </tr>\n    <tr>\n      <td>390</td>\n      <td>MS</td>\n      <td>M</td>\n      <td>20</td>\n      <td>U</td>\n      <td>LE3</td>\n      <td>A</td>\n      <td>2</td>\n      <td>2</td>\n      <td>Services</td>\n      <td>Services</td>\n      <td>course</td>\n      <td>other</td>\n    </tr>\n    <tr>\n      <td>391</td>\n      <td>MS</td>\n      <td>M</td>\n      <td>17</td>\n      <td>U</td>\n      <td>LE3</td>\n      <td>T</td>\n      <td>3</td>\n      <td>1</td>\n      <td>Services</td>\n      <td>Services</td>\n      <td>course</td>\n      <td>mother</td>\n    </tr>\n    <tr>\n      <td>392</td>\n      <td>MS</td>\n      <td>M</td>\n      <td>21</td>\n      <td>R</td>\n      <td>GT3</td>\n      <td>T</td>\n      <td>1</td>\n      <td>1</td>\n      <td>Other</td>\n      <td>Other</td>\n      <td>course</td>\n      <td>other</td>\n    </tr>\n    <tr>\n      <td>393</td>\n      <td>MS</td>\n      <td>M</td>\n      <td>18</td>\n      <td>R</td>\n      <td>LE3</td>\n      <td>T</td>\n      <td>3</td>\n      <td>2</td>\n      <td>Services</td>\n      <td>Other</td>\n      <td>course</td>\n      <td>mother</td>\n    </tr>\n    <tr>\n      <td>394</td>\n      <td>MS</td>\n      <td>M</td>\n      <td>19</td>\n      <td>U</td>\n      <td>LE3</td>\n      <td>T</td>\n      <td>1</td>\n      <td>1</td>\n      <td>Other</td>\n      <td>At_home</td>\n      <td>course</td>\n      <td>father</td>\n    </tr>\n  </tbody>\n</table>\n<p>395 rows × 12 columns</p>\n</div>",
      "text/plain": "    school sex  age address famsize Pstatus  Medu  Fedu      Mjob      Fjob  \\\n0       GP   F   18       U     GT3       A     4     4   At_home   Teacher   \n1       GP   F   17       U     GT3       T     1     1   At_home     Other   \n2       GP   F   15       U     LE3       T     1     1   At_home     Other   \n3       GP   F   15       U     GT3       T     4     2    Health  Services   \n4       GP   F   16       U     GT3       T     3     3     Other     Other   \n..     ...  ..  ...     ...     ...     ...   ...   ...       ...       ...   \n390     MS   M   20       U     LE3       A     2     2  Services  Services   \n391     MS   M   17       U     LE3       T     3     1  Services  Services   \n392     MS   M   21       R     GT3       T     1     1     Other     Other   \n393     MS   M   18       R     LE3       T     3     2  Services     Other   \n394     MS   M   19       U     LE3       T     1     1     Other   At_home   \n\n     reason guardian  \n0    course   mother  \n1    course   father  \n2     other   mother  \n3      home   mother  \n4      home   father  \n..      ...      ...  \n390  course    other  \n391  course   mother  \n392  course    other  \n393  course   mother  \n394  course   father  \n\n[395 rows x 12 columns]"
     },
     "execution_count": 12,
     "metadata": {},
     "output_type": "execute_result"
    }
   ],
   "source": [
    "stud_alcoh['Mjob'] = stud_alcoh['Mjob'].apply(capitalizer)\n",
    "stud_alcoh['Fjob'] = stud_alcoh['Fjob'].apply(capitalizer)\n",
    "stud_alcoh"
   ]
  },
  {
   "cell_type": "markdown",
   "metadata": {},
   "source": [
    "### Step 9. Create a function called majority that returns a boolean value to a new column called legal_drinker (Consider majority as older than 17 years old)"
   ]
  },
  {
   "cell_type": "code",
   "execution_count": 13,
   "metadata": {},
   "outputs": [
    {
     "ename": "NameError",
     "evalue": "name 'df2' is not defined",
     "output_type": "error",
     "traceback": [
      "\u001b[0;31m---------------------------------------------------------------------------\u001b[0m",
      "\u001b[0;31mNameError\u001b[0m                                 Traceback (most recent call last)",
      "\u001b[0;32m<ipython-input-13-9a609491d7a3>\u001b[0m in \u001b[0;36m<module>\u001b[0;34m\u001b[0m\n\u001b[1;32m      6\u001b[0m         \u001b[0;32mreturn\u001b[0m \u001b[0;32mFalse\u001b[0m\u001b[0;34m\u001b[0m\u001b[0;34m\u001b[0m\u001b[0m\n\u001b[1;32m      7\u001b[0m \u001b[0;34m\u001b[0m\u001b[0m\n\u001b[0;32m----> 8\u001b[0;31m \u001b[0;32mfor\u001b[0m \u001b[0mage\u001b[0m \u001b[0;32min\u001b[0m \u001b[0mdf2\u001b[0m\u001b[0;34m.\u001b[0m\u001b[0mage\u001b[0m\u001b[0;34m:\u001b[0m\u001b[0;34m\u001b[0m\u001b[0;34m\u001b[0m\u001b[0m\n\u001b[0m\u001b[1;32m      9\u001b[0m    \u001b[0mdf2\u001b[0m\u001b[0;34m[\u001b[0m\u001b[0;34m\"legal_drinker\"\u001b[0m\u001b[0;34m]\u001b[0m \u001b[0;34m=\u001b[0m  \u001b[0mmajority\u001b[0m\u001b[0;34m(\u001b[0m\u001b[0mage\u001b[0m\u001b[0;34m)\u001b[0m\u001b[0;34m\u001b[0m\u001b[0;34m\u001b[0m\u001b[0m\n\u001b[1;32m     10\u001b[0m \u001b[0;34m\u001b[0m\u001b[0m\n",
      "\u001b[0;31mNameError\u001b[0m: name 'df2' is not defined"
     ]
    }
   ],
   "source": [
    "def majority(age_colum):\n",
    "    if age > 17:\n",
    "        return True\n",
    "    else:\n",
    "        \n",
    "        return False\n",
    "\n",
    "for age in df2.age:\n",
    "   df2[\"legal_drinker\"] =  majority(age)\n",
    "\n",
    "df2[\"legal_drinker\"]"
   ]
  },
  {
   "cell_type": "code",
   "execution_count": 14,
   "metadata": {},
   "outputs": [],
   "source": [
    "def majority(x):\n",
    "    if x > 17:\n",
    "        return True\n",
    "    else:\n",
    "        return False"
   ]
  },
  {
   "cell_type": "code",
   "execution_count": 15,
   "metadata": {},
   "outputs": [
    {
     "data": {
      "text/html": "<div>\n<style scoped>\n    .dataframe tbody tr th:only-of-type {\n        vertical-align: middle;\n    }\n\n    .dataframe tbody tr th {\n        vertical-align: top;\n    }\n\n    .dataframe thead th {\n        text-align: right;\n    }\n</style>\n<table border=\"1\" class=\"dataframe\">\n  <thead>\n    <tr style=\"text-align: right;\">\n      <th></th>\n      <th>school</th>\n      <th>sex</th>\n      <th>age</th>\n      <th>address</th>\n      <th>famsize</th>\n      <th>Pstatus</th>\n      <th>Medu</th>\n      <th>Fedu</th>\n      <th>Mjob</th>\n      <th>Fjob</th>\n      <th>reason</th>\n      <th>guardian</th>\n      <th>legal_drinker</th>\n    </tr>\n  </thead>\n  <tbody>\n    <tr>\n      <td>0</td>\n      <td>GP</td>\n      <td>F</td>\n      <td>18</td>\n      <td>U</td>\n      <td>GT3</td>\n      <td>A</td>\n      <td>4</td>\n      <td>4</td>\n      <td>At_home</td>\n      <td>Teacher</td>\n      <td>course</td>\n      <td>mother</td>\n      <td>True</td>\n    </tr>\n    <tr>\n      <td>1</td>\n      <td>GP</td>\n      <td>F</td>\n      <td>17</td>\n      <td>U</td>\n      <td>GT3</td>\n      <td>T</td>\n      <td>1</td>\n      <td>1</td>\n      <td>At_home</td>\n      <td>Other</td>\n      <td>course</td>\n      <td>father</td>\n      <td>False</td>\n    </tr>\n    <tr>\n      <td>2</td>\n      <td>GP</td>\n      <td>F</td>\n      <td>15</td>\n      <td>U</td>\n      <td>LE3</td>\n      <td>T</td>\n      <td>1</td>\n      <td>1</td>\n      <td>At_home</td>\n      <td>Other</td>\n      <td>other</td>\n      <td>mother</td>\n      <td>False</td>\n    </tr>\n    <tr>\n      <td>3</td>\n      <td>GP</td>\n      <td>F</td>\n      <td>15</td>\n      <td>U</td>\n      <td>GT3</td>\n      <td>T</td>\n      <td>4</td>\n      <td>2</td>\n      <td>Health</td>\n      <td>Services</td>\n      <td>home</td>\n      <td>mother</td>\n      <td>False</td>\n    </tr>\n    <tr>\n      <td>4</td>\n      <td>GP</td>\n      <td>F</td>\n      <td>16</td>\n      <td>U</td>\n      <td>GT3</td>\n      <td>T</td>\n      <td>3</td>\n      <td>3</td>\n      <td>Other</td>\n      <td>Other</td>\n      <td>home</td>\n      <td>father</td>\n      <td>False</td>\n    </tr>\n  </tbody>\n</table>\n</div>",
      "text/plain": "  school sex  age address famsize Pstatus  Medu  Fedu     Mjob      Fjob  \\\n0     GP   F   18       U     GT3       A     4     4  At_home   Teacher   \n1     GP   F   17       U     GT3       T     1     1  At_home     Other   \n2     GP   F   15       U     LE3       T     1     1  At_home     Other   \n3     GP   F   15       U     GT3       T     4     2   Health  Services   \n4     GP   F   16       U     GT3       T     3     3    Other     Other   \n\n   reason guardian  legal_drinker  \n0  course   mother           True  \n1  course   father          False  \n2   other   mother          False  \n3    home   mother          False  \n4    home   father          False  "
     },
     "execution_count": 15,
     "metadata": {},
     "output_type": "execute_result"
    }
   ],
   "source": [
    "stud_alcoh['legal_drinker'] = stud_alcoh['age'].apply(majority)\n",
    "stud_alcoh.head()"
   ]
  },
  {
   "cell_type": "markdown",
   "metadata": {},
   "source": [
    "### Step 10. Multiply every number of the dataset by 10. \n",
    "##### I know this makes no sense, don't forget it is just an exercise"
   ]
  },
  {
   "cell_type": "code",
   "execution_count": null,
   "metadata": {},
   "outputs": [],
   "source": [
    "apply \n",
    "applymap\n",
    "transform"
   ]
  },
  {
   "cell_type": "code",
   "execution_count": null,
   "metadata": {},
   "outputs": [],
   "source": []
  },
  {
   "cell_type": "code",
   "execution_count": 16,
   "metadata": {},
   "outputs": [],
   "source": [
    "def times10(x):\n",
    "    if type(x) is int or type(x) is float:  #Is numeric\n",
    "        return 10 * x\n",
    "    return x"
   ]
  },
  {
   "cell_type": "code",
   "execution_count": null,
   "metadata": {},
   "outputs": [],
   "source": [
    "times10_lambda = lambda x: x"
   ]
  },
  {
   "cell_type": "code",
   "execution_count": 18,
   "metadata": {},
   "outputs": [
    {
     "data": {
      "text/html": "<div>\n<style scoped>\n    .dataframe tbody tr th:only-of-type {\n        vertical-align: middle;\n    }\n\n    .dataframe tbody tr th {\n        vertical-align: top;\n    }\n\n    .dataframe thead th {\n        text-align: right;\n    }\n</style>\n<table border=\"1\" class=\"dataframe\">\n  <thead>\n    <tr style=\"text-align: right;\">\n      <th></th>\n      <th>school</th>\n      <th>sex</th>\n      <th>age</th>\n      <th>address</th>\n      <th>famsize</th>\n      <th>Pstatus</th>\n      <th>Medu</th>\n      <th>Fedu</th>\n      <th>Mjob</th>\n      <th>Fjob</th>\n      <th>reason</th>\n      <th>guardian</th>\n      <th>legal_drinker</th>\n    </tr>\n  </thead>\n  <tbody>\n    <tr>\n      <td>0</td>\n      <td>GPGPGPGPGPGPGPGPGPGP</td>\n      <td>FFFFFFFFFF</td>\n      <td>180</td>\n      <td>UUUUUUUUUU</td>\n      <td>GT3GT3GT3GT3GT3GT3GT3GT3GT3GT3</td>\n      <td>AAAAAAAAAA</td>\n      <td>40</td>\n      <td>40</td>\n      <td>At_homeAt_homeAt_homeAt_homeAt_homeAt_homeAt_h...</td>\n      <td>TeacherTeacherTeacherTeacherTeacherTeacherTeac...</td>\n      <td>coursecoursecoursecoursecoursecoursecoursecour...</td>\n      <td>mothermothermothermothermothermothermothermoth...</td>\n      <td>10</td>\n    </tr>\n    <tr>\n      <td>1</td>\n      <td>GPGPGPGPGPGPGPGPGPGP</td>\n      <td>FFFFFFFFFF</td>\n      <td>170</td>\n      <td>UUUUUUUUUU</td>\n      <td>GT3GT3GT3GT3GT3GT3GT3GT3GT3GT3</td>\n      <td>TTTTTTTTTT</td>\n      <td>10</td>\n      <td>10</td>\n      <td>At_homeAt_homeAt_homeAt_homeAt_homeAt_homeAt_h...</td>\n      <td>OtherOtherOtherOtherOtherOtherOtherOtherOtherO...</td>\n      <td>coursecoursecoursecoursecoursecoursecoursecour...</td>\n      <td>fatherfatherfatherfatherfatherfatherfatherfath...</td>\n      <td>0</td>\n    </tr>\n    <tr>\n      <td>2</td>\n      <td>GPGPGPGPGPGPGPGPGPGP</td>\n      <td>FFFFFFFFFF</td>\n      <td>150</td>\n      <td>UUUUUUUUUU</td>\n      <td>LE3LE3LE3LE3LE3LE3LE3LE3LE3LE3</td>\n      <td>TTTTTTTTTT</td>\n      <td>10</td>\n      <td>10</td>\n      <td>At_homeAt_homeAt_homeAt_homeAt_homeAt_homeAt_h...</td>\n      <td>OtherOtherOtherOtherOtherOtherOtherOtherOtherO...</td>\n      <td>otherotherotherotherotherotherotherotherothero...</td>\n      <td>mothermothermothermothermothermothermothermoth...</td>\n      <td>0</td>\n    </tr>\n    <tr>\n      <td>3</td>\n      <td>GPGPGPGPGPGPGPGPGPGP</td>\n      <td>FFFFFFFFFF</td>\n      <td>150</td>\n      <td>UUUUUUUUUU</td>\n      <td>GT3GT3GT3GT3GT3GT3GT3GT3GT3GT3</td>\n      <td>TTTTTTTTTT</td>\n      <td>40</td>\n      <td>20</td>\n      <td>HealthHealthHealthHealthHealthHealthHealthHeal...</td>\n      <td>ServicesServicesServicesServicesServicesServic...</td>\n      <td>homehomehomehomehomehomehomehomehomehome</td>\n      <td>mothermothermothermothermothermothermothermoth...</td>\n      <td>0</td>\n    </tr>\n    <tr>\n      <td>4</td>\n      <td>GPGPGPGPGPGPGPGPGPGP</td>\n      <td>FFFFFFFFFF</td>\n      <td>160</td>\n      <td>UUUUUUUUUU</td>\n      <td>GT3GT3GT3GT3GT3GT3GT3GT3GT3GT3</td>\n      <td>TTTTTTTTTT</td>\n      <td>30</td>\n      <td>30</td>\n      <td>OtherOtherOtherOtherOtherOtherOtherOtherOtherO...</td>\n      <td>OtherOtherOtherOtherOtherOtherOtherOtherOtherO...</td>\n      <td>homehomehomehomehomehomehomehomehomehome</td>\n      <td>fatherfatherfatherfatherfatherfatherfatherfath...</td>\n      <td>0</td>\n    </tr>\n    <tr>\n      <td>...</td>\n      <td>...</td>\n      <td>...</td>\n      <td>...</td>\n      <td>...</td>\n      <td>...</td>\n      <td>...</td>\n      <td>...</td>\n      <td>...</td>\n      <td>...</td>\n      <td>...</td>\n      <td>...</td>\n      <td>...</td>\n      <td>...</td>\n    </tr>\n    <tr>\n      <td>390</td>\n      <td>MSMSMSMSMSMSMSMSMSMS</td>\n      <td>MMMMMMMMMM</td>\n      <td>200</td>\n      <td>UUUUUUUUUU</td>\n      <td>LE3LE3LE3LE3LE3LE3LE3LE3LE3LE3</td>\n      <td>AAAAAAAAAA</td>\n      <td>20</td>\n      <td>20</td>\n      <td>ServicesServicesServicesServicesServicesServic...</td>\n      <td>ServicesServicesServicesServicesServicesServic...</td>\n      <td>coursecoursecoursecoursecoursecoursecoursecour...</td>\n      <td>otherotherotherotherotherotherotherotherothero...</td>\n      <td>10</td>\n    </tr>\n    <tr>\n      <td>391</td>\n      <td>MSMSMSMSMSMSMSMSMSMS</td>\n      <td>MMMMMMMMMM</td>\n      <td>170</td>\n      <td>UUUUUUUUUU</td>\n      <td>LE3LE3LE3LE3LE3LE3LE3LE3LE3LE3</td>\n      <td>TTTTTTTTTT</td>\n      <td>30</td>\n      <td>10</td>\n      <td>ServicesServicesServicesServicesServicesServic...</td>\n      <td>ServicesServicesServicesServicesServicesServic...</td>\n      <td>coursecoursecoursecoursecoursecoursecoursecour...</td>\n      <td>mothermothermothermothermothermothermothermoth...</td>\n      <td>0</td>\n    </tr>\n    <tr>\n      <td>392</td>\n      <td>MSMSMSMSMSMSMSMSMSMS</td>\n      <td>MMMMMMMMMM</td>\n      <td>210</td>\n      <td>RRRRRRRRRR</td>\n      <td>GT3GT3GT3GT3GT3GT3GT3GT3GT3GT3</td>\n      <td>TTTTTTTTTT</td>\n      <td>10</td>\n      <td>10</td>\n      <td>OtherOtherOtherOtherOtherOtherOtherOtherOtherO...</td>\n      <td>OtherOtherOtherOtherOtherOtherOtherOtherOtherO...</td>\n      <td>coursecoursecoursecoursecoursecoursecoursecour...</td>\n      <td>otherotherotherotherotherotherotherotherothero...</td>\n      <td>10</td>\n    </tr>\n    <tr>\n      <td>393</td>\n      <td>MSMSMSMSMSMSMSMSMSMS</td>\n      <td>MMMMMMMMMM</td>\n      <td>180</td>\n      <td>RRRRRRRRRR</td>\n      <td>LE3LE3LE3LE3LE3LE3LE3LE3LE3LE3</td>\n      <td>TTTTTTTTTT</td>\n      <td>30</td>\n      <td>20</td>\n      <td>ServicesServicesServicesServicesServicesServic...</td>\n      <td>OtherOtherOtherOtherOtherOtherOtherOtherOtherO...</td>\n      <td>coursecoursecoursecoursecoursecoursecoursecour...</td>\n      <td>mothermothermothermothermothermothermothermoth...</td>\n      <td>10</td>\n    </tr>\n    <tr>\n      <td>394</td>\n      <td>MSMSMSMSMSMSMSMSMSMS</td>\n      <td>MMMMMMMMMM</td>\n      <td>190</td>\n      <td>UUUUUUUUUU</td>\n      <td>LE3LE3LE3LE3LE3LE3LE3LE3LE3LE3</td>\n      <td>TTTTTTTTTT</td>\n      <td>10</td>\n      <td>10</td>\n      <td>OtherOtherOtherOtherOtherOtherOtherOtherOtherO...</td>\n      <td>At_homeAt_homeAt_homeAt_homeAt_homeAt_homeAt_h...</td>\n      <td>coursecoursecoursecoursecoursecoursecoursecour...</td>\n      <td>fatherfatherfatherfatherfatherfatherfatherfath...</td>\n      <td>10</td>\n    </tr>\n  </tbody>\n</table>\n<p>395 rows × 13 columns</p>\n</div>",
      "text/plain": "                   school         sex  age     address  \\\n0    GPGPGPGPGPGPGPGPGPGP  FFFFFFFFFF  180  UUUUUUUUUU   \n1    GPGPGPGPGPGPGPGPGPGP  FFFFFFFFFF  170  UUUUUUUUUU   \n2    GPGPGPGPGPGPGPGPGPGP  FFFFFFFFFF  150  UUUUUUUUUU   \n3    GPGPGPGPGPGPGPGPGPGP  FFFFFFFFFF  150  UUUUUUUUUU   \n4    GPGPGPGPGPGPGPGPGPGP  FFFFFFFFFF  160  UUUUUUUUUU   \n..                    ...         ...  ...         ...   \n390  MSMSMSMSMSMSMSMSMSMS  MMMMMMMMMM  200  UUUUUUUUUU   \n391  MSMSMSMSMSMSMSMSMSMS  MMMMMMMMMM  170  UUUUUUUUUU   \n392  MSMSMSMSMSMSMSMSMSMS  MMMMMMMMMM  210  RRRRRRRRRR   \n393  MSMSMSMSMSMSMSMSMSMS  MMMMMMMMMM  180  RRRRRRRRRR   \n394  MSMSMSMSMSMSMSMSMSMS  MMMMMMMMMM  190  UUUUUUUUUU   \n\n                            famsize     Pstatus  Medu  Fedu  \\\n0    GT3GT3GT3GT3GT3GT3GT3GT3GT3GT3  AAAAAAAAAA    40    40   \n1    GT3GT3GT3GT3GT3GT3GT3GT3GT3GT3  TTTTTTTTTT    10    10   \n2    LE3LE3LE3LE3LE3LE3LE3LE3LE3LE3  TTTTTTTTTT    10    10   \n3    GT3GT3GT3GT3GT3GT3GT3GT3GT3GT3  TTTTTTTTTT    40    20   \n4    GT3GT3GT3GT3GT3GT3GT3GT3GT3GT3  TTTTTTTTTT    30    30   \n..                              ...         ...   ...   ...   \n390  LE3LE3LE3LE3LE3LE3LE3LE3LE3LE3  AAAAAAAAAA    20    20   \n391  LE3LE3LE3LE3LE3LE3LE3LE3LE3LE3  TTTTTTTTTT    30    10   \n392  GT3GT3GT3GT3GT3GT3GT3GT3GT3GT3  TTTTTTTTTT    10    10   \n393  LE3LE3LE3LE3LE3LE3LE3LE3LE3LE3  TTTTTTTTTT    30    20   \n394  LE3LE3LE3LE3LE3LE3LE3LE3LE3LE3  TTTTTTTTTT    10    10   \n\n                                                  Mjob  \\\n0    At_homeAt_homeAt_homeAt_homeAt_homeAt_homeAt_h...   \n1    At_homeAt_homeAt_homeAt_homeAt_homeAt_homeAt_h...   \n2    At_homeAt_homeAt_homeAt_homeAt_homeAt_homeAt_h...   \n3    HealthHealthHealthHealthHealthHealthHealthHeal...   \n4    OtherOtherOtherOtherOtherOtherOtherOtherOtherO...   \n..                                                 ...   \n390  ServicesServicesServicesServicesServicesServic...   \n391  ServicesServicesServicesServicesServicesServic...   \n392  OtherOtherOtherOtherOtherOtherOtherOtherOtherO...   \n393  ServicesServicesServicesServicesServicesServic...   \n394  OtherOtherOtherOtherOtherOtherOtherOtherOtherO...   \n\n                                                  Fjob  \\\n0    TeacherTeacherTeacherTeacherTeacherTeacherTeac...   \n1    OtherOtherOtherOtherOtherOtherOtherOtherOtherO...   \n2    OtherOtherOtherOtherOtherOtherOtherOtherOtherO...   \n3    ServicesServicesServicesServicesServicesServic...   \n4    OtherOtherOtherOtherOtherOtherOtherOtherOtherO...   \n..                                                 ...   \n390  ServicesServicesServicesServicesServicesServic...   \n391  ServicesServicesServicesServicesServicesServic...   \n392  OtherOtherOtherOtherOtherOtherOtherOtherOtherO...   \n393  OtherOtherOtherOtherOtherOtherOtherOtherOtherO...   \n394  At_homeAt_homeAt_homeAt_homeAt_homeAt_homeAt_h...   \n\n                                                reason  \\\n0    coursecoursecoursecoursecoursecoursecoursecour...   \n1    coursecoursecoursecoursecoursecoursecoursecour...   \n2    otherotherotherotherotherotherotherotherothero...   \n3             homehomehomehomehomehomehomehomehomehome   \n4             homehomehomehomehomehomehomehomehomehome   \n..                                                 ...   \n390  coursecoursecoursecoursecoursecoursecoursecour...   \n391  coursecoursecoursecoursecoursecoursecoursecour...   \n392  coursecoursecoursecoursecoursecoursecoursecour...   \n393  coursecoursecoursecoursecoursecoursecoursecour...   \n394  coursecoursecoursecoursecoursecoursecoursecour...   \n\n                                              guardian  legal_drinker  \n0    mothermothermothermothermothermothermothermoth...             10  \n1    fatherfatherfatherfatherfatherfatherfatherfath...              0  \n2    mothermothermothermothermothermothermothermoth...              0  \n3    mothermothermothermothermothermothermothermoth...              0  \n4    fatherfatherfatherfatherfatherfatherfatherfath...              0  \n..                                                 ...            ...  \n390  otherotherotherotherotherotherotherotherothero...             10  \n391  mothermothermothermothermothermothermothermoth...              0  \n392  otherotherotherotherotherotherotherotherothero...             10  \n393  mothermothermothermothermothermothermothermoth...             10  \n394  fatherfatherfatherfatherfatherfatherfatherfath...             10  \n\n[395 rows x 13 columns]"
     },
     "execution_count": 18,
     "metadata": {},
     "output_type": "execute_result"
    }
   ],
   "source": [
    "stud_alcoh * 10"
   ]
  },
  {
   "cell_type": "code",
   "execution_count": 52,
   "metadata": {},
   "outputs": [
    {
     "data": {
      "text/plain": "school           0      GP\\n1      GP\\n2      GP\\n3      GP\\n4 ...\nsex              0      F\\n1      F\\n2      F\\n3      F\\n4     ...\nage              0      18\\n1      17\\n2      15\\n3      15\\n4 ...\naddress          0      U\\n1      U\\n2      U\\n3      U\\n4     ...\nfamsize          0      GT3\\n1      GT3\\n2      LE3\\n3      GT3...\nPstatus          0      A\\n1      T\\n2      T\\n3      T\\n4     ...\nMedu             0      4\\n1      1\\n2      1\\n3      4\\n4     ...\nFedu             0      4\\n1      1\\n2      1\\n3      2\\n4     ...\nMjob             0       At_home\\n1       At_home\\n2       At_h...\nFjob             0       Teacher\\n1         Other\\n2         Ot...\nreason           0      course\\n1      course\\n2       other\\n3...\nguardian         0      mother\\n1      father\\n2      mother\\n3...\nlegal_drinker    0       True\\n1      False\\n2      False\\n3   ...\ndtype: object"
     },
     "execution_count": 52,
     "metadata": {},
     "output_type": "execute_result"
    }
   ],
   "source": [
    "stud_alcoh2 = stud_alcoh.apply(times10)\n",
    "stud_alcoh2"
   ]
  },
  {
   "cell_type": "code",
   "execution_count": 49,
   "metadata": {},
   "outputs": [
    {
     "data": {
      "text/html": "<div>\n<style scoped>\n    .dataframe tbody tr th:only-of-type {\n        vertical-align: middle;\n    }\n\n    .dataframe tbody tr th {\n        vertical-align: top;\n    }\n\n    .dataframe thead th {\n        text-align: right;\n    }\n</style>\n<table border=\"1\" class=\"dataframe\">\n  <thead>\n    <tr style=\"text-align: right;\">\n      <th></th>\n      <th>school</th>\n      <th>sex</th>\n      <th>age</th>\n      <th>address</th>\n      <th>famsize</th>\n      <th>Pstatus</th>\n      <th>Medu</th>\n      <th>Fedu</th>\n      <th>Mjob</th>\n      <th>Fjob</th>\n      <th>reason</th>\n      <th>guardian</th>\n      <th>legal_drinker</th>\n    </tr>\n  </thead>\n  <tbody>\n    <tr>\n      <td>0</td>\n      <td>GP</td>\n      <td>F</td>\n      <td>18</td>\n      <td>U</td>\n      <td>GT3</td>\n      <td>A</td>\n      <td>4</td>\n      <td>4</td>\n      <td>At_home</td>\n      <td>Teacher</td>\n      <td>course</td>\n      <td>mother</td>\n      <td>True</td>\n    </tr>\n    <tr>\n      <td>1</td>\n      <td>GP</td>\n      <td>F</td>\n      <td>17</td>\n      <td>U</td>\n      <td>GT3</td>\n      <td>T</td>\n      <td>1</td>\n      <td>1</td>\n      <td>At_home</td>\n      <td>Other</td>\n      <td>course</td>\n      <td>father</td>\n      <td>False</td>\n    </tr>\n    <tr>\n      <td>2</td>\n      <td>GP</td>\n      <td>F</td>\n      <td>15</td>\n      <td>U</td>\n      <td>LE3</td>\n      <td>T</td>\n      <td>1</td>\n      <td>1</td>\n      <td>At_home</td>\n      <td>Other</td>\n      <td>other</td>\n      <td>mother</td>\n      <td>False</td>\n    </tr>\n    <tr>\n      <td>3</td>\n      <td>GP</td>\n      <td>F</td>\n      <td>15</td>\n      <td>U</td>\n      <td>GT3</td>\n      <td>T</td>\n      <td>4</td>\n      <td>2</td>\n      <td>Health</td>\n      <td>Services</td>\n      <td>home</td>\n      <td>mother</td>\n      <td>False</td>\n    </tr>\n    <tr>\n      <td>4</td>\n      <td>GP</td>\n      <td>F</td>\n      <td>16</td>\n      <td>U</td>\n      <td>GT3</td>\n      <td>T</td>\n      <td>3</td>\n      <td>3</td>\n      <td>Other</td>\n      <td>Other</td>\n      <td>home</td>\n      <td>father</td>\n      <td>False</td>\n    </tr>\n    <tr>\n      <td>...</td>\n      <td>...</td>\n      <td>...</td>\n      <td>...</td>\n      <td>...</td>\n      <td>...</td>\n      <td>...</td>\n      <td>...</td>\n      <td>...</td>\n      <td>...</td>\n      <td>...</td>\n      <td>...</td>\n      <td>...</td>\n      <td>...</td>\n    </tr>\n    <tr>\n      <td>390</td>\n      <td>MS</td>\n      <td>M</td>\n      <td>20</td>\n      <td>U</td>\n      <td>LE3</td>\n      <td>A</td>\n      <td>2</td>\n      <td>2</td>\n      <td>Services</td>\n      <td>Services</td>\n      <td>course</td>\n      <td>other</td>\n      <td>True</td>\n    </tr>\n    <tr>\n      <td>391</td>\n      <td>MS</td>\n      <td>M</td>\n      <td>17</td>\n      <td>U</td>\n      <td>LE3</td>\n      <td>T</td>\n      <td>3</td>\n      <td>1</td>\n      <td>Services</td>\n      <td>Services</td>\n      <td>course</td>\n      <td>mother</td>\n      <td>False</td>\n    </tr>\n    <tr>\n      <td>392</td>\n      <td>MS</td>\n      <td>M</td>\n      <td>21</td>\n      <td>R</td>\n      <td>GT3</td>\n      <td>T</td>\n      <td>1</td>\n      <td>1</td>\n      <td>Other</td>\n      <td>Other</td>\n      <td>course</td>\n      <td>other</td>\n      <td>True</td>\n    </tr>\n    <tr>\n      <td>393</td>\n      <td>MS</td>\n      <td>M</td>\n      <td>18</td>\n      <td>R</td>\n      <td>LE3</td>\n      <td>T</td>\n      <td>3</td>\n      <td>2</td>\n      <td>Services</td>\n      <td>Other</td>\n      <td>course</td>\n      <td>mother</td>\n      <td>True</td>\n    </tr>\n    <tr>\n      <td>394</td>\n      <td>MS</td>\n      <td>M</td>\n      <td>19</td>\n      <td>U</td>\n      <td>LE3</td>\n      <td>T</td>\n      <td>1</td>\n      <td>1</td>\n      <td>Other</td>\n      <td>At_home</td>\n      <td>course</td>\n      <td>father</td>\n      <td>True</td>\n    </tr>\n  </tbody>\n</table>\n<p>395 rows × 13 columns</p>\n</div>",
      "text/plain": "    school sex  age address famsize Pstatus  Medu  Fedu      Mjob      Fjob  \\\n0       GP   F   18       U     GT3       A     4     4   At_home   Teacher   \n1       GP   F   17       U     GT3       T     1     1   At_home     Other   \n2       GP   F   15       U     LE3       T     1     1   At_home     Other   \n3       GP   F   15       U     GT3       T     4     2    Health  Services   \n4       GP   F   16       U     GT3       T     3     3     Other     Other   \n..     ...  ..  ...     ...     ...     ...   ...   ...       ...       ...   \n390     MS   M   20       U     LE3       A     2     2  Services  Services   \n391     MS   M   17       U     LE3       T     3     1  Services  Services   \n392     MS   M   21       R     GT3       T     1     1     Other     Other   \n393     MS   M   18       R     LE3       T     3     2  Services     Other   \n394     MS   M   19       U     LE3       T     1     1     Other   At_home   \n\n     reason guardian  legal_drinker  \n0    course   mother           True  \n1    course   father          False  \n2     other   mother          False  \n3      home   mother          False  \n4      home   father          False  \n..      ...      ...            ...  \n390  course    other           True  \n391  course   mother          False  \n392  course    other           True  \n393  course   mother           True  \n394  course   father           True  \n\n[395 rows x 13 columns]"
     },
     "execution_count": 49,
     "metadata": {},
     "output_type": "execute_result"
    }
   ],
   "source": [
    "stud_alcoh"
   ]
  },
  {
   "cell_type": "code",
   "execution_count": 21,
   "metadata": {},
   "outputs": [
    {
     "data": {
      "text/html": "<div>\n<style scoped>\n    .dataframe tbody tr th:only-of-type {\n        vertical-align: middle;\n    }\n\n    .dataframe tbody tr th {\n        vertical-align: top;\n    }\n\n    .dataframe thead th {\n        text-align: right;\n    }\n</style>\n<table border=\"1\" class=\"dataframe\">\n  <thead>\n    <tr style=\"text-align: right;\">\n      <th></th>\n      <th>school</th>\n      <th>sex</th>\n      <th>age</th>\n      <th>address</th>\n      <th>famsize</th>\n      <th>Pstatus</th>\n      <th>Medu</th>\n      <th>Fedu</th>\n      <th>Mjob</th>\n      <th>Fjob</th>\n      <th>reason</th>\n      <th>guardian</th>\n      <th>legal_drinker</th>\n    </tr>\n  </thead>\n  <tbody>\n    <tr>\n      <td>0</td>\n      <td>GPGP</td>\n      <td>FF</td>\n      <td>1818</td>\n      <td>UU</td>\n      <td>GT3GT3</td>\n      <td>AA</td>\n      <td>44</td>\n      <td>44</td>\n      <td>At_homeAt_home</td>\n      <td>TeacherTeacher</td>\n      <td>coursecourse</td>\n      <td>mothermother</td>\n      <td>TrueTrue</td>\n    </tr>\n    <tr>\n      <td>1</td>\n      <td>GPGP</td>\n      <td>FF</td>\n      <td>1717</td>\n      <td>UU</td>\n      <td>GT3GT3</td>\n      <td>TT</td>\n      <td>11</td>\n      <td>11</td>\n      <td>At_homeAt_home</td>\n      <td>OtherOther</td>\n      <td>coursecourse</td>\n      <td>fatherfather</td>\n      <td>FalseFalse</td>\n    </tr>\n    <tr>\n      <td>2</td>\n      <td>GPGP</td>\n      <td>FF</td>\n      <td>1515</td>\n      <td>UU</td>\n      <td>LE3LE3</td>\n      <td>TT</td>\n      <td>11</td>\n      <td>11</td>\n      <td>At_homeAt_home</td>\n      <td>OtherOther</td>\n      <td>otherother</td>\n      <td>mothermother</td>\n      <td>FalseFalse</td>\n    </tr>\n    <tr>\n      <td>3</td>\n      <td>GPGP</td>\n      <td>FF</td>\n      <td>1515</td>\n      <td>UU</td>\n      <td>GT3GT3</td>\n      <td>TT</td>\n      <td>44</td>\n      <td>22</td>\n      <td>HealthHealth</td>\n      <td>ServicesServices</td>\n      <td>homehome</td>\n      <td>mothermother</td>\n      <td>FalseFalse</td>\n    </tr>\n    <tr>\n      <td>4</td>\n      <td>GPGP</td>\n      <td>FF</td>\n      <td>1616</td>\n      <td>UU</td>\n      <td>GT3GT3</td>\n      <td>TT</td>\n      <td>33</td>\n      <td>33</td>\n      <td>OtherOther</td>\n      <td>OtherOther</td>\n      <td>homehome</td>\n      <td>fatherfather</td>\n      <td>FalseFalse</td>\n    </tr>\n    <tr>\n      <td>5</td>\n      <td>GPGP</td>\n      <td>MM</td>\n      <td>1616</td>\n      <td>UU</td>\n      <td>LE3LE3</td>\n      <td>TT</td>\n      <td>44</td>\n      <td>33</td>\n      <td>ServicesServices</td>\n      <td>OtherOther</td>\n      <td>reputationreputation</td>\n      <td>mothermother</td>\n      <td>FalseFalse</td>\n    </tr>\n    <tr>\n      <td>6</td>\n      <td>GPGP</td>\n      <td>MM</td>\n      <td>1616</td>\n      <td>UU</td>\n      <td>LE3LE3</td>\n      <td>TT</td>\n      <td>22</td>\n      <td>22</td>\n      <td>OtherOther</td>\n      <td>OtherOther</td>\n      <td>homehome</td>\n      <td>mothermother</td>\n      <td>FalseFalse</td>\n    </tr>\n    <tr>\n      <td>7</td>\n      <td>GPGP</td>\n      <td>FF</td>\n      <td>1717</td>\n      <td>UU</td>\n      <td>GT3GT3</td>\n      <td>AA</td>\n      <td>44</td>\n      <td>44</td>\n      <td>OtherOther</td>\n      <td>TeacherTeacher</td>\n      <td>homehome</td>\n      <td>mothermother</td>\n      <td>FalseFalse</td>\n    </tr>\n    <tr>\n      <td>8</td>\n      <td>GPGP</td>\n      <td>MM</td>\n      <td>1515</td>\n      <td>UU</td>\n      <td>LE3LE3</td>\n      <td>AA</td>\n      <td>33</td>\n      <td>22</td>\n      <td>ServicesServices</td>\n      <td>OtherOther</td>\n      <td>homehome</td>\n      <td>mothermother</td>\n      <td>FalseFalse</td>\n    </tr>\n    <tr>\n      <td>9</td>\n      <td>GPGP</td>\n      <td>MM</td>\n      <td>1515</td>\n      <td>UU</td>\n      <td>GT3GT3</td>\n      <td>TT</td>\n      <td>33</td>\n      <td>44</td>\n      <td>OtherOther</td>\n      <td>OtherOther</td>\n      <td>homehome</td>\n      <td>mothermother</td>\n      <td>FalseFalse</td>\n    </tr>\n  </tbody>\n</table>\n</div>",
      "text/plain": "  school sex   age address famsize Pstatus Medu Fedu              Mjob  \\\n0   GPGP  FF  1818      UU  GT3GT3      AA   44   44    At_homeAt_home   \n1   GPGP  FF  1717      UU  GT3GT3      TT   11   11    At_homeAt_home   \n2   GPGP  FF  1515      UU  LE3LE3      TT   11   11    At_homeAt_home   \n3   GPGP  FF  1515      UU  GT3GT3      TT   44   22      HealthHealth   \n4   GPGP  FF  1616      UU  GT3GT3      TT   33   33        OtherOther   \n5   GPGP  MM  1616      UU  LE3LE3      TT   44   33  ServicesServices   \n6   GPGP  MM  1616      UU  LE3LE3      TT   22   22        OtherOther   \n7   GPGP  FF  1717      UU  GT3GT3      AA   44   44        OtherOther   \n8   GPGP  MM  1515      UU  LE3LE3      AA   33   22  ServicesServices   \n9   GPGP  MM  1515      UU  GT3GT3      TT   33   44        OtherOther   \n\n               Fjob                reason      guardian legal_drinker  \n0    TeacherTeacher          coursecourse  mothermother      TrueTrue  \n1        OtherOther          coursecourse  fatherfather    FalseFalse  \n2        OtherOther            otherother  mothermother    FalseFalse  \n3  ServicesServices              homehome  mothermother    FalseFalse  \n4        OtherOther              homehome  fatherfather    FalseFalse  \n5        OtherOther  reputationreputation  mothermother    FalseFalse  \n6        OtherOther              homehome  mothermother    FalseFalse  \n7    TeacherTeacher              homehome  mothermother    FalseFalse  \n8        OtherOther              homehome  mothermother    FalseFalse  \n9        OtherOther              homehome  mothermother    FalseFalse  "
     },
     "execution_count": 21,
     "metadata": {},
     "output_type": "execute_result"
    }
   ],
   "source": [
    "stud_alcoh.applymap(lambda x: str(x)*2).head(10)"
   ]
  },
  {
   "cell_type": "code",
   "execution_count": 23,
   "metadata": {},
   "outputs": [
    {
     "data": {
      "text/html": "<div>\n<style scoped>\n    .dataframe tbody tr th:only-of-type {\n        vertical-align: middle;\n    }\n\n    .dataframe tbody tr th {\n        vertical-align: top;\n    }\n\n    .dataframe thead th {\n        text-align: right;\n    }\n</style>\n<table border=\"1\" class=\"dataframe\">\n  <thead>\n    <tr style=\"text-align: right;\">\n      <th></th>\n      <th>school</th>\n      <th>sex</th>\n      <th>age</th>\n      <th>address</th>\n      <th>famsize</th>\n      <th>Pstatus</th>\n      <th>Medu</th>\n      <th>Fedu</th>\n      <th>Mjob</th>\n      <th>Fjob</th>\n      <th>reason</th>\n      <th>guardian</th>\n      <th>legal_drinker</th>\n    </tr>\n  </thead>\n  <tbody>\n    <tr>\n      <td>0</td>\n      <td>GP</td>\n      <td>F</td>\n      <td>18</td>\n      <td>U</td>\n      <td>GT3</td>\n      <td>A</td>\n      <td>4</td>\n      <td>4</td>\n      <td>At_home</td>\n      <td>Teacher</td>\n      <td>course</td>\n      <td>mother</td>\n      <td>True</td>\n    </tr>\n    <tr>\n      <td>1</td>\n      <td>GP</td>\n      <td>F</td>\n      <td>17</td>\n      <td>U</td>\n      <td>GT3</td>\n      <td>T</td>\n      <td>1</td>\n      <td>1</td>\n      <td>At_home</td>\n      <td>Other</td>\n      <td>course</td>\n      <td>father</td>\n      <td>False</td>\n    </tr>\n    <tr>\n      <td>2</td>\n      <td>GP</td>\n      <td>F</td>\n      <td>15</td>\n      <td>U</td>\n      <td>LE3</td>\n      <td>T</td>\n      <td>1</td>\n      <td>1</td>\n      <td>At_home</td>\n      <td>Other</td>\n      <td>other</td>\n      <td>mother</td>\n      <td>False</td>\n    </tr>\n    <tr>\n      <td>3</td>\n      <td>GP</td>\n      <td>F</td>\n      <td>15</td>\n      <td>U</td>\n      <td>GT3</td>\n      <td>T</td>\n      <td>4</td>\n      <td>2</td>\n      <td>Health</td>\n      <td>Services</td>\n      <td>home</td>\n      <td>mother</td>\n      <td>False</td>\n    </tr>\n    <tr>\n      <td>4</td>\n      <td>GP</td>\n      <td>F</td>\n      <td>16</td>\n      <td>U</td>\n      <td>GT3</td>\n      <td>T</td>\n      <td>3</td>\n      <td>3</td>\n      <td>Other</td>\n      <td>Other</td>\n      <td>home</td>\n      <td>father</td>\n      <td>False</td>\n    </tr>\n    <tr>\n      <td>...</td>\n      <td>...</td>\n      <td>...</td>\n      <td>...</td>\n      <td>...</td>\n      <td>...</td>\n      <td>...</td>\n      <td>...</td>\n      <td>...</td>\n      <td>...</td>\n      <td>...</td>\n      <td>...</td>\n      <td>...</td>\n      <td>...</td>\n    </tr>\n    <tr>\n      <td>390</td>\n      <td>MS</td>\n      <td>M</td>\n      <td>20</td>\n      <td>U</td>\n      <td>LE3</td>\n      <td>A</td>\n      <td>2</td>\n      <td>2</td>\n      <td>Services</td>\n      <td>Services</td>\n      <td>course</td>\n      <td>other</td>\n      <td>True</td>\n    </tr>\n    <tr>\n      <td>391</td>\n      <td>MS</td>\n      <td>M</td>\n      <td>17</td>\n      <td>U</td>\n      <td>LE3</td>\n      <td>T</td>\n      <td>3</td>\n      <td>1</td>\n      <td>Services</td>\n      <td>Services</td>\n      <td>course</td>\n      <td>mother</td>\n      <td>False</td>\n    </tr>\n    <tr>\n      <td>392</td>\n      <td>MS</td>\n      <td>M</td>\n      <td>21</td>\n      <td>R</td>\n      <td>GT3</td>\n      <td>T</td>\n      <td>1</td>\n      <td>1</td>\n      <td>Other</td>\n      <td>Other</td>\n      <td>course</td>\n      <td>other</td>\n      <td>True</td>\n    </tr>\n    <tr>\n      <td>393</td>\n      <td>MS</td>\n      <td>M</td>\n      <td>18</td>\n      <td>R</td>\n      <td>LE3</td>\n      <td>T</td>\n      <td>3</td>\n      <td>2</td>\n      <td>Services</td>\n      <td>Other</td>\n      <td>course</td>\n      <td>mother</td>\n      <td>True</td>\n    </tr>\n    <tr>\n      <td>394</td>\n      <td>MS</td>\n      <td>M</td>\n      <td>19</td>\n      <td>U</td>\n      <td>LE3</td>\n      <td>T</td>\n      <td>1</td>\n      <td>1</td>\n      <td>Other</td>\n      <td>At_home</td>\n      <td>course</td>\n      <td>father</td>\n      <td>True</td>\n    </tr>\n  </tbody>\n</table>\n<p>395 rows × 13 columns</p>\n</div>",
      "text/plain": "    school sex  age address famsize Pstatus  Medu  Fedu      Mjob      Fjob  \\\n0       GP   F   18       U     GT3       A     4     4   At_home   Teacher   \n1       GP   F   17       U     GT3       T     1     1   At_home     Other   \n2       GP   F   15       U     LE3       T     1     1   At_home     Other   \n3       GP   F   15       U     GT3       T     4     2    Health  Services   \n4       GP   F   16       U     GT3       T     3     3     Other     Other   \n..     ...  ..  ...     ...     ...     ...   ...   ...       ...       ...   \n390     MS   M   20       U     LE3       A     2     2  Services  Services   \n391     MS   M   17       U     LE3       T     3     1  Services  Services   \n392     MS   M   21       R     GT3       T     1     1     Other     Other   \n393     MS   M   18       R     LE3       T     3     2  Services     Other   \n394     MS   M   19       U     LE3       T     1     1     Other   At_home   \n\n     reason guardian  legal_drinker  \n0    course   mother           True  \n1    course   father          False  \n2     other   mother          False  \n3      home   mother          False  \n4      home   father          False  \n..      ...      ...            ...  \n390  course    other           True  \n391  course   mother          False  \n392  course    other           True  \n393  course   mother           True  \n394  course   father           True  \n\n[395 rows x 13 columns]"
     },
     "execution_count": 23,
     "metadata": {},
     "output_type": "execute_result"
    }
   ],
   "source": [
    "new_df = stud_alcoh.transform(times10)\n",
    "new_df"
   ]
  },
  {
   "cell_type": "code",
   "execution_count": 17,
   "metadata": {},
   "outputs": [
    {
     "data": {
      "text/html": "<div>\n<style scoped>\n    .dataframe tbody tr th:only-of-type {\n        vertical-align: middle;\n    }\n\n    .dataframe tbody tr th {\n        vertical-align: top;\n    }\n\n    .dataframe thead th {\n        text-align: right;\n    }\n</style>\n<table border=\"1\" class=\"dataframe\">\n  <thead>\n    <tr style=\"text-align: right;\">\n      <th></th>\n      <th>school</th>\n      <th>sex</th>\n      <th>age</th>\n      <th>address</th>\n      <th>famsize</th>\n      <th>Pstatus</th>\n      <th>Medu</th>\n      <th>Fedu</th>\n      <th>Mjob</th>\n      <th>Fjob</th>\n      <th>reason</th>\n      <th>guardian</th>\n      <th>legal_drinker</th>\n    </tr>\n  </thead>\n  <tbody>\n    <tr>\n      <td>0</td>\n      <td>GP</td>\n      <td>F</td>\n      <td>180</td>\n      <td>U</td>\n      <td>GT3</td>\n      <td>A</td>\n      <td>40</td>\n      <td>40</td>\n      <td>At_home</td>\n      <td>Teacher</td>\n      <td>course</td>\n      <td>mother</td>\n      <td>True</td>\n    </tr>\n    <tr>\n      <td>1</td>\n      <td>GP</td>\n      <td>F</td>\n      <td>170</td>\n      <td>U</td>\n      <td>GT3</td>\n      <td>T</td>\n      <td>10</td>\n      <td>10</td>\n      <td>At_home</td>\n      <td>Other</td>\n      <td>course</td>\n      <td>father</td>\n      <td>False</td>\n    </tr>\n    <tr>\n      <td>2</td>\n      <td>GP</td>\n      <td>F</td>\n      <td>150</td>\n      <td>U</td>\n      <td>LE3</td>\n      <td>T</td>\n      <td>10</td>\n      <td>10</td>\n      <td>At_home</td>\n      <td>Other</td>\n      <td>other</td>\n      <td>mother</td>\n      <td>False</td>\n    </tr>\n    <tr>\n      <td>3</td>\n      <td>GP</td>\n      <td>F</td>\n      <td>150</td>\n      <td>U</td>\n      <td>GT3</td>\n      <td>T</td>\n      <td>40</td>\n      <td>20</td>\n      <td>Health</td>\n      <td>Services</td>\n      <td>home</td>\n      <td>mother</td>\n      <td>False</td>\n    </tr>\n    <tr>\n      <td>4</td>\n      <td>GP</td>\n      <td>F</td>\n      <td>160</td>\n      <td>U</td>\n      <td>GT3</td>\n      <td>T</td>\n      <td>30</td>\n      <td>30</td>\n      <td>Other</td>\n      <td>Other</td>\n      <td>home</td>\n      <td>father</td>\n      <td>False</td>\n    </tr>\n    <tr>\n      <td>...</td>\n      <td>...</td>\n      <td>...</td>\n      <td>...</td>\n      <td>...</td>\n      <td>...</td>\n      <td>...</td>\n      <td>...</td>\n      <td>...</td>\n      <td>...</td>\n      <td>...</td>\n      <td>...</td>\n      <td>...</td>\n      <td>...</td>\n    </tr>\n    <tr>\n      <td>390</td>\n      <td>MS</td>\n      <td>M</td>\n      <td>200</td>\n      <td>U</td>\n      <td>LE3</td>\n      <td>A</td>\n      <td>20</td>\n      <td>20</td>\n      <td>Services</td>\n      <td>Services</td>\n      <td>course</td>\n      <td>other</td>\n      <td>True</td>\n    </tr>\n    <tr>\n      <td>391</td>\n      <td>MS</td>\n      <td>M</td>\n      <td>170</td>\n      <td>U</td>\n      <td>LE3</td>\n      <td>T</td>\n      <td>30</td>\n      <td>10</td>\n      <td>Services</td>\n      <td>Services</td>\n      <td>course</td>\n      <td>mother</td>\n      <td>False</td>\n    </tr>\n    <tr>\n      <td>392</td>\n      <td>MS</td>\n      <td>M</td>\n      <td>210</td>\n      <td>R</td>\n      <td>GT3</td>\n      <td>T</td>\n      <td>10</td>\n      <td>10</td>\n      <td>Other</td>\n      <td>Other</td>\n      <td>course</td>\n      <td>other</td>\n      <td>True</td>\n    </tr>\n    <tr>\n      <td>393</td>\n      <td>MS</td>\n      <td>M</td>\n      <td>180</td>\n      <td>R</td>\n      <td>LE3</td>\n      <td>T</td>\n      <td>30</td>\n      <td>20</td>\n      <td>Services</td>\n      <td>Other</td>\n      <td>course</td>\n      <td>mother</td>\n      <td>True</td>\n    </tr>\n    <tr>\n      <td>394</td>\n      <td>MS</td>\n      <td>M</td>\n      <td>190</td>\n      <td>U</td>\n      <td>LE3</td>\n      <td>T</td>\n      <td>10</td>\n      <td>10</td>\n      <td>Other</td>\n      <td>At_home</td>\n      <td>course</td>\n      <td>father</td>\n      <td>True</td>\n    </tr>\n  </tbody>\n</table>\n<p>395 rows × 13 columns</p>\n</div>",
      "text/plain": "    school sex  age address famsize Pstatus  Medu  Fedu      Mjob      Fjob  \\\n0       GP   F  180       U     GT3       A    40    40   At_home   Teacher   \n1       GP   F  170       U     GT3       T    10    10   At_home     Other   \n2       GP   F  150       U     LE3       T    10    10   At_home     Other   \n3       GP   F  150       U     GT3       T    40    20    Health  Services   \n4       GP   F  160       U     GT3       T    30    30     Other     Other   \n..     ...  ..  ...     ...     ...     ...   ...   ...       ...       ...   \n390     MS   M  200       U     LE3       A    20    20  Services  Services   \n391     MS   M  170       U     LE3       T    30    10  Services  Services   \n392     MS   M  210       R     GT3       T    10    10     Other     Other   \n393     MS   M  180       R     LE3       T    30    20  Services     Other   \n394     MS   M  190       U     LE3       T    10    10     Other   At_home   \n\n     reason guardian  legal_drinker  \n0    course   mother           True  \n1    course   father          False  \n2     other   mother          False  \n3      home   mother          False  \n4      home   father          False  \n..      ...      ...            ...  \n390  course    other           True  \n391  course   mother          False  \n392  course    other           True  \n393  course   mother           True  \n394  course   father           True  \n\n[395 rows x 13 columns]"
     },
     "execution_count": 17,
     "metadata": {},
     "output_type": "execute_result"
    }
   ],
   "source": [
    "stud_alcoh.applymap(times10)"
   ]
  },
  {
   "cell_type": "code",
   "execution_count": 18,
   "metadata": {},
   "outputs": [
    {
     "data": {
      "text/html": "<div>\n<style scoped>\n    .dataframe tbody tr th:only-of-type {\n        vertical-align: middle;\n    }\n\n    .dataframe tbody tr th {\n        vertical-align: top;\n    }\n\n    .dataframe thead th {\n        text-align: right;\n    }\n</style>\n<table border=\"1\" class=\"dataframe\">\n  <thead>\n    <tr style=\"text-align: right;\">\n      <th></th>\n      <th>school</th>\n      <th>sex</th>\n      <th>age</th>\n      <th>address</th>\n      <th>famsize</th>\n      <th>Pstatus</th>\n      <th>Medu</th>\n      <th>Fedu</th>\n      <th>Mjob</th>\n      <th>Fjob</th>\n      <th>reason</th>\n      <th>guardian</th>\n      <th>legal_drinker</th>\n    </tr>\n  </thead>\n  <tbody>\n    <tr>\n      <td>0</td>\n      <td>GP_s</td>\n      <td>F_s</td>\n      <td>18_s</td>\n      <td>U_s</td>\n      <td>GT3_s</td>\n      <td>A_s</td>\n      <td>4_s</td>\n      <td>4_s</td>\n      <td>At_home_s</td>\n      <td>Teacher_s</td>\n      <td>course_s</td>\n      <td>mother_s</td>\n      <td>True_s</td>\n    </tr>\n    <tr>\n      <td>1</td>\n      <td>GP_s</td>\n      <td>F_s</td>\n      <td>17_s</td>\n      <td>U_s</td>\n      <td>GT3_s</td>\n      <td>T_s</td>\n      <td>1_s</td>\n      <td>1_s</td>\n      <td>At_home_s</td>\n      <td>Other_s</td>\n      <td>course_s</td>\n      <td>father_s</td>\n      <td>False_s</td>\n    </tr>\n    <tr>\n      <td>2</td>\n      <td>GP_s</td>\n      <td>F_s</td>\n      <td>15_s</td>\n      <td>U_s</td>\n      <td>LE3_s</td>\n      <td>T_s</td>\n      <td>1_s</td>\n      <td>1_s</td>\n      <td>At_home_s</td>\n      <td>Other_s</td>\n      <td>other_s</td>\n      <td>mother_s</td>\n      <td>False_s</td>\n    </tr>\n    <tr>\n      <td>3</td>\n      <td>GP_s</td>\n      <td>F_s</td>\n      <td>15_s</td>\n      <td>U_s</td>\n      <td>GT3_s</td>\n      <td>T_s</td>\n      <td>4_s</td>\n      <td>2_s</td>\n      <td>Health_s</td>\n      <td>Services_s</td>\n      <td>home_s</td>\n      <td>mother_s</td>\n      <td>False_s</td>\n    </tr>\n    <tr>\n      <td>4</td>\n      <td>GP_s</td>\n      <td>F_s</td>\n      <td>16_s</td>\n      <td>U_s</td>\n      <td>GT3_s</td>\n      <td>T_s</td>\n      <td>3_s</td>\n      <td>3_s</td>\n      <td>Other_s</td>\n      <td>Other_s</td>\n      <td>home_s</td>\n      <td>father_s</td>\n      <td>False_s</td>\n    </tr>\n    <tr>\n      <td>...</td>\n      <td>...</td>\n      <td>...</td>\n      <td>...</td>\n      <td>...</td>\n      <td>...</td>\n      <td>...</td>\n      <td>...</td>\n      <td>...</td>\n      <td>...</td>\n      <td>...</td>\n      <td>...</td>\n      <td>...</td>\n      <td>...</td>\n    </tr>\n    <tr>\n      <td>390</td>\n      <td>MS_s</td>\n      <td>M_s</td>\n      <td>20_s</td>\n      <td>U_s</td>\n      <td>LE3_s</td>\n      <td>A_s</td>\n      <td>2_s</td>\n      <td>2_s</td>\n      <td>Services_s</td>\n      <td>Services_s</td>\n      <td>course_s</td>\n      <td>other_s</td>\n      <td>True_s</td>\n    </tr>\n    <tr>\n      <td>391</td>\n      <td>MS_s</td>\n      <td>M_s</td>\n      <td>17_s</td>\n      <td>U_s</td>\n      <td>LE3_s</td>\n      <td>T_s</td>\n      <td>3_s</td>\n      <td>1_s</td>\n      <td>Services_s</td>\n      <td>Services_s</td>\n      <td>course_s</td>\n      <td>mother_s</td>\n      <td>False_s</td>\n    </tr>\n    <tr>\n      <td>392</td>\n      <td>MS_s</td>\n      <td>M_s</td>\n      <td>21_s</td>\n      <td>R_s</td>\n      <td>GT3_s</td>\n      <td>T_s</td>\n      <td>1_s</td>\n      <td>1_s</td>\n      <td>Other_s</td>\n      <td>Other_s</td>\n      <td>course_s</td>\n      <td>other_s</td>\n      <td>True_s</td>\n    </tr>\n    <tr>\n      <td>393</td>\n      <td>MS_s</td>\n      <td>M_s</td>\n      <td>18_s</td>\n      <td>R_s</td>\n      <td>LE3_s</td>\n      <td>T_s</td>\n      <td>3_s</td>\n      <td>2_s</td>\n      <td>Services_s</td>\n      <td>Other_s</td>\n      <td>course_s</td>\n      <td>mother_s</td>\n      <td>True_s</td>\n    </tr>\n    <tr>\n      <td>394</td>\n      <td>MS_s</td>\n      <td>M_s</td>\n      <td>19_s</td>\n      <td>U_s</td>\n      <td>LE3_s</td>\n      <td>T_s</td>\n      <td>1_s</td>\n      <td>1_s</td>\n      <td>Other_s</td>\n      <td>At_home_s</td>\n      <td>course_s</td>\n      <td>father_s</td>\n      <td>True_s</td>\n    </tr>\n  </tbody>\n</table>\n<p>395 rows × 13 columns</p>\n</div>",
      "text/plain": "    school  sex   age address famsize Pstatus Medu Fedu        Mjob  \\\n0     GP_s  F_s  18_s     U_s   GT3_s     A_s  4_s  4_s   At_home_s   \n1     GP_s  F_s  17_s     U_s   GT3_s     T_s  1_s  1_s   At_home_s   \n2     GP_s  F_s  15_s     U_s   LE3_s     T_s  1_s  1_s   At_home_s   \n3     GP_s  F_s  15_s     U_s   GT3_s     T_s  4_s  2_s    Health_s   \n4     GP_s  F_s  16_s     U_s   GT3_s     T_s  3_s  3_s     Other_s   \n..     ...  ...   ...     ...     ...     ...  ...  ...         ...   \n390   MS_s  M_s  20_s     U_s   LE3_s     A_s  2_s  2_s  Services_s   \n391   MS_s  M_s  17_s     U_s   LE3_s     T_s  3_s  1_s  Services_s   \n392   MS_s  M_s  21_s     R_s   GT3_s     T_s  1_s  1_s     Other_s   \n393   MS_s  M_s  18_s     R_s   LE3_s     T_s  3_s  2_s  Services_s   \n394   MS_s  M_s  19_s     U_s   LE3_s     T_s  1_s  1_s     Other_s   \n\n           Fjob    reason  guardian legal_drinker  \n0     Teacher_s  course_s  mother_s        True_s  \n1       Other_s  course_s  father_s       False_s  \n2       Other_s   other_s  mother_s       False_s  \n3    Services_s    home_s  mother_s       False_s  \n4       Other_s    home_s  father_s       False_s  \n..          ...       ...       ...           ...  \n390  Services_s  course_s   other_s        True_s  \n391  Services_s  course_s  mother_s       False_s  \n392     Other_s  course_s   other_s        True_s  \n393     Other_s  course_s  mother_s        True_s  \n394   At_home_s  course_s  father_s        True_s  \n\n[395 rows x 13 columns]"
     },
     "execution_count": 18,
     "metadata": {},
     "output_type": "execute_result"
    }
   ],
   "source": [
    "pd1 = stud_alcoh.applymap(lambda x: str(x) + \"_s\")\n",
    "pd1"
   ]
  },
  {
   "cell_type": "code",
   "execution_count": 19,
   "metadata": {},
   "outputs": [
    {
     "data": {
      "text/html": "<div>\n<style scoped>\n    .dataframe tbody tr th:only-of-type {\n        vertical-align: middle;\n    }\n\n    .dataframe tbody tr th {\n        vertical-align: top;\n    }\n\n    .dataframe thead th {\n        text-align: right;\n    }\n</style>\n<table border=\"1\" class=\"dataframe\">\n  <thead>\n    <tr style=\"text-align: right;\">\n      <th></th>\n      <th>school</th>\n      <th>sex</th>\n      <th>age</th>\n      <th>address</th>\n      <th>famsize</th>\n      <th>Pstatus</th>\n      <th>Medu</th>\n      <th>Fedu</th>\n      <th>Mjob</th>\n      <th>Fjob</th>\n      <th>reason</th>\n      <th>guardian</th>\n      <th>legal_drinker</th>\n    </tr>\n  </thead>\n  <tbody>\n    <tr>\n      <td>0</td>\n      <td>GPGPGPGPGPGPGPGPGPGP</td>\n      <td>FFFFFFFFFF</td>\n      <td>180</td>\n      <td>UUUUUUUUUU</td>\n      <td>GT3GT3GT3GT3GT3GT3GT3GT3GT3GT3</td>\n      <td>AAAAAAAAAA</td>\n      <td>40</td>\n      <td>40</td>\n      <td>At_homeAt_homeAt_homeAt_homeAt_homeAt_homeAt_h...</td>\n      <td>TeacherTeacherTeacherTeacherTeacherTeacherTeac...</td>\n      <td>coursecoursecoursecoursecoursecoursecoursecour...</td>\n      <td>mothermothermothermothermothermothermothermoth...</td>\n      <td>10</td>\n    </tr>\n    <tr>\n      <td>1</td>\n      <td>GPGPGPGPGPGPGPGPGPGP</td>\n      <td>FFFFFFFFFF</td>\n      <td>170</td>\n      <td>UUUUUUUUUU</td>\n      <td>GT3GT3GT3GT3GT3GT3GT3GT3GT3GT3</td>\n      <td>TTTTTTTTTT</td>\n      <td>10</td>\n      <td>10</td>\n      <td>At_homeAt_homeAt_homeAt_homeAt_homeAt_homeAt_h...</td>\n      <td>OtherOtherOtherOtherOtherOtherOtherOtherOtherO...</td>\n      <td>coursecoursecoursecoursecoursecoursecoursecour...</td>\n      <td>fatherfatherfatherfatherfatherfatherfatherfath...</td>\n      <td>0</td>\n    </tr>\n    <tr>\n      <td>2</td>\n      <td>GPGPGPGPGPGPGPGPGPGP</td>\n      <td>FFFFFFFFFF</td>\n      <td>150</td>\n      <td>UUUUUUUUUU</td>\n      <td>LE3LE3LE3LE3LE3LE3LE3LE3LE3LE3</td>\n      <td>TTTTTTTTTT</td>\n      <td>10</td>\n      <td>10</td>\n      <td>At_homeAt_homeAt_homeAt_homeAt_homeAt_homeAt_h...</td>\n      <td>OtherOtherOtherOtherOtherOtherOtherOtherOtherO...</td>\n      <td>otherotherotherotherotherotherotherotherothero...</td>\n      <td>mothermothermothermothermothermothermothermoth...</td>\n      <td>0</td>\n    </tr>\n    <tr>\n      <td>3</td>\n      <td>GPGPGPGPGPGPGPGPGPGP</td>\n      <td>FFFFFFFFFF</td>\n      <td>150</td>\n      <td>UUUUUUUUUU</td>\n      <td>GT3GT3GT3GT3GT3GT3GT3GT3GT3GT3</td>\n      <td>TTTTTTTTTT</td>\n      <td>40</td>\n      <td>20</td>\n      <td>HealthHealthHealthHealthHealthHealthHealthHeal...</td>\n      <td>ServicesServicesServicesServicesServicesServic...</td>\n      <td>homehomehomehomehomehomehomehomehomehome</td>\n      <td>mothermothermothermothermothermothermothermoth...</td>\n      <td>0</td>\n    </tr>\n    <tr>\n      <td>4</td>\n      <td>GPGPGPGPGPGPGPGPGPGP</td>\n      <td>FFFFFFFFFF</td>\n      <td>160</td>\n      <td>UUUUUUUUUU</td>\n      <td>GT3GT3GT3GT3GT3GT3GT3GT3GT3GT3</td>\n      <td>TTTTTTTTTT</td>\n      <td>30</td>\n      <td>30</td>\n      <td>OtherOtherOtherOtherOtherOtherOtherOtherOtherO...</td>\n      <td>OtherOtherOtherOtherOtherOtherOtherOtherOtherO...</td>\n      <td>homehomehomehomehomehomehomehomehomehome</td>\n      <td>fatherfatherfatherfatherfatherfatherfatherfath...</td>\n      <td>0</td>\n    </tr>\n    <tr>\n      <td>...</td>\n      <td>...</td>\n      <td>...</td>\n      <td>...</td>\n      <td>...</td>\n      <td>...</td>\n      <td>...</td>\n      <td>...</td>\n      <td>...</td>\n      <td>...</td>\n      <td>...</td>\n      <td>...</td>\n      <td>...</td>\n      <td>...</td>\n    </tr>\n    <tr>\n      <td>390</td>\n      <td>MSMSMSMSMSMSMSMSMSMS</td>\n      <td>MMMMMMMMMM</td>\n      <td>200</td>\n      <td>UUUUUUUUUU</td>\n      <td>LE3LE3LE3LE3LE3LE3LE3LE3LE3LE3</td>\n      <td>AAAAAAAAAA</td>\n      <td>20</td>\n      <td>20</td>\n      <td>ServicesServicesServicesServicesServicesServic...</td>\n      <td>ServicesServicesServicesServicesServicesServic...</td>\n      <td>coursecoursecoursecoursecoursecoursecoursecour...</td>\n      <td>otherotherotherotherotherotherotherotherothero...</td>\n      <td>10</td>\n    </tr>\n    <tr>\n      <td>391</td>\n      <td>MSMSMSMSMSMSMSMSMSMS</td>\n      <td>MMMMMMMMMM</td>\n      <td>170</td>\n      <td>UUUUUUUUUU</td>\n      <td>LE3LE3LE3LE3LE3LE3LE3LE3LE3LE3</td>\n      <td>TTTTTTTTTT</td>\n      <td>30</td>\n      <td>10</td>\n      <td>ServicesServicesServicesServicesServicesServic...</td>\n      <td>ServicesServicesServicesServicesServicesServic...</td>\n      <td>coursecoursecoursecoursecoursecoursecoursecour...</td>\n      <td>mothermothermothermothermothermothermothermoth...</td>\n      <td>0</td>\n    </tr>\n    <tr>\n      <td>392</td>\n      <td>MSMSMSMSMSMSMSMSMSMS</td>\n      <td>MMMMMMMMMM</td>\n      <td>210</td>\n      <td>RRRRRRRRRR</td>\n      <td>GT3GT3GT3GT3GT3GT3GT3GT3GT3GT3</td>\n      <td>TTTTTTTTTT</td>\n      <td>10</td>\n      <td>10</td>\n      <td>OtherOtherOtherOtherOtherOtherOtherOtherOtherO...</td>\n      <td>OtherOtherOtherOtherOtherOtherOtherOtherOtherO...</td>\n      <td>coursecoursecoursecoursecoursecoursecoursecour...</td>\n      <td>otherotherotherotherotherotherotherotherothero...</td>\n      <td>10</td>\n    </tr>\n    <tr>\n      <td>393</td>\n      <td>MSMSMSMSMSMSMSMSMSMS</td>\n      <td>MMMMMMMMMM</td>\n      <td>180</td>\n      <td>RRRRRRRRRR</td>\n      <td>LE3LE3LE3LE3LE3LE3LE3LE3LE3LE3</td>\n      <td>TTTTTTTTTT</td>\n      <td>30</td>\n      <td>20</td>\n      <td>ServicesServicesServicesServicesServicesServic...</td>\n      <td>OtherOtherOtherOtherOtherOtherOtherOtherOtherO...</td>\n      <td>coursecoursecoursecoursecoursecoursecoursecour...</td>\n      <td>mothermothermothermothermothermothermothermoth...</td>\n      <td>10</td>\n    </tr>\n    <tr>\n      <td>394</td>\n      <td>MSMSMSMSMSMSMSMSMSMS</td>\n      <td>MMMMMMMMMM</td>\n      <td>190</td>\n      <td>UUUUUUUUUU</td>\n      <td>LE3LE3LE3LE3LE3LE3LE3LE3LE3LE3</td>\n      <td>TTTTTTTTTT</td>\n      <td>10</td>\n      <td>10</td>\n      <td>OtherOtherOtherOtherOtherOtherOtherOtherOtherO...</td>\n      <td>At_homeAt_homeAt_homeAt_homeAt_homeAt_homeAt_h...</td>\n      <td>coursecoursecoursecoursecoursecoursecoursecour...</td>\n      <td>fatherfatherfatherfatherfatherfatherfatherfath...</td>\n      <td>10</td>\n    </tr>\n  </tbody>\n</table>\n<p>395 rows × 13 columns</p>\n</div>",
      "text/plain": "                   school         sex  age     address  \\\n0    GPGPGPGPGPGPGPGPGPGP  FFFFFFFFFF  180  UUUUUUUUUU   \n1    GPGPGPGPGPGPGPGPGPGP  FFFFFFFFFF  170  UUUUUUUUUU   \n2    GPGPGPGPGPGPGPGPGPGP  FFFFFFFFFF  150  UUUUUUUUUU   \n3    GPGPGPGPGPGPGPGPGPGP  FFFFFFFFFF  150  UUUUUUUUUU   \n4    GPGPGPGPGPGPGPGPGPGP  FFFFFFFFFF  160  UUUUUUUUUU   \n..                    ...         ...  ...         ...   \n390  MSMSMSMSMSMSMSMSMSMS  MMMMMMMMMM  200  UUUUUUUUUU   \n391  MSMSMSMSMSMSMSMSMSMS  MMMMMMMMMM  170  UUUUUUUUUU   \n392  MSMSMSMSMSMSMSMSMSMS  MMMMMMMMMM  210  RRRRRRRRRR   \n393  MSMSMSMSMSMSMSMSMSMS  MMMMMMMMMM  180  RRRRRRRRRR   \n394  MSMSMSMSMSMSMSMSMSMS  MMMMMMMMMM  190  UUUUUUUUUU   \n\n                            famsize     Pstatus  Medu  Fedu  \\\n0    GT3GT3GT3GT3GT3GT3GT3GT3GT3GT3  AAAAAAAAAA    40    40   \n1    GT3GT3GT3GT3GT3GT3GT3GT3GT3GT3  TTTTTTTTTT    10    10   \n2    LE3LE3LE3LE3LE3LE3LE3LE3LE3LE3  TTTTTTTTTT    10    10   \n3    GT3GT3GT3GT3GT3GT3GT3GT3GT3GT3  TTTTTTTTTT    40    20   \n4    GT3GT3GT3GT3GT3GT3GT3GT3GT3GT3  TTTTTTTTTT    30    30   \n..                              ...         ...   ...   ...   \n390  LE3LE3LE3LE3LE3LE3LE3LE3LE3LE3  AAAAAAAAAA    20    20   \n391  LE3LE3LE3LE3LE3LE3LE3LE3LE3LE3  TTTTTTTTTT    30    10   \n392  GT3GT3GT3GT3GT3GT3GT3GT3GT3GT3  TTTTTTTTTT    10    10   \n393  LE3LE3LE3LE3LE3LE3LE3LE3LE3LE3  TTTTTTTTTT    30    20   \n394  LE3LE3LE3LE3LE3LE3LE3LE3LE3LE3  TTTTTTTTTT    10    10   \n\n                                                  Mjob  \\\n0    At_homeAt_homeAt_homeAt_homeAt_homeAt_homeAt_h...   \n1    At_homeAt_homeAt_homeAt_homeAt_homeAt_homeAt_h...   \n2    At_homeAt_homeAt_homeAt_homeAt_homeAt_homeAt_h...   \n3    HealthHealthHealthHealthHealthHealthHealthHeal...   \n4    OtherOtherOtherOtherOtherOtherOtherOtherOtherO...   \n..                                                 ...   \n390  ServicesServicesServicesServicesServicesServic...   \n391  ServicesServicesServicesServicesServicesServic...   \n392  OtherOtherOtherOtherOtherOtherOtherOtherOtherO...   \n393  ServicesServicesServicesServicesServicesServic...   \n394  OtherOtherOtherOtherOtherOtherOtherOtherOtherO...   \n\n                                                  Fjob  \\\n0    TeacherTeacherTeacherTeacherTeacherTeacherTeac...   \n1    OtherOtherOtherOtherOtherOtherOtherOtherOtherO...   \n2    OtherOtherOtherOtherOtherOtherOtherOtherOtherO...   \n3    ServicesServicesServicesServicesServicesServic...   \n4    OtherOtherOtherOtherOtherOtherOtherOtherOtherO...   \n..                                                 ...   \n390  ServicesServicesServicesServicesServicesServic...   \n391  ServicesServicesServicesServicesServicesServic...   \n392  OtherOtherOtherOtherOtherOtherOtherOtherOtherO...   \n393  OtherOtherOtherOtherOtherOtherOtherOtherOtherO...   \n394  At_homeAt_homeAt_homeAt_homeAt_homeAt_homeAt_h...   \n\n                                                reason  \\\n0    coursecoursecoursecoursecoursecoursecoursecour...   \n1    coursecoursecoursecoursecoursecoursecoursecour...   \n2    otherotherotherotherotherotherotherotherothero...   \n3             homehomehomehomehomehomehomehomehomehome   \n4             homehomehomehomehomehomehomehomehomehome   \n..                                                 ...   \n390  coursecoursecoursecoursecoursecoursecoursecour...   \n391  coursecoursecoursecoursecoursecoursecoursecour...   \n392  coursecoursecoursecoursecoursecoursecoursecour...   \n393  coursecoursecoursecoursecoursecoursecoursecour...   \n394  coursecoursecoursecoursecoursecoursecoursecour...   \n\n                                              guardian  legal_drinker  \n0    mothermothermothermothermothermothermothermoth...             10  \n1    fatherfatherfatherfatherfatherfatherfatherfath...              0  \n2    mothermothermothermothermothermothermothermoth...              0  \n3    mothermothermothermothermothermothermothermoth...              0  \n4    fatherfatherfatherfatherfatherfatherfatherfath...              0  \n..                                                 ...            ...  \n390  otherotherotherotherotherotherotherotherothero...             10  \n391  mothermothermothermothermothermothermothermoth...              0  \n392  otherotherotherotherotherotherotherotherothero...             10  \n393  mothermothermothermothermothermothermothermoth...             10  \n394  fatherfatherfatherfatherfatherfatherfatherfath...             10  \n\n[395 rows x 13 columns]"
     },
     "execution_count": 19,
     "metadata": {},
     "output_type": "execute_result"
    }
   ],
   "source": [
    "stud_alcoh * 10"
   ]
  },
  {
   "cell_type": "code",
   "execution_count": 22,
   "metadata": {},
   "outputs": [
    {
     "ename": "ValueError",
     "evalue": "transforms cannot produce aggregated results",
     "output_type": "error",
     "traceback": [
      "\u001b[0;31m---------------------------------------------------------------------------\u001b[0m",
      "\u001b[0;31mValueError\u001b[0m                                Traceback (most recent call last)",
      "\u001b[0;32m<ipython-input-22-a9e98c667331>\u001b[0m in \u001b[0;36m<module>\u001b[0;34m\u001b[0m\n\u001b[0;32m----> 1\u001b[0;31m \u001b[0mnew_df\u001b[0m \u001b[0;34m=\u001b[0m \u001b[0mstud_alcoh\u001b[0m\u001b[0;34m.\u001b[0m\u001b[0mtransform\u001b[0m\u001b[0;34m(\u001b[0m\u001b[0;32mlambda\u001b[0m \u001b[0mx\u001b[0m\u001b[0;34m:\u001b[0m \u001b[0mstr\u001b[0m\u001b[0;34m(\u001b[0m\u001b[0mx\u001b[0m\u001b[0;34m)\u001b[0m\u001b[0;34m)\u001b[0m\u001b[0;34m\u001b[0m\u001b[0;34m\u001b[0m\u001b[0m\n\u001b[0m\u001b[1;32m      2\u001b[0m \u001b[0mnew_df\u001b[0m\u001b[0;34m\u001b[0m\u001b[0;34m\u001b[0m\u001b[0m\n",
      "\u001b[0;32m~/opt/anaconda3/lib/python3.7/site-packages/pandas/core/frame.py\u001b[0m in \u001b[0;36mtransform\u001b[0;34m(self, func, axis, *args, **kwargs)\u001b[0m\n\u001b[1;32m   6718\u001b[0m         \u001b[0;32mif\u001b[0m \u001b[0maxis\u001b[0m \u001b[0;34m==\u001b[0m \u001b[0;36m1\u001b[0m\u001b[0;34m:\u001b[0m\u001b[0;34m\u001b[0m\u001b[0;34m\u001b[0m\u001b[0m\n\u001b[1;32m   6719\u001b[0m             \u001b[0;32mreturn\u001b[0m \u001b[0mself\u001b[0m\u001b[0;34m.\u001b[0m\u001b[0mT\u001b[0m\u001b[0;34m.\u001b[0m\u001b[0mtransform\u001b[0m\u001b[0;34m(\u001b[0m\u001b[0mfunc\u001b[0m\u001b[0;34m,\u001b[0m \u001b[0;34m*\u001b[0m\u001b[0margs\u001b[0m\u001b[0;34m,\u001b[0m \u001b[0;34m**\u001b[0m\u001b[0mkwargs\u001b[0m\u001b[0;34m)\u001b[0m\u001b[0;34m.\u001b[0m\u001b[0mT\u001b[0m\u001b[0;34m\u001b[0m\u001b[0;34m\u001b[0m\u001b[0m\n\u001b[0;32m-> 6720\u001b[0;31m         \u001b[0;32mreturn\u001b[0m \u001b[0msuper\u001b[0m\u001b[0;34m(\u001b[0m\u001b[0;34m)\u001b[0m\u001b[0;34m.\u001b[0m\u001b[0mtransform\u001b[0m\u001b[0;34m(\u001b[0m\u001b[0mfunc\u001b[0m\u001b[0;34m,\u001b[0m \u001b[0;34m*\u001b[0m\u001b[0margs\u001b[0m\u001b[0;34m,\u001b[0m \u001b[0;34m**\u001b[0m\u001b[0mkwargs\u001b[0m\u001b[0;34m)\u001b[0m\u001b[0;34m\u001b[0m\u001b[0;34m\u001b[0m\u001b[0m\n\u001b[0m\u001b[1;32m   6721\u001b[0m \u001b[0;34m\u001b[0m\u001b[0m\n\u001b[1;32m   6722\u001b[0m     def apply(\n",
      "\u001b[0;32m~/opt/anaconda3/lib/python3.7/site-packages/pandas/core/generic.py\u001b[0m in \u001b[0;36mtransform\u001b[0;34m(self, func, *args, **kwargs)\u001b[0m\n\u001b[1;32m  10812\u001b[0m         \u001b[0mresult\u001b[0m \u001b[0;34m=\u001b[0m \u001b[0mself\u001b[0m\u001b[0;34m.\u001b[0m\u001b[0magg\u001b[0m\u001b[0;34m(\u001b[0m\u001b[0mfunc\u001b[0m\u001b[0;34m,\u001b[0m \u001b[0;34m*\u001b[0m\u001b[0margs\u001b[0m\u001b[0;34m,\u001b[0m \u001b[0;34m**\u001b[0m\u001b[0mkwargs\u001b[0m\u001b[0;34m)\u001b[0m\u001b[0;34m\u001b[0m\u001b[0;34m\u001b[0m\u001b[0m\n\u001b[1;32m  10813\u001b[0m         \u001b[0;32mif\u001b[0m \u001b[0mis_scalar\u001b[0m\u001b[0;34m(\u001b[0m\u001b[0mresult\u001b[0m\u001b[0;34m)\u001b[0m \u001b[0;32mor\u001b[0m \u001b[0mlen\u001b[0m\u001b[0;34m(\u001b[0m\u001b[0mresult\u001b[0m\u001b[0;34m)\u001b[0m \u001b[0;34m!=\u001b[0m \u001b[0mlen\u001b[0m\u001b[0;34m(\u001b[0m\u001b[0mself\u001b[0m\u001b[0;34m)\u001b[0m\u001b[0;34m:\u001b[0m\u001b[0;34m\u001b[0m\u001b[0;34m\u001b[0m\u001b[0m\n\u001b[0;32m> 10814\u001b[0;31m             \u001b[0;32mraise\u001b[0m \u001b[0mValueError\u001b[0m\u001b[0;34m(\u001b[0m\u001b[0;34m\"transforms cannot produce \"\u001b[0m \u001b[0;34m\"aggregated results\"\u001b[0m\u001b[0;34m)\u001b[0m\u001b[0;34m\u001b[0m\u001b[0;34m\u001b[0m\u001b[0m\n\u001b[0m\u001b[1;32m  10815\u001b[0m \u001b[0;34m\u001b[0m\u001b[0m\n\u001b[1;32m  10816\u001b[0m         \u001b[0;32mreturn\u001b[0m \u001b[0mresult\u001b[0m\u001b[0;34m\u001b[0m\u001b[0;34m\u001b[0m\u001b[0m\n",
      "\u001b[0;31mValueError\u001b[0m: transforms cannot produce aggregated results"
     ]
    }
   ],
   "source": [
    "new_df = stud_alcoh.transform(lambda x: str(x))\n",
    "new_df"
   ]
  },
  {
   "cell_type": "code",
   "execution_count": null,
   "metadata": {},
   "outputs": [],
   "source": [
    "stud_alcoh[[\"A\", \"B\", \"C\"]] = [\"A*\", \"B*\", \"C*\"]"
   ]
  },
  {
   "cell_type": "code",
   "execution_count": null,
   "metadata": {},
   "outputs": [],
   "source": []
  }
 ],
 "metadata": {
  "anaconda-cloud": {},
  "kernelspec": {
   "display_name": "Python 3.7.4 64-bit ('base': conda)",
   "language": "python",
   "name": "python37464bitbasecondadf9388185d494eceb1ea53207dd5bb3f"
  },
  "language_info": {
   "codemirror_mode": {
    "name": "ipython",
    "version": 2
   },
   "file_extension": ".py",
   "mimetype": "text/x-python",
   "name": "python",
   "nbconvert_exporter": "python",
   "pygments_lexer": "ipython2",
   "version": "3.7.4-final"
  }
 },
 "nbformat": 4,
 "nbformat_minor": 0
}