{
 "nbformat": 4,
 "nbformat_minor": 2,
 "metadata": {
  "language_info": {
   "name": "python",
   "codemirror_mode": {
    "name": "ipython",
    "version": 3
   },
   "version": "3.7.4-final"
  },
  "orig_nbformat": 2,
  "file_extension": ".py",
  "mimetype": "text/x-python",
  "name": "python",
  "npconvert_exporter": "python",
  "pygments_lexer": "ipython3",
  "version": 3,
  "kernelspec": {
   "name": "python37464bitbaseconda2bb33fe5ffce4701a66c14f076279995",
   "display_name": "Python 3.7.4 64-bit ('base': conda)"
  }
 },
 "cells": [
  {
   "cell_type": "markdown",
   "metadata": {},
   "source": [
    "## Métodos Built-in de las Clases\n",
    "\n",
    "https://www.tutorialsteacher.com/python/magic-methods-in-python"
   ]
  },
  {
   "cell_type": "code",
   "execution_count": 2,
   "metadata": {},
   "outputs": [],
   "source": [
    "\n",
    "#####################################################################################################################\n",
    "## METODOS BUILT IN DE LA CLASE QUE SE DEFINEN PARA PODER HACER LUEGO OPERACIONES CON LAS INSTANCIAS QUE DEFINAMOS ##\n",
    "#####################################################################################################################\n",
    "\n",
    "class Dog:\n",
    "    def __init__(self, name, age):\n",
    "        self.name = name\n",
    "        self.age = age\n",
    "\n",
    "class Human:\n",
    "\n",
    "    def __init__(self, name, age):\n",
    "        self.name = name\n",
    "        self.age = str(age)\n",
    "\n",
    "# Cuando hagamos print lo que hará la clase es llamar al __str__\n",
    "\n",
    "    def __str__(self):\n",
    "        clase = type(self).__name__\n",
    "        return \"La clase \" + clase + \" de nombre \" + self.name + \" tiene \" + self.age + \" años.\"\n",
    "\n",
    "# __repr__ es una forma alternativa de representación del objeto.\n",
    "\n",
    "    def __repr__(self):\n",
    "        clase = type(self).__name__\n",
    "        return clase + \" con nombre \" + self.name + \" y edad \" + self.age + \" años\"\n",
    "    \n",
    "    def __eq__(self, another_human):\n",
    "        if self.name == another_human.name and self.age == another_human.age:\n",
    "            return True\n",
    "        else:\n",
    "            return False\n",
    "\n",
    "juan = Human(\"Juan\", 24)\n",
    "lorena = Human(\"Lorena\", 98)\n",
    "\n",
    "lasy = Dog(\"Lasy\", 3)"
   ]
  },
  {
   "cell_type": "code",
   "execution_count": 20,
   "metadata": {},
   "outputs": [
    {
     "name": "stdout",
     "output_type": "stream",
     "text": "La clase Human de nombre Juan tiene 24 años.\n"
    }
   ],
   "source": [
    "print(juan)"
   ]
  },
  {
   "cell_type": "code",
   "execution_count": 21,
   "metadata": {},
   "outputs": [
    {
     "name": "stdout",
     "output_type": "stream",
     "text": "La clase Human de nombre Lorena tiene 98 años.\n"
    }
   ],
   "source": [
    "print(lorena)"
   ]
  },
  {
   "cell_type": "code",
   "execution_count": 3,
   "metadata": {},
   "outputs": [
    {
     "name": "stdout",
     "output_type": "stream",
     "text": "<__main__.Dog object at 0x0000018A8AB3DB48>\n"
    }
   ],
   "source": [
    "# En este caso, como no tenemos definido el metodo __str__ en la clase Dog, lo que imprime es el string tal cual, no da por pantalla los atributos de esa instancia de Dog.\n",
    "\n",
    "print(lasy)"
   ]
  },
  {
   "cell_type": "code",
   "execution_count": 22,
   "metadata": {},
   "outputs": [
    {
     "data": {
      "text/plain": "'Human con nombre Juan y edad 24 años'"
     },
     "execution_count": 22,
     "metadata": {},
     "output_type": "execute_result"
    }
   ],
   "source": [
    "repr(juan)"
   ]
  },
  {
   "cell_type": "code",
   "execution_count": 23,
   "metadata": {},
   "outputs": [
    {
     "data": {
      "text/plain": "'Human con nombre Lorena y edad 98 años'"
     },
     "execution_count": 23,
     "metadata": {},
     "output_type": "execute_result"
    }
   ],
   "source": [
    "repr(lorena)"
   ]
  },
  {
   "cell_type": "code",
   "execution_count": 24,
   "metadata": {},
   "outputs": [
    {
     "name": "stdout",
     "output_type": "stream",
     "text": "Son la misma Lorena!!!\n"
    }
   ],
   "source": [
    "# Si no hubiera el metodo __eq__ no podría comparar que son dos instancias iguales de una misma clase:\n",
    "\n",
    "another_lorena = Human(\"Lorena\", 98)\n",
    "if lorena == another_lorena:\n",
    "    print(\"Son la misma Lorena!!!\")"
   ]
  },
  {
   "cell_type": "code",
   "execution_count": 5,
   "metadata": {},
   "outputs": [],
   "source": [
    "lasy1 = Dog(\"Lasy\", 4)\n",
    "lasy2 = Dog(\"Lasy\", 4)\n",
    "\n",
    "if lasy1 == lasy2:\n",
    "    print(\"Son el mismo perro!!!\")\n",
    "# así no hace nada porque la clase Dog no tiene el metodo __eq__ definido."
   ]
  },
  {
   "cell_type": "code",
   "execution_count": null,
   "metadata": {},
   "outputs": [],
   "source": []
  }
 ]
}