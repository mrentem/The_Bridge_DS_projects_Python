{
 "nbformat": 4,
 "nbformat_minor": 2,
 "metadata": {
  "language_info": {
   "name": "python",
   "codemirror_mode": {
    "name": "ipython",
    "version": 3
   },
   "version": "3.6.4-final"
  },
  "orig_nbformat": 2,
  "file_extension": ".py",
  "mimetype": "text/x-python",
  "name": "python",
  "npconvert_exporter": "python",
  "pygments_lexer": "ipython3",
  "version": 3,
  "kernelspec": {
   "name": "python36464bitc2077ed07ea84d23aa5b518d224882ab",
   "display_name": "Python 3.6.4 64-bit"
  }
 },
 "cells": [
  {
   "cell_type": "code",
   "execution_count": 13,
   "metadata": {},
   "outputs": [
    {
     "name": "stdout",
     "output_type": "stream",
     "text": "x: x\n"
    },
    {
     "data": {
      "text/plain": "(2, 4, 7, 9, 5, 'gsdf')"
     },
     "execution_count": 13,
     "metadata": {},
     "output_type": "execute_result"
    }
   ],
   "source": [
    "def f(x, *args):\n",
    "    print(\"x:\",x)\n",
    "    return args\n",
    "\n",
    "r = f(\"x\",2,4,7,9,5,\"gsdf\")\n",
    "r"
   ]
  },
  {
   "cell_type": "code",
   "execution_count": 16,
   "metadata": {},
   "outputs": [
    {
     "data": {
      "text/plain": "{'x': 'x', 'y': 2, 'z': 4, 's': 7, 'g': 9, 'j': 5, 'm': 'gsdf'}"
     },
     "execution_count": 16,
     "metadata": {},
     "output_type": "execute_result"
    }
   ],
   "source": [
    "def k(**kwargs):\n",
    "    return kwargs\n",
    "\n",
    "r = k(x=\"x\",y=2,z=4,s=7,g=9,j=5,m=\"gsdf\")\n",
    "r"
   ]
  },
  {
   "cell_type": "markdown",
   "metadata": {},
   "source": [
    "https://pandas.pydata.org/pandas-docs/stable/reference/api/pandas.DataFrame.plot.html"
   ]
  },
  {
   "cell_type": "code",
   "execution_count": 15,
   "metadata": {},
   "outputs": [
    {
     "name": "stdout",
     "output_type": "stream",
     "text": "6\n"
    }
   ],
   "source": [
    "def plot(*args, **kwargs):\n",
    "\n",
    "    if len(args) != 0:\n",
    "        x = args[0]\n",
    "        y = args[1]\n",
    "\n",
    "    if len(kwargs) != 0:\n",
    "        if \"x\" in kwargs:\n",
    "            x = kwargs[\"x\"]\n",
    "        if \"y\" in kwargs:\n",
    "            y = kwargs[\"y\"]\n",
    "\n",
    "plot(6, 8)"
   ]
  },
  {
   "cell_type": "code",
   "execution_count": null,
   "metadata": {},
   "outputs": [],
   "source": [
    "*args = tuple\n",
    "**kwargs = dict"
   ]
  },
  {
   "cell_type": "code",
   "execution_count": null,
   "metadata": {},
   "outputs": [],
   "source": []
  }
 ]
}