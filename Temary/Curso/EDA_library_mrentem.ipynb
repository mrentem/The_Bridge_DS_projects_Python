{
 "nbformat": 4,
 "nbformat_minor": 2,
 "metadata": {
  "language_info": {
   "name": "python",
   "codemirror_mode": {
    "name": "ipython",
    "version": 3
   }
  },
  "orig_nbformat": 2,
  "file_extension": ".py",
  "mimetype": "text/x-python",
  "name": "python",
  "npconvert_exporter": "python",
  "pygments_lexer": "ipython3",
  "version": 3
 },
 "cells": [
  {
   "cell_type": "code",
   "execution_count": null,
   "metadata": {},
   "outputs": [],
   "source": [
    "## SINTAXIS BASICA DE UN DECORADOR:\n",
    "\n",
    "def decorator(*args, **kwargs): \n",
    "    print(\"Inside decorator\") \n",
    "    def inner(func): \n",
    "        print(\"Inside inner function\") \n",
    "        print(\"I like\", kwargs['like'])  \n",
    "        return func \n",
    "    return inner \n",
    "  \n",
    "@decorator(like=\"geeksforgeeks\") \n",
    "def func(): \n",
    "    print(\"Inside actual function\") \n",
    "  \n",
    "func()"
   ]
  }
 ]
}