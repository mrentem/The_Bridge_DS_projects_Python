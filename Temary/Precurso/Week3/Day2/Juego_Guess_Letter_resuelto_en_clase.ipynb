{
 "nbformat": 4,
 "nbformat_minor": 2,
 "metadata": {
  "language_info": {
   "name": "python",
   "codemirror_mode": {
    "name": "ipython",
    "version": 3
   },
   "version": "3.7.4-final"
  },
  "orig_nbformat": 2,
  "file_extension": ".py",
  "mimetype": "text/x-python",
  "name": "python",
  "npconvert_exporter": "python",
  "pygments_lexer": "ipython3",
  "version": 3,
  "kernelspec": {
   "name": "python37464bitbaseconda2bb33fe5ffce4701a66c14f076279995",
   "display_name": "Python 3.7.4 64-bit ('base': conda)"
  }
 },
 "cells": [
  {
   "cell_type": "markdown",
   "metadata": {},
   "source": [
    "Let’s continue building Hangman. In the game of Hangman, a clue word is given by the program that the player has to guess, letter by letter. The player guesses one letter at a time until the entire word has been guessed. (In the actual game, the player can only guess 6 letters incorrectly before losing).\n",
    "\n",
    "Let’s say the word the player has to guess is “EVAPORATE”. For this exercise, write the logic that asks a player to guess a letter and displays letters in the clue word that were guessed correctly. For now, let the player guess an infinite number of times until they get the entire word. As a bonus, keep track of the letters the player guessed and display a different message if the player tries to guess that letter again. Remember to stop the game when all the letters have been guessed correctly! Don’t worry about choosing a word randomly or keeping track of the number of guesses the player has remaining - we will deal with those in a future exercise."
   ]
  },
  {
   "cell_type": "markdown",
   "metadata": {},
   "source": [
    "> Welcome to Hangman!\n",
    "\n",
    "            _ _ _ _ _ _ _ _ _\n",
    "\n",
    "> Guess your letter: S\n",
    "\n",
    "Incorrect!\n",
    "\n",
    "> Guess your letter: E\n",
    "\n",
    "E _ _ _ _ _ _ _ E\n"
   ]
  },
  {
   "cell_type": "code",
   "execution_count": 1,
   "metadata": {},
   "outputs": [
    {
     "output_type": "stream",
     "name": "stdout",
     "text": "_ _ _ _ _ _ _ _ _ \n_ O _ _ _ _ _ _ O \n_ O L _ _ _ _ _ O \n_ O L _ _ _ _ _ O \nEres un perdedor\n"
    }
   ],
   "source": [
    "SPACE = \" \"\n",
    "LOW_BAR = \"_\"\n",
    "\n",
    "def create_board(word):\n",
    "    board = \"\"\n",
    "    for i in range(len(word)):\n",
    "        board += LOW_BAR\n",
    "    return board\n",
    "\n",
    "create_board(\"MAIRENA\")\n",
    "def check_if_exist(letter, word):\n",
    "    #return letter in word\n",
    "    if letter in word:\n",
    "        return True\n",
    "    else:\n",
    "        return False\n",
    "\n",
    "def get_indexes(letter, word):\n",
    "    indexes = []  # Lista de los índices donde coincide la letra\n",
    "    for i, e in enumerate(word):\n",
    "        if e == letter:\n",
    "            indexes.append(i)   \n",
    "    return indexes\n",
    "\n",
    "def show_letters_in_board(board, indexes, letter):\n",
    "    for index, elemento in enumerate(board):\n",
    "        if index in indexes:\n",
    "            board[index] = letter\n",
    "    show_string_board(board)\n",
    "    return board\n",
    "    \n",
    "def show_string_board(board):\n",
    "    board_to_show = \"\"\n",
    "    for x in board:\n",
    "        board_to_show += x + SPACE\n",
    "    print(board_to_show)\n",
    "        \n",
    "\n",
    "def start_guess_letter():\n",
    "    \n",
    "    # Step0: Crear palabra a adivinar\n",
    "    adivinar = \"SOLSTICIO\"\n",
    "    \n",
    "    # Step1: Crear el tablero\n",
    "    board = list(create_board(word=adivinar))\n",
    "    show_string_board(board=board)\n",
    "    \n",
    "    while True:\n",
    "        # Step2: Introducir letra\n",
    "        user_letter = input(\"Introduce la letra:\").upper()\n",
    "        if user_letter == \"STOP\":\n",
    "            print(\"Eres un perdedor\")\n",
    "            break\n",
    "        # Step3: Comprobar si letra existe\n",
    "        existe_letra = check_if_exist(letter=user_letter, word=adivinar)\n",
    "        # Step4: Si existe, mostrar letra en tablero\n",
    "        if existe_letra:\n",
    "            indexes = get_indexes(letter=user_letter, word=adivinar)\n",
    "            board = show_letters_in_board(board=board, indexes=indexes, letter=user_letter)\n",
    "            if not \"_\" in board:\n",
    "                print(\"Eres un campeón\")\n",
    "                break\n",
    "        else:\n",
    "            print(\"No está esa letra\")\n",
    "\n",
    "start_guess_letter()"
   ]
  },
  {
   "cell_type": "code",
   "execution_count": 3,
   "metadata": {},
   "outputs": [
    {
     "name": "stdout",
     "output_type": "stream",
     "text": "True\n"
    }
   ],
   "source": [
    "letter = \"a\"\n",
    "word = \"amapola\"\n",
    "print(letter in word)"
   ]
  },
  {
   "cell_type": "code",
   "execution_count": 12,
   "metadata": {},
   "outputs": [
    {
     "name": "stdout",
     "output_type": "stream",
     "text": "3\n"
    },
    {
     "data": {
      "text/plain": "[0, 2, 6]"
     },
     "execution_count": 12,
     "metadata": {},
     "output_type": "execute_result"
    }
   ],
   "source": [
    "guess = \"a\"\n",
    "word = \"amapola\"\n",
    "\n",
    "indices = [i for i, a in enumerate(word) if a == guess]\n",
    "\n",
    "print(occurrences)\n",
    "indices"
   ]
  },
  {
   "cell_type": "code",
   "execution_count": 9,
   "metadata": {},
   "outputs": [
    {
     "data": {
      "text/plain": "'_______'"
     },
     "execution_count": 9,
     "metadata": {},
     "output_type": "execute_result"
    }
   ],
   "source": [
    "word = \"amapola\"\n",
    "indixes = [0,2,6]\n",
    "letter = \"a\"\n",
    "board = create_board(word)\n",
    "len(board)\n",
    "board"
   ]
  },
  {
   "cell_type": "code",
   "execution_count": 10,
   "metadata": {},
   "outputs": [
    {
     "data": {
      "text/plain": "'_ _ _ _ _ _ _ '"
     },
     "execution_count": 10,
     "metadata": {},
     "output_type": "execute_result"
    }
   ],
   "source": [
    "board_to_show = \"\"\n",
    "\n",
    "for x in board:\n",
    "    board_to_show += x + SPACE\n",
    "\n",
    "board_to_show"
   ]
  },
  {
   "cell_type": "code",
   "execution_count": 4,
   "metadata": {},
   "outputs": [
    {
     "name": "stdout",
     "output_type": "stream",
     "text": "['a', '_', 'a', '_', '_', '_', 'a']\n"
    }
   ],
   "source": [
    "board = \"_______\"\n",
    "indexes = [0,2,6]\n",
    "letter = \"a\"\n",
    "def show_letters_in_board(board, indexes, letter):\n",
    "    word = \"amapola\"\n",
    "    for index, elemento in enumerate(board):\n",
    "        if index in indexes:\n",
    "            board[index] = letter\n",
    "    print(board)\n",
    "show_letters_in_board(board=board, indexes=indexes, letter=letter)"
   ]
  },
  {
   "cell_type": "code",
   "execution_count": 2,
   "metadata": {},
   "outputs": [
    {
     "data": {
      "text/plain": "'a a a a a'"
     },
     "execution_count": 2,
     "metadata": {},
     "output_type": "execute_result"
    }
   ],
   "source": [
    "x = \"_ _ _ _ _\"\n",
    "\n",
    "x.replace(\"_\", \"a\")"
   ]
  },
  {
   "cell_type": "code",
   "execution_count": 11,
   "metadata": {},
   "outputs": [
    {
     "data": {
      "text/plain": "7"
     },
     "execution_count": 11,
     "metadata": {},
     "output_type": "execute_result"
    }
   ],
   "source": [
    "len(word)"
   ]
  },
  {
   "cell_type": "code",
   "execution_count": 12,
   "metadata": {},
   "outputs": [
    {
     "data": {
      "text/plain": "14"
     },
     "execution_count": 12,
     "metadata": {},
     "output_type": "execute_result"
    }
   ],
   "source": [
    "len(board_to_show)"
   ]
  },
  {
   "cell_type": "code",
   "execution_count": 13,
   "metadata": {},
   "outputs": [
    {
     "data": {
      "text/plain": "[0, 1]"
     },
     "execution_count": 13,
     "metadata": {},
     "output_type": "execute_result"
    }
   ],
   "source": [
    "l = []\n",
    "for i in range(2):\n",
    "    l.append(i)\n",
    "l"
   ]
  },
  {
   "cell_type": "code",
   "execution_count": 18,
   "metadata": {},
   "outputs": [
    {
     "ename": "NameError",
     "evalue": "name 'create_board' is not defined",
     "output_type": "error",
     "traceback": [
      "\u001b[0;31m---------------------------------------------------------------------------\u001b[0m",
      "\u001b[0;31mNameError\u001b[0m                                 Traceback (most recent call last)",
      "\u001b[0;32m<ipython-input-18-4db2132e46ce>\u001b[0m in \u001b[0;36m<module>\u001b[0;34m\u001b[0m\n\u001b[0;32m----> 1\u001b[0;31m \u001b[0mcreate_board\u001b[0m\u001b[0;34m(\u001b[0m\u001b[0mword\u001b[0m\u001b[0;34m=\u001b[0m\u001b[0;34m\"adivinar\"\u001b[0m\u001b[0;34m)\u001b[0m\u001b[0;34m\u001b[0m\u001b[0;34m\u001b[0m\u001b[0m\n\u001b[0m",
      "\u001b[0;31mNameError\u001b[0m: name 'create_board' is not defined"
     ]
    }
   ],
   "source": [
    "create_board(word=\"adivinar\")"
   ]
  },
  {
   "cell_type": "code",
   "execution_count": 23,
   "metadata": {},
   "outputs": [
    {
     "data": {
      "text/plain": "'CASA'"
     },
     "execution_count": 23,
     "metadata": {},
     "output_type": "execute_result"
    }
   ],
   "source": [
    "palabra = \"CASA\"\n",
    "\n",
    "(\"_\", \"E\")"
   ]
  },
  {
   "cell_type": "code",
   "execution_count": 5,
   "metadata": {},
   "outputs": [
    {
     "ename": "TypeError",
     "evalue": "'str' object does not support item assignment",
     "output_type": "error",
     "traceback": [
      "\u001b[0;31m---------------------------------------------------------------------------\u001b[0m",
      "\u001b[0;31mTypeError\u001b[0m                                 Traceback (most recent call last)",
      "\u001b[0;32m<ipython-input-5-6162eeaea840>\u001b[0m in \u001b[0;36m<module>\u001b[0;34m\u001b[0m\n\u001b[1;32m      1\u001b[0m \u001b[0mpalabra\u001b[0m \u001b[0;34m=\u001b[0m \u001b[0;34m\"palabra\"\u001b[0m\u001b[0;34m\u001b[0m\u001b[0;34m\u001b[0m\u001b[0m\n\u001b[0;32m----> 2\u001b[0;31m \u001b[0mpalabra\u001b[0m\u001b[0;34m[\u001b[0m\u001b[0;36m4\u001b[0m\u001b[0;34m]\u001b[0m \u001b[0;34m=\u001b[0m \u001b[0;34m\"e\"\u001b[0m\u001b[0;34m\u001b[0m\u001b[0;34m\u001b[0m\u001b[0m\n\u001b[0m",
      "\u001b[0;31mTypeError\u001b[0m: 'str' object does not support item assignment"
     ]
    }
   ],
   "source": [
    "palabra = \"palabra\"\n",
    "palabra[4] = \"e\""
   ]
  },
  {
   "cell_type": "code",
   "execution_count": null,
   "metadata": {},
   "outputs": [],
   "source": []
  }
 ]
}