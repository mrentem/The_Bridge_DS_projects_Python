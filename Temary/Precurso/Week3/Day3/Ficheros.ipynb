{
 "nbformat": 4,
 "nbformat_minor": 2,
 "metadata": {
  "language_info": {
   "name": "python",
   "codemirror_mode": {
    "name": "ipython",
    "version": 3
   },
   "version": "3.7.4-final"
  },
  "orig_nbformat": 2,
  "file_extension": ".py",
  "mimetype": "text/x-python",
  "name": "python",
  "npconvert_exporter": "python",
  "pygments_lexer": "ipython3",
  "version": 3,
  "kernelspec": {
   "name": "python37464bitbaseconda2bb33fe5ffce4701a66c14f076279995",
   "display_name": "Python 3.7.4 64-bit ('base': conda)"
  }
 },
 "cells": [
  {
   "cell_type": "code",
   "execution_count": 7,
   "metadata": {},
   "outputs": [],
   "source": [
    "with open('file_to_save.txt', 'w') as open_file: # Abre para escribir, sobrescribiendo lo que haya anteriormente\n",
    "    for i in range(3):\n",
    "        open_file.write('A string to write\\n')"
   ]
  },
  {
   "cell_type": "code",
   "execution_count": 9,
   "metadata": {},
   "outputs": [],
   "source": [
    "with open('file_to_save.txt', 'a') as open_file: # Abre para añadir\n",
    "    for i in range(3):\n",
    "        open_file.write('A string to write\\n')"
   ]
  },
  {
   "cell_type": "code",
   "execution_count": 4,
   "metadata": {},
   "outputs": [],
   "source": [
    "with open('file_to_save.txt', 'w') as open_file:\n",
    "    for i in range(3):\n",
    "        open_file.write('A string to write\\n')"
   ]
  },
  {
   "cell_type": "code",
   "execution_count": 5,
   "metadata": {},
   "outputs": [
    {
     "name": "stdout",
     "output_type": "stream",
     "text": "A string to write\nA string to write\nA string to write\n\n"
    }
   ],
   "source": [
    "with open('file_to_save.txt', 'r') as open_file: # Abre para leer\n",
    "    all_text = open_file.read()\n",
    "    print(all_text)"
   ]
  },
  {
   "cell_type": "code",
   "execution_count": 6,
   "metadata": {},
   "outputs": [
    {
     "name": "stdout",
     "output_type": "stream",
     "text": "A string to write\n\nA string to write\n\nA string to write\n\n"
    }
   ],
   "source": [
    "## Otra forma de abrir un fichero, que es de línea a línea\n",
    "\n",
    "with open('file_to_save.txt', 'r') as open_file:\n",
    "  \tline = open_file.readline()\n",
    "  \twhile line:\n",
    "          print(line)\n",
    "          line = open_file.readline()"
   ]
  },
  {
   "cell_type": "code",
   "execution_count": null,
   "metadata": {},
   "outputs": [],
   "source": []
  }
 ]
}