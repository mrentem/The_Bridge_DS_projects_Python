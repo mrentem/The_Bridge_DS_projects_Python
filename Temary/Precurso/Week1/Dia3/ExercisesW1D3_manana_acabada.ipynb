{
 "nbformat": 4,
 "nbformat_minor": 2,
 "metadata": {
  "language_info": {
   "name": "python",
   "codemirror_mode": {
    "name": "ipython",
    "version": 3
   },
   "version": "3.7.4-final"
  },
  "orig_nbformat": 2,
  "file_extension": ".py",
  "mimetype": "text/x-python",
  "name": "python",
  "npconvert_exporter": "python",
  "pygments_lexer": "ipython3",
  "version": 3,
  "kernelspec": {
   "name": "python3",
   "display_name": "Python 3"
  }
 },
 "cells": [
  {
   "cell_type": "code",
   "execution_count": null,
   "metadata": {},
   "outputs": [],
   "source": [
    "columna1 = [\"Pilar\", \"Cynthia\", \"Dio\", \"Sara\"]\n",
    "columna2 = [\"Borja\", \"Gonzalo\"]\n",
    "columna3 = [\"Gonzalo\", \"Blanca\", \"Ana\", \"Fran\"]\n",
    "columna4 = [\"Begoña\", \"May\", \"Miguel\", \"Eddy\"]\n",
    "\n",
    "lista_alumnos = [columna1, columna2, columna3, columna4]\n",
    "\n",
    "altura1 = [1.78, 1.63, 1.75, 1.68]\n",
    "altura2 = [2.00, 1.82]\n",
    "altura3 = [1.65, 1.73, 1.75]\n",
    "altura4 = [1.72, 1.71, 1.71, 1.62]\n",
    "\n",
    "lista_alturas = [altura1, altura2, altura3, altura4]"
   ]
  },
  {
   "cell_type": "markdown",
   "execution_count": null,
   "metadata": {},
   "outputs": [],
   "source": [
    "### Inputs"
   ]
  },
  {
   "cell_type": "code",
   "execution_count": 30,
   "metadata": {},
   "outputs": [
    {
     "ename": "ValueError",
     "evalue": "invalid literal for int() with base 10: 'd'",
     "output_type": "error",
     "traceback": [
      "\u001b[0;31m---------------------------------------------------------------------------\u001b[0m",
      "\u001b[0;31mValueError\u001b[0m                                Traceback (most recent call last)",
      "\u001b[0;32m<ipython-input-30-4f286f66318b>\u001b[0m in \u001b[0;36m<module>\u001b[0;34m\u001b[0m\n\u001b[0;32m----> 1\u001b[0;31m \u001b[0mx\u001b[0m \u001b[0;34m=\u001b[0m \u001b[0mint\u001b[0m\u001b[0;34m(\u001b[0m\u001b[0minput\u001b[0m\u001b[0;34m(\u001b[0m\u001b[0;34m\"Escribe algo:\"\u001b[0m\u001b[0;34m)\u001b[0m\u001b[0;34m)\u001b[0m\u001b[0;34m\u001b[0m\u001b[0;34m\u001b[0m\u001b[0m\n\u001b[0m\u001b[1;32m      2\u001b[0m \u001b[0mprint\u001b[0m\u001b[0;34m(\u001b[0m\u001b[0mtype\u001b[0m\u001b[0;34m(\u001b[0m\u001b[0mx\u001b[0m\u001b[0;34m)\u001b[0m\u001b[0;34m)\u001b[0m\u001b[0;34m\u001b[0m\u001b[0;34m\u001b[0m\u001b[0m\n",
      "\u001b[0;31mValueError\u001b[0m: invalid literal for int() with base 10: 'd'"
     ]
    }
   ],
   "source": [
    "x = int(input(\"Escribe algo:\"))\n",
    "print(type(x))"
   ]
  },
  {
   "cell_type": "code",
   "execution_count": 33,
   "metadata": {},
   "outputs": [
    {
     "name": "stdout",
     "output_type": "stream",
     "text": "Suma: 3\n"
    },
    {
     "ename": "ValueError",
     "evalue": "invalid literal for int() with base 10: ''",
     "output_type": "error",
     "traceback": [
      "\u001b[0;31m---------------------------------------------------------------------------\u001b[0m",
      "\u001b[0;31mValueError\u001b[0m                                Traceback (most recent call last)",
      "\u001b[0;32m<ipython-input-33-bc0976555cd7>\u001b[0m in \u001b[0;36m<module>\u001b[0;34m\u001b[0m\n\u001b[1;32m      5\u001b[0m     \u001b[0mpregunta_recurrente\u001b[0m\u001b[0;34m(\u001b[0m\u001b[0;34m)\u001b[0m\u001b[0;34m\u001b[0m\u001b[0;34m\u001b[0m\u001b[0m\n\u001b[1;32m      6\u001b[0m \u001b[0;34m\u001b[0m\u001b[0m\n\u001b[0;32m----> 7\u001b[0;31m \u001b[0mpregunta_recurrente\u001b[0m\u001b[0;34m(\u001b[0m\u001b[0;34m)\u001b[0m\u001b[0;34m\u001b[0m\u001b[0;34m\u001b[0m\u001b[0m\n\u001b[0m",
      "\u001b[0;32m<ipython-input-33-bc0976555cd7>\u001b[0m in \u001b[0;36mpregunta_recurrente\u001b[0;34m()\u001b[0m\n\u001b[1;32m      3\u001b[0m     \u001b[0msegundo_entero\u001b[0m \u001b[0;34m=\u001b[0m \u001b[0mint\u001b[0m\u001b[0;34m(\u001b[0m\u001b[0minput\u001b[0m\u001b[0;34m(\u001b[0m\u001b[0;34m\"Escribe un segundo entero:\"\u001b[0m\u001b[0;34m)\u001b[0m\u001b[0;34m)\u001b[0m\u001b[0;34m\u001b[0m\u001b[0;34m\u001b[0m\u001b[0m\n\u001b[1;32m      4\u001b[0m     \u001b[0mprint\u001b[0m\u001b[0;34m(\u001b[0m\u001b[0;34m\"Suma:\"\u001b[0m\u001b[0;34m,\u001b[0m \u001b[0mprimer_entero\u001b[0m \u001b[0;34m+\u001b[0m \u001b[0msegundo_entero\u001b[0m\u001b[0;34m)\u001b[0m\u001b[0;34m\u001b[0m\u001b[0;34m\u001b[0m\u001b[0m\n\u001b[0;32m----> 5\u001b[0;31m     \u001b[0mpregunta_recurrente\u001b[0m\u001b[0;34m(\u001b[0m\u001b[0;34m)\u001b[0m\u001b[0;34m\u001b[0m\u001b[0;34m\u001b[0m\u001b[0m\n\u001b[0m\u001b[1;32m      6\u001b[0m \u001b[0;34m\u001b[0m\u001b[0m\n\u001b[1;32m      7\u001b[0m \u001b[0mpregunta_recurrente\u001b[0m\u001b[0;34m(\u001b[0m\u001b[0;34m)\u001b[0m\u001b[0;34m\u001b[0m\u001b[0;34m\u001b[0m\u001b[0m\n",
      "\u001b[0;32m<ipython-input-33-bc0976555cd7>\u001b[0m in \u001b[0;36mpregunta_recurrente\u001b[0;34m()\u001b[0m\n\u001b[1;32m      1\u001b[0m \u001b[0;32mdef\u001b[0m \u001b[0mpregunta_recurrente\u001b[0m\u001b[0;34m(\u001b[0m\u001b[0;34m)\u001b[0m\u001b[0;34m:\u001b[0m\u001b[0;34m\u001b[0m\u001b[0;34m\u001b[0m\u001b[0m\n\u001b[0;32m----> 2\u001b[0;31m     \u001b[0mprimer_entero\u001b[0m \u001b[0;34m=\u001b[0m \u001b[0mint\u001b[0m\u001b[0;34m(\u001b[0m\u001b[0minput\u001b[0m\u001b[0;34m(\u001b[0m\u001b[0;34m\"Escribe un primer entero:\"\u001b[0m\u001b[0;34m)\u001b[0m\u001b[0;34m)\u001b[0m\u001b[0;34m\u001b[0m\u001b[0;34m\u001b[0m\u001b[0m\n\u001b[0m\u001b[1;32m      3\u001b[0m     \u001b[0msegundo_entero\u001b[0m \u001b[0;34m=\u001b[0m \u001b[0mint\u001b[0m\u001b[0;34m(\u001b[0m\u001b[0minput\u001b[0m\u001b[0;34m(\u001b[0m\u001b[0;34m\"Escribe un segundo entero:\"\u001b[0m\u001b[0;34m)\u001b[0m\u001b[0;34m)\u001b[0m\u001b[0;34m\u001b[0m\u001b[0;34m\u001b[0m\u001b[0m\n\u001b[1;32m      4\u001b[0m     \u001b[0mprint\u001b[0m\u001b[0;34m(\u001b[0m\u001b[0;34m\"Suma:\"\u001b[0m\u001b[0;34m,\u001b[0m \u001b[0mprimer_entero\u001b[0m \u001b[0;34m+\u001b[0m \u001b[0msegundo_entero\u001b[0m\u001b[0;34m)\u001b[0m\u001b[0;34m\u001b[0m\u001b[0;34m\u001b[0m\u001b[0m\n\u001b[1;32m      5\u001b[0m     \u001b[0mpregunta_recurrente\u001b[0m\u001b[0;34m(\u001b[0m\u001b[0;34m)\u001b[0m\u001b[0;34m\u001b[0m\u001b[0;34m\u001b[0m\u001b[0m\n",
      "\u001b[0;31mValueError\u001b[0m: invalid literal for int() with base 10: ''"
     ]
    }
   ],
   "source": [
    "def pregunta_recurrente():\n",
    "    primer_entero = int(input(\"Escribe un primer entero:\"))\n",
    "    segundo_entero = int(input(\"Escribe un segundo entero:\"))\n",
    "    print(\"Suma:\", primer_entero + segundo_entero)\n",
    "    pregunta_recurrente()\n",
    "\n",
    "pregunta_recurrente()"
   ]
  },
  {
   "cell_type": "code",
   "execution_count": 36,
   "metadata": {},
   "outputs": [
    {
     "name": "stdout",
     "output_type": "stream",
     "text": "Te has equivocado. Reiniciando programa...\n"
    },
    {
     "ename": "ValueError",
     "evalue": "invalid literal for int() with base 10: ''",
     "output_type": "error",
     "traceback": [
      "\u001b[0;31m---------------------------------------------------------------------------\u001b[0m",
      "\u001b[0;31mValueError\u001b[0m                                Traceback (most recent call last)",
      "\u001b[0;32m<ipython-input-36-7664098d81ca>\u001b[0m in \u001b[0;36m<module>\u001b[0;34m\u001b[0m\n\u001b[1;32m     15\u001b[0m         \u001b[0mpregunta_recurrente\u001b[0m\u001b[0;34m(\u001b[0m\u001b[0;34m)\u001b[0m\u001b[0;34m\u001b[0m\u001b[0;34m\u001b[0m\u001b[0m\n\u001b[1;32m     16\u001b[0m \u001b[0;34m\u001b[0m\u001b[0m\n\u001b[0;32m---> 17\u001b[0;31m \u001b[0mpregunta_recurrente\u001b[0m\u001b[0;34m(\u001b[0m\u001b[0;34m)\u001b[0m\u001b[0;34m\u001b[0m\u001b[0;34m\u001b[0m\u001b[0m\n\u001b[0m",
      "\u001b[0;32m<ipython-input-36-7664098d81ca>\u001b[0m in \u001b[0;36mpregunta_recurrente\u001b[0;34m()\u001b[0m\n\u001b[1;32m     13\u001b[0m     \u001b[0;32melse\u001b[0m\u001b[0;34m:\u001b[0m\u001b[0;34m\u001b[0m\u001b[0;34m\u001b[0m\u001b[0m\n\u001b[1;32m     14\u001b[0m         \u001b[0mprint\u001b[0m\u001b[0;34m(\u001b[0m\u001b[0;34m\"Te has equivocado. Reiniciando programa...\"\u001b[0m\u001b[0;34m)\u001b[0m\u001b[0;34m\u001b[0m\u001b[0;34m\u001b[0m\u001b[0m\n\u001b[0;32m---> 15\u001b[0;31m         \u001b[0mpregunta_recurrente\u001b[0m\u001b[0;34m(\u001b[0m\u001b[0;34m)\u001b[0m\u001b[0;34m\u001b[0m\u001b[0;34m\u001b[0m\u001b[0m\n\u001b[0m\u001b[1;32m     16\u001b[0m \u001b[0;34m\u001b[0m\u001b[0m\n\u001b[1;32m     17\u001b[0m \u001b[0mpregunta_recurrente\u001b[0m\u001b[0;34m(\u001b[0m\u001b[0;34m)\u001b[0m\u001b[0;34m\u001b[0m\u001b[0;34m\u001b[0m\u001b[0m\n",
      "\u001b[0;32m<ipython-input-36-7664098d81ca>\u001b[0m in \u001b[0;36mpregunta_recurrente\u001b[0;34m()\u001b[0m\n\u001b[1;32m      1\u001b[0m \u001b[0;32mdef\u001b[0m \u001b[0mpregunta_recurrente\u001b[0m\u001b[0;34m(\u001b[0m\u001b[0;34m)\u001b[0m\u001b[0;34m:\u001b[0m\u001b[0;34m\u001b[0m\u001b[0;34m\u001b[0m\u001b[0m\n\u001b[0;32m----> 2\u001b[0;31m     \u001b[0mprimer_entero\u001b[0m \u001b[0;34m=\u001b[0m \u001b[0mint\u001b[0m\u001b[0;34m(\u001b[0m\u001b[0minput\u001b[0m\u001b[0;34m(\u001b[0m\u001b[0;34m\"Escribe un primer entero:\"\u001b[0m\u001b[0;34m)\u001b[0m\u001b[0;34m)\u001b[0m\u001b[0;34m\u001b[0m\u001b[0;34m\u001b[0m\u001b[0m\n\u001b[0m\u001b[1;32m      3\u001b[0m     \u001b[0mtipo_operacion\u001b[0m \u001b[0;34m=\u001b[0m \u001b[0minput\u001b[0m\u001b[0;34m(\u001b[0m\u001b[0;34m\"Escribe una operación (+,-,*,/):\"\u001b[0m\u001b[0;34m)\u001b[0m\u001b[0;34m\u001b[0m\u001b[0;34m\u001b[0m\u001b[0m\n\u001b[1;32m      4\u001b[0m     \u001b[0msegundo_entero\u001b[0m \u001b[0;34m=\u001b[0m \u001b[0mint\u001b[0m\u001b[0;34m(\u001b[0m\u001b[0minput\u001b[0m\u001b[0;34m(\u001b[0m\u001b[0;34m\"Escribe un segundo entero:\"\u001b[0m\u001b[0;34m)\u001b[0m\u001b[0;34m)\u001b[0m\u001b[0;34m\u001b[0m\u001b[0;34m\u001b[0m\u001b[0m\n\u001b[1;32m      5\u001b[0m     \u001b[0;32mif\u001b[0m \u001b[0mtipo_operacion\u001b[0m \u001b[0;34m==\u001b[0m \u001b[0;34m\"+\"\u001b[0m\u001b[0;34m:\u001b[0m\u001b[0;34m\u001b[0m\u001b[0;34m\u001b[0m\u001b[0m\n",
      "\u001b[0;31mValueError\u001b[0m: invalid literal for int() with base 10: ''"
     ]
    }
   ],
   "source": [
    "def pregunta_recurrente():\n",
    "    primer_entero = int(input(\"Escribe un primer entero:\"))\n",
    "    tipo_operacion = input(\"Escribe una operación (+,-,*,/):\")\n",
    "    segundo_entero = int(input(\"Escribe un segundo entero:\"))\n",
    "    if tipo_operacion == \"+\":\n",
    "        print(\"Suma:\", primer_entero + segundo_entero)\n",
    "    elif tipo_operacion == \"-\":\n",
    "        print(\"Resta:\", primer_entero - segundo_entero)\n",
    "    elif tipo_operacion == \"*\":\n",
    "        print(\"Multiplicación:\", primer_entero * segundo_entero)\n",
    "    elif tipo_operacion == \"/\":\n",
    "        print(\"División:\", primer_entero / segundo_entero)\n",
    "    else:\n",
    "        print(\"Te has equivocado. Reiniciando programa...\")\n",
    "        #pregunta_recurrente()\n",
    "\n",
    "\n",
    "pregunta_recurrente()"
   ]
  },
  {
   "cell_type": "code",
   "execution_count": 38,
   "metadata": {},
   "outputs": [
    {
     "name": "stdout",
     "output_type": "stream",
     "text": "Te has equivocado. Reiniciando programa...\nTe has equivocado. Reiniciando programa...\nTe has equivocado. Reiniciando programa...\nTe has equivocado. Reiniciando programa...\nSuma: 37\n"
    }
   ],
   "source": [
    "def pregunta_recurrente(primer_entero, segundo_entero):\n",
    "    tipo_operacion = input(\"Escribe una operación (+,-,*,/):\")\n",
    "    if tipo_operacion == \"+\":\n",
    "        print(\"Suma:\", primer_entero + segundo_entero)\n",
    "    elif tipo_operacion == \"-\":\n",
    "        print(\"Resta:\", primer_entero - segundo_entero)\n",
    "    elif tipo_operacion == \"*\":\n",
    "        print(\"Multiplicación:\", primer_entero * segundo_entero)\n",
    "    elif tipo_operacion == \"/\":\n",
    "        print(\"División:\", primer_entero / segundo_entero)\n",
    "    else:  # Nos hemos equivocado\n",
    "        print(\"Te has equivocado. Reiniciando programa...\")\n",
    "        pregunta_recurrente(primer_entero, segundo_entero)\n",
    "\n",
    "primer = int(input(\"Escribe un primer entero:\"))\n",
    "segundo = int(input(\"Escribe un segundo entero:\"))\n",
    "pregunta_recurrente(primer_entero=primer, segundo_entero=segundo)"
   ]
  },
  {
   "cell_type": "markdown",
   "execution_count": null,
   "metadata": {},
   "outputs": [],
   "source": [
    "### Bucles con range\n",
    "\n",
    "for i in range(5):\n",
    "\n",
    "### Bucles con enumerate\n",
    "\n",
    "for i, x in enumerate(list)"
   ]
  },
  {
   "cell_type": "code",
   "execution_count": 39,
   "metadata": {},
   "outputs": [
    {
     "name": "stdout",
     "output_type": "stream",
     "text": "0\n1\n2\n3\n4\n"
    }
   ],
   "source": [
    "for i in range(5):\n",
    "    print(i)"
   ]
  },
  {
   "cell_type": "code",
   "execution_count": 40,
   "metadata": {},
   "outputs": [
    {
     "data": {
      "text/plain": "['primero', 'SEGUND0', 77, [2, '9']]"
     },
     "execution_count": 40,
     "metadata": {},
     "output_type": "execute_result"
    }
   ],
   "source": [
    "lista_ejercicio"
   ]
  },
  {
   "cell_type": "code",
   "execution_count": 48,
   "metadata": {},
   "outputs": [
    {
     "name": "stdout",
     "output_type": "stream",
     "text": "0\nprimero\n0   primero\n------\n1\nSEGUND0\n1   SEGUND0\n------\n2\n77\n2   77\n------\n3\n[2, '9']\n3   [2, '9']\n------\n"
    }
   ],
   "source": [
    "for i in range(len(lista_ejercicio)):\n",
    "    print(i)\n",
    "    print(lista_ejercicio[i])\n",
    "    print(i, \" \",  lista_ejercicio[i])\n",
    "    print(\"------\")"
   ]
  },
  {
   "cell_type": "code",
   "execution_count": 49,
   "metadata": {},
   "outputs": [
    {
     "data": {
      "text/plain": "['primero', 'SEGUND0', 77, [2, '9']]"
     },
     "execution_count": 49,
     "metadata": {},
     "output_type": "execute_result"
    }
   ],
   "source": [
    "lista_ejercicio"
   ]
  },
  {
   "cell_type": "code",
   "execution_count": 50,
   "metadata": {},
   "outputs": [
    {
     "name": "stdout",
     "output_type": "stream",
     "text": "0\nprimero\n1\nSEGUND0\n2\n77\n3\n[2, '9']\n"
    }
   ],
   "source": [
    "for indice, elemento in enumerate(lista_ejercicio):\n",
    "    print(indice)\n",
    "    print(elemento)\n",
    "\n"
   ]
  },
  {
   "cell_type": "markdown",
   "execution_count": null,
   "metadata": {},
   "outputs": [],
   "source": [
    "### Return en funciones"
   ]
  },
  {
   "cell_type": "code",
   "execution_count": 51,
   "metadata": {},
   "outputs": [
    {
     "name": "stdout",
     "output_type": "stream",
     "text": "Hola\n2\n"
    }
   ],
   "source": [
    "def funcion_retorna_dos(): \n",
    "    print(\"Hola\")\n",
    "    return 2\n",
    "\n",
    "x = funcion_retorna_dos()\n",
    "print(x)"
   ]
  },
  {
   "cell_type": "code",
   "execution_count": 56,
   "metadata": {},
   "outputs": [
    {
     "name": "stdout",
     "output_type": "stream",
     "text": "5\n"
    }
   ],
   "source": [
    "def suma_numeros(arg1, arg2):\n",
    "    return arg1 + arg2\n",
    "\n",
    "def suma_numeros_print(arg1, arg2):\n",
    "    print(arg1+arg2)\n",
    "\n",
    "x = suma_numeros(arg1=2, arg2=3)\n",
    "print(x)"
   ]
  },
  {
   "cell_type": "code",
   "execution_count": 58,
   "metadata": {},
   "outputs": [
    {
     "name": "stdout",
     "output_type": "stream",
     "text": "\n"
    }
   ],
   "source": [
    "numero1 = int(input(\"Numero1:\"))\n",
    "numero2 = int(input(\"Numero2:\"))\n",
    "\n",
    "x = None\n",
    "lo_que_retorna_la_funcion = suma_numeros(arg1=numero1, arg2=numero2)\n",
    "print()"
   ]
  },
  {
   "cell_type": "markdown",
   "execution_count": null,
   "metadata": {},
   "outputs": [],
   "source": [
    "- Crear una función con un parámetro de entrada llamado 'lista' que retorne el primer valor de la 'lista' cuyo valor sea mayor a 7."
   ]
  },
  {
   "cell_type": "markdown",
   "execution_count": null,
   "metadata": {},
   "outputs": [],
   "source": [
    "### Bucle while"
   ]
  },
  {
   "cell_type": "markdown",
   "execution_count": 7,
   "metadata": {},
   "outputs": [
    {
     "ename": "SyntaxError",
     "evalue": "invalid syntax (<ipython-input-7-a49292b867be>, line 1)",
     "output_type": "error",
     "traceback": [
      "\u001b[0;36m  File \u001b[0;32m\"<ipython-input-7-a49292b867be>\"\u001b[0;36m, line \u001b[0;32m1\u001b[0m\n\u001b[0;31m    - Recorrer una lista y, mientras la el valor que se está recorriendo sea menor a 60, seguir. Cuando termine, mostrar por pantalla el último elemento recorrido.\u001b[0m\n\u001b[0m                 ^\u001b[0m\n\u001b[0;31mSyntaxError\u001b[0m\u001b[0;31m:\u001b[0m invalid syntax\n"
     ]
    }
   ],
   "source": [
    "- Recorrer una lista y, mientras la el valor que se está recorriendo sea menor a 60, seguir. Cuando termine, mostrar por pantalla el último elemento recorrido."
   ]
  },
  {
   "cell_type": "markdown",
   "execution_count": null,
   "metadata": {},
   "outputs": [],
   "source": [
    "### Break"
   ]
  },
  {
   "cell_type": "markdown",
   "execution_count": null,
   "metadata": {},
   "outputs": [],
   "source": [
    "### Ejercicios\n",
    "\n",
    "1. Crear una lista 'lista_ejercicio' que tenga cuatro elementos:\n",
    "\n",
    "- Los dos primeros deben ser Strings: \"primero\" y \"SEGUND0\"\n",
    "- El tercero debe ser Entero: 77\n",
    "- El cuarto es la lista [[2, \"9\"]]\n",
    "\n",
    "Se debe:\n",
    "- Crear una función 'funcion_refuerzo' que reciba un parámetro de entrada llamado 'lista'. La función debe crear y guardar en una variable el cuarto elemento de 'lista'. Además, otra variable dentro de la función debe CONCATENAR los dos elementos que tiene. Por último, crear otra variable que contenga el valor de la SUMA de los dos elementos. Llamar a la función con 'lista_ejercicio'\n",
    "- Mostrar por pantalla la suma de los dos elementos que tiene.\n",
    "- Crear una función que concatene los dos Strings y los muestre por pantalla. La función tiene dos parámetros de entrada: 'string_uno' y 'string_dos'. Invocar a la función con los dos primeros Strings de 'lista_ejercicio'\n",
    "- Crear una función que tenga un parámetro de entrada llamado 'lista'. El objetivo de la función es recorrer la lista y mostrar todos los elementos excepto el primero. Invocar a la función con la lista 'lista_ejercicio'."
   ]
  },
  {
   "cell_type": "code",
   "execution_count": 9,
   "metadata": {},
   "outputs": [],
   "source": [
    "lista_ejercicio = [\"primero\", \"SEGUND0\", 77, [2, \"9\"]]\n"
   ]
  },
  {
   "cell_type": "code",
   "execution_count": 11,
   "metadata": {},
   "outputs": [
    {
     "name": "stdout",
     "output_type": "stream",
     "text": "29\n11\n"
    }
   ],
   "source": [
    "def funcion_refuerzo(lista):\n",
    "    cuarto_elemento = lista[3]\n",
    "    concatenacion = str(cuarto_elemento[0]) + cuarto_elemento[1]\n",
    "    print(concatenacion)\n",
    "    sumar = cuarto_elemento[0] + int(cuarto_elemento[1])\n",
    "    print(sumar)\n",
    "\n",
    "funcion_refuerzo(lista=lista_ejercicio)"
   ]
  },
  {
   "cell_type": "code",
   "execution_count": 13,
   "metadata": {},
   "outputs": [
    {
     "name": "stdout",
     "output_type": "stream",
     "text": "primeroSEGUND0\nprimero SEGUND0\n"
    }
   ],
   "source": [
    "def funcion_cadena(string_uno, string_dos):\n",
    "    concatenacion = string_uno + string_dos\n",
    "    print(concatenacion)\n",
    "    print(string_uno + \" \" + string_dos)\n",
    "    return concatenacion\n",
    "\n",
    "funcion_cadena(string_uno=lista_ejercicio[0], string_dos=lista_ejercicio[1])"
   ]
  },
  {
   "cell_type": "code",
   "execution_count": 16,
   "metadata": {},
   "outputs": [
    {
     "name": "stdout",
     "output_type": "stream",
     "text": "SEGUND0\n77\n[2, '9']\n"
    }
   ],
   "source": [
    "def funcion_recorrer(lista):\n",
    "    acum = 0\n",
    "    for x in lista:\n",
    "        if acum != 0:\n",
    "            print(x)\n",
    "        acum += 1 \n",
    "\n",
    "funcion_recorrer(lista=lista_ejercicio)"
   ]
  },
  {
   "cell_type": "code",
   "execution_count": null,
   "metadata": {},
   "outputs": [],
   "source": [
    "func"
   ]
  },
  {
   "cell_type": "markdown",
   "execution_count": null,
   "metadata": {},
   "outputs": [],
   "source": [
    "2. Escribir un programa que pregunte el nombre del usuario en la consola y después de que el usuario lo introduzca muestre por pantalla la cadena ¡Hola x!, donde x es el nombre que el usuario haya introducido.\n"
   ]
  },
  {
   "cell_type": "markdown",
   "execution_count": null,
   "metadata": {},
   "outputs": [],
   "source": [
    "3. Escribir un programa que pregunte el nombre del usuario en la consola y después de que el usuario lo introduzca muestre por pantalla x tiene z letras, donde x es el nombre de usuario en mayúsculas y z es el número de letras que tienen el nombre."
   ]
  },
  {
   "cell_type": "markdown",
   "execution_count": null,
   "metadata": {},
   "outputs": [],
   "source": [
    "4. Escribir una función que realice la siguiente operación aritmética ((3+2)^2⋅5)/2"
   ]
  },
  {
   "cell_type": "markdown",
   "execution_count": null,
   "metadata": {},
   "outputs": [],
   "source": [
    "5. El número 3025 tiene la curiosa propiedad que cuando se separa en dos números de dos dígitos cada uno, 30 y 25, se suman luego estos dos dígitos y dicha suma se eleva al cuadrado, el resultado final es 3025. \n",
    "\n",
    "- Realizar, empezando por los dígitos 30 y 25, esta operación.\n",
    "- [[Profesor]] Crear una función que reciba un parámetro de entrada, transforme la entrada a String, cree dos variables que representen al string en dos partes y los retorne.\n",
    "- [[Profesor]] Crear un programa que permita obtener, si existen, todos los números de cuatro dígitos que cumplan la misma condición. (++++++)"
   ]
  },
  {
   "cell_type": "markdown",
   "execution_count": null,
   "metadata": {},
   "outputs": [],
   "source": [
    "6. Crear un programa que, a partir de una lista de números enteros, retorne el número de veces que hay un número par en la lista."
   ]
  },
  {
   "cell_type": "code",
   "execution_count": 24,
   "metadata": {},
   "outputs": [
    {
     "name": "stdout",
     "output_type": "stream",
     "text": "[2, '9']\n"
    }
   ],
   "source": [
    "def funcion_acumulador(lista):\n",
    "    indice = 0\n",
    "    indice_ultimo_elemento = (len(lista) - 1)\n",
    "    for elemento in lista:\n",
    "        if (indice == indice_ultimo_elemento):  # Es el primer elemento\n",
    "            print(elemento)\n",
    "        indice = indice + 1\n",
    "\n",
    "\n",
    "lista_ejercicio = [\"primero\", \"SEGUND0\", 77, [2, \"9\"]]\n",
    "funcion_acumulador(lista=lista_ejercicio)\n",
    "\n"
   ]
  },
  {
   "cell_type": "code",
   "execution_count": 23,
   "metadata": {},
   "outputs": [
    {
     "name": "stdout",
     "output_type": "stream",
     "text": "3\nz\nx\n"
    }
   ],
   "source": [
    "listas = [\"x\", \"y\", \"z\"]\n",
    "print(len(listas)) \n",
    "print(listas[2])\n",
    "print(listas[-3])"
   ]
  },
  {
   "cell_type": "code",
   "execution_count": 18,
   "metadata": {},
   "outputs": [
    {
     "ename": "SyntaxError",
     "evalue": "keyword can't be an expression (<ipython-input-18-79a1ef9fdf6b>, line 1)",
     "output_type": "error",
     "traceback": [
      "\u001b[0;36m  File \u001b[0;32m\"<ipython-input-18-79a1ef9fdf6b>\"\u001b[0;36m, line \u001b[0;32m1\u001b[0m\n\u001b[0;31m    print(1=1)\u001b[0m\n\u001b[0m         ^\u001b[0m\n\u001b[0;31mSyntaxError\u001b[0m\u001b[0;31m:\u001b[0m keyword can't be an expression\n"
     ]
    }
   ],
   "source": [
    "print(1=1)"
   ]
  },
  {
   "cell_type": "code",
   "execution_count": null,
   "metadata": {},
   "outputs": [],
   "source": [
    "def comprobar_valor_con_cinco(valor):\n",
    "    if valor > 5:\n",
    "        return \"Es mayor\"\n",
    "    else:\n",
    "        return \"Es menor\"\n",
    "\n",
    "def mostrar_uno_o_cero(es_mayor_o_menor):\n",
    "    if es_mayor_o_menor == \"Es mayor\":\n",
    "        print(1)\n",
    "    elif es_mayor_o_menor == \"Es menor\":\n",
    "        print(2)\n",
    "    else: \n",
    "        print(\"Nada\")\n",
    "\n",
    "x = comprobar_valor_con_cinco(valor=6)\n",
    "mostrar_uno_o_cero(x)       \n"
   ]
  },
  {
   "cell_type": "code",
   "execution_count": 62,
   "metadata": {},
   "outputs": [
    {
     "name": "stdout",
     "output_type": "stream",
     "text": "X vale: False\n2\n"
    }
   ],
   "source": [
    "def comprobar_valor_con_cinco(valor):\n",
    "    if (valor > 5):\n",
    "        return True\n",
    "    else:\n",
    "        return False\n",
    "\n",
    "def mostrar_uno_o_cero(x):\n",
    "    if x:\n",
    "        print(1)\n",
    "    elif not(x):\n",
    "        print(2)\n",
    "\n",
    "x = comprobar_valor_con_cinco(valor=5)\n",
    "print(\"X vale:\", x)\n",
    "mostrar_uno_o_cero(x=x)     "
   ]
  },
  {
   "cell_type": "code",
   "execution_count": 65,
   "metadata": {},
   "outputs": [
    {
     "name": "stdout",
     "output_type": "stream",
     "text": "6\n8\n10\n6\n10\n"
    }
   ],
   "source": [
    "# Muestra mayor elemento mayor a 5\n",
    "lista = [4, 6, 8, 10, 6, 10]\n",
    "\n",
    "x = True\n",
    "y = True\n",
    "for elemento in lista:\n",
    "    if y and x and (elemento > 5):\n",
    "        print(elemento)\n",
    "        x = False\n",
    "        \n",
    "    "
   ]
  },
  {
   "cell_type": "code",
   "execution_count": null,
   "metadata": {},
   "outputs": [],
   "source": [
    "# Muestra mayor elemento mayor a 5\n",
    "lista = [4, 6, 8, 10, 6, 10]\n",
    "\n",
    "x = True\n",
    "for elemento in lista:\n",
    "    if x == True:\n",
    "        print(elemento)\n",
    "    x = not(x)\n",
    "    \n",
    "        \n",
    "        "
   ]
  },
  {
   "cell_type": "code",
   "execution_count": 69,
   "metadata": {},
   "outputs": [
    {
     "name": "stdout",
     "output_type": "stream",
     "text": "Acum: 0\nElemento de la lista: 4\nAcum: 1\nElemento de la lista: 6\nAcum: 2\nElemento de la lista: 8\nAcum: 3\nElemento de la lista: 10\nAcum: 4\nElemento de la lista: 6\nAcum: 5\nElemento de la lista: 10\n"
    }
   ],
   "source": [
    "lista = [4, 6, 8, 10, 6, 10]\n",
    "\n",
    "acum = 0\n",
    "for elemento in lista:\n",
    "    print(\"Acum:\", acum)\n",
    "    print(\"Elemento de la lista:\", lista[acum])\n",
    "    acum = acum + 1\n"
   ]
  },
  {
   "cell_type": "code",
   "execution_count": null,
   "metadata": {},
   "outputs": [],
   "source": [
    "numero = 7\n",
    "if (numero >=5) and (numero <= 10)"
   ]
  },
  {
   "cell_type": "code",
   "execution_count": null,
   "metadata": {},
   "outputs": [],
   "source": []
  }
 ]
}