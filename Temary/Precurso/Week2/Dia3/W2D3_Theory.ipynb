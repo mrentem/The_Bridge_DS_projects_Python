{
 "nbformat": 4,
 "nbformat_minor": 2,
 "metadata": {
  "language_info": {
   "name": "python",
   "codemirror_mode": {
    "name": "ipython",
    "version": 3
   },
   "version": "3.7.4-final"
  },
  "orig_nbformat": 2,
  "file_extension": ".py",
  "mimetype": "text/x-python",
  "name": "python",
  "npconvert_exporter": "python",
  "pygments_lexer": "ipython3",
  "version": 3,
  "kernelspec": {
   "name": "python3",
   "display_name": "Python 3"
  }
 },
 "cells": [
  {
   "cell_type": "markdown",
   "execution_count": null,
   "metadata": {},
   "outputs": [],
   "source": [
    "## Repaso\n",
    "\n",
    "1. Variables y tipos:\n",
    "    - Creación de variables\n",
    "    - String\n",
    "    - Enteros\n",
    "    - Booleanos\n",
    "    - None (Ningún tipo)\n",
    "    - Diccionarios\n",
    "2. Operadores lógicos:\n",
    "    - Suma\n",
    "    - Resta\n",
    "    - División\n",
    "    - División absoluta\n",
    "    - Exponente\n",
    "    - Multiplicación\n",
    "    - And, or, not\n",
    "3. Listas, Tuplas y Set (Conjuntos):\n",
    "    - Acceso a dato por posiciones\n",
    "    - Tamaño de lista \n",
    "    - Listas dentro de listas\n",
    "    - Añadir datos a la listas\n",
    "    - Eliminar datos de listas\n",
    "    - Coger x elementos de listas [[:x]]\n",
    "4. Bucles:\n",
    "    - For\n",
    "    - range\n",
    "    - enumerate\n",
    "    - while\n",
    "    - break\n",
    "    - Acumuladores\n",
    "5. Funciones:\n",
    "    - Función con parámetros\n",
    "    - Funciones dentro de Funciones\n",
    "    - Funciones recursivas\n",
    "    - Return\n",
    "6. Input \n",
    "7. Importar módulos (librería, paquete)\n",
    "8. Ficheros\n",
    "9. Try / Except"
   ]
  },
  {
   "cell_type": "markdown",
   "execution_count": null,
   "metadata": {},
   "outputs": [],
   "source": [
    "### Diccionarios\n",
    "\n",
    "Los diccionarios son pares de valores asociados. Hay un valor primario que se relaciona con el otro. Se denomina \"Key\" a este valor y \"Value\" al valor relacionado. No hay restricción sobre qué tipo de variables pueden ser los valores de la \"Key\" y del \"Value\". Ejemplos:\n"
   ]
  },
  {
   "cell_type": "code",
   "execution_count": 1,
   "metadata": {},
   "outputs": [
    {
     "data": {
      "text/plain": "{'Key': 'Value'}"
     },
     "execution_count": 1,
     "metadata": {},
     "output_type": "execute_result"
    }
   ],
   "source": [
    "diccionario = {}\n",
    "diccionario[\"Key\"] = \"Value\"\n",
    "diccionario"
   ]
  },
  {
   "cell_type": "code",
   "execution_count": 2,
   "metadata": {},
   "outputs": [
    {
     "name": "stdout",
     "output_type": "stream",
     "text": "{'Key': 'Value', 1: 'Uno', 'Uno': 1, 'Hola': 'Adios'}\nTamaño del diccionario: 4\n"
    }
   ],
   "source": [
    "diccionario[1] = \"Uno\"\n",
    "diccionario[\"Uno\"] = 1\n",
    "diccionario[\"Hola\"] = \"Adios\"\n",
    "print(diccionario)\n",
    "\n",
    "## Al igual que una lista tambien se puede mostrar la longitud del diccionario, que será el número de pares de valores.\n",
    "\n",
    "print(\"Tamaño del diccionario:\", len(diccionario))"
   ]
  },
  {
   "cell_type": "code",
   "execution_count": 3,
   "metadata": {},
   "outputs": [
    {
     "data": {
      "text/plain": "{'Key': 'Value', 1: 'Uno', 'Uno': 1, 'Hola': 'Adios Actualizado'}"
     },
     "execution_count": 3,
     "metadata": {},
     "output_type": "execute_result"
    }
   ],
   "source": [
    "# Se pueden actualizar valores asociados a las keys:\n",
    "\n",
    "diccionario[\"Hola\"] = \"Adios Actualizado\"\n",
    "diccionario"
   ]
  },
  {
   "cell_type": "code",
   "execution_count": 6,
   "metadata": {},
   "outputs": [
    {
     "ename": "TypeError",
     "evalue": "unhashable type: 'list'",
     "output_type": "error",
     "traceback": [
      "\u001b[1;31m---------------------------------------------------------------------------\u001b[0m",
      "\u001b[1;31mTypeError\u001b[0m                                 Traceback (most recent call last)",
      "\u001b[1;32m<ipython-input-6-5f0e2b802952>\u001b[0m in \u001b[0;36m<module>\u001b[1;34m\u001b[0m\n\u001b[0;32m      6\u001b[0m \u001b[0mlista_value\u001b[0m \u001b[1;33m=\u001b[0m \u001b[1;33m[\u001b[0m\u001b[1;34m\"x\"\u001b[0m\u001b[1;33m,\u001b[0m \u001b[1;34m\"y\"\u001b[0m\u001b[1;33m]\u001b[0m\u001b[1;33m\u001b[0m\u001b[1;33m\u001b[0m\u001b[0m\n\u001b[0;32m      7\u001b[0m \u001b[1;33m\u001b[0m\u001b[0m\n\u001b[1;32m----> 8\u001b[1;33m \u001b[0mdiccionario\u001b[0m\u001b[1;33m[\u001b[0m\u001b[0mlista_key\u001b[0m\u001b[1;33m]\u001b[0m \u001b[1;33m=\u001b[0m \u001b[0mlista_value\u001b[0m\u001b[1;33m\u001b[0m\u001b[1;33m\u001b[0m\u001b[0m\n\u001b[0m\u001b[0;32m      9\u001b[0m \u001b[0mdiccionario\u001b[0m\u001b[1;33m\u001b[0m\u001b[1;33m\u001b[0m\u001b[0m\n",
      "\u001b[1;31mTypeError\u001b[0m: unhashable type: 'list'"
     ]
    }
   ],
   "source": [
    "# Las KEYS no pueden repetirse (por ejemplo un diccionario de contraseñas: cada entorno es único, aunque puedo dar la misma contraseña en todos ellos) --- pueden ser: str, int, float y None.\n",
    "\n",
    "# Los valores pueden ser cualquier tipo de variable pero las keys NO pueden ser listas:\n",
    "\n",
    "lista_key = [1]\n",
    "lista_value = [\"x\", \"y\"]\n",
    "\n",
    "diccionario[lista_key] = lista_value\n",
    "diccionario"
   ]
  },
  {
   "cell_type": "code",
   "execution_count": 7,
   "metadata": {},
   "outputs": [
    {
     "data": {
      "text/plain": "{'Key': 'Value',\n 1: 'Uno',\n 'Uno': 1,\n 'Hola': 'Adios Actualizado',\n 'Key de lista': ['x', 'y']}"
     },
     "execution_count": 7,
     "metadata": {},
     "output_type": "execute_result"
    }
   ],
   "source": [
    "# Sin embargo el valor sí que puede ser una lista.\n",
    "\n",
    "nueva_key = \"Key de lista\"\n",
    "lista_value = [\"x\", \"y\"]\n",
    "\n",
    "diccionario[nueva_key] = lista_value\n",
    "diccionario"
   ]
  },
  {
   "cell_type": "code",
   "execution_count": 8,
   "metadata": {},
   "outputs": [
    {
     "name": "stdout",
     "output_type": "stream",
     "text": "Key\n1\nUno\nHola\nKey de lista\n"
    }
   ],
   "source": [
    "# Para recorrer las keys:\n",
    "\n",
    "for key in diccionario.keys():\n",
    "    print(key)"
   ]
  },
  {
   "cell_type": "code",
   "execution_count": 9,
   "metadata": {},
   "outputs": [
    {
     "name": "stdout",
     "output_type": "stream",
     "text": "Value\nUno\n1\nAdios Actualizado\n['x', 'y']\n"
    }
   ],
   "source": [
    "# Para recorrer los valores:\n",
    "\n",
    "for value in diccionario.values():\n",
    "    print(value)\n",
    "    "
   ]
  },
  {
   "cell_type": "code",
   "execution_count": 10,
   "metadata": {},
   "outputs": [
    {
     "name": "stdout",
     "output_type": "stream",
     "text": "(0, 'Value')\n(1, 'Uno')\n(2, 1)\n(3, 'Adios Actualizado')\n(4, ['x', 'y'])\n"
    }
   ],
   "source": [
    "# Se puede emplear como cualquier for:\n",
    "\n",
    "for value in enumerate(diccionario.values()):\n",
    "    print(value)"
   ]
  },
  {
   "cell_type": "code",
   "execution_count": 16,
   "metadata": {},
   "outputs": [
    {
     "name": "stdout",
     "output_type": "stream",
     "text": "-----\nKey: Key\nValue: Value\n-----\nKey: 1\nValue: Uno\n-----\nKey: Uno\nValue: 1\n-----\nKey: Hola\nValue: Adios Actualizado\n-----\nKey: Key de lista\nValue: ['x', 'y']\n"
    }
   ],
   "source": [
    "# Para recorrer teniendo la key y el valor a la vez:\n",
    "\n",
    "for key, value in diccionario.items():\n",
    "    print(\"-----\")\n",
    "    print(\"Key:\", key)\n",
    "    print(\"Value:\", value)\n",
    "    "
   ]
  },
  {
   "cell_type": "code",
   "execution_count": 20,
   "metadata": {},
   "outputs": [
    {
     "data": {
      "text/plain": "{'Key': 'Value',\n 1: 'Uno',\n 'Hola': 'Adios Actualizado',\n 'Key de lista': ['x', 'y']}"
     },
     "execution_count": 20,
     "metadata": {},
     "output_type": "execute_result"
    }
   ],
   "source": [
    "# Para borrar elemento de key\n",
    "del diccionario[\"Uno\"]\n",
    "diccionario"
   ]
  },
  {
   "cell_type": "code",
   "execution_count": 12,
   "metadata": {},
   "outputs": [
    {
     "data": {
      "text/plain": "{'Key': 'val', 'k': 'v', 1: 1, 'Lista': [2, 2, 3]}"
     },
     "execution_count": 12,
     "metadata": {},
     "output_type": "execute_result"
    }
   ],
   "source": [
    "# Crear un diccionario añadiendo keys y values manualmente: \n",
    "\n",
    "dict2 = {\"Key\": \"val\", \"k\":\"v\", 1:1, \"Lista\":[2,2,3]}\n",
    "dict2"
   ]
  },
  {
   "cell_type": "code",
   "execution_count": 18,
   "metadata": {},
   "outputs": [
    {
     "name": "stdout",
     "output_type": "stream",
     "text": "0 : Key - val\n1 : k - v\n2 : 1 - 1\n3 : Lista - [2, 2, 3]\n"
    }
   ],
   "source": [
    "for i, (k, v) in enumerate(dict2.items()):\n",
    "    print(i, \":\", k, \"-\", v)"
   ]
  },
  {
   "cell_type": "code",
   "execution_count": 25,
   "metadata": {},
   "outputs": [
    {
     "name": "stdout",
     "output_type": "stream",
     "text": "True\n0\nv en values\n"
    }
   ],
   "source": [
    "# Comprobar valores en diccionario\n",
    "\n",
    "if \"k\" in dict2:\n",
    "    print(True)\n",
    "\n",
    "if \"v\" in dict2:\n",
    "    print(1)\n",
    "else: \n",
    "    print(0)\n",
    "\n",
    "## Así comprobamos si ese valor está entre los VALORES. Tenemos que pedirlo explícitamente, si no mirará en las keys.\n",
    "\n",
    "if \"v\" in dict2.values():\n",
    "    print(\"v en values\")\n",
    "else:\n",
    "    print(False)"
   ]
  },
  {
   "cell_type": "code",
   "execution_count": 26,
   "metadata": {},
   "outputs": [
    {
     "name": "stdout",
     "output_type": "stream",
     "text": "[2, 2, 3]\n"
    }
   ],
   "source": [
    "# Coger el valor a partir de la key. Hay veces que no solo sabemos las keys. Ejemplo: id clientes - contraseña.\n",
    "\n",
    "value_from_key = dict2.get(\"Lista\")\n",
    "print(value_from_key)"
   ]
  },
  {
   "cell_type": "code",
   "execution_count": 20,
   "metadata": {},
   "outputs": [
    {
     "data": {
      "text/plain": "{'Pedro': 23, 'Antonio': 45, 'Pepe': 67}"
     },
     "execution_count": 20,
     "metadata": {},
     "output_type": "execute_result"
    }
   ],
   "source": [
    "# Podemos crear un diccionario a partir de listas:\n",
    "\n",
    "nombres = [\"Pedro\", \"Antonio\", \"Pepe\"]\n",
    "alturas = [23, 45, 67]\n",
    "\n",
    "diccionario_na = {}\n",
    "\n",
    "for indice, elemento in enumerate(nombres):\n",
    "    diccionario_na[elemento] = alturas[indice]\n",
    "\n",
    "diccionario_na"
   ]
  },
  {
   "cell_type": "code",
   "execution_count": 22,
   "metadata": {},
   "outputs": [
    {
     "data": {
      "text/plain": "{'Pedro': 23, 'Antonio': 45, 'Pepe': 67}"
     },
     "execution_count": 22,
     "metadata": {},
     "output_type": "execute_result"
    }
   ],
   "source": [
    "# Puesto que es una operación muy habitual, hay un método más rápido para realizarlo:\n",
    "\n",
    "diccionario_na = dict(zip(nombres, alturas))\n",
    "diccionario_na"
   ]
  },
  {
   "cell_type": "markdown",
   "execution_count": null,
   "metadata": {},
   "outputs": [],
   "source": [
    "### 9. Ejercicios: \n",
    "\n",
    "Crea dos listas: una que tenga 4 nombres de ciudades y otra que tenga 4 lugares emblemáticos de la ciudad. \n",
    "\n",
    "A partir de métodos con diccionarios:\n",
    "\n",
    "- Crea un diccionario con un entero 5 como key y \"val\" como su value. \n",
    "\n",
    "- Crea una función que a reciba dos listas 'lista1' y 'lista2' por parámetro y retorne un diccionario teniendo como keys cada elemento de 'lista1' y como values los elementos de 'lista2'. Llama a la función con las listas que has creado antes para que devuelva un diccionario con cada ciudad como key asociado a un lugar emblemático como value. \n",
    "\n",
    "- Crea una función que, a partir de dos listas, retorne un diccionario en el que cada key sea el nombre de un alumno y su value debe ser la altura.\n",
    "\n",
    "\n",
    "\n"
   ]
  },
  {
   "cell_type": "code",
   "execution_count": 8,
   "metadata": {},
   "outputs": [],
   "source": [
    "ciudades = [\"Madrid\", \"Paris\", \"Londres\", \"Roma\"]\n",
    "lugares = [\"Puerta del Sol\", \"Torre Eiffel\", \"Big Ben\", \"Foro Romano\"]"
   ]
  },
  {
   "cell_type": "code",
   "execution_count": 7,
   "metadata": {},
   "outputs": [
    {
     "data": {
      "text/plain": "{5: 'val'}"
     },
     "execution_count": 7,
     "metadata": {},
     "output_type": "execute_result"
    }
   ],
   "source": [
    "## Crea un diccionario con un entero 5 como key y \"val\" como su value.\n",
    "\n",
    "dict1 = {}\n",
    "dict1[5] = \"val\"\n",
    "dict1"
   ]
  },
  {
   "cell_type": "code",
   "execution_count": 13,
   "metadata": {},
   "outputs": [
    {
     "name": "stdout",
     "output_type": "stream",
     "text": "{'Madrid': 'Puerta del Sol', 'Paris': 'Torre Eiffel', 'Londres': 'Big Ben', 'Roma': 'Foro Romano'}\n"
    }
   ],
   "source": [
    "## Crea una función que a reciba dos listas 'lista1' y 'lista2' por parámetro y retorne un diccionario teniendo como keys cada elemento de 'lista1' y como values los elementos de 'lista2'. Llama a la función con las listas que has creado antes para que devuelva un diccionario con cada ciudad como key asociado a un lugar emblemático como value.\n",
    "\n",
    "def crear_diccionario(lista1, lista2):\n",
    "    diccionario = {}\n",
    "    for i, elemento in enumerate(lista1):\n",
    "        diccionario[elemento] = lista2[i]\n",
    "    print(diccionario)\n",
    "\n",
    "crear_diccionario(ciudades,lugares)\n"
   ]
  },
  {
   "cell_type": "code",
   "execution_count": 14,
   "metadata": {},
   "outputs": [
    {
     "name": "stdout",
     "output_type": "stream",
     "text": "{'Pedro': 187, 'Antonio': 165, 'Maria': 170, 'Roberto': 176, 'Ana': 180}\n"
    }
   ],
   "source": [
    "## Crea una función que, a partir de dos listas, retorne un diccionario en el que cada key sea el nombre de un alumno y su value debe ser la altura.\n",
    "\n",
    "nombres = [\"Pedro\", \"Antonio\", \"Maria\", \"Roberto\", \"Ana\"]\n",
    "alturas = [187, 165, 170, 176, 180]\n",
    "\n",
    "crear_diccionario(nombres, alturas)\n",
    "\n"
   ]
  },
  {
   "cell_type": "markdown",
   "execution_count": null,
   "metadata": {},
   "outputs": [],
   "source": [
    "### Funciones de colección"
   ]
  },
  {
   "cell_type": "code",
   "execution_count": 23,
   "metadata": {},
   "outputs": [
    {
     "name": "stdout",
     "output_type": "stream",
     "text": "mitad_lista1: [8, 'platano']\nmitad_lista2: ['madrid', 19]\n"
    }
   ],
   "source": [
    "lista = [8, \"platano\", \"madrid\", 19]\n",
    "tamano_lista = len(lista)\n",
    "\n",
    "mitad_lista1 = lista[:tamano_lista//2]\n",
    "mitad_lista2 = lista[tamano_lista//2:]\n",
    "\n",
    "print(\"mitad_lista1:\", mitad_lista1)\n",
    "print(\"mitad_lista2:\", mitad_lista2)"
   ]
  },
  {
   "cell_type": "code",
   "execution_count": 10,
   "metadata": {},
   "outputs": [
    {
     "data": {
      "text/plain": "['platano', 'madrid']"
     },
     "execution_count": 10,
     "metadata": {},
     "output_type": "execute_result"
    }
   ],
   "source": [
    "lista[1:3]"
   ]
  },
  {
   "cell_type": "code",
   "execution_count": 27,
   "metadata": {},
   "outputs": [
    {
     "data": {
      "text/plain": "['madrid', 19]"
     },
     "execution_count": 27,
     "metadata": {},
     "output_type": "execute_result"
    }
   ],
   "source": [
    "# START, STOP Y STEP: Empieza en la posición que le indiquemos, para en una y nos da el anterior. Es decir, para en el que le digamos, pero toma el anterior.\n",
    "\n",
    "start = 2\n",
    "stop = 4  ## OJO!!!! PARA EN UN ELEMENTO Y COJE EL ANTERIOR\n",
    "\n",
    "lista_reducida = lista[start:stop]\n",
    "lista_reducida"
   ]
  },
  {
   "cell_type": "markdown",
   "execution_count": null,
   "metadata": {},
   "outputs": [],
   "source": [
    "### Try except\n"
   ]
  },
  {
   "cell_type": "code",
   "execution_count": null,
   "metadata": {},
   "outputs": [],
   "source": [
    "hola_str = \"hola\"\n",
    "try:\n",
    "    hola_int = int(hola_str)\n",
    "except Exception as error:\n",
    "    print(error)\n"
   ]
  }
 ]
}