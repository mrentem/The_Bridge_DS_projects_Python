{
 "nbformat": 4,
 "nbformat_minor": 2,
 "metadata": {
  "language_info": {
   "name": "python",
   "codemirror_mode": {
    "name": "ipython",
    "version": 3
   },
   "version": "3.7.4-final"
  },
  "orig_nbformat": 2,
  "file_extension": ".py",
  "mimetype": "text/x-python",
  "name": "python",
  "npconvert_exporter": "python",
  "pygments_lexer": "ipython3",
  "version": 3,
  "kernelspec": {
   "name": "python3",
   "display_name": "Python 3"
  }
 },
 "cells": [
  {
   "cell_type": "markdown",
   "execution_count": null,
   "metadata": {},
   "outputs": [],
   "source": [
    "## Bootcamp Data Science - The Brige. Febrero 2020. Precurso. "
   ]
  },
  {
   "cell_type": "markdown",
   "execution_count": null,
   "metadata": {},
   "outputs": [],
   "source": [
    "## Repaso\n",
    "\n",
    "1. Variables y tipos:\n",
    "    - Creación de variables\n",
    "    - String\n",
    "    - Enteros\n",
    "    - Booleanos\n",
    "    - None (Ningún tipo)\n",
    "2. Operadores lógicos:\n",
    "    - Suma\n",
    "    - Resta\n",
    "    - División\n",
    "    - División absoluta\n",
    "    - Exponente\n",
    "    - Multiplicación\n",
    "    - And, or, not\n",
    "3. Listas, Tuplas y Set (Conjuntos):\n",
    "    - Acceso a dato por posiciones\n",
    "    - Tamaño de lista \n",
    "    - Listas dentro de listas\n",
    "    - Añadir datos a la listas\n",
    "    - Eliminar datos de listas\n",
    "4. Bucles:\n",
    "    - For\n",
    "    - range\n",
    "    - enumerate\n",
    "    - break\n",
    "    - while\n",
    "5. Funciones:\n",
    "    - Función con parámetros\n",
    "    - Funciones dentro de Funciones\n",
    "    - Funciones recursivas\n",
    "    - Return\n",
    "6. Input \n"
   ]
  },
  {
   "cell_type": "markdown",
   "execution_count": null,
   "metadata": {},
   "outputs": [],
   "source": [
    "## Ejercicios:\n",
    "\n",
    "### Apartado 1:\n",
    "\n",
    "1. Crea una variable llamada 'numero_bridge' que tenga como valor 15. Tipo entero.\n",
    "2. Crea una variable llamada 'nombre_calle' que sea un string y sea 'Recoletos'\n",
    "3. Crea una variable llamada 'gusto_personal' que sea True si eres más de playa y False si eres más de montaña.\n",
    "4. Crea una variable llamada 'nada' de la siguiente forma: 'nada = None'. None no representa ningún valor. Ha de tenerse en cuenta que si se hace 'if (nada):', 'nada' actúa como un valor booleano False. Para más información, observar el primer ejemplo de abajo.\n",
    "5. Crea una variable que llamada 'lista_direccion' que sea una lista y que contenga 2 valores. El primer valor debe ser la variable 'numero_bridge' y el segundo valor de la lista debe ser la variable 'nombre_calle'\n",
    "6. Crea una variable llamada 'horas_sueno' que almacene, en forma de String, las horas que has dormido hoy. Ejemplo: horas_sueno = \"8\" \n",
    "6. Crea una lista llamada 'lista_informacion' que tenga cada una de las variables creadas anteriormente en el orden en el que se han expuesto en el ejercicio.\n",
    "\n",
    "IMPORTANTE: A partir de este momento y para todos estos ejercicios, solo se van a utilizar los datos almacenados en 'lista_informacion'. Debe contener 6 elementos. "
   ]
  },
  {
   "cell_type": "code",
   "execution_count": 3,
   "metadata": {},
   "outputs": [
    {
     "name": "stdout",
     "output_type": "stream",
     "text": "Entra en el else porque la variable 'nada' actúa como un booleano False\n"
    }
   ],
   "source": [
    "nada = None\n",
    "if nada:\n",
    "    print(\"Entra en el if\")\n",
    "else: \n",
    "    print(\"Entra en el else porque la variable 'nada' actúa como un booleano False\")"
   ]
  },
  {
   "cell_type": "markdown",
   "execution_count": null,
   "metadata": {},
   "outputs": [],
   "source": [
    "### Creación de variables del apartado 1.\n",
    "\n",
    "gusto_personal = True  # Si te gusta más la montaña\n",
    "\n",
    "gusto_personal = False  # Si te gusta más la playa"
   ]
  },
  {
   "cell_type": "code",
   "execution_count": null,
   "metadata": {},
   "outputs": [],
   "source": [
    "### Escribe aquí tu código para el apartado 1. Cuando acabes, ejecuta la celda para que las variables se queden en la memoria. \n"
   ]
  },
  {
   "cell_type": "markdown",
   "execution_count": null,
   "metadata": {},
   "outputs": [],
   "source": [
    "#### Borrar variables. Del\n",
    "Ejecuta esta celda de jupyter para borrar todas las variables que has tenido que crear antes. El contenido de 'lista_informacion' no cambiará. De esta forma, nos aseguraremos de que solo uses la información de 'lista_informacion'. "
   ]
  },
  {
   "cell_type": "code",
   "execution_count": null,
   "metadata": {},
   "outputs": [],
   "source": [
    "# Ejecuta esta celda cuando las variables del apartado 1 ya han sido creadas y guardadas en memoria.\n",
    "del numero_bridge\n",
    "del nombre_calle\n",
    "del gusto_personal \n",
    "del nada\n",
    "del lista_direccion\n",
    "del horas_sueno"
   ]
  },
  {
   "cell_type": "markdown",
   "execution_count": null,
   "metadata": {},
   "outputs": [],
   "source": [
    "### Apartado 2\n",
    "\n",
    "### Ejercicios con 'lista_informacion'. Recuerda no usar las variables excepto 'lista_informacion'. Leer cada punto hasta el final antes de hacer la tarea. \n",
    "\n",
    "1. Mostrar por pantalla, sin uso de funciones ni bucles: \n",
    "    - La concatenación del número de The Bridge, dos puntos y el nombre de la calle. \n",
    "    - La suma del número de The Bridge y las horas que has dormido hoy. \n",
    "    - La concatenación del número de The Bridge, el nombre de la calle, tu gusto personal y las horas de sueño. Cada uno debe estar separado por lo siguiente: \" : \".\n",
    "    - Accediendo a la lista de la quinta posición de 'lista_informacion' muestra por pantalla la suma de lo siguiente (si la quinta posición de tu 'lista_informacion' no es una lista, pregunta a los profesores):\n",
    "        - La concatenación de los dos elementos. \n",
    "        - La multiplicación del tamaño de la lista de la quinta posición de 'lista_informacion' y el tamaño del número de caracteres que tiene el nombre de la calle.\n",
    "\n",
    "2. Dentro de funciones con el nombre que decidáis, con un argumento de entrada llamado 'lista' siendo este la 'lista_informacion' cuando se invoque a la función. Cuando sea 'recorre' se refiere a bucle 'for'. Cada punto representa una función y celda de Jupyter diferente:\n",
    "\n",
    "    - Mostrar por pantalla \"Me gusta la tranquilidad\" si te gusta más la montaña y \"Me gusta ver las carnes al aire libre\" si te gusta más la playa.\n",
    "    - Mostrar por pantalla \"Hoy estoy cansado\" si has dormido menos de 7 horas y \"Hoy me como el mundo\" si has dormido más de 7 horas. \n",
    "    - Recorrer 'lista' para mostrar todos los elementos que contiene. \n",
    "    - Recorrer 'lista' para mostrar todos los elementos que contiene concatenado con el string \"--> OK\"\n",
    "    - Recorrer 'lista' para mostrar todos los elementos que contiene excepto el primero\n",
    "    - Recorrer 'lista' para mostrar todos los elementos que contiene excepto el último. \n",
    "    - Recorrer 'lista' para mostrar todos los elementos que contiene excepto el número de la calle y las horas que has dormido.\n",
    "    - Recorrer 'lista' para mostrar todos los elementos que contiene excepto el primer elemento de la lista de la quinta posición. \n",
    "    - Recorrer 'lista' para mostrar todos los elementos que contiene excepto el que contiene la información sobre si os gusta la montaña o playa SI os gusta la montaña.\n",
    "    - Recorrer 'lista' para mostrar el último elemento.\n",
    "    - Crear una variable llamada 'zona' y darle el valor de None. Recorrer 'lista' y actualizar 'zona' a True si y solo si has dormido más de 7 horas, te gusta la playa y la suma de las horas que has dormido más el número de The Bridge es menor a 24. Para cualquier otro caso, 'zona' será False. Retornar el valor de 'zona'. Esta función se llamará 'funcion_zona'.\n",
    "    - Dentro de una función llamada 'funcion_comprobacion' que recibe solo un parámetro llamado 'valor_zona' que será el valor que devuelve la función 'funcion_zona' cuando sea invocado, mostrar el valor de 'valor_zona' si es True.\n",
    "\n",
    "3. Dentro de funciones con el nombre que queráis:\n",
    "    - Utilizar la función enumerate del bucle for utilizando la lista de alturas y la lista de alumnos creada en días anteriores (las listas han de estar ordenadas) para: \n",
    "        - Mostrar la altura acompañado del nombre del alumno al que pertenece. \n",
    "\n",
    "4. Hacer un programa que pregunte si le gusta la montaña al usuario y, si es que no, llame a la función funcion_zona. \n",
    "\n",
    "5. Hacer una función que guarde en una variable el valor de 'nada' y lo devuelva por pantalla. Concatenar su valor con el número de the bridge y mostrarlo por pantalla. Ahora, mostrar por pantalla un booleano True si el tamaño de la palabra concatenada es 6. Sino, será False. La función debe retornar el valor True o False. El nombre de la función será 'f_s'.\n",
    "\n",
    "6. Crear una lista 'lista_aux' con 7 elementos (los que queráis). Crear una función 'funcion_usa_f_s' que reciba por parámetros dos argumento 'f_s' y 'lista'.  Si el valor de 'f_s' es True, entonces borrar el un elemento de 'lista'. Si 'lista' tiene algún elemento, entonces repetir el proceso hasta que no tenga elementos. La entrada 'lista' ha de ser 'lista_aux' y 'f_s' será la función 'f_s' del punto anterior.\n",
    "\n",
    "7. Crear una función 'numeros_pares' que tenga un parámetro de entrada 'arg1' (Entero). La función debe mostrar por pantalla y retornar una lista de números de tamaño 'arg1' siendo números pares.\n",
    "\n",
    "8. Crear una función que tenga una variable de entrada 'arg1' (que será la lista de números pares del apartado anterior) y que elimine elementos de la lista (uno a uno) si 'arg1' tiene un tamaño divisible entre 2 y, si no lo tiene, añada, solo una vez, el valor de la función 'f_s'."
   ]
  },
  {
   "cell_type": "code",
   "execution_count": 24,
   "metadata": {},
   "outputs": [
    {
     "name": "stdout",
     "output_type": "stream",
     "text": "x\ny\n2\nz\n5\n79\n"
    }
   ],
   "source": [
    "lista = [\"x\", \"y\", 2, \"z\", [\"a_devolver\", 5], 79]\n",
    "\n",
    "acum = 0\n",
    "for elemento in lista:\n",
    "    if (acum == 4):\n",
    "        print(elemento[1])\n",
    "    else:\n",
    "        print(elemento)\n",
    "    acum += 1\n",
    "\n",
    "\n"
   ]
  },
  {
   "cell_type": "code",
   "execution_count": 25,
   "metadata": {},
   "outputs": [
    {
     "name": "stdout",
     "output_type": "stream",
     "text": "x\ny\n2\nz\n5\n79\n"
    }
   ],
   "source": [
    "lista = [\"x\", \"y\", 2, \"z\", [\"a_devolver\", 5], 79]\n",
    "\n",
    "acum = 0\n",
    "acum2 = 0\n",
    "\n",
    "for elemento in lista:\n",
    "    if (acum == 4):\n",
    "        for m in elemento:\n",
    "            if acum2 != 0:\n",
    "                print(m)\n",
    "            acum2 = acum2 + 1\n",
    "    else:\n",
    "        print(elemento)\n",
    "    acum += 1\n"
   ]
  },
  {
   "cell_type": "code",
   "execution_count": null,
   "metadata": {},
   "outputs": [],
   "source": []
  },
  {
   "cell_type": "markdown",
   "execution_count": null,
   "metadata": {},
   "outputs": [],
   "source": [
    "### Apartado 3\n",
    "\n",
    "Para este apartado se utilizará la lista 'lista_información. A esa lista, ha de añadirse UTILIZANDO el método 'append':\n",
    "\n",
    "- Un booleano que sea True si utilizas gafas. False para lo contrario. \n",
    "- Un entero que represente tu edad. \n",
    "- Un float que represente el dinero que te has gastado en tu última compra.\n",
    "- Un string que represente el nombre de uno de tus tí@s. Si no tienes, el nombre de uno de tus herman@s. Si no tienes, alguno de tus abuel@s. Si no tienes, el nombre de tu mejor amigo. Y, si no tienes, el nombre de tu psicólog@.\n",
    "- Una lista que tenga como tamaño 5. Cada una de las posiciones debe representar los números que más te gusten en el rango [[0-100]] dividido entre 10. Es decir, si eliges el 11, el número sería el 1.1. Si eliges el 100, sería el 10.  \n",
    "\n",
    "Por último, han de eliminarse las variables 'none' y 'lista_direccion' de dos formas:\n",
    "\n",
    "- 'nada' con el método 'remove' de una lista. \n",
    "- 'lista_direccion' con el método 'pop' con el que se puede eliminar el elemento de una lista a través de una posición. Para más información, hemos puesto un ejemplo más abajo.\n",
    "\n",
    "\n"
   ]
  },
  {
   "cell_type": "code",
   "execution_count": 2,
   "metadata": {},
   "outputs": [
    {
     "name": "stdout",
     "output_type": "stream",
     "text": "c\n['a', 'b']\n"
    }
   ],
   "source": [
    "\"\"\"\n",
    "Para eliminar el elemento \"c\" de 'lista_', que está en la segunda posición, hacemos lo siguiente:\n",
    "\"\"\"\n",
    "\n",
    "lista_ = [\"a\", \"b\", \"c\"]\n",
    "elemento_c = lista_.pop(2)\n",
    "print(elemento_c)\n",
    "print(lista_)"
   ]
  },
  {
   "cell_type": "code",
   "execution_count": 3,
   "metadata": {},
   "outputs": [
    {
     "name": "stdout",
     "output_type": "stream",
     "text": "['a', 'b']\n"
    }
   ],
   "source": [
    "\"\"\"\n",
    "Como puedes ver, el método 'pop' retorna el elemento eliminado. Es opcional guardar el elemento eliminado en una variable. Si no se desea crear una variable que guarde el elemento eliminado, haríamos lo siguiente:\n",
    "\"\"\"\n",
    "\n",
    "lista_ = [\"a\", \"b\", \"c\"]\n",
    "lista_.pop(2)\n",
    "print(lista_)"
   ]
  },
  {
   "cell_type": "markdown",
   "execution_count": null,
   "metadata": {},
   "outputs": [],
   "source": [
    "### Apartado 4. Creación de funciones con return preparatorio. \n",
    "\n",
    "A partir de ahora solo se utilizará la 'lista_informacion' actualizada. La 'lista_informacion' debe contener 9 posiciones. Si no contiene 9, pregunta a los profesores.\n",
    "\n",
    "Crear una nueva celda por cada apartado: \n",
    "\n",
    "- Función 'nb' que reciba por parámetro 'lista' y que retorne el número de The Bridge.\n",
    "- Función 'nc' que reciba por parámetro 'lista' y que retorne el nombre de la calle de The Bridge.\n",
    "- Función 'gp' que reciba por parámetro 'lista' y que retorne tu gusto personal.\n",
    "- Función 'hs' que reciba por parámetro 'lista' y que retorne las horas de sueño.\n",
    "- Función 'ul' que reciba por parámetro 'lista' y que retorne la última posicón de 'lista'.\n",
    "\n",
    "A partir de este momento, si se requiere utilizar uno de estos valores, se accederá a ellos a partir de las funciones anteriormente creadas, no directamente desde la lista."
   ]
  },
  {
   "cell_type": "markdown",
   "execution_count": null,
   "metadata": {},
   "outputs": [],
   "source": [
    "### Apartado 5. Break en bucles for.\n",
    "\n",
    "Crear una nueva celda por cada apartado: \n",
    "\n",
    "- Función 'string_mayor_5' que reciba por parámetro 'lista' ('lista_informacion'). Se debe recorrer 'lista' transformando cada elemento en string y, si el tamaño del string es mayor a 5, el bucle debe parar. La función ha de devolver el primer elemento con string mayor a 5.\n",
    "\n",
    "- Función 'lista_consecutivos' que recibe por parámetro 'limite'. Debe retornar una lista con números que empiece en el 0 y acabe en el número 'límite'. 'limite' será 18 cuando la función sea invocada. \n",
    "\n",
    "- Función 'posicion_15' que reciba un parámetro 'funcion_lista_consecutivos' y 'lista' y deberá devolver el elemento de la lista que devuelve la función 'lista_consecutivos' que represente la posicion 15. Es dentro de la función 'posicion_15' donde hay que llamar a 'funcion_lista_consecutivos' con el parámetro 'lista' como parámetro de entrada de 'lista_consecutivos'. El argumento 'límite' será 18 cuando 'lista_consecutivos' sea invocada.\n",
    "\n",
    "Ejemplo: \n",
    "x = posicion_15(funcion_lista_consecutivos=lista_consecutivos, lista=lista_informacion)"
   ]
  },
  {
   "cell_type": "code",
   "execution_count": 4,
   "metadata": {},
   "outputs": [
    {
     "name": "stdout",
     "output_type": "stream",
     "text": "Posición:  0\nElemento:  x\nPosición:  1\nElemento:  y\nPosición:  2\nElemento:  z\n1\n"
    }
   ],
   "source": [
    "lista = [\"x\", \"y\", \"z\"] \n",
    "for i, elemento in enumerate(lista):\n",
    "    print(\"Posición: \", i)\n",
    "    print(\"Elemento: \", elemento)\n",
    "\n",
    "acum = 0\n",
    "for elemento in lista:\n",
    "    if elemento == \"y\":\n",
    "        break  # Parará la iteración del bucle\n",
    "    acum = acum + 1\n",
    "print(acum)\n",
    "\n"
   ]
  },
  {
   "cell_type": "code",
   "execution_count": 5,
   "metadata": {},
   "outputs": [
    {
     "name": "stdout",
     "output_type": "stream",
     "text": "k\nx : 10\ny : 20\nz : 30\nh : 50\nj : 60\nk : 70\n"
    }
   ],
   "source": [
    "# Ejercicio enumerate con listas de listas\n",
    "\n",
    "lista1 = [[\"x\", \"y\", \"z\"], [\"h\", \"j\", \"k\"]]\n",
    "lista2 = [[10, 20, 30], [50, 60, 70]] \n",
    "\n",
    "print(lista1[1][2])\n",
    "\n",
    "for i, elemento_lista in enumerate(lista1):\n",
    "    for j, elemento in enumerate(elemento_lista):\n",
    "        print(elemento, \":\", lista2[i][j])\n"
   ]
  },
  {
   "cell_type": "markdown",
   "execution_count": 4,
   "metadata": {},
   "outputs": [],
   "source": [
    "### Apartado 6. Bucle while.\n",
    "\n",
    "Crear una nueva celda por cada apartado: \n",
    "\n",
    "- Crear una función reciba por parámetro 'lista' que muestre todos los elementos que tiene usando un bucle while. Llamar a la función con 'lista_informacion'.\n",
    "- Realizar todos los apartados del apartado 2.2 cuyo enunciado aparece la palabra 'recorrer' excepto el que se utiliza la 'lista_direccion' borrada en el apartado 3. \n",
    "- Realizar el apartado 5 con bucle while en vez de bucle for. \n",
    "- Realizar una función que realice la función de fibonacci con un while.\n",
    "\n",
    "\n",
    "\n"
   ]
  },
  {
   "cell_type": "code",
   "execution_count": 6,
   "metadata": {},
   "outputs": [
    {
     "name": "stdout",
     "output_type": "stream",
     "text": "X: 0\nX: 1\nX: 2\nX: 3\nX: 4\nx\ny\n"
    }
   ],
   "source": [
    "x = 0\n",
    "y = 5\n",
    "\n",
    "\n",
    "while (x + y < 10):\n",
    "    print(\"X:\" , x)\n",
    "    x = x + 1\n",
    "\n",
    "\n",
    "\n",
    "\n"
   ]
  },
  {
   "cell_type": "code",
   "execution_count": 6,
   "metadata": {},
   "outputs": [
    {
     "name": "stdout",
     "output_type": "stream",
     "text": "0\n2\n4\n6\n8\n"
    }
   ],
   "source": [
    "acum = 0\n",
    "while (acum < 10):\n",
    "    print(acum)\n",
    "    acum = acum + 2"
   ]
  },
  {
   "cell_type": "code",
   "execution_count": 9,
   "metadata": {},
   "outputs": [
    {
     "name": "stdout",
     "output_type": "stream",
     "text": "x\ny\nz\n"
    }
   ],
   "source": [
    "lista = [\"x\", \"y\", \"z\"]\n",
    "acum = 0\n",
    "tamano_lista = len(lista)\n",
    "while (acum <= tamano_lista - 1):\n",
    "    print(lista[acum])\n",
    "    acum += 1\n"
   ]
  },
  {
   "cell_type": "code",
   "execution_count": 2,
   "metadata": {},
   "outputs": [
    {
     "name": "stdout",
     "output_type": "stream",
     "text": "Tamaño lista_acum: 7\n[0, 1, 2, 3, 4, 5, 6]\n"
    }
   ],
   "source": [
    "lista_acum = []\n",
    "bandera = True\n",
    "acum = 0\n",
    "while bandera:\n",
    "    if acum == 7:\n",
    "        break\n",
    "    lista_acum.append(acum)\n",
    "    acum += 1\n",
    "\n",
    "print(\"Tamaño lista_acum:\", len(lista_acum))\n",
    "print(lista_acum)"
   ]
  },
  {
   "cell_type": "code",
   "execution_count": 3,
   "metadata": {},
   "outputs": [
    {
     "name": "stdout",
     "output_type": "stream",
     "text": "Tamaño lista_acum: 8\n[0, 1, 2, 3, 4, 5, 6, 7]\n"
    }
   ],
   "source": [
    "lista_acum = []\n",
    "bandera = True\n",
    "acum = 0\n",
    "while bandera:\n",
    "    if acum == 7:\n",
    "        bandera = False\n",
    "    lista_acum.append(acum)\n",
    "    acum += 1\n",
    "\n",
    "print(\"Tamaño lista_acum:\", len(lista_acum))\n",
    "print(lista_acum)"
   ]
  },
  {
   "cell_type": "code",
   "execution_count": null,
   "metadata": {},
   "outputs": [],
   "source": [
    "lista_acum = []\n",
    "bandera = True\n",
    "acum = 0\n",
    "while bandera:\n",
    "    if acum == 7:\n",
    "        bandera = False\n",
    "    elif acum == 4:\n",
    "        acum += 1\n",
    "        continue\n",
    "    else:\n",
    "        break\n",
    "    lista_acum.append(acum)\n",
    "    acum += 1\n",
    "\n",
    "print(\"Tamaño lista_acum:\", len(lista_acum))\n",
    "print(lista_acum)"
   ]
  },
  {
   "cell_type": "markdown",
   "execution_count": null,
   "metadata": {},
   "outputs": [],
   "source": [
    "### Apartado 7. Importación de módulos.\n",
    "\n",
    "Un módulo representa un fichero de extensión '.py' que contiene código python. Importando un módulo, podemos acceder a todas las variable, funciones y clases no privadas que contiene. \n",
    "\n",
    "En la propia carpeta del día de hoy, hay un fichero llamado 'nombre_modulo.py'. Vamos a importarlo y usar alguna de sus variables y funciones. "
   ]
  },
  {
   "cell_type": "code",
   "execution_count": 9,
   "metadata": {},
   "outputs": [
    {
     "name": "stdout",
     "output_type": "stream",
     "text": "2\n3\n"
    }
   ],
   "source": [
    "import nombre_modulo as nm\n",
    "\"\"\" 'as' renombra el módulo para su uso en futuras ocasiones. Se utiliza para no tener que escribir el nombre del modulo continuamente.\n",
    "\"\"\"\n",
    "\n",
    "print(nm.var1)\n",
    "print(nm.var2)\n"
   ]
  },
  {
   "cell_type": "code",
   "execution_count": 11,
   "metadata": {},
   "outputs": [
    {
     "name": "stdout",
     "output_type": "stream",
     "text": "hola\nadiós\n"
    }
   ],
   "source": [
    "nm.hola_y_adios()"
   ]
  },
  {
   "cell_type": "code",
   "execution_count": 7,
   "metadata": {},
   "outputs": [
    {
     "name": "stdout",
     "output_type": "stream",
     "text": "5.0\n"
    }
   ],
   "source": [
    "lista = [2, 4, 6, 8]\n",
    "suma = sum(lista)\n",
    "longitud = len(lista)\n",
    "media = suma / longitud\n",
    "print(media)"
   ]
  },
  {
   "cell_type": "code",
   "execution_count": 8,
   "metadata": {},
   "outputs": [
    {
     "name": "stdout",
     "output_type": "stream",
     "text": "5.0\n"
    }
   ],
   "source": [
    "import numpy as np\n",
    "\n",
    "media = np.mean(lista)\n",
    "print(media)"
   ]
  },
  {
   "cell_type": "code",
   "execution_count": null,
   "metadata": {},
   "outputs": [],
   "source": [
    "import pandas as pd\n",
    "pd.array()"
   ]
  },
  {
   "cell_type": "code",
   "execution_count": 14,
   "metadata": {},
   "outputs": [
    {
     "ename": "TypeError",
     "evalue": "unsupported operand type(s) for +: 'int' and 'str'",
     "output_type": "error",
     "traceback": [
      "\u001b[0;31m---------------------------------------------------------------------------\u001b[0m",
      "\u001b[0;31mTypeError\u001b[0m                                 Traceback (most recent call last)",
      "\u001b[0;32m<ipython-input-14-fd7f14e1cb8c>\u001b[0m in \u001b[0;36m<module>\u001b[0;34m\u001b[0m\n\u001b[1;32m      2\u001b[0m     \u001b[0;32mreturn\u001b[0m \u001b[0mparam1\u001b[0m \u001b[0;34m+\u001b[0m \u001b[0mparam2\u001b[0m\u001b[0;34m\u001b[0m\u001b[0;34m\u001b[0m\u001b[0m\n\u001b[1;32m      3\u001b[0m \u001b[0;34m\u001b[0m\u001b[0m\n\u001b[0;32m----> 4\u001b[0;31m \u001b[0msuma\u001b[0m \u001b[0;34m=\u001b[0m \u001b[0msumar_numeros\u001b[0m\u001b[0;34m(\u001b[0m\u001b[0mparam1\u001b[0m\u001b[0;34m=\u001b[0m\u001b[0;36m3\u001b[0m\u001b[0;34m,\u001b[0m \u001b[0mparam2\u001b[0m\u001b[0;34m=\u001b[0m\u001b[0;34m\"4\"\u001b[0m\u001b[0;34m)\u001b[0m\u001b[0;34m\u001b[0m\u001b[0;34m\u001b[0m\u001b[0m\n\u001b[0m\u001b[1;32m      5\u001b[0m \u001b[0msuma\u001b[0m\u001b[0;34m\u001b[0m\u001b[0;34m\u001b[0m\u001b[0m\n",
      "\u001b[0;32m<ipython-input-14-fd7f14e1cb8c>\u001b[0m in \u001b[0;36msumar_numeros\u001b[0;34m(param1, param2)\u001b[0m\n\u001b[1;32m      1\u001b[0m \u001b[0;32mdef\u001b[0m \u001b[0msumar_numeros\u001b[0m\u001b[0;34m(\u001b[0m\u001b[0mparam1\u001b[0m\u001b[0;34m,\u001b[0m \u001b[0mparam2\u001b[0m\u001b[0;34m)\u001b[0m\u001b[0;34m:\u001b[0m\u001b[0;34m\u001b[0m\u001b[0;34m\u001b[0m\u001b[0m\n\u001b[0;32m----> 2\u001b[0;31m     \u001b[0;32mreturn\u001b[0m \u001b[0mparam1\u001b[0m \u001b[0;34m+\u001b[0m \u001b[0mparam2\u001b[0m\u001b[0;34m\u001b[0m\u001b[0;34m\u001b[0m\u001b[0m\n\u001b[0m\u001b[1;32m      3\u001b[0m \u001b[0;34m\u001b[0m\u001b[0m\n\u001b[1;32m      4\u001b[0m \u001b[0msuma\u001b[0m \u001b[0;34m=\u001b[0m \u001b[0msumar_numeros\u001b[0m\u001b[0;34m(\u001b[0m\u001b[0mparam1\u001b[0m\u001b[0;34m=\u001b[0m\u001b[0;36m3\u001b[0m\u001b[0;34m,\u001b[0m \u001b[0mparam2\u001b[0m\u001b[0;34m=\u001b[0m\u001b[0;34m\"4\"\u001b[0m\u001b[0;34m)\u001b[0m\u001b[0;34m\u001b[0m\u001b[0;34m\u001b[0m\u001b[0m\n\u001b[1;32m      5\u001b[0m \u001b[0msuma\u001b[0m\u001b[0;34m\u001b[0m\u001b[0;34m\u001b[0m\u001b[0m\n",
      "\u001b[0;31mTypeError\u001b[0m: unsupported operand type(s) for +: 'int' and 'str'"
     ]
    }
   ],
   "source": [
    "def sumar_numeros(param1, param2):\n",
    "    \"\"\"Solo usar Enteros\"\"\"\n",
    "    return param1 + param2\n",
    "\n",
    "suma = sumar_numeros(param1=3, param2=\"4\")\n",
    "suma"
   ]
  },
  {
   "cell_type": "markdown",
   "execution_count": null,
   "metadata": {},
   "outputs": [],
   "source": [
    "Al igual que con los demás objetos, una vez que se ha importado el módulo no hace falta importarlo más veces. "
   ]
  },
  {
   "cell_type": "code",
   "execution_count": 2,
   "metadata": {},
   "outputs": [
    {
     "name": "stdout",
     "output_type": "stream",
     "text": "hola\nadiós\n"
    }
   ],
   "source": [
    "nm.hola_y_adios()"
   ]
  },
  {
   "cell_type": "markdown",
   "execution_count": null,
   "metadata": {},
   "outputs": [],
   "source": [
    "# Apartado 8: Ejercicios\n",
    "\n",
    "- Programa una calculadora que pregunte por pantalla dos números y dos operadores. Se debe realizar primero una operación y luego otra. Trata de definir el mayor número de funciones posibles. \n",
    "- Programa, definiendo funciones, el juego 'piedra, papel o tijera'. \n",
    "- Haz un programa que, a partir de las cadenas \"|\" y \"_\", muestre por pantalla un tablero de ajedrez 8x8. \n",
    "- Haz un programa utilizando 'while' que genere una baraja de cartas de 4 palos distintos. La baraja ha de tener 40 cartas. "
   ]
  },
  {
   "cell_type": "code",
   "execution_count": 26,
   "metadata": {},
   "outputs": [
    {
     "name": "stdout",
     "output_type": "stream",
     "text": "{2, 4, 5}\n"
    }
   ],
   "source": [
    "\n",
    "lista = [2,2,2,4,5]\n",
    "print(set(lista))"
   ]
  },
  {
   "cell_type": "code",
   "execution_count": 28,
   "metadata": {},
   "outputs": [
    {
     "data": {
      "text/plain": "{'Raul': 1.76, 'Monica': 1.8}"
     },
     "execution_count": 28,
     "metadata": {},
     "output_type": "execute_result"
    }
   ],
   "source": [
    "dictionary = {}\n",
    "dictionary[\"Raul\"] = 1.76\n",
    "dictionary[\"Monica\"] = 1.8\n",
    "dictionary"
   ]
  },
  {
   "cell_type": "code",
   "execution_count": null,
   "metadata": {},
   "outputs": [],
   "source": []
  },
  {
   "cell_type": "code",
   "execution_count": null,
   "metadata": {},
   "outputs": [],
   "source": [
    "# 2.2.11 Crear una variable llamada 'zona' y darle el valor de None. Recorrer 'lista' y actualizar 'zona' a True si y solo si has dormido más de 7 horas, te gusta la playa y la suma de las horas que has dormido más el número de The Bridge es menor a 24. Para cualquier otro caso, 'zona' será False. Retornar el valor de 'zona'. Esta función se llamará 'funcion_zona'.\n",
    "\n",
    "def funcion_zona(lista):\n",
    "    zona = None\n",
    "    acum = 0\n",
    "\n",
    "    numero_bridge = None\n",
    "    horas_sueno = None\n",
    "    gusto_playa = None\n",
    "    # Recorre lista y almacena elementos de posición 0 y posición 5\n",
    "    for elemento in lista:\n",
    "        if acum == 0:\n",
    "            numero_bridge = elemento\n",
    "        elif acum == 5:\n",
    "            horas_sueno = int(elemento)\n",
    "        elif acum == 2:\n",
    "            gusto_playa = elemento\n",
    "        acum += 1\n",
    "\n",
    "    if (numero_bridge + horas_sueno < 24) and (gusto_playa) and (horas_sueno > 7): \n",
    "         zona = True\n",
    "    else:\n",
    "        zona = False\n",
    "    return zona\n",
    "\n",
    "funcion_zona(lista=lista_informacion)       \n",
    "    \n",
    "\n"
   ]
  },
  {
   "cell_type": "code",
   "execution_count": null,
   "metadata": {},
   "outputs": [],
   "source": []
  },
  {
   "cell_type": "code",
   "execution_count": null,
   "metadata": {},
   "outputs": [],
   "source": []
  },
  {
   "cell_type": "code",
   "execution_count": null,
   "metadata": {},
   "outputs": [],
   "source": []
  },
  {
   "cell_type": "code",
   "execution_count": null,
   "metadata": {},
   "outputs": [],
   "source": []
  },
  {
   "cell_type": "code",
   "execution_count": 2,
   "metadata": {},
   "outputs": [
    {
     "name": "stdout",
     "output_type": "stream",
     "text": "1 2\n"
    }
   ],
   "source": [
    "n = 1\n",
    "m = 2\n",
    "print(str(n) + \" \" + str(m))"
   ]
  },
  {
   "cell_type": "markdown",
   "execution_count": null,
   "metadata": {},
   "outputs": [],
   "source": []
  },
  {
   "cell_type": "code",
   "execution_count": 3,
   "metadata": {},
   "outputs": [
    {
     "name": "stdout",
     "output_type": "stream",
     "text": "2string\n"
    }
   ],
   "source": [
    "# Tipos\n",
    "\n",
    "x = 2  # Enteros \n",
    "y = \"string\"  # String\n",
    "lista = [x, y]  # Lista\n",
    "booleanos = True  # Booleano\n",
    "nada = None\n",
    "\n",
    "guardada_suma = str(x) + y\n",
    "print(guardada_suma)\n",
    "\n"
   ]
  },
  {
   "cell_type": "code",
   "execution_count": 4,
   "metadata": {},
   "outputs": [
    {
     "name": "stdout",
     "output_type": "stream",
     "text": "6\n"
    }
   ],
   "source": [
    "y = 4\n",
    "x = \"2\"\n",
    "h = y + int(x)\n",
    "print(h)"
   ]
  },
  {
   "cell_type": "code",
   "execution_count": 5,
   "metadata": {},
   "outputs": [
    {
     "data": {
      "text/plain": "['2', 4, 6]"
     },
     "execution_count": 5,
     "metadata": {},
     "output_type": "execute_result"
    }
   ],
   "source": [
    "lista = [x, y, h]\n",
    "lista"
   ]
  },
  {
   "cell_type": "code",
   "execution_count": 7,
   "metadata": {},
   "outputs": [
    {
     "name": "stdout",
     "output_type": "stream",
     "text": "4\n6\n"
    }
   ],
   "source": [
    "penultimo_valor = lista[1]\n",
    "ultimo_valor = lista[2]\n",
    "\n",
    "print(penultimo_valor)\n",
    "print(ultimo_valor)"
   ]
  },
  {
   "cell_type": "code",
   "execution_count": 9,
   "metadata": {},
   "outputs": [
    {
     "data": {
      "text/plain": "6"
     },
     "execution_count": 9,
     "metadata": {},
     "output_type": "execute_result"
    }
   ],
   "source": [
    "ultimo_valor = lista[-1]\n",
    "ultimo_valor"
   ]
  },
  {
   "cell_type": "code",
   "execution_count": 10,
   "metadata": {},
   "outputs": [
    {
     "data": {
      "text/plain": "True"
     },
     "execution_count": 10,
     "metadata": {},
     "output_type": "execute_result"
    }
   ],
   "source": [
    "x = 4 \n",
    "y = 6\n",
    "\n",
    "g = (4<=6)\n",
    "g"
   ]
  },
  {
   "cell_type": "code",
   "execution_count": 12,
   "metadata": {},
   "outputs": [
    {
     "name": "stdout",
     "output_type": "stream",
     "text": "Sí\n"
    }
   ],
   "source": [
    "if 4 <= 6:\n",
    "    print(\"Sí\")\n",
    "elif 6 == 6:\n",
    "    print(\"No\")"
   ]
  },
  {
   "cell_type": "code",
   "execution_count": 14,
   "metadata": {},
   "outputs": [
    {
     "data": {
      "text/plain": "False"
     },
     "execution_count": 14,
     "metadata": {},
     "output_type": "execute_result"
    }
   ],
   "source": [
    "g = 4 <= 6\n",
    "j = 5 == 5\n",
    "u = 7 > 8\n",
    "u"
   ]
  },
  {
   "cell_type": "code",
   "execution_count": 15,
   "metadata": {},
   "outputs": [
    {
     "name": "stdout",
     "output_type": "stream",
     "text": "False\nj\n"
    }
   ],
   "source": [
    "if u:\n",
    "    print(\"u\")\n",
    "elif g:\n",
    "    print(u)\n",
    "    \n",
    "if j:\n",
    "    print(\"j\")\n",
    "else: \n",
    "    print(g)"
   ]
  },
  {
   "cell_type": "code",
   "execution_count": null,
   "metadata": {},
   "outputs": [],
   "source": []
  },
  {
   "cell_type": "code",
   "execution_count": 18,
   "metadata": {},
   "outputs": [],
   "source": [
    "lista = [\"x\", \"y\", 1, [\"h\", 6, 7]]"
   ]
  },
  {
   "cell_type": "code",
   "execution_count": 19,
   "metadata": {},
   "outputs": [
    {
     "data": {
      "text/plain": "4"
     },
     "execution_count": 19,
     "metadata": {},
     "output_type": "execute_result"
    }
   ],
   "source": [
    "len(lista)"
   ]
  },
  {
   "cell_type": "code",
   "execution_count": 20,
   "metadata": {},
   "outputs": [
    {
     "name": "stdout",
     "output_type": "stream",
     "text": "x\ny\n1\n['h', 6, 7]\n"
    }
   ],
   "source": [
    "for elemento in lista:\n",
    "    print(elemento)"
   ]
  },
  {
   "cell_type": "code",
   "execution_count": 22,
   "metadata": {},
   "outputs": [
    {
     "name": "stdout",
     "output_type": "stream",
     "text": "x\ny\n1\n"
    }
   ],
   "source": [
    "for elemento in lista:\n",
    "    if elemento == 1:\n",
    "        print(elemento)\n",
    "        break\n",
    "    print(elemento)"
   ]
  },
  {
   "cell_type": "code",
   "execution_count": 23,
   "metadata": {},
   "outputs": [
    {
     "name": "stdout",
     "output_type": "stream",
     "text": "0\n1\n2\n3\n"
    }
   ],
   "source": [
    "# acumuladores\n",
    "lista = [\"x\", \"y\", 1, [\"h\", 6, 7]]\n",
    "acum = 0\n",
    "for e in lista:\n",
    "    print(acum)\n",
    "    acum += 1\n"
   ]
  },
  {
   "cell_type": "code",
   "execution_count": 25,
   "metadata": {},
   "outputs": [
    {
     "name": "stdout",
     "output_type": "stream",
     "text": "y\n"
    }
   ],
   "source": [
    "acum = 0\n",
    "for e in lista: \n",
    "    if acum == 1:\n",
    "        print(e)\n",
    "    acum = acum + 1"
   ]
  },
  {
   "cell_type": "code",
   "execution_count": 26,
   "metadata": {},
   "outputs": [
    {
     "name": "stdout",
     "output_type": "stream",
     "text": "1\n"
    }
   ],
   "source": [
    "# Tarea pendiente\n",
    "lista = [\"x\", \"y\", 1, [\"h\", 6, 7]]\n",
    "acum = 3\n",
    "for e in lista:\n",
    "    if acum == 1:\n",
    "        print(e)\n",
    "    acum = acum - 1"
   ]
  },
  {
   "cell_type": "code",
   "execution_count": 30,
   "metadata": {},
   "outputs": [
    {
     "name": "stdout",
     "output_type": "stream",
     "text": "( 0 , platano )\n( 1 , manzana )\n( 2 , 1 )\n( 3 , ['pera', 7] )\n"
    }
   ],
   "source": [
    "lista = [\"platano\", \"manzana\", 1, [\"pera\", 7]]\n",
    "for indice, elemento in enumerate(lista):\n",
    "    print(\"(\", indice, \",\", elemento, \")\")\n",
    "    "
   ]
  },
  {
   "cell_type": "code",
   "execution_count": 32,
   "metadata": {},
   "outputs": [
    {
     "name": "stdout",
     "output_type": "stream",
     "text": "platano\n1\n['pera', 7]\n"
    }
   ],
   "source": [
    "lista = [\"platano\", \"manzana\", 1, [\"pera\", 7]]\n",
    "for indice, elemento in enumerate(lista):\n",
    "    if indice != 1:\n",
    "        print(elemento)"
   ]
  },
  {
   "cell_type": "code",
   "execution_count": 33,
   "metadata": {},
   "outputs": [
    {
     "name": "stdout",
     "output_type": "stream",
     "text": "pera\n"
    }
   ],
   "source": [
    "lista = [\"platano\", \"manzana\", 1, [\"pera\", 7]]\n",
    "for indice, elemento in enumerate(lista):\n",
    "    if indice == 3:\n",
    "        print(elemento[0])"
   ]
  },
  {
   "cell_type": "code",
   "execution_count": 34,
   "metadata": {},
   "outputs": [
    {
     "name": "stdout",
     "output_type": "stream",
     "text": "0\n1\n2\n3\n4\n5\n6\n7\n8\n9\n10\n11\n12\n13\n14\n15\n16\n17\n18\n19\n"
    }
   ],
   "source": [
    "for indice in range(20):\n",
    "    print(indice)"
   ]
  },
  {
   "cell_type": "code",
   "execution_count": 35,
   "metadata": {},
   "outputs": [
    {
     "data": {
      "text/plain": "[2]"
     },
     "execution_count": 35,
     "metadata": {},
     "output_type": "execute_result"
    }
   ],
   "source": [
    "lista = []\n",
    "lista.append(2)\n",
    "lista"
   ]
  },
  {
   "cell_type": "code",
   "execution_count": 36,
   "metadata": {},
   "outputs": [
    {
     "data": {
      "text/plain": "[0, 1, 2, 3, 4, 5, 6, 7, 8, 9, 10, 11, 12, 13, 14, 15, 16, 17, 18, 19]"
     },
     "execution_count": 36,
     "metadata": {},
     "output_type": "execute_result"
    }
   ],
   "source": [
    "lista = []\n",
    "for indice in range(20):\n",
    "    lista.append(indice)\n",
    "\n",
    "\n",
    "for indice in lista:\n",
    "    lista.append(indice)"
   ]
  },
  {
   "cell_type": "code",
   "execution_count": 38,
   "metadata": {},
   "outputs": [
    {
     "name": "stdout",
     "output_type": "stream",
     "text": "Tamaño de lista: 4\nplatano\nmanzana\n1\n['pera', 7]\n"
    }
   ],
   "source": [
    "lista = [\"platano\", \"manzana\", 1, [\"pera\", 7]]\n",
    "print(\"Tamaño de lista:\", len(lista))\n",
    "for indice in range(len(lista)):\n",
    "    print(lista[indice])"
   ]
  },
  {
   "cell_type": "code",
   "execution_count": 42,
   "metadata": {},
   "outputs": [
    {
     "name": "stdout",
     "output_type": "stream",
     "text": "Homer\n120\n"
    }
   ],
   "source": [
    "lista1 = [\"Homer\", \"Marge\"]\n",
    "lista2 = [120, 60]\n",
    "lista3 = [40, 38]\n",
    "\n",
    "print(lista1[0])\n",
    "print(lista2[0])"
   ]
  },
  {
   "cell_type": "code",
   "execution_count": 43,
   "metadata": {},
   "outputs": [
    {
     "name": "stdout",
     "output_type": "stream",
     "text": "[0, 1]\nHomer\n120\n40\nMarge\n60\n38\n"
    }
   ],
   "source": [
    "lista = []\n",
    "for indice in range(2):\n",
    "    lista.append(indice)\n",
    "print(lista)\n",
    "\n",
    "for indice in range(2):\n",
    "    print(lista1[indice])\n",
    "    print(lista2[indice])\n",
    "    print(lista3[indice])\n"
   ]
  },
  {
   "cell_type": "code",
   "execution_count": null,
   "metadata": {},
   "outputs": [],
   "source": []
  }
 ]
}