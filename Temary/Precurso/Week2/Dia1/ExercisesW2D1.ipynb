{
 "nbformat": 4,
 "nbformat_minor": 2,
 "metadata": {
  "language_info": {
   "name": "python",
   "codemirror_mode": {
    "name": "ipython",
    "version": 3
   },
   "version": "3.7.4-final"
  },
  "orig_nbformat": 2,
  "file_extension": ".py",
  "mimetype": "text/x-python",
  "name": "python",
  "npconvert_exporter": "python",
  "pygments_lexer": "ipython3",
  "version": 3,
  "kernelspec": {
   "name": "python3",
   "display_name": "Python 3"
  }
 },
 "cells": [
  {
   "cell_type": "markdown",
   "execution_count": null,
   "metadata": {},
   "outputs": [],
   "source": [
    "## Bootcamp Data Science - The Brige. Febrero 2020. Precurso. "
   ]
  },
  {
   "cell_type": "markdown",
   "execution_count": null,
   "metadata": {},
   "outputs": [],
   "source": [
    "## Repaso\n",
    "\n",
    "1. Variables y tipos:\n",
    "    - Creación de variables\n",
    "    - String\n",
    "    - Enteros\n",
    "    - Booleanos\n",
    "    - None (Ningún tipo)\n",
    "2. Operadores lógicos:\n",
    "    - Suma\n",
    "    - Resta\n",
    "    - División\n",
    "    - División absoluta\n",
    "    - Exponente\n",
    "    - Multiplicación\n",
    "    - And, or, not\n",
    "3. Listas, Tuplas y Set (Conjuntos):\n",
    "    - Acceso a dato por posiciones\n",
    "    - Tamaño de lista \n",
    "    - Listas dentro de listas\n",
    "    - Añadir datos a la listas\n",
    "    - Eliminar datos de listas\n",
    "4. Bucles:\n",
    "    - For\n",
    "    - range\n",
    "    - enumerate\n",
    "    - break\n",
    "    - while\n",
    "5. Funciones:\n",
    "    - Función con parámetros\n",
    "    - Funciones dentro de Funciones\n",
    "    - Funciones recursivas\n",
    "    - Return\n",
    "6. Input \n"
   ]
  },
  {
   "cell_type": "markdown",
   "execution_count": null,
   "metadata": {},
   "outputs": [],
   "source": [
    "## Ejercicios:\n",
    "\n",
    "### Apartado 1:\n",
    "\n",
    "1. Crea una variable llamada 'numero_bridge' que tenga como valor 15. Tipo entero.\n",
    "2. Crea una variable llamada 'nombre_calle' que sea un string y sea 'Recoletos'\n",
    "3. Crea una variable llamada 'gusto_personal' que sea True si eres más de playa y False si eres más de montaña.\n",
    "4. Crea una variable llamada 'nada' de la siguiente forma: 'nada = None'. None no representa ningún valor. Ha de tenerse en cuenta que si se hace 'if (nada):', 'nada' actúa como un valor booleano False. Para más información, observar el primer ejemplo de abajo.\n",
    "5. Crea una variable que llamada 'lista_direccion' que sea una lista y que contenga 2 valores. El primer valor debe ser la variable 'numero_bridge' y el segundo valor de la lista debe ser la variable 'nombre_calle'\n",
    "6. Crea una variable llamada 'horas_sueno' que almacene, en forma de String, las horas que has dormido hoy. Ejemplo: horas_sueno = \"8\" \n",
    "6. Crea una lista llamada 'lista_informacion' que tenga cada una de las variables creadas anteriormente en el orden en el que se han expuesto en el ejercicio.\n",
    "\n",
    "IMPORTANTE: A partir de este momento y para todos estos ejercicios, solo se van a utilizar los datos almacenados en 'lista_informacion'. Debe contener 6 elementos. "
   ]
  },
  {
   "cell_type": "code",
   "execution_count": 56,
   "metadata": {},
   "outputs": [
    {
     "name": "stdout",
     "output_type": "stream",
     "text": "Entra en el else porque la variable 'nada' actúa como un booleano False\n"
    }
   ],
   "source": [
    "nada = None\n",
    "if nada:\n",
    "    print(\"Entra en el if\")\n",
    "else: \n",
    "    print(\"Entra en el else porque la variable 'nada' actúa como un booleano False\")"
   ]
  },
  {
   "cell_type": "markdown",
   "execution_count": null,
   "metadata": {},
   "outputs": [],
   "source": [
    "### Creación de variables del apartado 1.\n",
    "\n",
    "gusto_personal = True  # Si te gusta más la montaña\n",
    "\n",
    "gusto_personal = False  # Si te gusta más la playa"
   ]
  },
  {
   "cell_type": "code",
   "execution_count": 62,
   "metadata": {},
   "outputs": [
    {
     "name": "stdout",
     "output_type": "stream",
     "text": "[15, 'Recoletos', True, None, [15, 'Recoletos'], '7']\n"
    }
   ],
   "source": [
    "### Escribe aquí tu código para el apartado 1. Cuando acabes, ejecuta la celda para que las variables se queden en la memoria. \n",
    "\n",
    "numero_bridge = 15\n",
    "nombre_calle = \"Recoletos\"\n",
    "gusto_personal = True\n",
    "nada = None\n",
    "lista_direccion = [numero_bridge, nombre_calle]\n",
    "horas_sueno = \"7\"\n",
    "\n",
    "lista_informacion = [numero_bridge, nombre_calle, gusto_personal, nada, lista_direccion, horas_sueno]\n",
    "print(lista_informacion)\n"
   ]
  },
  {
   "cell_type": "markdown",
   "execution_count": null,
   "metadata": {},
   "outputs": [],
   "source": [
    "### Borrar variables. Del\n",
    "Ejecuta esta celda de jupyter para borrar todas las variables que has tenido que crear antes. El contenido de 'lista_informacion' no cambiará. De esta forma, nos aseguraremos de que solo uses la información de 'lista_informacion'. "
   ]
  },
  {
   "cell_type": "code",
   "execution_count": 63,
   "metadata": {},
   "outputs": [],
   "source": [
    "# Ejecuta esta celda cuando las variables del apartado 1 ya han sido creadas y guardadas en memoria.\n",
    "del numero_bridge\n",
    "del nombre_calle\n",
    "del gusto_personal \n",
    "del nada\n",
    "del lista_direccion\n",
    "del horas_sueno"
   ]
  },
  {
   "cell_type": "markdown",
   "execution_count": null,
   "metadata": {},
   "outputs": [],
   "source": [
    "## Apartado 2\n",
    "\n",
    "### Ejercicios con 'lista_informacion'. Recuerda no usar las variables excepto 'lista_informacion'. Leer cada punto hasta el final antes de hacer la tarea. "
   ]
  },
  {
   "cell_type": "markdown",
   "execution_count": null,
   "metadata": {},
   "outputs": [],
   "source": [
    "### Apartado 2\n",
    "\n",
    "1. Mostrar por pantalla, sin uso de funciones ni bucles: \n",
    "    - La concatenación del número de The Bridge, dos puntos y el nombre de la calle. \n",
    "    - La suma del número de The Bridge y las horas que has dormido hoy. \n",
    "    - La concatenación del número de The Bridge, el nombre de la calle, tu gusto personal y las horas de sueño. Cada uno debe estar separado por lo siguiente: \" : \".\n",
    "    - Accediendo a la lista de la quinta posición de 'lista_informacion' muestra por pantalla la suma de lo siguiente (si la quinta posición de tu 'lista_informacion' no es una lista, pregunta a los profesores):\n",
    "        - La concatenación de los dos elementos. \n",
    "        - La multiplicación del tamaño de la lista de la quinta posición de 'lista_informacion' y el tamaño del número de caracteres que tiene el nombre de la calle."
   ]
  },
  {
   "cell_type": "code",
   "execution_count": 64,
   "metadata": {},
   "outputs": [
    {
     "name": "stdout",
     "output_type": "stream",
     "text": "[15, 'Recoletos', True, None, [15, 'Recoletos'], '7']\n"
    }
   ],
   "source": [
    "print(lista_informacion)"
   ]
  },
  {
   "cell_type": "code",
   "execution_count": 65,
   "metadata": {},
   "outputs": [
    {
     "name": "stdout",
     "output_type": "stream",
     "text": "15: Recoletos\n"
    }
   ],
   "source": [
    "print(str(lista_informacion[0]) + \": \" + lista_informacion[1])"
   ]
  },
  {
   "cell_type": "code",
   "execution_count": 66,
   "metadata": {},
   "outputs": [
    {
     "name": "stdout",
     "output_type": "stream",
     "text": "22\n"
    }
   ],
   "source": [
    "print(lista_informacion[0] + int(lista_informacion[5]))"
   ]
  },
  {
   "cell_type": "code",
   "execution_count": 67,
   "metadata": {},
   "outputs": [
    {
     "name": "stdout",
     "output_type": "stream",
     "text": "15 : Recoletos : True : 7\n"
    }
   ],
   "source": [
    "print(str(lista_informacion[0]) + \" : \" + lista_informacion[1] + \" : \" + str(lista_informacion[2]) + \" : \" + str(lista_informacion[5]))"
   ]
  },
  {
   "cell_type": "code",
   "execution_count": 68,
   "metadata": {},
   "outputs": [
    {
     "name": "stdout",
     "output_type": "stream",
     "text": "15Recoletos\n"
    }
   ],
   "source": [
    "print(str(lista_informacion[4][0]) + str(lista_informacion[4][1]))"
   ]
  },
  {
   "cell_type": "code",
   "execution_count": 69,
   "metadata": {},
   "outputs": [
    {
     "name": "stdout",
     "output_type": "stream",
     "text": "18\n"
    }
   ],
   "source": [
    "print(len(lista_informacion[4]) * len(lista_informacion[1]))"
   ]
  },
  {
   "cell_type": "markdown",
   "execution_count": null,
   "metadata": {},
   "outputs": [],
   "source": [
    "### Apartado 2\n",
    "\n",
    "2. Dentro de funciones con el nombre que decidáis, con un argumento de entrada llamado 'lista' siendo este la 'lista_informacion' cuando se invoque a la función. Cuando sea 'recorre' se refiere a bucle 'for'. Cada punto representa una función y celda de Jupyter diferente:\n",
    "\n",
    "    - Mostrar por pantalla \"Me gusta la tranquilidad\" si te gusta más la montaña y \"Me gusta ver las carnes al aire libre\" si te gusta más la playa.\n",
    "    - Mostrar por pantalla \"Hoy estoy cansado\" si has dormido menos de 7 horas y \"Hoy me como el mundo\" si has dormido más de 7 horas. \n",
    "    - Recorrer 'lista' para mostrar todos los elementos que contiene. \n",
    "    - Recorrer 'lista' para mostrar todos los elementos que contiene concatenado con el string \"--> OK\"\n",
    "    - Recorrer 'lista' para mostrar todos los elementos que contiene excepto el primero\n",
    "    - Recorrer 'lista' para mostrar todos los elementos que contiene excepto el último. \n",
    "    - Recorrer 'lista' para mostrar todos los elementos que contiene excepto el número de la calle y las horas que has dormido.\n",
    "    - Recorrer 'lista' para mostrar todos los elementos que contiene excepto el primer elemento de la lista de la quinta posición. \n",
    "    - Recorrer 'lista' para mostrar todos los elementos que contiene excepto el que contiene la información sobre si os gusta la montaña o playa SI os gusta la montaña.\n",
    "    - Recorrer 'lista' para mostrar el último elemento.\n",
    "    - Crear una variable llamada 'zona' y darle el valor de None. Recorrer 'lista' y actualizar 'zona' a True si y solo si has dormido más de 7 horas, te gusta la playa y la suma de las horas que has dormido más el número de The Bridge es menor a 24. Para cualquier otro caso, 'zona' será False. Retornar el valor de 'zona'. Esta función se llamará 'funcion_zona'.\n",
    "    - Dentro de una función llamada 'funcion_comprobacion' que recibe solo un parámetro llamado 'valor_zona' que será el valor que devuelve la función 'funcion_zona' cuando sea invocado, mostrar el valor de 'valor_zona' si es True."
   ]
  },
  {
   "cell_type": "code",
   "execution_count": 70,
   "metadata": {},
   "outputs": [
    {
     "name": "stdout",
     "output_type": "stream",
     "text": "[15, 'Recoletos', True, None, [15, 'Recoletos'], '7']\n"
    }
   ],
   "source": [
    "print(lista_informacion)"
   ]
  },
  {
   "cell_type": "code",
   "execution_count": 71,
   "metadata": {},
   "outputs": [
    {
     "name": "stdout",
     "output_type": "stream",
     "text": "Me gusta la tranquilidad\n"
    }
   ],
   "source": [
    "## Mostrar por pantalla \"Me gusta la tranquilidad\" si te gusta más la montaña y \"Me gusta ver las carnes al aire libre\" si te gusta más la playa.\n",
    "\n",
    "def que_me_gusta(lista):\n",
    "    if lista_informacion[2] == True:\n",
    "        print(\"Me gusta la tranquilidad\")\n",
    "    else:\n",
    "        print(\"Me gusta ver las carnes al aire libre\")\n",
    "\n",
    "que_me_gusta(lista_informacion)"
   ]
  },
  {
   "cell_type": "code",
   "execution_count": 72,
   "metadata": {},
   "outputs": [
    {
     "name": "stdout",
     "output_type": "stream",
     "text": "Hoy me como el mundo\n"
    }
   ],
   "source": [
    "## Mostrar por pantalla \"Hoy estoy cansado\" si has dormido menos de 7 horas y \"Hoy me como el mundo\" si has dormido más de 7 horas.\n",
    "\n",
    "def como_estoy_hoy(lista):\n",
    "    if int(lista_informacion[5]) < 7:\n",
    "        print(\"Hoy estoy cansado\")\n",
    "    else:\n",
    "        print(\"Hoy me como el mundo\")\n",
    "\n",
    "como_estoy_hoy(lista_informacion)"
   ]
  },
  {
   "cell_type": "code",
   "execution_count": 73,
   "metadata": {},
   "outputs": [
    {
     "name": "stdout",
     "output_type": "stream",
     "text": "15\nRecoletos\nTrue\nNone\n[15, 'Recoletos']\n7\n"
    }
   ],
   "source": [
    "## Recorrer 'lista' para mostrar todos los elementos que contiene.\n",
    "\n",
    "def recorrer_lista(lista):\n",
    "    for elemento in lista:\n",
    "        print(elemento)\n",
    "\n",
    "recorrer_lista(lista_informacion)"
   ]
  },
  {
   "cell_type": "code",
   "execution_count": 74,
   "metadata": {},
   "outputs": [
    {
     "name": "stdout",
     "output_type": "stream",
     "text": "15 --> OK\nRecoletos --> OK\nTrue --> OK\nNone --> OK\n[15, 'Recoletos'] --> OK\n7 --> OK\n"
    }
   ],
   "source": [
    "## Recorrer 'lista' para mostrar todos los elementos que contiene concatenado con el string \"--> OK\"\n",
    "\n",
    "def recorrer_lista_ok(lista):\n",
    "    for elemento in lista:\n",
    "        print(elemento, \"--> OK\")\n",
    "\n",
    "recorrer_lista_ok(lista_informacion)"
   ]
  },
  {
   "cell_type": "code",
   "execution_count": 75,
   "metadata": {},
   "outputs": [
    {
     "name": "stdout",
     "output_type": "stream",
     "text": "Recoletos\nTrue\nNone\n[15, 'Recoletos']\n7\n"
    }
   ],
   "source": [
    "## Recorrer 'lista' para mostrar todos los elementos que contiene excepto el primero\n",
    "\n",
    "def recorrer_lista_menos_primero(lista):\n",
    "    acum = 0\n",
    "    for elemento in lista:\n",
    "        if acum != 0:\n",
    "            print(elemento)\n",
    "        acum = acum + 1\n",
    "        \n",
    "recorrer_lista_menos_primero(lista_informacion)\n"
   ]
  },
  {
   "cell_type": "code",
   "execution_count": 76,
   "metadata": {},
   "outputs": [
    {
     "name": "stdout",
     "output_type": "stream",
     "text": "Recoletos\nTrue\nNone\n[15, 'Recoletos']\n7\n"
    }
   ],
   "source": [
    "## Segunda Opcion de resolución del anterior, iniciando acum = 1\n",
    "\n",
    "lista_informacion = [15, 'Recoletos', True, None, [15, 'Recoletos'], '7']\n",
    "\n",
    "def recorrer_lista_menos_primero1(lista):\n",
    "    acum = 1\n",
    "    for elemento in lista:\n",
    "        if acum < len(lista):\n",
    "            print(lista[acum])\n",
    "            acum = acum + 1\n",
    "        \n",
    "recorrer_lista_menos_primero1(lista_informacion)"
   ]
  },
  {
   "cell_type": "code",
   "execution_count": 77,
   "metadata": {},
   "outputs": [
    {
     "name": "stdout",
     "output_type": "stream",
     "text": "15\nRecoletos\nTrue\nNone\n[15, 'Recoletos']\n"
    }
   ],
   "source": [
    "## Recorrer 'lista' para mostrar todos los elementos que contiene excepto el último.\n",
    "\n",
    "def recorrer_lista_menos_ultimo(lista):\n",
    "    acum = 0\n",
    "    for elemento in lista:\n",
    "        if acum < (len(lista) -1):\n",
    "            print(elemento)\n",
    "        acum = acum + 1\n",
    "        \n",
    "recorrer_lista_menos_ultimo(lista_informacion)\n"
   ]
  },
  {
   "cell_type": "code",
   "execution_count": 78,
   "metadata": {},
   "outputs": [
    {
     "name": "stdout",
     "output_type": "stream",
     "text": "Recoletos\nTrue\nNone\n[15, 'Recoletos']\n"
    }
   ],
   "source": [
    "## Recorrer 'lista' para mostrar todos los elementos que contiene excepto el número de la calle y las horas que has dormido\n",
    "\n",
    "def recorrer_lista_menos_primero_ultimo(lista):\n",
    "    acum = 0\n",
    "    for elemento in lista:\n",
    "        if (acum != 0) and (acum < (len(lista) -1)):\n",
    "            print(elemento)\n",
    "        acum = acum + 1\n",
    "        \n",
    "recorrer_lista_menos_primero_ultimo(lista_informacion)\n",
    "\n"
   ]
  },
  {
   "cell_type": "code",
   "execution_count": null,
   "metadata": {},
   "outputs": [],
   "source": [
    "## Recorrer 'lista' para mostrar todos los elementos que contiene excepto el primer elemento de la lista de la quinta posición\n",
    "\n",
    "def recorrer_lista_menos_intermedio(lista):\n",
    "    for elemento in lista:\n",
    "        if type(elemento) is list:\n",
    "            print(elemento[1])\n",
    "        else:\n",
    "            print(elemento)\n",
    "\n",
    "recorrer_lista_menos_intermedio(lista_informacion)\n"
   ]
  },
  {
   "cell_type": "code",
   "execution_count": null,
   "metadata": {},
   "outputs": [],
   "source": [
    "## Recorrer 'lista' para mostrar todos los elementos que contiene excepto el que contiene la información sobre si os gusta la montaña o playa SI os gusta la montaña.\n",
    "\n",
    "def recorrer_lista_menos_gusto(lista):\n",
    "    for elemento in lista:\n",
    "        if not((type(elemento) is bool) and (elemento is True)):\n",
    "            print(elemento)\n",
    "\n",
    "recorrer_lista_menos_gusto(lista_informacion)\n"
   ]
  },
  {
   "cell_type": "code",
   "execution_count": null,
   "metadata": {},
   "outputs": [],
   "source": [
    "## Recorrer 'lista' para mostrar el último elemento.\n",
    "\n",
    "def recorrer_lista_mostrar_ultimo(lista):\n",
    "    acum = 0\n",
    "    for elemento in lista:\n",
    "        if acum == (len(lista)-1):\n",
    "            print(elemento)\n",
    "        acum = acum + 1\n",
    "\n",
    "recorrer_lista_mostrar_ultimo(lista_informacion)\n"
   ]
  },
  {
   "cell_type": "code",
   "execution_count": 55,
   "metadata": {},
   "outputs": [
    {
     "name": "stdout",
     "output_type": "stream",
     "text": "[15, 'Recoletos', True, '7', True, 45, 33.5, 'Alain', [0.7, 7.5, 4.5, 9, 3.7]]\n"
    }
   ],
   "source": [
    "print(lista_informacion)"
   ]
  },
  {
   "cell_type": "code",
   "execution_count": 61,
   "metadata": {},
   "outputs": [
    {
     "data": {
      "text/plain": "False"
     },
     "execution_count": 61,
     "metadata": {},
     "output_type": "execute_result"
    }
   ],
   "source": [
    "## Crear una variable llamada 'zona' y darle el valor de None. Recorrer 'lista' y actualizar 'zona' a True si y solo si has dormido más de 7 horas, te gusta la playa y la suma de las horas que has dormido más el número de The Bridge es menor a 24. Para cualquier otro caso, 'zona' será False. Retornar el valor de 'zona'. Esta función se llamará 'funcion_zona'.\n",
    "\n",
    "\n",
    "## COMO EL EJERCICIO NOS DICE QUE TENEMOS QUE RECORRER UNA LISTA, NO EMPLEARIAMOS LAS POSICIONES DIRECTAMENTE SINO QUE NECESITARIAMOS PRIMERO RECORRER LA LISTA PARA ASIGNAR EL VALOR A 'elemento':\n",
    "\n",
    "lista_informacion = [15, 'Recoletos', True, None, [15, 'Recoletos'], '7']\n",
    "\n",
    "def funcion_zona(lista):\n",
    "    zona = None\n",
    "    acum = 0\n",
    "\n",
    "    # Así tenemos las tres variables que nos pide el ejercicio para saber si es True or False:\n",
    "\n",
    "    numero_bridge = None\n",
    "    horas_sueno = None\n",
    "    gusto_personal = None\n",
    "\n",
    "    # Recorre la lista y almacena elementos de posición 0, 2 y 5:\n",
    "    for elemento in lista:\n",
    "        if acum == 0:\n",
    "            numero_bridge = elemento\n",
    "        elif acum == 2:\n",
    "            gusto_personal = elemento\n",
    "        elif acum == 5:\n",
    "            horas_sueno = int(elemento)\n",
    "        acum += 1\n",
    "\n",
    "    # Una vez que hemos identificado los elementos con las posiciones que necesitamos, empezamos a declarar las condiciones que nos pide el ejercicio:  \n",
    "    if (numero_bridge + horas_sueno < 24) and (gusto_personal == True) and (horas_sueno < 7):\n",
    "        zona = True\n",
    "    else:\n",
    "        zona = False\n",
    "    return zona\n",
    "\n",
    "funcion_zona(lista=lista_informacion)\n",
    "\n",
    "\n"
   ]
  },
  {
   "cell_type": "code",
   "execution_count": null,
   "metadata": {},
   "outputs": [],
   "source": [
    "## Dentro de una función llamada 'funcion_comprobacion' que recibe solo un parámetro llamado 'valor_zona' que será el valor que devuelve la función 'funcion_zona' cuando sea invocado, mostrar el valor de 'valor_zona' si es True.\n",
    "\n",
    "def funcion_comprobacion(valor_zona):\n",
    "    if valor_zona is True:\n",
    "        print(zona)\n",
    "\n",
    "funcion_comprobacion(valor_zona=(funcion_zona(lista_informacion)))"
   ]
  },
  {
   "cell_type": "markdown",
   "execution_count": null,
   "metadata": {},
   "outputs": [],
   "source": [
    "3. Dentro de funciones con el nombre que queráis:\n",
    "    - Utilizar la función enumerate del bucle for utilizando la lista de alturas y la lista de alumnos creada en días anteriores (las listas han de estar ordenadas) para: \n",
    "        - Mostrar la altura acompañado del nombre del alumno al que pertenece. \n"
   ]
  },
  {
   "cell_type": "code",
   "execution_count": null,
   "metadata": {},
   "outputs": [],
   "source": [
    "columna1 = [\"Pilar\", \"Cythia\", \"Dio\", \"Sara\"]\n",
    "columna2 = [\"Borja\", \"Gonzalo\"]\n",
    "columna3 = [\"Blanca\", \"Ana\", \"Fran\"]\n",
    "columna4 = [\"Begoña\", \"Maï\", \"Miguel\", \"Eddy\"]\n",
    "lista_alumnos = [columna1, columna2, columna3, columna4]\n",
    "\n",
    "altura_columna1 = [177, 163, 175, 168]\n",
    "altura_columna2 = [200, 182]\n",
    "altura_columna3 = [165, 173, 175]\n",
    "altura_columna4 = [172, 171, 171, 162]\n",
    "lista_altura_alumnos = [altura_columna1, altura_columna2, altura_columna3, altura_columna4]\n",
    "\n",
    "def listar_nombre_altura(lista1, lista2):\n",
    "    for i, fila in enumerate(lista1):\n",
    "        for g, elemento in enumerate(fila):\n",
    "            print(\"Posición:\", i, g, \":\", lista1[i][g], \"-\", lista2[i][g])\n",
    "\n",
    "listar_nombre_altura(lista_alumnos, lista_altura_alumnos)\n",
    "\n"
   ]
  },
  {
   "cell_type": "markdown",
   "execution_count": null,
   "metadata": {},
   "outputs": [],
   "source": [
    "4. Hacer un programa que pregunte si le gusta la montaña al usuario y, si es que no, llame a la función funcion_zona."
   ]
  },
  {
   "cell_type": "code",
   "execution_count": null,
   "metadata": {},
   "outputs": [],
   "source": [
    "x = input(\"¿Te gusta la montaña? Escribe 'si' o 'no'\")\n",
    "if x == \"no\":\n",
    "    print(funcion_zona(lista_informacion))\n",
    "\n"
   ]
  },
  {
   "cell_type": "markdown",
   "execution_count": null,
   "metadata": {},
   "outputs": [],
   "source": [
    "5. Hacer una función que guarde en una variable el valor de 'nada' y lo devuelva por pantalla. Concatenar su valor con el número de the bridge y mostrarlo por pantalla. Ahora, mostrar por pantalla un booleano True si el tamaño de la palabra concatenada es 6. Sino, será False. La función debe retornar el valor True o False. El nombre de la función será 'f_s'."
   ]
  },
  {
   "cell_type": "code",
   "execution_count": null,
   "metadata": {},
   "outputs": [],
   "source": [
    "lista_informacion = [15, 'Recoletos', True, None, [15, 'Recoletos'], '7']\n",
    "\n",
    "def f_s(lista):\n",
    "    x = \"Nada\"\n",
    "    print(x)\n",
    "    print(str(lista[0]) + x)\n",
    "    if ((len(str(lista[0]) + x)) > 6):\n",
    "        print(False)\n",
    "    else:\n",
    "        print(True)\n",
    "\n",
    "f_s(lista_informacion)"
   ]
  },
  {
   "cell_type": "markdown",
   "execution_count": null,
   "metadata": {},
   "outputs": [],
   "source": [
    "6. Crear una lista 'lista_aux' con 7 elementos (los que queráis). Crear una función 'funcion_usa_f_s' que reciba por parámetros dos argumento 'f_s' y 'lista'.  Si el valor de 'f_s' es True, entonces borrar el un elemento de 'lista'. Si 'lista' tiene algún elemento, entonces repetir el proceso hasta que no tenga elementos. La entrada 'lista' ha de ser 'lista_aux' y 'f_s' será la función 'f_s' del punto anterior."
   ]
  },
  {
   "cell_type": "code",
   "execution_count": null,
   "metadata": {},
   "outputs": [],
   "source": [
    "lista_aux = [3, 5, 7, 9, 11, 13, 15]\n",
    "\n",
    "def funcion_usa_f_s(f_s, lista):\n",
    "    acum = 0\n",
    "    while f_s is True:\n",
    "        del lista[acum]\n",
    "        print(lista)\n",
    "    acum = acum + 1\n",
    "\n",
    "funcion_usa_f_s(f_s=f_s(lista_informacion), lista=lista_aux)\n",
    "\n"
   ]
  },
  {
   "cell_type": "markdown",
   "execution_count": null,
   "metadata": {},
   "outputs": [],
   "source": [
    "7. Crear una función 'numeros_pares' que tenga un parámetro de entrada 'arg1' (Entero). La función debe mostrar por pantalla y retornar una lista de números de tamaño 'arg1' siendo números pares."
   ]
  },
  {
   "cell_type": "code",
   "execution_count": null,
   "metadata": {},
   "outputs": [],
   "source": [
    "def numeros_pares(arg1):\n",
    "    lista_pares = list(range(2, ((arg1*2)+1), 2))\n",
    "    return(lista_pares)\n",
    "\n",
    "numeros_pares(20)"
   ]
  },
  {
   "cell_type": "code",
   "execution_count": null,
   "metadata": {},
   "outputs": [],
   "source": [
    "len(numeros_pares(20))"
   ]
  },
  {
   "cell_type": "code",
   "execution_count": null,
   "metadata": {},
   "outputs": [],
   "source": [
    "len(numeros_pares(20))/2"
   ]
  },
  {
   "cell_type": "markdown",
   "execution_count": null,
   "metadata": {},
   "outputs": [],
   "source": [
    "8. Crear una función que tenga una variable de entrada 'arg1' (que será la lista de números pares del apartado anterior) y que elimine elementos de la lista (uno a uno) si 'arg1' tiene un tamaño divisible entre 2 y, si no lo tiene, añada, solo una vez, el valor de la función 'f_s'."
   ]
  },
  {
   "cell_type": "code",
   "execution_count": null,
   "metadata": {},
   "outputs": [],
   "source": [
    "### COMPROBAR SI ESTA BIEN??????\n",
    "\n",
    "lista_informacion = [15, 'Recoletos', True, None, [15, 'Recoletos'], '7']\n",
    "\n",
    "def f_s(lista):\n",
    "    x = \"Nada\"\n",
    "    print(x)\n",
    "    print(str(lista[0]) + x)\n",
    "\n",
    "    if ((len(str(lista[0]) + x)) > 6):\n",
    "\n",
    "        y = False\n",
    "\n",
    "    else:\n",
    "\n",
    "        y = True\n",
    "\n",
    "    print(y)\n",
    "    return(y)\n",
    "\n",
    "def borrar_elementos_pares(arg1):\n",
    "    if ((len(arg1)%2) == 0):\n",
    "        acum = 0\n",
    "        while (len(arg1)!= 0):\n",
    "            del arg1[acum]\n",
    "            print(arg1)\n",
    "        acum = acum + 1\n",
    "    else:\n",
    "        arg1.append(f_s(arg1))\n",
    "\n",
    "    return(arg1)\n",
    "\n",
    "\n",
    "borrar_elementos_pares(arg1=numeros_pares(15))\n"
   ]
  },
  {
   "cell_type": "markdown",
   "execution_count": null,
   "metadata": {},
   "outputs": [],
   "source": [
    "## Apartado 3\n",
    "\n",
    "Para este apartado se utilizará la lista 'lista_información. A esa lista, ha de añadirse UTILIZANDO el método 'append':\n",
    "\n",
    "- Un booleano que sea True si utilizas gafas. False para lo contrario. \n",
    "- Un entero que represente tu edad. \n",
    "- Un float que represente el dinero que te has gastado en tu última compra.\n",
    "- Un string que represente el nombre de uno de tus tí@s. Si no tienes, el nombre de uno de tus herman@s. Si no tienes, alguno de tus abuel@s. Si no tienes, el nombre de tu mejor amigo. Y, si no tienes, el nombre de tu psicólog@.\n",
    "- Una lista que tenga como tamaño 5. Cada una de las posiciones debe representar los números que más te gusten en el rango [[0-100]] dividido entre 10. Es decir, si eliges el 11, el número sería el 1.1. Si eliges el 100, sería el 10.  \n",
    "\n",
    "Por último, han de eliminarse las variables 'none' y 'lista_direccion' de dos formas:\n",
    "\n",
    "- 'nada' con el método 'remove' de una lista. \n",
    "- 'lista_direccion' con el método 'pop' con el que se puede eliminar el elemento de una lista a través de una posición. Para más información, hemos puesto un ejemplo más abajo.\n",
    "\n",
    "\n"
   ]
  },
  {
   "cell_type": "code",
   "execution_count": null,
   "metadata": {},
   "outputs": [],
   "source": [
    "print(lista_informacion)"
   ]
  },
  {
   "cell_type": "code",
   "execution_count": null,
   "metadata": {},
   "outputs": [],
   "source": [
    "lista_informacion.append(True)\n",
    "lista_informacion.append(45)\n",
    "lista_informacion.append(33.50)\n",
    "lista_informacion.append(\"Alain\")\n",
    "lista_informacion.append([0.7, 7.5, 4.5, 9, 3.7])\n",
    "\n",
    "print(lista_informacion)\n"
   ]
  },
  {
   "cell_type": "code",
   "execution_count": null,
   "metadata": {},
   "outputs": [],
   "source": [
    "lista_informacion.remove(lista_informacion[3])\n",
    "print(lista_informacion)"
   ]
  },
  {
   "cell_type": "code",
   "execution_count": null,
   "metadata": {},
   "outputs": [],
   "source": [
    "lista_informacion.pop(3)\n",
    "print(lista_informacion)"
   ]
  },
  {
   "cell_type": "code",
   "execution_count": null,
   "metadata": {},
   "outputs": [],
   "source": [
    "\"\"\"\n",
    "Para eliminar el elemento \"c\" de 'lista_', que está en la segunda posición, hacemos lo siguiente:\n",
    "\"\"\"\n",
    "\n",
    "lista_ = [\"a\", \"b\", \"c\"]\n",
    "elemento_c = lista_.pop(2)\n",
    "print(elemento_c)\n",
    "print(lista_)"
   ]
  },
  {
   "cell_type": "code",
   "execution_count": null,
   "metadata": {},
   "outputs": [],
   "source": [
    "\"\"\"\n",
    "Como puedes ver, el método 'pop' retorna el elemento eliminado. Es opcional guardar el elemento eliminado en una variable. Si no se desea crear una variable que guarde el elemento eliminado, haríamos lo siguiente:\n",
    "\"\"\"\n",
    "\n",
    "lista_ = [\"a\", \"b\", \"c\"]\n",
    "lista_.pop(2)\n",
    "print(lista_)"
   ]
  },
  {
   "cell_type": "markdown",
   "execution_count": null,
   "metadata": {},
   "outputs": [],
   "source": [
    "## Apartado 4. Creación de funciones con return preparatorio. \n",
    "\n",
    "A partir de ahora solo se utilizará la 'lista_informacion' actualizada. La 'lista_informacion' debe contener 9 posiciones. Si no contiene 9, pregunta a los profesores.\n",
    "\n",
    "Crear una nueva celda por cada apartado: \n",
    "\n",
    "- Función 'nb' que reciba por parámetro 'lista' y que retorne el número de The Bridge.\n",
    "- Función 'nc' que reciba por parámetro 'lista' y que retorne el nombre de la calle de The Bridge.\n",
    "- Función 'gp' que reciba por parámetro 'lista' y que retorne tu gusto personal.\n",
    "- Función 'hs' que reciba por parámetro 'lista' y que retorne las horas de sueño.\n",
    "- Función 'ul' que reciba por parámetro 'lista' y que retorne la última posicón de 'lista'.\n",
    "\n",
    "A partir de este momento, si se requiere utilizar uno de estos valores, se accederá a ellos a partir de las funciones anteriormente creadas, no directamente desde la lista."
   ]
  },
  {
   "cell_type": "code",
   "execution_count": null,
   "metadata": {},
   "outputs": [],
   "source": [
    "print(lista_informacion)"
   ]
  },
  {
   "cell_type": "code",
   "execution_count": null,
   "metadata": {},
   "outputs": [],
   "source": [
    "def nb(lista):\n",
    "    return lista[0]"
   ]
  },
  {
   "cell_type": "code",
   "execution_count": null,
   "metadata": {},
   "outputs": [],
   "source": [
    "def nc(lista):\n",
    "    return lista[1]"
   ]
  },
  {
   "cell_type": "code",
   "execution_count": null,
   "metadata": {},
   "outputs": [],
   "source": [
    "def gp(lista):\n",
    "    return lista[2]"
   ]
  },
  {
   "cell_type": "code",
   "execution_count": null,
   "metadata": {},
   "outputs": [],
   "source": [
    "def hs(lista):\n",
    "    return lista[3]"
   ]
  },
  {
   "cell_type": "code",
   "execution_count": null,
   "metadata": {},
   "outputs": [],
   "source": [
    "def ul(lista):\n",
    "    return lista[8]"
   ]
  },
  {
   "cell_type": "markdown",
   "execution_count": null,
   "metadata": {},
   "outputs": [],
   "source": [
    "### Apartado 5. Break en bucles for.\n",
    "\n",
    "Crear una nueva celda por cada apartado: \n",
    "\n",
    "- Función 'string_mayor_5' que reciba por parámetro 'lista' ('lista_informacion'). Se debe recorrer 'lista' transformando cada elemento en string y, si el tamaño del string es mayor a 5, el bucle debe parar. La función ha de devolver el primer elemento con string mayor a 5.\n",
    "\n",
    "- Función 'lista_consecutivos' que recibe por parámetro 'limite'. Debe retornar una lista con números que empiece en el 0 y acabe en el número 'límite'. 'limite' será 18 cuando la función sea invocada. \n",
    "\n",
    "- Función 'posicion_15' que reciba un parámetro 'funcion_lista_consecutivos' y 'lista' y deberá devolver el elemento de la lista que devuelve la función 'lista_consecutivos' que represente la posicion 15. Es dentro de la función 'posicion_15' donde hay que llamar a 'funcion_lista_consecutivos' con el parámetro 'lista' como parámetro de entrada de 'lista_consecutivos'. El argumento 'límite' será 18 cuando 'lista_consecutivos' sea invocada.\n",
    "\n",
    "Ejemplo: \n",
    "x = posicion_15(funcion_lista_consecutivos=lista_consecutivos, lista=lista_informacion)"
   ]
  },
  {
   "cell_type": "code",
   "execution_count": null,
   "metadata": {},
   "outputs": [],
   "source": [
    "print(lista_informacion)"
   ]
  },
  {
   "cell_type": "code",
   "execution_count": null,
   "metadata": {},
   "outputs": [],
   "source": [
    "## Apartado 5.1.: Función 'string_mayor_5' que reciba por parámetro 'lista' ('lista_informacion'). Se debe recorrer 'lista' transformando cada elemento en string y, si el tamaño del string es mayor a 5, el bucle debe parar. La función ha de devolver el primer elemento con string mayor a 5.\n",
    "\n",
    "lista_informacion = [15, 'Recoletos', True, '7', True, 45, 33.5, 'Alain', [0.7, 7.5, 4.5, 9, 3.7]]\n",
    "\n",
    "def string_mayor_5(lista):\n",
    "    for elemento in lista:        \n",
    "        if len(str(elemento)) > 5:\n",
    "            return(elemento)\n",
    "            break\n",
    "        else:\n",
    "            continue\n",
    "\n",
    "string_mayor_5(lista_informacion)"
   ]
  },
  {
   "cell_type": "code",
   "execution_count": null,
   "metadata": {},
   "outputs": [],
   "source": [
    "## Apartado 5.2.: Función 'lista_consecutivos' que recibe por parámetro 'limite'. Debe retornar una lista con números que empiece en el 0 y acabe en el número 'límite'. 'limite' será 18 cuando la función sea invocada. \n",
    "\n",
    "def lista_consecutivos(limite):\n",
    "    numeros_consecutivos = []\n",
    "    acum = 0\n",
    "    while acum <= limite:\n",
    "        numeros_consecutivos.append(acum)\n",
    "        acum = acum + 1\n",
    "    return numeros_consecutivos\n",
    "\n",
    "lista_consecutivos(18)\n"
   ]
  },
  {
   "cell_type": "code",
   "execution_count": null,
   "metadata": {},
   "outputs": [],
   "source": [
    "## Apartado 5.3.: Función 'posicion_15' que reciba un parámetro 'funcion_lista_consecutivos' y 'lista' y deberá devolver el elemento de la lista que devuelve la función 'lista_consecutivos' que represente la posicion 15. Es dentro de la función 'posicion_15' donde hay que llamar a 'funcion_lista_consecutivos' con el parámetro 'lista' como parámetro de entrada de 'lista_consecutivos'. El argumento 'límite' será 18 cuando 'lista_consecutivos' sea invocada.\n",
    "\n",
    "## Ejemplo: \n",
    "## x = posicion_15(funcion_lista_consecutivos=lista_consecutivos, lista=lista_informacion)\n",
    "\n",
    "def posicion_15(funcion_lista_consecutivos, lista):\n",
    "    x = funcion_lista_consecutivos(18)\n",
    "    return x [15]\n",
    "    \n",
    "x = posicion_15(funcion_lista_consecutivos=lista_consecutivos, lista=lista_informacion)\n",
    "print(x)"
   ]
  },
  {
   "cell_type": "code",
   "execution_count": null,
   "metadata": {},
   "outputs": [],
   "source": [
    "## enumerate en bucles for PARA \n",
    "# la izquierda nos da la posicion del elemento, el de la derecha nos da el elemento\n",
    "\n",
    "lista = [\"x\", \"y\", \"z\"]\n",
    "for i, elemento in enumerate(lista):\n",
    "    print(\"Posición\", i)\n",
    "    print(\"Elemento\", elemento)\n",
    "    print(\"\")\n",
    "\n",
    "\n"
   ]
  },
  {
   "cell_type": "code",
   "execution_count": null,
   "metadata": {},
   "outputs": [],
   "source": [
    "# con la palabra reservada break, el bucle parará en ese elemento y no seguirá iterando\n",
    "# Utilizar break es más eficiente porque así no tiene que iterar hasta el final\n",
    "# en el ejemplo siguiente lo hacemos parar cuando llegue al elemento \"y\", y le decimos que nos diga su posición:\n",
    "\n",
    "acum = 0\n",
    "for elemento in lista:\n",
    "    if elemento == \"y\":\n",
    "        break\n",
    "    acum = acum +1\n",
    "print(acum)"
   ]
  },
  {
   "cell_type": "markdown",
   "execution_count": null,
   "metadata": {},
   "outputs": [],
   "source": [
    "## REFUERZO: Ejemplo con 'enumerate' en lista de listas"
   ]
  },
  {
   "cell_type": "code",
   "execution_count": null,
   "metadata": {},
   "outputs": [],
   "source": [
    "# El objetivo es que se muestre el elemento de cada lista, con el correspondiente de la siguiente lista:\n",
    "# En este primer ejemplo sólo estamos accediendo al primer nivel de la lista:\n",
    "\n",
    "lista1 = [[\"x\", \"y\", \"z\"], [\"h\", \"j\", \"k\"]]\n",
    "lista2 = [[10, 20, 30], [50, 60, 70]]\n",
    "\n",
    "\n",
    "for i, elemento in enumerate(lista1):\n",
    "    print(\"Posición:\", i)\n",
    "    print(\"Elemento en lista 1:\", elemento) # en este caso elemento es igual a lista1[i]\n",
    "    print(\"Elemento en lista 2:\", lista2[i])\n",
    "    print(\"\")\n",
    "\n"
   ]
  },
  {
   "cell_type": "code",
   "execution_count": null,
   "metadata": {},
   "outputs": [],
   "source": [
    "# En este segundo paso estamos accediendo al segundo nivel (el elemento lista dentro de una lista)\n",
    "\n",
    "lista1 = [[\"x\", \"y\", \"z\"], [\"h\", \"j\", \"k\"]]\n",
    "lista2 = [[10, 20, 30], [50, 60, 70]]\n",
    "\n",
    "for i, elemento_lista in enumerate(lista1):\n",
    "    for j, elemento in enumerate(elemento_lista):\n",
    "        print([i], [j], \":\", elemento, \"-\", lista2[i][j]) # le pido que imprima las posiciones, y luego los elementos de cada lista que ocupan esa posición\n"
   ]
  },
  {
   "cell_type": "markdown",
   "execution_count": null,
   "metadata": {},
   "outputs": [],
   "source": [
    "## Apartado 6. Bucle while.\n",
    "\n",
    "Crear una nueva celda por cada apartado: \n",
    "\n",
    "- Crear una función reciba por parámetro 'lista' que muestre todos los elementos que tiene usando un bucle while. Llamar a la función con 'lista_informacion'.\n",
    "- Realizar todos los apartados del apartado 2.2 cuyo enunciado aparece la palabra 'recorrer' excepto el que se utiliza la 'lista_direccion' borrada en el apartado 3. \n",
    "- Realizar el apartado 5 con bucle while en vez de bucle for. \n",
    "- Realizar una función que realice la función de fibonacci con un while.\n",
    "\n",
    "\n",
    "\n"
   ]
  },
  {
   "cell_type": "code",
   "execution_count": 31,
   "metadata": {},
   "outputs": [
    {
     "name": "stdout",
     "output_type": "stream",
     "text": "15\nRecoletos\nTrue\n7\nTrue\n45\n33.5\nAlain\n[0.7, 7.5, 4.5, 9, 3.7]\n"
    }
   ],
   "source": [
    "## 6.1.: Crear una función que reciba por parámetro 'lista' que muestre todos los elementos que tiene usando un bucle while. Llamar a la función con 'lista_informacion'.\n",
    "\n",
    "lista_informacion = [15, 'Recoletos', True, '7', True, 45, 33.5, 'Alain', [0.7, 7.5, 4.5, 9, 3.7]]\n",
    "\n",
    "def mi_funcion(lista):\n",
    "    acum = 0\n",
    "    tamano_lista = len(lista)\n",
    "    while (acum < tamano_lista):  ## Como hemos puesto que acum sea menor que el tamaño de la lista, no necesitamos break\n",
    "        print(lista[acum])\n",
    "        acum = acum + 1\n",
    "\n",
    "mi_funcion(lista_informacion)"
   ]
  },
  {
   "cell_type": "code",
   "execution_count": 1,
   "metadata": {},
   "outputs": [
    {
     "name": "stdout",
     "output_type": "stream",
     "text": "2\n4\n6\n8\n10\n"
    }
   ],
   "source": [
    "## 6.1.: SEGUNDA OPCION: Crear una función que reciba por parámetro 'lista' que muestre todos los elementos que tiene usando un bucle while. Llamar a la función con 'lista_informacion'.\n",
    "\n",
    "lista = [2,4,6,8,10]\n",
    "\n",
    "acum = 0\n",
    "while True:\n",
    "\n",
    "# Abrimos un while de forma genérica, no hemos definido la condicion\n",
    "    if acum == len(lista):\n",
    "        break\n",
    "        \n",
    "# Si no hicieramos un break, intentaría ir al siguiente elemento y se saldria de rango\n",
    "\n",
    "    print(lista[acum])\n",
    "    acum = acum + 1"
   ]
  },
  {
   "cell_type": "markdown",
   "execution_count": null,
   "metadata": {},
   "outputs": [],
   "source": [
    "#### Realizar todos los apartados del apartado 2.2 cuyo enunciado aparece la palabra 'recorrer' excepto el que se utiliza la 'lista_direccion' borrada en el apartado 3. \n"
   ]
  },
  {
   "cell_type": "markdown",
   "execution_count": null,
   "metadata": {},
   "outputs": [],
   "source": [
    "- Recorrer 'lista' para mostrar todos los elementos que contiene.\n",
    "- Recorrer 'lista' para mostrar todos los elementos que contiene concatenado con el string \"--> OK\"\n",
    "- Recorrer 'lista' para mostrar todos los elementos que contiene excepto el primero\n",
    "- Recorrer 'lista' para mostrar todos los elementos que contiene excepto el último.\n",
    "- Recorrer 'lista' para mostrar todos los elementos que contiene excepto el número de la calle y las horas que has dormido.\n",
    "- Recorrer 'lista' para mostrar todos los elementos que contiene excepto el primer elemento de la lista de la quinta posición.\n",
    "- Recorrer 'lista' para mostrar todos los elementos que contiene excepto el que contiene la información sobre si os gusta la montaña o playa SI os gusta la montaña.\n",
    "- Recorrer 'lista' para mostrar el último elemento.\n",
    "- Crear una variable llamada 'zona' y darle el valor de None. Recorrer 'lista' y actualizar 'zona' a True si y solo si has dormido más de 7 horas, te gusta la playa y la suma de las horas que has dormido más el número de The Bridge es menor a 24. Para cualquier otro caso, 'zona' será False. Retornar el valor de 'zona'. Esta función se llamará 'funcion_zona'.\n",
    "- Dentro de una función llamada 'funcion_comprobacion' que recibe solo un parámetro llamado 'valor_zona' que será el valor que devuelve la función 'funcion_zona' cuando sea invocado, mostrar el valor de 'valor_zona' si es True."
   ]
  },
  {
   "cell_type": "code",
   "execution_count": null,
   "metadata": {},
   "outputs": [],
   "source": [
    "lista_informacion = [15, 'Recoletos', True, None, [15, 'Recoletos'], '7']"
   ]
  },
  {
   "cell_type": "code",
   "execution_count": null,
   "metadata": {},
   "outputs": [],
   "source": [
    "## Recorrer 'lista' para mostrar todos los elementos que contiene.\n",
    "\n",
    "def recorrer_lista(lista):\n",
    "    acum = 0\n",
    "    while acum < len(lista):\n",
    "        print(lista[acum])\n",
    "        acum = acum + 1\n",
    "    \n",
    "recorrer_lista(lista_informacion)"
   ]
  },
  {
   "cell_type": "code",
   "execution_count": null,
   "metadata": {},
   "outputs": [],
   "source": [
    "## Recorrer 'lista' para mostrar todos los elementos que contiene concatenado con el string \"--> OK\"\n",
    "\n",
    "def recorrer_lista_ok(lista):\n",
    "    acum = 0\n",
    "    while acum < len(lista):\n",
    "        print(lista[acum], \"--> OK\")\n",
    "        acum = acum + 1\n",
    "    \n",
    "recorrer_lista_ok(lista_informacion)"
   ]
  },
  {
   "cell_type": "code",
   "execution_count": null,
   "metadata": {},
   "outputs": [],
   "source": [
    "## Recorrer 'lista' para mostrar todos los elementos que contiene excepto el primero\n",
    "\n",
    "def recorrer_lista_menos_primero(lista):\n",
    "    acum = 1\n",
    "    while acum < len(lista):\n",
    "        print(lista[acum])\n",
    "        acum = acum + 1\n",
    "        \n",
    "recorrer_lista_menos_primero(lista_informacion)"
   ]
  },
  {
   "cell_type": "code",
   "execution_count": null,
   "metadata": {},
   "outputs": [],
   "source": [
    "## Recorrer 'lista' para mostrar todos los elementos que contiene excepto el último.\n",
    "\n",
    "def recorrer_lista_menos_ultimo(lista):\n",
    "    acum = 1\n",
    "    while acum < (len(lista) -1):\n",
    "        print(lista[acum])\n",
    "        acum = acum + 1\n",
    "        \n",
    "recorrer_lista_menos_ultimo(lista_informacion)"
   ]
  },
  {
   "cell_type": "code",
   "execution_count": null,
   "metadata": {},
   "outputs": [],
   "source": [
    "## Recorrer 'lista' para mostrar todos los elementos que contiene excepto el número de la calle y las horas que has dormido\n"
   ]
  },
  {
   "cell_type": "code",
   "execution_count": null,
   "metadata": {},
   "outputs": [],
   "source": [
    "## Recorrer 'lista' para mostrar todos los elementos que contiene excepto el primer elemento de la lista de la quinta posición\n",
    "\n",
    "def recorrer_lista_menos_intermedio(lista):\n",
    "    acum = 0\n",
    "    while acum < len(lista):\n",
    "        if type(lista[acum]) is list:\n",
    "            print(lista[acum][1])\n",
    "        else:\n",
    "            print(lista[acum])\n",
    "        acum = acum + 1\n",
    "\n",
    "recorrer_lista_menos_intermedio(lista_informacion)"
   ]
  },
  {
   "cell_type": "code",
   "execution_count": null,
   "metadata": {},
   "outputs": [],
   "source": [
    "print(lista_informacion)"
   ]
  },
  {
   "cell_type": "code",
   "execution_count": null,
   "metadata": {},
   "outputs": [],
   "source": [
    "## Recorrer 'lista' para mostrar todos los elementos que contiene excepto el que contiene la información sobre si os gusta la montaña o playa SI os gusta la montaña.\n",
    "\n"
   ]
  },
  {
   "cell_type": "code",
   "execution_count": null,
   "metadata": {},
   "outputs": [],
   "source": [
    "## Recorrer 'lista' para mostrar el último elemento.\n",
    "\n"
   ]
  },
  {
   "cell_type": "code",
   "execution_count": null,
   "metadata": {},
   "outputs": [],
   "source": [
    "## Crear una variable llamada 'zona' y darle el valor de None. Recorrer 'lista' y actualizar 'zona' a True si y solo si has dormido más de 7 horas, te gusta la playa y la suma de las horas que has dormido más el número de The Bridge es menor a 24. Para cualquier otro caso, 'zona' será False. Retornar el valor de 'zona'. Esta función se llamará 'funcion_zona'.\n",
    "\n",
    "lista_informacion = [15, 'Recoletos', True, None, [15, 'Recoletos'], '7']\n",
    "\n",
    "\n"
   ]
  },
  {
   "cell_type": "markdown",
   "execution_count": null,
   "metadata": {},
   "outputs": [],
   "source": [
    "## Realizar el apartado 5 con bucle while en vez de bucle for. \n"
   ]
  },
  {
   "cell_type": "markdown",
   "execution_count": null,
   "metadata": {},
   "outputs": [],
   "source": [
    "- Función 'string_mayor_5' que reciba por parámetro 'lista' ('lista_informacion'). Se debe recorrer 'lista' transformando cada elemento en string y, si el tamaño del string es mayor a 5, el bucle debe parar. La función ha de devolver el primer elemento con string mayor a 5.\n",
    "\n",
    "- Función 'lista_consecutivos' que recibe por parámetro 'limite'. Debe retornar una lista con números que empiece en el 0 y acabe en el número 'límite'. 'limite' será 18 cuando la función sea invocada. "
   ]
  },
  {
   "cell_type": "code",
   "execution_count": null,
   "metadata": {},
   "outputs": [],
   "source": [
    "lista_informacion = [15, 'Recoletos', True, None, [15, 'Recoletos'], '7']"
   ]
  },
  {
   "cell_type": "code",
   "execution_count": null,
   "metadata": {},
   "outputs": [],
   "source": [
    "## Función 'string_mayor_5' que reciba por parámetro 'lista' ('lista_informacion'). Se debe recorrer 'lista' transformando cada elemento en string y, si el tamaño del string es mayor a 5, el bucle debe parar. La función ha de devolver el primer elemento con string mayor a 5.\n",
    "\n",
    "lista_informacion = [15, 'Recoletos', True, None, [15, 'Recoletos'], '7']\n",
    "\n",
    "def string_mayor_5(lista):\n",
    "    acum = 0\n",
    "    mayor_5 = None\n",
    "\n",
    "    while acum < len(lista):        \n",
    "        if len(str(lista[acum]))  > 5:\n",
    "            mayor_5 = str(lista[acum])  ## creo la variable con el valor que me piden\n",
    "            break\n",
    "        acum = acum + 1\n",
    "    return(mayor_5)\n",
    "\n",
    "string_mayor_5(lista_informacion)\n"
   ]
  },
  {
   "cell_type": "code",
   "execution_count": null,
   "metadata": {},
   "outputs": [],
   "source": [
    "## Función 'lista_consecutivos' que recibe por parámetro 'limite'. Debe retornar una lista con números que empiece en el 0 y acabe en el número 'límite'. 'limite' será 18 cuando la función sea invocada.\n",
    "\n",
    "def lista_consecutivos(limite):\n",
    "    mi_lista_18 = []\n",
    "    acum = 0\n",
    "    while acum <= limite:\n",
    "        mi_lista_18.append(acum)\n",
    "        acum = acum + 1\n",
    "    return(mi_lista_18)\n",
    "\n",
    "\n",
    "lista_consecutivos(18)"
   ]
  },
  {
   "cell_type": "markdown",
   "execution_count": null,
   "metadata": {},
   "outputs": [],
   "source": [
    "## Realizar una función que realice la función de fibonacci con un while.\n",
    "\n",
    "\n"
   ]
  },
  {
   "cell_type": "code",
   "execution_count": null,
   "metadata": {},
   "outputs": [],
   "source": [
    "## Funcion de Fibonacci con while loop cuando le damos el número de elementos de la serie:\n",
    "\n",
    "# Defino la funcion con un argumento, que es el número de elementos que queremos que tenga la sucesión:\n",
    "\n",
    "def funcion_fibonacci(numero_elementos):\n",
    "\n",
    "# Inicializo los elementos: posición o indice de la sucesion, primer y segundo elemento (que son 0 y 1):\n",
    "\n",
    "    pos = 0\n",
    "    p = 0\n",
    "    s = 1\n",
    "\n",
    "    while (pos <= numero_elementos): # El número máximo de posiciones será el número de elementos que le damos\n",
    "        if (pos <= 1):               # Cuando la sucesión tiene uno o dos elementos\n",
    "            Next = pos\n",
    "        else:                     # Si la sucesión tiene más de dos elementos\n",
    "            Next = p + s          # Establezco una variable Next que es el siguiente elemento, es decir la suma\n",
    "            p = s                 # Actualizo las variables para que tomen el siguiente valor\n",
    "            s = Next\n",
    "        print(pos, Next)          # Imprime la posición (acumulador) por la que pasa y el valor de Next en ese paso\n",
    "        pos = pos + 1             # Actualizo la posición (acumulador)\n",
    "\n",
    "funcion_fibonacci(7)\n"
   ]
  },
  {
   "cell_type": "markdown",
   "execution_count": null,
   "metadata": {},
   "outputs": [],
   "source": [
    "# Notas adicionales:"
   ]
  },
  {
   "cell_type": "code",
   "execution_count": null,
   "metadata": {},
   "outputs": [],
   "source": [
    "x = 0\n",
    "y = 5\n",
    "\n",
    "while (x + y < 10):\n",
    "    print(\"x:\", x)\n",
    "    x = x + 1"
   ]
  },
  {
   "cell_type": "code",
   "execution_count": null,
   "metadata": {},
   "outputs": [],
   "source": [
    "## RECORRER UNA LISTA UTILIZANDO UN BUCLE 'WHILE'\n",
    "\n",
    "lista = [\"x\", \"y\", \"z\"]\n",
    "\n",
    "# si queremos recorrer una lista con un while, entonces sí que necesitamos un acumulador, ya que while no da la posición de la lista\n",
    "\n",
    "acum = 0\n",
    "tamano_lista = len(lista)\n",
    "while(acum <= tamano_lista - 1):\n",
    "    print(lista[acum])\n",
    "    acum += 1"
   ]
  },
  {
   "cell_type": "markdown",
   "execution_count": null,
   "metadata": {},
   "outputs": [],
   "source": [
    "### 'break' para romper una iteración"
   ]
  },
  {
   "cell_type": "code",
   "execution_count": null,
   "metadata": {},
   "outputs": [],
   "source": [
    "## Si en el ejemplo anterior no metemos un acumulador, seguiría iterando hasta el infinito. Hay dos modos de pararlo: o bien pasando la bandera a False, o empleando 'break'\n",
    "\n",
    "bandera = True\n",
    "acum = 0\n",
    "while bandera:\n",
    "    if acum == 20:\n",
    "        break\n",
    "        # bandera = False\n",
    "    acum += 1\n",
    "    print(acum, \":\", 1)"
   ]
  },
  {
   "cell_type": "code",
   "execution_count": null,
   "metadata": {},
   "outputs": [],
   "source": [
    "## CASO 1:\n",
    "\n",
    "lista_acum = []\n",
    "bandera = True\n",
    "acum = 0\n",
    "while bandera:\n",
    "    if acum == 7:\n",
    "        break # rompe el while antes de entrar en esa posición, por eso son 7 elementos.\n",
    "    lista_acum.append(acum)\n",
    "    acum += 1\n",
    "\n",
    "print(\"Tamaño de la lista_acum:\", len(lista_acum))\n",
    "print(lista_acum)"
   ]
  },
  {
   "cell_type": "code",
   "execution_count": null,
   "metadata": {},
   "outputs": [],
   "source": [
    "## CASO 2:\n",
    "\n",
    "lista_acum = []\n",
    "bandera = True\n",
    "acum = 0\n",
    "while bandera:\n",
    "    if acum == 7:\n",
    "        bandera = False # en esta caso, añade un elemento más porque no ha parado la iteración, luego sigue comprobando\n",
    "    lista_acum.append(acum)\n",
    "    acum += 1\n",
    "\n",
    "print(\"Tamaño de la lista_acum:\", len(lista_acum))\n",
    "print(lista_acum)"
   ]
  },
  {
   "cell_type": "code",
   "execution_count": null,
   "metadata": {},
   "outputs": [],
   "source": [
    "## CONTINUE:\n",
    "\n",
    "\n",
    "lista_acum = []\n",
    "bandera = True\n",
    "acum = 0\n",
    "while bandera:\n",
    "    if acum == 7:\n",
    "        bandera = False\n",
    "    elif acum == 4:\n",
    "        continue ## aborta esa iteración, pero vuelve arriba. Es decir, sin leer lo de arriba, nos devuelve al comienzo del 'while'. En este caso no llegaría a actualizar el acumulador. Para evitar esto, lo vemos en el ejemplo siguiente\n",
    "    lista_acum.append(acum)\n",
    "    acum += 1\n",
    "\n",
    "print(\"Tamaño de la lista_acum:\", len(lista_acum))\n",
    "print(lista_acum)"
   ]
  },
  {
   "cell_type": "code",
   "execution_count": null,
   "metadata": {},
   "outputs": [],
   "source": [
    "lista_acum = []\n",
    "bandera = True\n",
    "acum = 0\n",
    "while bandera:\n",
    "    if acum == 7:\n",
    "        bandera = False\n",
    "    elif acum == 4:\n",
    "        acum += 1 ## de esta manera se salta el elemento en la posicion 4.\n",
    "        continue\n",
    "    lista_acum.append(acum)\n",
    "    acum += 1\n",
    "\n",
    "print(\"Tamaño de la lista_acum:\", len(lista_acum))\n",
    "print(lista_acum)"
   ]
  },
  {
   "cell_type": "code",
   "execution_count": null,
   "metadata": {},
   "outputs": [],
   "source": [
    "lista_acum = []\n",
    "bandera = True\n",
    "acum = 0\n",
    "while bandera:\n",
    "    if acum == 7:\n",
    "        bandera = False\n",
    "    elif acum == 4:\n",
    "        acum += 1\n",
    "        continue\n",
    "    else:\n",
    "        break ## En este caso, rompería el while en la primera iteración. Es decir, entra en el while, comprueba que acum no es 7, comprueba que no es 4 (porque acum aún es 0), y en el paso siguiente rompe el while, de modo que no vuelve arriba y pasa directamente a los prints.\n",
    "    lista_acum.append(acum)\n",
    "    acum += 1\n",
    "\n",
    "print(\"Tamaño de la lista_acum:\", len(lista_acum))\n",
    "print(lista_acum)"
   ]
  },
  {
   "cell_type": "markdown",
   "execution_count": null,
   "metadata": {},
   "outputs": [],
   "source": [
    "## Apartado 7. Importación de módulos.\n",
    "\n",
    "- Un módulo representa un fichero de extensión '.py' que contiene código python. Importando un módulo, podemos acceder a todas las variable, funciones y clases no privadas que contiene. \n",
    "\n",
    "- En la propia carpeta del día de hoy, hay un fichero llamado 'nombre_modulo.py'. Vamos a importarlo y usar alguna de sus variables y funciones. "
   ]
  },
  {
   "cell_type": "code",
   "execution_count": null,
   "metadata": {},
   "outputs": [],
   "source": [
    "lista = [2, 4, 6, 8]\n",
    "\n",
    "import numpy as np\n",
    "media = np.mean(lista)\n",
    "print(media)"
   ]
  },
  {
   "cell_type": "code",
   "execution_count": null,
   "metadata": {},
   "outputs": [],
   "source": [
    "## Ejemplo con la libreria proporcionada en los materiales\n",
    "\n",
    "import nombre_modulo as nm\n",
    "\"\"\" 'as' renombra el módulo para su uso en futuras ocasiones. Se utiliza para no tener que escribir el nombre del modulo continuamente.\n",
    "\"\"\"\n",
    "\n",
    "print(nm.var1)\n",
    "print(nm.var2)\n"
   ]
  },
  {
   "cell_type": "markdown",
   "execution_count": null,
   "metadata": {},
   "outputs": [],
   "source": [
    "Al igual que con los demás objetos, una vez que se ha importado el módulo no hace falta importarlo más veces. "
   ]
  },
  {
   "cell_type": "code",
   "execution_count": null,
   "metadata": {},
   "outputs": [],
   "source": [
    "nm.hola_y_adios()"
   ]
  },
  {
   "cell_type": "markdown",
   "execution_count": null,
   "metadata": {},
   "outputs": [],
   "source": [
    "# Apartado 8: Ejercicios\n",
    "\n",
    "- Programa una calculadora que pregunte por pantalla dos números y dos operadores. Se debe realizar primero una operación y luego otra. Trata de definir el mayor número de funciones posibles. \n",
    "- Programa, definiendo funciones, el juego 'piedra, papel o tijera'. \n",
    "- Haz un programa que, a partir de las cadenas \"|\" y \"_\", muestre por pantalla un tablero de ajedrez 8x8. \n",
    "- Haz un programa utilizando 'while' que genere una baraja de cartas de 4 palos distintos. La baraja ha de tener 40 cartas. "
   ]
  },
  {
   "cell_type": "code",
   "execution_count": null,
   "metadata": {},
   "outputs": [],
   "source": [
    "## Programa una calculadora que pregunte por pantalla dos números y dos operadores. Se debe realizar primero una operación y luego otra. Trata de definir el mayor número de funciones posibles.\n",
    "\n",
    "primer_numero = int(input(\"Por favor, indica el primer número:\"))\n",
    "segundo_numero = int(input(\"Por favor, indica el segundo número:\"))\n",
    "primer_operador = str(input(\"Por favor, indica la primera operación: (+,-,*,/)\"))\n",
    "segundo_operador = str(input(\"Por favor, indica la segunda operación: (+,-,*,/)\"))\n",
    "\n",
    "def funcion_suma(primer_numero, segundo_numero):\n",
    "    if primer_operador == \"+\":\n",
    "        print(\"Primero sumamos:\", primer_numero + segundo_numero)\n",
    "funcion_suma(primer_numero, segundo_numero)\n",
    "\n",
    "def funcion_resta(primer_numero, segundo_numero):\n",
    "    if primer_operador == \"-\":\n",
    "        print(\"Primero restamos:\", primer_numero - segundo_numero)\n",
    "funcion_resta(primer_numero, segundo_numero)\n",
    "\n",
    "def funcion_multiplicacion(primer_numero, segundo_numero):\n",
    "    if primer_operador == \"*\":\n",
    "        print(\"Primero multiplicamos:\", primer_numero * segundo_numero)\n",
    "funcion_multiplicacion(primer_numero, segundo_numero)\n",
    "\n",
    "def funcion_division(primer_numero, segundo_numero):\n",
    "    if primer_operador == \"/\":\n",
    "        print(\"Primero dividimos:\", primer_numero / segundo_numero)\n",
    "funcion_division(primer_numero, segundo_numero)\n",
    "\n",
    "def funcion_segunda_suma(primer_numero, segundo_numero):\n",
    "    if segundo_operador == \"+\":\n",
    "        print(\"Luego los sumamos:\", primer_numero + segundo_numero)\n",
    "funcion_segunda_suma(primer_numero, segundo_numero)\n",
    "\n",
    "def funcion_segunda_resta(primer_numero, segundo_numero):\n",
    "    if segundo_operador == \"-\":\n",
    "        print(\"Luego los restamos:\", primer_numero - segundo_numero)\n",
    "funcion_segunda_resta(primer_numero, segundo_numero)\n",
    "\n",
    "def funcion_segunda_multiplicacion(primer_numero, segundo_numero):\n",
    "    if segundo_operador == \"*\":\n",
    "        print(\"Luego los multiplicamos:\", primer_numero * segundo_numero)\n",
    "funcion_segunda_multiplicacion(primer_numero, segundo_numero)\n",
    "\n",
    "def funcion_segunda_division(primer_numero, segundo_numero):\n",
    "    if segundo_operador == \"/\":\n",
    "        print(\"Luego los dividimos:\", primer_numero / segundo_numero)\n",
    "funcion_segunda_division(primer_numero, segundo_numero)\n",
    "\n",
    "\n",
    "\n"
   ]
  },
  {
   "cell_type": "code",
   "execution_count": null,
   "metadata": {},
   "outputs": [],
   "source": [
    "## Programa, definiendo funciones, el juego 'piedra, papel o tijera'.\n",
    "## PRIMERA OPCION CON UNA SOLA TIRADA\n",
    "\n",
    "# Definimos las variables y pedimos los valores a los jugadores\n",
    "\n",
    "jugada_primer_jugador = input(\"Primer jugador: ¿piedra, papel o tijera?\")\n",
    "jugada_segundo_jugador = input(\"Segundo jugador: ¿piedra, papel o tijera?\")\n",
    "\n",
    "# Definimos la funcion:\n",
    "\n",
    "def funcion_juego(jugada_primer_jugador, jugada_segundo_jugador):\n",
    "    \n",
    "    if (jugada_primer_jugador == \"piedra\") and (jugada_segundo_jugador == \"piedra\"):\n",
    "        print(\"Habeis empatado\")\n",
    "    elif (jugada_primer_jugador == \"piedra\") and (jugada_segundo_jugador == \"papel\"):\n",
    "        print(\"Gana el segundo jugador\")\n",
    "    elif (jugada_primer_jugador == \"piedra\") and (jugada_segundo_jugador == \"tijera\"):\n",
    "        print(\"Gana el primer jugador\")\n",
    "    elif (jugada_primer_jugador == \"papel\") and (jugada_segundo_jugador == \"piedra\"):\n",
    "        print(\"Gana el primer jugador\")\n",
    "    elif (jugada_primer_jugador == \"papel\") and (jugada_segundo_jugador == \"papel\"):\n",
    "        print(\"Habeis empatado\")\n",
    "    elif (jugada_primer_jugador == \"papel\") and (jugada_segundo_jugador == \"tijera\"):\n",
    "        print(\"Gana el segundo jugador\")\n",
    "    elif (jugada_primer_jugador == \"tijera\") and(jugada_segundo_jugador == \"piedra\"):\n",
    "        print(\"Gana el segundo jugador\") \n",
    "    elif (jugada_primer_jugador == \"tijera\") and (jugada_segundo_jugador == \"papel\"):\n",
    "        print(\"Gana el primer jugador\") \n",
    "    elif (jugada_primer_jugador == \"tijera\") and (jugada_segundo_jugador == \"tijera\"):\n",
    "        print(\"Habeis empatado\")\n",
    "\n",
    "funcion_juego(jugada_primer_jugador, jugada_segundo_jugador)\n",
    "\n"
   ]
  },
  {
   "cell_type": "code",
   "execution_count": 15,
   "metadata": {},
   "outputs": [
    {
     "name": "stdout",
     "output_type": "stream",
     "text": "Gana el segundo jugador\nMarcador: 0 1\nGana el segundo jugador\nMarcador: 0 2\nGana el segundo jugador\nMarcador: 0 3\n"
    }
   ],
   "source": [
    "## Programa, definiendo funciones, el juego 'piedra, papel o tijera'.\n",
    "## SEGUNDA OPCION: EL MEJOR DE TRES.\n",
    "\n",
    "# Definimos la funcion para pedir las tiradas a los jugadores\n",
    "\n",
    "def funcion_tirada():\n",
    "\n",
    "    jugada_primer_jugador = input(\"¿piedra, papel o tijera?\")\n",
    "    jugada_segundo_jugador = input(\"¿piedra, papel o tijera?\")\n",
    "\n",
    "# Definimos la funcion juego con las variable obtenidas antes:\n",
    "\n",
    "def funcion_juego(jugada_primer_jugador, jugada_segundo_jugador):\n",
    "\n",
    "    tirada = 0\n",
    "    victoria1 = 0\n",
    "    victoria2 = 0\n",
    "\n",
    "    while (tirada < 3):\n",
    "\n",
    "        if (jugada_primer_jugador == \"piedra\") and (jugada_segundo_jugador == \"piedra\"):\n",
    "            print(\"Habeis empatado\")\n",
    "        elif (jugada_primer_jugador == \"piedra\") and (jugada_segundo_jugador == \"papel\"):\n",
    "            victoria2 = victoria2 + 1\n",
    "            print(\"Gana el segundo jugador\")\n",
    "        elif (jugada_primer_jugador == \"piedra\") and (jugada_segundo_jugador == \"tijera\"):\n",
    "            victoria1 = victoria1 + 1\n",
    "            print(\"Gana el primer jugador\")\n",
    "        elif (jugada_primer_jugador == \"papel\") and (jugada_segundo_jugador == \"piedra\"):\n",
    "            victoria1 = victoria1 + 1\n",
    "            print(\"Gana el primer jugador\")\n",
    "        elif (jugada_primer_jugador == \"papel\") and (jugada_segundo_jugador == \"papel\"):\n",
    "            print(\"Habeis empatado\")\n",
    "        elif (jugada_primer_jugador == \"papel\") and (jugada_segundo_jugador == \"tijera\"):\n",
    "            victoria2 = victoria2 + 1\n",
    "            print(\"Gana el segundo jugador\")\n",
    "        elif (jugada_primer_jugador == \"tijera\") and(jugada_segundo_jugador == \"piedra\"):\n",
    "            victoria2 = victoria2 + 1\n",
    "            print(\"Gana el segundo jugador\") \n",
    "        elif (jugada_primer_jugador == \"tijera\") and (jugada_segundo_jugador == \"papel\"):\n",
    "            victoria1 = victoria1 + 1\n",
    "            print(\"Gana el primer jugador\") \n",
    "        elif (jugada_primer_jugador == \"tijera\") and (jugada_segundo_jugador == \"tijera\"):\n",
    "            print(\"Habeis empatado\")\n",
    "\n",
    "        print(\"Marcador:\", victoria1, victoria2)\n",
    "\n",
    "        tirada = tirada + 1\n",
    "\n",
    "funcion_tirada()\n",
    "funcion_juego(jugada_primer_jugador, jugada_segundo_jugador)       \n",
    "     \n"
   ]
  },
  {
   "cell_type": "code",
   "execution_count": 18,
   "metadata": {},
   "outputs": [
    {
     "data": {
      "text/plain": "[[(1, 'corazones'),\n  (2, 'corazones'),\n  (3, 'corazones'),\n  (4, 'corazones'),\n  (5, 'corazones'),\n  (6, 'corazones'),\n  (7, 'corazones'),\n  (8, 'corazones'),\n  (9, 'corazones'),\n  (10, 'corazones')],\n [(1, 'diamantes'),\n  (2, 'diamantes'),\n  (3, 'diamantes'),\n  (4, 'diamantes'),\n  (5, 'diamantes'),\n  (6, 'diamantes'),\n  (7, 'diamantes'),\n  (8, 'diamantes'),\n  (9, 'diamantes'),\n  (10, 'diamantes')],\n [(1, 'picas'),\n  (2, 'picas'),\n  (3, 'picas'),\n  (4, 'picas'),\n  (5, 'picas'),\n  (6, 'picas'),\n  (7, 'picas'),\n  (8, 'picas'),\n  (9, 'picas'),\n  (10, 'picas')],\n [(1, 'tréboles'),\n  (2, 'tréboles'),\n  (3, 'tréboles'),\n  (4, 'tréboles'),\n  (5, 'tréboles'),\n  (6, 'tréboles'),\n  (7, 'tréboles'),\n  (8, 'tréboles'),\n  (9, 'tréboles'),\n  (10, 'tréboles')]]"
     },
     "execution_count": 18,
     "metadata": {},
     "output_type": "execute_result"
    }
   ],
   "source": [
    "## Haz un programa utilizando 'while' que genere una baraja de cartas de 4 palos distintos. La baraja ha de tener 40 cartas.\n",
    "\n",
    "# OPCION CON FOR\n",
    "\n",
    "palos = [\"corazones\",\"diamantes\",\"picas\",\"tréboles\"]\n",
    "[[(carta,palo) for carta in range(1,11)] for palo in palos]\n",
    "\n",
    "\n",
    "\n"
   ]
  },
  {
   "cell_type": "code",
   "execution_count": 30,
   "metadata": {},
   "outputs": [
    {
     "name": "stdout",
     "output_type": "stream",
     "text": "[('1', 'Oros'), ('1', 'Bastos'), ('1', 'Copas'), ('1', 'Espadas'), ('2', 'Oros'), ('2', 'Bastos'), ('2', 'Copas'), ('2', 'Espadas'), ('3', 'Oros'), ('3', 'Bastos'), ('3', 'Copas'), ('3', 'Espadas'), ('4', 'Oros'), ('4', 'Bastos'), ('4', 'Copas'), ('4', 'Espadas'), ('5', 'Oros'), ('5', 'Bastos'), ('5', 'Copas'), ('5', 'Espadas'), ('6', 'Oros'), ('6', 'Bastos'), ('6', 'Copas'), ('6', 'Espadas'), ('7', 'Oros'), ('7', 'Bastos'), ('7', 'Copas'), ('7', 'Espadas'), ('sota', 'Oros'), ('sota', 'Bastos'), ('sota', 'Copas'), ('sota', 'Espadas'), ('caballo', 'Oros'), ('caballo', 'Bastos'), ('caballo', 'Copas'), ('caballo', 'Espadas'), ('rey', 'Oros'), ('rey', 'Bastos'), ('rey', 'Copas'), ('rey', 'Espadas')]\n"
    }
   ],
   "source": [
    "## Haz un programa utilizando 'while' que genere una baraja de cartas de 4 palos distintos. La baraja ha de tener 40 cartas.\n",
    "\n",
    "# OTRA OPCION CON FOR:\n",
    "\n",
    "baraja = []\n",
    "numeros = [\"1\", \"2\", \"3\", \"4\", \"5\", \"6\", \"7\",\n",
    "    \"sota\", \"caballo\", \"rey\"]\n",
    "palos = [\"Oros\", \"Bastos\", \"Copas\", \"Espadas\"]\n",
    "\n",
    "\n",
    "for numero in numeros:\n",
    "    for palo in palos:\n",
    "        carta = (numero, palo)\n",
    "        baraja.append(carta)\n",
    "\n",
    "print(baraja)"
   ]
  },
  {
   "cell_type": "code",
   "execution_count": 54,
   "metadata": {},
   "outputs": [
    {
     "name": "stdout",
     "output_type": "stream",
     "text": "1 Oros\n2 Oros\n3 Oros\n4 Oros\n5 Oros\n6 Oros\n7 Oros\nsota Oros\ncaballo Oros\nrey Oros\n\n1 Bastos\n2 Bastos\n3 Bastos\n4 Bastos\n5 Bastos\n6 Bastos\n7 Bastos\nsota Bastos\ncaballo Bastos\nrey Bastos\n\n1 Copas\n2 Copas\n3 Copas\n4 Copas\n5 Copas\n6 Copas\n7 Copas\nsota Copas\ncaballo Copas\nrey Copas\n\n1 Espadas\n2 Espadas\n3 Espadas\n4 Espadas\n5 Espadas\n6 Espadas\n7 Espadas\nsota Espadas\ncaballo Espadas\nrey Espadas\n\n"
    }
   ],
   "source": [
    "lista_numeros = [\"1\", \"2\", \"3\", \"4\", \"5\", \"6\", \"7\", \"sota\", \"caballo\", \"rey\"]\n",
    "lista_palos = [\"Oros\", \"Bastos\", \"Copas\", \"Espadas\"]\n",
    "\n",
    "def mi_funcion(lista1, lista2):\n",
    "    acum1 = 0\n",
    "    tamano_lista1 = len(lista1)\n",
    "    while (acum1 < tamano_lista1):\n",
    "        print(lista2[0], lista1[acum1])\n",
    "        print(lista2[1], lista1[acum1])\n",
    "        print(lista2[2], lista1[acum1])\n",
    "        print(lista2[3], lista1[acum1])\n",
    "        print(lista2[4], lista1[acum1])\n",
    "        print(lista2[5], lista1[acum1])\n",
    "        print(lista2[6], lista1[acum1])\n",
    "        print(lista2[7], lista1[acum1])\n",
    "        print(lista2[8], lista1[acum1])\n",
    "        print(lista2[9], lista1[acum1])\n",
    "        print(\"\")\n",
    "        acum1 = acum1 + 1\n",
    "        \n",
    "mi_funcion(lista_palos, lista_numeros)"
   ]
  },
  {
   "cell_type": "code",
   "execution_count": null,
   "metadata": {},
   "outputs": [],
   "source": []
  }
 ]
}