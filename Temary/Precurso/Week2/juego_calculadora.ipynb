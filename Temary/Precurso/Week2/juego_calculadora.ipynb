{
 "nbformat": 4,
 "nbformat_minor": 2,
 "metadata": {
  "language_info": {
   "name": "python",
   "codemirror_mode": {
    "name": "ipython",
    "version": 3
   }
  },
  "orig_nbformat": 2,
  "file_extension": ".py",
  "mimetype": "text/x-python",
  "name": "python",
  "npconvert_exporter": "python",
  "pygments_lexer": "ipython3",
  "version": 3
 },
 "cells": [
  {
   "cell_type": "markdown",
   "metadata": {},
   "source": [
    "## Programa una calculadora que pregunte por pantalla dos números y dos operadores. Se debe realizar primero una operación y luego otra. Trata de definir el mayor número de funciones posibles."
   ]
  },
  {
   "cell_type": "code",
   "execution_count": null,
   "metadata": {},
   "outputs": [],
   "source": [
    "primer_numero = int(input(\"Por favor, indica el primer número:\"))\n",
    "segundo_numero = int(input(\"Por favor, indica el segundo número:\"))\n",
    "primer_operador = str(input(\"Por favor, indica la primera operación: (+,-,*,/)\"))\n",
    "segundo_operador = str(input(\"Por favor, indica la segunda operación: (+,-,*,/)\"))\n",
    "\n",
    "def funcion_suma(primer_numero, segundo_numero):\n",
    "    if primer_operador == \"+\":\n",
    "        print(\"Primero sumamos:\", primer_numero + segundo_numero)\n",
    "funcion_suma(primer_numero, segundo_numero)\n",
    "\n",
    "def funcion_resta(primer_numero, segundo_numero):\n",
    "    if primer_operador == \"-\":\n",
    "        print(\"Primero restamos:\", primer_numero - segundo_numero)\n",
    "funcion_resta(primer_numero, segundo_numero)\n",
    "\n",
    "def funcion_multiplicacion(primer_numero, segundo_numero):\n",
    "    if primer_operador == \"*\":\n",
    "        print(\"Primero multiplicamos:\", primer_numero * segundo_numero)\n",
    "funcion_multiplicacion(primer_numero, segundo_numero)\n",
    "\n",
    "def funcion_division(primer_numero, segundo_numero):\n",
    "    if primer_operador == \"/\":\n",
    "        print(\"Primero dividimos:\", primer_numero / segundo_numero)\n",
    "funcion_division(primer_numero, segundo_numero)\n",
    "\n",
    "def funcion_segunda_suma(primer_numero, segundo_numero):\n",
    "    if segundo_operador == \"+\":\n",
    "        print(\"Luego los sumamos:\", primer_numero + segundo_numero)\n",
    "funcion_segunda_suma(primer_numero, segundo_numero)\n",
    "\n",
    "def funcion_segunda_resta(primer_numero, segundo_numero):\n",
    "    if segundo_operador == \"-\":\n",
    "        print(\"Luego los restamos:\", primer_numero - segundo_numero)\n",
    "funcion_segunda_resta(primer_numero, segundo_numero)\n",
    "\n",
    "def funcion_segunda_multiplicacion(primer_numero, segundo_numero):\n",
    "    if segundo_operador == \"*\":\n",
    "        print(\"Luego los multiplicamos:\", primer_numero * segundo_numero)\n",
    "funcion_segunda_multiplicacion(primer_numero, segundo_numero)\n",
    "\n",
    "def funcion_segunda_division(primer_numero, segundo_numero):\n",
    "    if segundo_operador == \"/\":\n",
    "        print(\"Luego los dividimos:\", primer_numero / segundo_numero)\n",
    "funcion_segunda_division(primer_numero, segundo_numero)\n",
    "\n",
    "\n",
    "\n"
   ]
  },
  {
   "cell_type": "code",
   "execution_count": null,
   "metadata": {},
   "outputs": [],
   "source": []
  }
 ]
}