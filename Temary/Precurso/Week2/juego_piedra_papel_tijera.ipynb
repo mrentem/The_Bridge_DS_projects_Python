{
 "nbformat": 4,
 "nbformat_minor": 2,
 "metadata": {
  "language_info": {
   "name": "python",
   "codemirror_mode": {
    "name": "ipython",
    "version": 3
   },
   "version": "3.7.4-final"
  },
  "orig_nbformat": 2,
  "file_extension": ".py",
  "mimetype": "text/x-python",
  "name": "python",
  "npconvert_exporter": "python",
  "pygments_lexer": "ipython3",
  "version": 3,
  "kernelspec": {
   "name": "python37464bitbaseconda2bb33fe5ffce4701a66c14f076279995",
   "display_name": "Python 3.7.4 64-bit ('base': conda)"
  }
 },
 "cells": [
  {
   "cell_type": "markdown",
   "execution_count": null,
   "metadata": {},
   "outputs": [],
   "source": [
    "### PIEDRA, PAPEL, TIJERA:\n",
    "### Programa, definiendo funciones, el juego 'piedra, papel o tijera'"
   ]
  },
  {
   "cell_type": "code",
   "execution_count": 13,
   "metadata": {},
   "outputs": [
    {
     "name": "stdout",
     "output_type": "stream",
     "text": "Gana el primer jugador\n"
    }
   ],
   "source": [
    "## Programa, definiendo funciones, el juego 'piedra, papel o tijera'.\n",
    "## PRIMERA OPCION CON UNA SOLA TIRADA\n",
    "\n",
    "# Definimos las variables y pedimos los valores a los jugadores\n",
    "\n",
    "jugada_primer_jugador = input(\"Primer jugador: ¿piedra, papel o tijera?\")\n",
    "jugada_segundo_jugador = input(\"Segundo jugador: ¿piedra, papel o tijera?\")\n",
    "\n",
    "# Definimos la funcion:\n",
    "\n",
    "def funcion_juego(jugada_primer_jugador, jugada_segundo_jugador):\n",
    "    \n",
    "    if jugada_primer_jugador == jugada_segundo_jugador:\n",
    "        print(\"Habeis empatado\")\n",
    "    elif (jugada_primer_jugador == \"piedra\") and (jugada_segundo_jugador == \"papel\"):\n",
    "        print(\"Gana el segundo jugador\")\n",
    "    elif (jugada_primer_jugador == \"piedra\") and (jugada_segundo_jugador == \"tijera\"):\n",
    "        print(\"Gana el primer jugador\")\n",
    "    elif (jugada_primer_jugador == \"papel\") and (jugada_segundo_jugador == \"piedra\"):\n",
    "        print(\"Gana el primer jugador\")\n",
    "    elif (jugada_primer_jugador == \"papel\") and (jugada_segundo_jugador == \"tijera\"):\n",
    "        print(\"Gana el segundo jugador\")\n",
    "    elif (jugada_primer_jugador == \"tijera\") and(jugada_segundo_jugador == \"piedra\"):\n",
    "        print(\"Gana el segundo jugador\") \n",
    "    elif (jugada_primer_jugador == \"tijera\") and (jugada_segundo_jugador == \"papel\"):\n",
    "        print(\"Gana el primer jugador\")\n",
    "\n",
    "funcion_juego(jugada_primer_jugador, jugada_segundo_jugador)\n",
    "\n"
   ]
  },
  {
   "cell_type": "code",
   "execution_count": 18,
   "metadata": {},
   "outputs": [
    {
     "name": "stdout",
     "output_type": "stream",
     "text": "Gana el segundo jugador\n"
    },
    {
     "ename": "UnboundLocalError",
     "evalue": "local variable 'tirada' referenced before assignment",
     "output_type": "error",
     "traceback": [
      "\u001b[1;31m---------------------------------------------------------------------------\u001b[0m",
      "\u001b[1;31mUnboundLocalError\u001b[0m                         Traceback (most recent call last)",
      "\u001b[1;32m<ipython-input-18-7d0df9ce0d63>\u001b[0m in \u001b[0;36m<module>\u001b[1;34m\u001b[0m\n\u001b[0;32m     42\u001b[0m         \u001b[0mfuncion_tirada\u001b[0m\u001b[1;33m(\u001b[0m\u001b[1;33m)\u001b[0m\u001b[1;33m\u001b[0m\u001b[1;33m\u001b[0m\u001b[0m\n\u001b[0;32m     43\u001b[0m \u001b[1;33m\u001b[0m\u001b[0m\n\u001b[1;32m---> 44\u001b[1;33m \u001b[0mfuncion_juego\u001b[0m\u001b[1;33m(\u001b[0m\u001b[0mjugada_primer_jugador\u001b[0m\u001b[1;33m,\u001b[0m \u001b[0mjugada_segundo_jugador\u001b[0m\u001b[1;33m)\u001b[0m\u001b[1;33m\u001b[0m\u001b[1;33m\u001b[0m\u001b[0m\n\u001b[0m\u001b[0;32m     45\u001b[0m \u001b[1;33m\u001b[0m\u001b[0m\n",
      "\u001b[1;32m<ipython-input-18-7d0df9ce0d63>\u001b[0m in \u001b[0;36mfuncion_juego\u001b[1;34m(jugada_primer_jugador, jugada_segundo_jugador)\u001b[0m\n\u001b[0;32m     40\u001b[0m             \u001b[0mtirada\u001b[0m \u001b[1;33m=\u001b[0m \u001b[0mtirada\u001b[0m \u001b[1;33m+\u001b[0m \u001b[1;36m1\u001b[0m\u001b[1;33m\u001b[0m\u001b[1;33m\u001b[0m\u001b[0m\n\u001b[0;32m     41\u001b[0m \u001b[1;33m\u001b[0m\u001b[0m\n\u001b[1;32m---> 42\u001b[1;33m         \u001b[0mfuncion_tirada\u001b[0m\u001b[1;33m(\u001b[0m\u001b[1;33m)\u001b[0m\u001b[1;33m\u001b[0m\u001b[1;33m\u001b[0m\u001b[0m\n\u001b[0m\u001b[0;32m     43\u001b[0m \u001b[1;33m\u001b[0m\u001b[0m\n\u001b[0;32m     44\u001b[0m \u001b[0mfuncion_juego\u001b[0m\u001b[1;33m(\u001b[0m\u001b[0mjugada_primer_jugador\u001b[0m\u001b[1;33m,\u001b[0m \u001b[0mjugada_segundo_jugador\u001b[0m\u001b[1;33m)\u001b[0m\u001b[1;33m\u001b[0m\u001b[1;33m\u001b[0m\u001b[0m\n",
      "\u001b[1;32m<ipython-input-18-7d0df9ce0d63>\u001b[0m in \u001b[0;36mfuncion_tirada\u001b[1;34m()\u001b[0m\n\u001b[0;32m     38\u001b[0m                 \u001b[0mprint\u001b[0m\u001b[1;33m(\u001b[0m\u001b[1;34m\"Habeis empatado\"\u001b[0m\u001b[1;33m)\u001b[0m\u001b[1;33m\u001b[0m\u001b[1;33m\u001b[0m\u001b[0m\n\u001b[0;32m     39\u001b[0m \u001b[1;33m\u001b[0m\u001b[0m\n\u001b[1;32m---> 40\u001b[1;33m             \u001b[0mtirada\u001b[0m \u001b[1;33m=\u001b[0m \u001b[0mtirada\u001b[0m \u001b[1;33m+\u001b[0m \u001b[1;36m1\u001b[0m\u001b[1;33m\u001b[0m\u001b[1;33m\u001b[0m\u001b[0m\n\u001b[0m\u001b[0;32m     41\u001b[0m \u001b[1;33m\u001b[0m\u001b[0m\n\u001b[0;32m     42\u001b[0m         \u001b[0mfuncion_tirada\u001b[0m\u001b[1;33m(\u001b[0m\u001b[1;33m)\u001b[0m\u001b[1;33m\u001b[0m\u001b[1;33m\u001b[0m\u001b[0m\n",
      "\u001b[1;31mUnboundLocalError\u001b[0m: local variable 'tirada' referenced before assignment"
     ]
    }
   ],
   "source": [
    "## Programa, definiendo funciones, el juego 'piedra, papel o tijera'.\n",
    "## SEGUNDA OPCION: EL MEJOR DE TRES.\n",
    "\n",
    "# Definimos la funcion para pedir las tiradas a los jugadores\n",
    "\n",
    "# Definimos la funcion juego con las variable obtenidas antes:\n",
    "\n",
    "def funcion_juego(jugada_primer_jugador, jugada_segundo_jugador):\n",
    "\n",
    "    tirada = 0   \n",
    "\n",
    "    while (tirada < 3):\n",
    "\n",
    "        def funcion_tirada():\n",
    "\n",
    "            jugada_primer_jugador = input(\"Primer jugador: ¿piedra, papel o tijera?\")\n",
    "            jugada_segundo_jugador = input(\"Primer jugador: ¿piedra, papel o tijera?\")\n",
    "\n",
    "            if (jugada_primer_jugador == \"piedra\") and (jugada_segundo_jugador == \"piedra\"):\n",
    "                print(\"Habeis empatado\")\n",
    "            elif (jugada_primer_jugador == \"piedra\") and (jugada_segundo_jugador == \"papel\"):\n",
    "                print(\"Gana el segundo jugador\")\n",
    "            elif (jugada_primer_jugador == \"piedra\") and (jugada_segundo_jugador == \"tijera\"):\n",
    "                print(\"Gana el primer jugador\")\n",
    "            elif (jugada_primer_jugador == \"papel\") and (jugada_segundo_jugador == \"piedra\"):\n",
    "                print(\"Gana el primer jugador\")\n",
    "            elif (jugada_primer_jugador == \"papel\") and (jugada_segundo_jugador == \"papel\"):\n",
    "                print(\"Habeis empatado\")\n",
    "            elif (jugada_primer_jugador == \"papel\") and (jugada_segundo_jugador == \"tijera\"):\n",
    "                print(\"Gana el segundo jugador\")\n",
    "            elif (jugada_primer_jugador == \"tijera\") and(jugada_segundo_jugador == \"piedra\"):\n",
    "                print(\"Gana el segundo jugador\") \n",
    "            elif (jugada_primer_jugador == \"tijera\") and (jugada_segundo_jugador == \"papel\"):\n",
    "                print(\"Gana el primer jugador\") \n",
    "            elif (jugada_primer_jugador == \"tijera\") and (jugada_segundo_jugador == \"tijera\"):\n",
    "                print(\"Habeis empatado\")\n",
    "\n",
    "            tirada = tirada + 1\n",
    "\n",
    "        funcion_tirada()\n",
    "\n",
    "funcion_juego(jugada_primer_jugador, jugada_segundo_jugador)       \n",
    "     \n"
   ]
  },
  {
   "cell_type": "code",
   "execution_count": null,
   "metadata": {},
   "outputs": [],
   "source": []
  }
 ]
}