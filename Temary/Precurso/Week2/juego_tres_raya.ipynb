{
 "nbformat": 4,
 "nbformat_minor": 2,
 "metadata": {
  "language_info": {
   "name": "python",
   "codemirror_mode": {
    "name": "ipython",
    "version": 3
   },
   "version": "3.7.4-final"
  },
  "orig_nbformat": 2,
  "file_extension": ".py",
  "mimetype": "text/x-python",
  "name": "python",
  "npconvert_exporter": "python",
  "pygments_lexer": "ipython3",
  "version": 3,
  "kernelspec": {
   "name": "python37464bitbaseconda2bb33fe5ffce4701a66c14f076279995",
   "display_name": "Python 3.7.4 64-bit ('base': conda)"
  }
 },
 "cells": [
  {
   "cell_type": "markdown",
   "metadata": {},
   "source": [
    "## Juego Tres en Raya\n",
    "#### (En cuatro pasos)"
   ]
  },
  {
   "cell_type": "code",
   "execution_count": 1,
   "metadata": {},
   "outputs": [
    {
     "name": "stdout",
     "output_type": "stream",
     "text": ".---.---.---\n|   |   |   |   \n.---.---.---\n|   |   |   |   \n.---.---.---\n|   |   |   |   \n.---.---.---\n"
    }
   ],
   "source": [
    "## Primero construimos el tablero, pidiendo el tamaño del tablero \n",
    "\n",
    "# Pedimos el número de filas y columnas que queremos en el tablero:\n",
    "\n",
    "numero_filas = int(input(\"¿Cuántas filas y columnas quieres que tenga el tablero?\"))\n",
    "\n",
    "def pintar_tablero(param1):\n",
    "\n",
    "    acum = 0\n",
    "\n",
    "    while acum < param1:\n",
    "\n",
    "        ## Para imprimir n veces un elemento definido: print(elemento * n)\n",
    "\n",
    "        print(\".---\" * param1)\n",
    "        print(\"|   \" * (param1 + 1))\n",
    "\n",
    "        acum = acum + 1\n",
    "    print(\".---\" * param1)\n",
    "\n",
    "pintar_tablero(numero_filas)"
   ]
  },
  {
   "cell_type": "code",
   "execution_count": null,
   "metadata": {},
   "outputs": [],
   "source": []
  }
 ]
}