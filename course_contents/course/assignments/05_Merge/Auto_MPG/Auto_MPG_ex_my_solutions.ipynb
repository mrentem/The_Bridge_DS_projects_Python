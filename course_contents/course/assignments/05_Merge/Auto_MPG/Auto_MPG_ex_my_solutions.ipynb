{
 "cells": [
  {
   "cell_type": "markdown",
   "execution_count": null,
   "metadata": {},
   "outputs": [],
   "source": [
    "# MPG Cars"
   ]
  },
  {
   "cell_type": "markdown",
   "execution_count": null,
   "metadata": {},
   "outputs": [],
   "source": [
    "### Introduction:\n",
    "\n",
    "\n",
    "### Step 1. Import the necessary libraries"
   ]
  },
  {
   "cell_type": "code",
   "execution_count": 13,
   "metadata": {},
   "outputs": [],
   "source": [
    "import pandas as pd\n",
    "import numpy as np"
   ]
  },
  {
   "cell_type": "markdown",
   "execution_count": null,
   "metadata": {},
   "outputs": [],
   "source": [
    "### Step 2. Import the first dataset [cars1](https://raw.githubusercontent.com/guipsamora/pandas_exercises/master/05_Merge/Auto_MPG/cars1.csv) and [cars2](https://raw.githubusercontent.com/guipsamora/pandas_exercises/master/05_Merge/Auto_MPG/cars2.csv).  "
   ]
  },
  {
   "cell_type": "markdown",
   "execution_count": null,
   "metadata": {},
   "outputs": [],
   "source": [
    "   ### Step 3. Assign each to a to a variable called cars1 and cars2"
   ]
  },
  {
   "cell_type": "code",
   "execution_count": 14,
   "metadata": {},
   "outputs": [],
   "source": [
    "cars1 = pd.read_csv('cars1.csv')\n",
    "cars2 = pd.read_csv('cars2.csv')\n"
   ]
  },
  {
   "cell_type": "code",
   "execution_count": 15,
   "metadata": {},
   "outputs": [
    {
     "name": "stdout",
     "output_type": "stream",
     "text": "<class 'pandas.core.frame.DataFrame'>\nRangeIndex: 198 entries, 0 to 197\nData columns (total 14 columns):\nmpg             198 non-null float64\ncylinders       198 non-null int64\ndisplacement    198 non-null int64\nhorsepower      198 non-null object\nweight          198 non-null int64\nacceleration    198 non-null float64\nmodel           198 non-null int64\norigin          198 non-null int64\ncar             198 non-null object\nUnnamed: 9      0 non-null float64\nUnnamed: 10     0 non-null float64\nUnnamed: 11     0 non-null float64\nUnnamed: 12     0 non-null float64\nUnnamed: 13     0 non-null float64\ndtypes: float64(7), int64(5), object(2)\nmemory usage: 21.8+ KB\n"
    }
   ],
   "source": [
    "cars1.info()"
   ]
  },
  {
   "cell_type": "code",
   "execution_count": 16,
   "metadata": {},
   "outputs": [
    {
     "data": {
      "text/html": "<div>\n<style scoped>\n    .dataframe tbody tr th:only-of-type {\n        vertical-align: middle;\n    }\n\n    .dataframe tbody tr th {\n        vertical-align: top;\n    }\n\n    .dataframe thead th {\n        text-align: right;\n    }\n</style>\n<table border=\"1\" class=\"dataframe\">\n  <thead>\n    <tr style=\"text-align: right;\">\n      <th></th>\n      <th>mpg</th>\n      <th>cylinders</th>\n      <th>displacement</th>\n      <th>horsepower</th>\n      <th>weight</th>\n      <th>acceleration</th>\n      <th>model</th>\n      <th>origin</th>\n      <th>car</th>\n      <th>Unnamed: 9</th>\n      <th>Unnamed: 10</th>\n      <th>Unnamed: 11</th>\n      <th>Unnamed: 12</th>\n      <th>Unnamed: 13</th>\n    </tr>\n  </thead>\n  <tbody>\n    <tr>\n      <td>0</td>\n      <td>18.0</td>\n      <td>8</td>\n      <td>307</td>\n      <td>130</td>\n      <td>3504</td>\n      <td>12.0</td>\n      <td>70</td>\n      <td>1</td>\n      <td>chevrolet chevelle malibu</td>\n      <td>NaN</td>\n      <td>NaN</td>\n      <td>NaN</td>\n      <td>NaN</td>\n      <td>NaN</td>\n    </tr>\n    <tr>\n      <td>1</td>\n      <td>15.0</td>\n      <td>8</td>\n      <td>350</td>\n      <td>165</td>\n      <td>3693</td>\n      <td>11.5</td>\n      <td>70</td>\n      <td>1</td>\n      <td>buick skylark 320</td>\n      <td>NaN</td>\n      <td>NaN</td>\n      <td>NaN</td>\n      <td>NaN</td>\n      <td>NaN</td>\n    </tr>\n    <tr>\n      <td>2</td>\n      <td>18.0</td>\n      <td>8</td>\n      <td>318</td>\n      <td>150</td>\n      <td>3436</td>\n      <td>11.0</td>\n      <td>70</td>\n      <td>1</td>\n      <td>plymouth satellite</td>\n      <td>NaN</td>\n      <td>NaN</td>\n      <td>NaN</td>\n      <td>NaN</td>\n      <td>NaN</td>\n    </tr>\n    <tr>\n      <td>3</td>\n      <td>16.0</td>\n      <td>8</td>\n      <td>304</td>\n      <td>150</td>\n      <td>3433</td>\n      <td>12.0</td>\n      <td>70</td>\n      <td>1</td>\n      <td>amc rebel sst</td>\n      <td>NaN</td>\n      <td>NaN</td>\n      <td>NaN</td>\n      <td>NaN</td>\n      <td>NaN</td>\n    </tr>\n    <tr>\n      <td>4</td>\n      <td>17.0</td>\n      <td>8</td>\n      <td>302</td>\n      <td>140</td>\n      <td>3449</td>\n      <td>10.5</td>\n      <td>70</td>\n      <td>1</td>\n      <td>ford torino</td>\n      <td>NaN</td>\n      <td>NaN</td>\n      <td>NaN</td>\n      <td>NaN</td>\n      <td>NaN</td>\n    </tr>\n  </tbody>\n</table>\n</div>",
      "text/plain": "    mpg  cylinders  displacement horsepower  weight  acceleration  model  \\\n0  18.0          8           307        130    3504          12.0     70   \n1  15.0          8           350        165    3693          11.5     70   \n2  18.0          8           318        150    3436          11.0     70   \n3  16.0          8           304        150    3433          12.0     70   \n4  17.0          8           302        140    3449          10.5     70   \n\n   origin                        car  Unnamed: 9  Unnamed: 10  Unnamed: 11  \\\n0       1  chevrolet chevelle malibu         NaN          NaN          NaN   \n1       1          buick skylark 320         NaN          NaN          NaN   \n2       1         plymouth satellite         NaN          NaN          NaN   \n3       1              amc rebel sst         NaN          NaN          NaN   \n4       1                ford torino         NaN          NaN          NaN   \n\n   Unnamed: 12  Unnamed: 13  \n0          NaN          NaN  \n1          NaN          NaN  \n2          NaN          NaN  \n3          NaN          NaN  \n4          NaN          NaN  "
     },
     "execution_count": 16,
     "metadata": {},
     "output_type": "execute_result"
    }
   ],
   "source": [
    "cars1.head()\n"
   ]
  },
  {
   "cell_type": "code",
   "execution_count": 17,
   "metadata": {},
   "outputs": [
    {
     "data": {
      "text/html": "<div>\n<style scoped>\n    .dataframe tbody tr th:only-of-type {\n        vertical-align: middle;\n    }\n\n    .dataframe tbody tr th {\n        vertical-align: top;\n    }\n\n    .dataframe thead th {\n        text-align: right;\n    }\n</style>\n<table border=\"1\" class=\"dataframe\">\n  <thead>\n    <tr style=\"text-align: right;\">\n      <th></th>\n      <th>mpg</th>\n      <th>cylinders</th>\n      <th>displacement</th>\n      <th>horsepower</th>\n      <th>weight</th>\n      <th>acceleration</th>\n      <th>model</th>\n      <th>origin</th>\n      <th>car</th>\n    </tr>\n  </thead>\n  <tbody>\n    <tr>\n      <td>0</td>\n      <td>33.0</td>\n      <td>4</td>\n      <td>91</td>\n      <td>53</td>\n      <td>1795</td>\n      <td>17.4</td>\n      <td>76</td>\n      <td>3</td>\n      <td>honda civic</td>\n    </tr>\n    <tr>\n      <td>1</td>\n      <td>20.0</td>\n      <td>6</td>\n      <td>225</td>\n      <td>100</td>\n      <td>3651</td>\n      <td>17.7</td>\n      <td>76</td>\n      <td>1</td>\n      <td>dodge aspen se</td>\n    </tr>\n    <tr>\n      <td>2</td>\n      <td>18.0</td>\n      <td>6</td>\n      <td>250</td>\n      <td>78</td>\n      <td>3574</td>\n      <td>21.0</td>\n      <td>76</td>\n      <td>1</td>\n      <td>ford granada ghia</td>\n    </tr>\n    <tr>\n      <td>3</td>\n      <td>18.5</td>\n      <td>6</td>\n      <td>250</td>\n      <td>110</td>\n      <td>3645</td>\n      <td>16.2</td>\n      <td>76</td>\n      <td>1</td>\n      <td>pontiac ventura sj</td>\n    </tr>\n    <tr>\n      <td>4</td>\n      <td>17.5</td>\n      <td>6</td>\n      <td>258</td>\n      <td>95</td>\n      <td>3193</td>\n      <td>17.8</td>\n      <td>76</td>\n      <td>1</td>\n      <td>amc pacer d/l</td>\n    </tr>\n  </tbody>\n</table>\n</div>",
      "text/plain": "    mpg  cylinders  displacement horsepower  weight  acceleration  model  \\\n0  33.0          4            91         53    1795          17.4     76   \n1  20.0          6           225        100    3651          17.7     76   \n2  18.0          6           250         78    3574          21.0     76   \n3  18.5          6           250        110    3645          16.2     76   \n4  17.5          6           258         95    3193          17.8     76   \n\n   origin                 car  \n0       3         honda civic  \n1       1      dodge aspen se  \n2       1   ford granada ghia  \n3       1  pontiac ventura sj  \n4       1       amc pacer d/l  "
     },
     "execution_count": 17,
     "metadata": {},
     "output_type": "execute_result"
    }
   ],
   "source": [
    "cars2.head()"
   ]
  },
  {
   "cell_type": "markdown",
   "execution_count": null,
   "metadata": {},
   "outputs": [],
   "source": [
    "### Step 4. Oops, it seems our first dataset has some unnamed blank columns, fix cars1"
   ]
  },
  {
   "cell_type": "code",
   "execution_count": 18,
   "metadata": {},
   "outputs": [
    {
     "data": {
      "text/html": "<div>\n<style scoped>\n    .dataframe tbody tr th:only-of-type {\n        vertical-align: middle;\n    }\n\n    .dataframe tbody tr th {\n        vertical-align: top;\n    }\n\n    .dataframe thead th {\n        text-align: right;\n    }\n</style>\n<table border=\"1\" class=\"dataframe\">\n  <thead>\n    <tr style=\"text-align: right;\">\n      <th></th>\n      <th>mpg</th>\n      <th>cylinders</th>\n      <th>displacement</th>\n      <th>horsepower</th>\n      <th>weight</th>\n      <th>acceleration</th>\n      <th>model</th>\n      <th>origin</th>\n      <th>car</th>\n    </tr>\n  </thead>\n  <tbody>\n    <tr>\n      <td>0</td>\n      <td>18.0</td>\n      <td>8</td>\n      <td>307</td>\n      <td>130</td>\n      <td>3504</td>\n      <td>12.0</td>\n      <td>70</td>\n      <td>1</td>\n      <td>chevrolet chevelle malibu</td>\n    </tr>\n    <tr>\n      <td>1</td>\n      <td>15.0</td>\n      <td>8</td>\n      <td>350</td>\n      <td>165</td>\n      <td>3693</td>\n      <td>11.5</td>\n      <td>70</td>\n      <td>1</td>\n      <td>buick skylark 320</td>\n    </tr>\n    <tr>\n      <td>2</td>\n      <td>18.0</td>\n      <td>8</td>\n      <td>318</td>\n      <td>150</td>\n      <td>3436</td>\n      <td>11.0</td>\n      <td>70</td>\n      <td>1</td>\n      <td>plymouth satellite</td>\n    </tr>\n    <tr>\n      <td>3</td>\n      <td>16.0</td>\n      <td>8</td>\n      <td>304</td>\n      <td>150</td>\n      <td>3433</td>\n      <td>12.0</td>\n      <td>70</td>\n      <td>1</td>\n      <td>amc rebel sst</td>\n    </tr>\n    <tr>\n      <td>4</td>\n      <td>17.0</td>\n      <td>8</td>\n      <td>302</td>\n      <td>140</td>\n      <td>3449</td>\n      <td>10.5</td>\n      <td>70</td>\n      <td>1</td>\n      <td>ford torino</td>\n    </tr>\n    <tr>\n      <td>...</td>\n      <td>...</td>\n      <td>...</td>\n      <td>...</td>\n      <td>...</td>\n      <td>...</td>\n      <td>...</td>\n      <td>...</td>\n      <td>...</td>\n      <td>...</td>\n    </tr>\n    <tr>\n      <td>193</td>\n      <td>24.0</td>\n      <td>6</td>\n      <td>200</td>\n      <td>81</td>\n      <td>3012</td>\n      <td>17.6</td>\n      <td>76</td>\n      <td>1</td>\n      <td>ford maverick</td>\n    </tr>\n    <tr>\n      <td>194</td>\n      <td>22.5</td>\n      <td>6</td>\n      <td>232</td>\n      <td>90</td>\n      <td>3085</td>\n      <td>17.6</td>\n      <td>76</td>\n      <td>1</td>\n      <td>amc hornet</td>\n    </tr>\n    <tr>\n      <td>195</td>\n      <td>29.0</td>\n      <td>4</td>\n      <td>85</td>\n      <td>52</td>\n      <td>2035</td>\n      <td>22.2</td>\n      <td>76</td>\n      <td>1</td>\n      <td>chevrolet chevette</td>\n    </tr>\n    <tr>\n      <td>196</td>\n      <td>24.5</td>\n      <td>4</td>\n      <td>98</td>\n      <td>60</td>\n      <td>2164</td>\n      <td>22.1</td>\n      <td>76</td>\n      <td>1</td>\n      <td>chevrolet woody</td>\n    </tr>\n    <tr>\n      <td>197</td>\n      <td>29.0</td>\n      <td>4</td>\n      <td>90</td>\n      <td>70</td>\n      <td>1937</td>\n      <td>14.2</td>\n      <td>76</td>\n      <td>2</td>\n      <td>vw rabbit</td>\n    </tr>\n  </tbody>\n</table>\n<p>198 rows × 9 columns</p>\n</div>",
      "text/plain": "      mpg  cylinders  displacement horsepower  weight  acceleration  model  \\\n0    18.0          8           307        130    3504          12.0     70   \n1    15.0          8           350        165    3693          11.5     70   \n2    18.0          8           318        150    3436          11.0     70   \n3    16.0          8           304        150    3433          12.0     70   \n4    17.0          8           302        140    3449          10.5     70   \n..    ...        ...           ...        ...     ...           ...    ...   \n193  24.0          6           200         81    3012          17.6     76   \n194  22.5          6           232         90    3085          17.6     76   \n195  29.0          4            85         52    2035          22.2     76   \n196  24.5          4            98         60    2164          22.1     76   \n197  29.0          4            90         70    1937          14.2     76   \n\n     origin                        car  \n0         1  chevrolet chevelle malibu  \n1         1          buick skylark 320  \n2         1         plymouth satellite  \n3         1              amc rebel sst  \n4         1                ford torino  \n..      ...                        ...  \n193       1              ford maverick  \n194       1                 amc hornet  \n195       1         chevrolet chevette  \n196       1            chevrolet woody  \n197       2                  vw rabbit  \n\n[198 rows x 9 columns]"
     },
     "execution_count": 18,
     "metadata": {},
     "output_type": "execute_result"
    }
   ],
   "source": [
    "# Slicing option:\n",
    "\n",
    "cars_sliced = cars1.loc[:, 'mpg':'car']\n",
    "cars_sliced"
   ]
  },
  {
   "cell_type": "code",
   "execution_count": 19,
   "metadata": {},
   "outputs": [
    {
     "data": {
      "text/html": "<div>\n<style scoped>\n    .dataframe tbody tr th:only-of-type {\n        vertical-align: middle;\n    }\n\n    .dataframe tbody tr th {\n        vertical-align: top;\n    }\n\n    .dataframe thead th {\n        text-align: right;\n    }\n</style>\n<table border=\"1\" class=\"dataframe\">\n  <thead>\n    <tr style=\"text-align: right;\">\n      <th></th>\n      <th>mpg</th>\n      <th>cylinders</th>\n      <th>displacement</th>\n      <th>horsepower</th>\n      <th>weight</th>\n      <th>acceleration</th>\n      <th>model</th>\n      <th>origin</th>\n      <th>car</th>\n    </tr>\n  </thead>\n  <tbody>\n    <tr>\n      <td>0</td>\n      <td>18.0</td>\n      <td>8</td>\n      <td>307</td>\n      <td>130</td>\n      <td>3504</td>\n      <td>12.0</td>\n      <td>70</td>\n      <td>1</td>\n      <td>chevrolet chevelle malibu</td>\n    </tr>\n    <tr>\n      <td>1</td>\n      <td>15.0</td>\n      <td>8</td>\n      <td>350</td>\n      <td>165</td>\n      <td>3693</td>\n      <td>11.5</td>\n      <td>70</td>\n      <td>1</td>\n      <td>buick skylark 320</td>\n    </tr>\n    <tr>\n      <td>2</td>\n      <td>18.0</td>\n      <td>8</td>\n      <td>318</td>\n      <td>150</td>\n      <td>3436</td>\n      <td>11.0</td>\n      <td>70</td>\n      <td>1</td>\n      <td>plymouth satellite</td>\n    </tr>\n    <tr>\n      <td>3</td>\n      <td>16.0</td>\n      <td>8</td>\n      <td>304</td>\n      <td>150</td>\n      <td>3433</td>\n      <td>12.0</td>\n      <td>70</td>\n      <td>1</td>\n      <td>amc rebel sst</td>\n    </tr>\n    <tr>\n      <td>4</td>\n      <td>17.0</td>\n      <td>8</td>\n      <td>302</td>\n      <td>140</td>\n      <td>3449</td>\n      <td>10.5</td>\n      <td>70</td>\n      <td>1</td>\n      <td>ford torino</td>\n    </tr>\n  </tbody>\n</table>\n</div>",
      "text/plain": "    mpg  cylinders  displacement horsepower  weight  acceleration  model  \\\n0  18.0          8           307        130    3504          12.0     70   \n1  15.0          8           350        165    3693          11.5     70   \n2  18.0          8           318        150    3436          11.0     70   \n3  16.0          8           304        150    3433          12.0     70   \n4  17.0          8           302        140    3449          10.5     70   \n\n   origin                        car  \n0       1  chevrolet chevelle malibu  \n1       1          buick skylark 320  \n2       1         plymouth satellite  \n3       1              amc rebel sst  \n4       1                ford torino  "
     },
     "execution_count": 19,
     "metadata": {},
     "output_type": "execute_result"
    }
   ],
   "source": [
    "# Droping option:\n",
    "\n",
    "cars1 = cars1.drop(columns=['Unnamed: 9', 'Unnamed: 10', 'Unnamed: 11', 'Unnamed: 12', 'Unnamed: 13'])\n",
    "cars1.head()"
   ]
  },
  {
   "cell_type": "markdown",
   "execution_count": null,
   "metadata": {},
   "outputs": [],
   "source": [
    "### Step 5. What is the number of observations in each dataset?"
   ]
  },
  {
   "cell_type": "code",
   "execution_count": 20,
   "metadata": {},
   "outputs": [
    {
     "name": "stdout",
     "output_type": "stream",
     "text": "(198, 9)\n(200, 9)\n"
    }
   ],
   "source": [
    "print(cars1.shape)\n",
    "print(cars2.shape)"
   ]
  },
  {
   "cell_type": "code",
   "execution_count": 21,
   "metadata": {},
   "outputs": [
    {
     "data": {
      "text/plain": "(198, 9)"
     },
     "execution_count": 21,
     "metadata": {},
     "output_type": "execute_result"
    }
   ],
   "source": [
    "cars1.shape"
   ]
  },
  {
   "cell_type": "code",
   "execution_count": 22,
   "metadata": {},
   "outputs": [
    {
     "data": {
      "text/plain": "(200, 9)"
     },
     "execution_count": 22,
     "metadata": {},
     "output_type": "execute_result"
    }
   ],
   "source": [
    "cars2.shape"
   ]
  },
  {
   "cell_type": "markdown",
   "execution_count": null,
   "metadata": {},
   "outputs": [],
   "source": [
    "### Step 6. Join cars1 and cars2 into a single DataFrame called cars"
   ]
  },
  {
   "cell_type": "code",
   "execution_count": 23,
   "metadata": {},
   "outputs": [
    {
     "data": {
      "text/html": "<div>\n<style scoped>\n    .dataframe tbody tr th:only-of-type {\n        vertical-align: middle;\n    }\n\n    .dataframe tbody tr th {\n        vertical-align: top;\n    }\n\n    .dataframe thead th {\n        text-align: right;\n    }\n</style>\n<table border=\"1\" class=\"dataframe\">\n  <thead>\n    <tr style=\"text-align: right;\">\n      <th></th>\n      <th>mpg</th>\n      <th>cylinders</th>\n      <th>displacement</th>\n      <th>horsepower</th>\n      <th>weight</th>\n      <th>acceleration</th>\n      <th>model</th>\n      <th>origin</th>\n      <th>car</th>\n    </tr>\n  </thead>\n  <tbody>\n    <tr>\n      <td>0</td>\n      <td>18.0</td>\n      <td>8</td>\n      <td>307</td>\n      <td>130</td>\n      <td>3504</td>\n      <td>12.0</td>\n      <td>70</td>\n      <td>1</td>\n      <td>chevrolet chevelle malibu</td>\n    </tr>\n    <tr>\n      <td>1</td>\n      <td>15.0</td>\n      <td>8</td>\n      <td>350</td>\n      <td>165</td>\n      <td>3693</td>\n      <td>11.5</td>\n      <td>70</td>\n      <td>1</td>\n      <td>buick skylark 320</td>\n    </tr>\n    <tr>\n      <td>2</td>\n      <td>18.0</td>\n      <td>8</td>\n      <td>318</td>\n      <td>150</td>\n      <td>3436</td>\n      <td>11.0</td>\n      <td>70</td>\n      <td>1</td>\n      <td>plymouth satellite</td>\n    </tr>\n    <tr>\n      <td>3</td>\n      <td>16.0</td>\n      <td>8</td>\n      <td>304</td>\n      <td>150</td>\n      <td>3433</td>\n      <td>12.0</td>\n      <td>70</td>\n      <td>1</td>\n      <td>amc rebel sst</td>\n    </tr>\n    <tr>\n      <td>4</td>\n      <td>17.0</td>\n      <td>8</td>\n      <td>302</td>\n      <td>140</td>\n      <td>3449</td>\n      <td>10.5</td>\n      <td>70</td>\n      <td>1</td>\n      <td>ford torino</td>\n    </tr>\n    <tr>\n      <td>...</td>\n      <td>...</td>\n      <td>...</td>\n      <td>...</td>\n      <td>...</td>\n      <td>...</td>\n      <td>...</td>\n      <td>...</td>\n      <td>...</td>\n      <td>...</td>\n    </tr>\n    <tr>\n      <td>393</td>\n      <td>27.0</td>\n      <td>4</td>\n      <td>140</td>\n      <td>86</td>\n      <td>2790</td>\n      <td>15.6</td>\n      <td>82</td>\n      <td>1</td>\n      <td>ford mustang gl</td>\n    </tr>\n    <tr>\n      <td>394</td>\n      <td>44.0</td>\n      <td>4</td>\n      <td>97</td>\n      <td>52</td>\n      <td>2130</td>\n      <td>24.6</td>\n      <td>82</td>\n      <td>2</td>\n      <td>vw pickup</td>\n    </tr>\n    <tr>\n      <td>395</td>\n      <td>32.0</td>\n      <td>4</td>\n      <td>135</td>\n      <td>84</td>\n      <td>2295</td>\n      <td>11.6</td>\n      <td>82</td>\n      <td>1</td>\n      <td>dodge rampage</td>\n    </tr>\n    <tr>\n      <td>396</td>\n      <td>28.0</td>\n      <td>4</td>\n      <td>120</td>\n      <td>79</td>\n      <td>2625</td>\n      <td>18.6</td>\n      <td>82</td>\n      <td>1</td>\n      <td>ford ranger</td>\n    </tr>\n    <tr>\n      <td>397</td>\n      <td>31.0</td>\n      <td>4</td>\n      <td>119</td>\n      <td>82</td>\n      <td>2720</td>\n      <td>19.4</td>\n      <td>82</td>\n      <td>1</td>\n      <td>chevy s-10</td>\n    </tr>\n  </tbody>\n</table>\n<p>398 rows × 9 columns</p>\n</div>",
      "text/plain": "      mpg  cylinders  displacement horsepower  weight  acceleration  model  \\\n0    18.0          8           307        130    3504          12.0     70   \n1    15.0          8           350        165    3693          11.5     70   \n2    18.0          8           318        150    3436          11.0     70   \n3    16.0          8           304        150    3433          12.0     70   \n4    17.0          8           302        140    3449          10.5     70   \n..    ...        ...           ...        ...     ...           ...    ...   \n393  27.0          4           140         86    2790          15.6     82   \n394  44.0          4            97         52    2130          24.6     82   \n395  32.0          4           135         84    2295          11.6     82   \n396  28.0          4           120         79    2625          18.6     82   \n397  31.0          4           119         82    2720          19.4     82   \n\n     origin                        car  \n0         1  chevrolet chevelle malibu  \n1         1          buick skylark 320  \n2         1         plymouth satellite  \n3         1              amc rebel sst  \n4         1                ford torino  \n..      ...                        ...  \n393       1            ford mustang gl  \n394       2                  vw pickup  \n395       1              dodge rampage  \n396       1                ford ranger  \n397       1                 chevy s-10  \n\n[398 rows x 9 columns]"
     },
     "execution_count": 23,
     "metadata": {},
     "output_type": "execute_result"
    }
   ],
   "source": [
    "cars = pd.merge(cars1, cars2, how='outer')\n",
    "cars"
   ]
  },
  {
   "cell_type": "code",
   "execution_count": null,
   "metadata": {},
   "outputs": [],
   "source": [
    "# Other options:\n",
    "\n",
    "#  concatenated = pd.concat([cars1, cars2], axis=1)"
   ]
  },
  {
   "cell_type": "markdown",
   "execution_count": null,
   "metadata": {},
   "outputs": [],
   "source": [
    "### Step 7. Oops, there is a column missing, called owners. Create a random number Series from 15,000 to 73,000."
   ]
  },
  {
   "cell_type": "code",
   "execution_count": 27,
   "metadata": {},
   "outputs": [
    {
     "data": {
      "text/plain": "(398,)"
     },
     "execution_count": 27,
     "metadata": {},
     "output_type": "execute_result"
    }
   ],
   "source": [
    "owners = np.random.randint(15000, 73000, size=len(cars))\n",
    "owners.shape"
   ]
  },
  {
   "cell_type": "markdown",
   "execution_count": null,
   "metadata": {},
   "outputs": [],
   "source": [
    "### Step 8. Add the column owners to cars"
   ]
  },
  {
   "cell_type": "code",
   "execution_count": 28,
   "metadata": {},
   "outputs": [
    {
     "data": {
      "text/html": "<div>\n<style scoped>\n    .dataframe tbody tr th:only-of-type {\n        vertical-align: middle;\n    }\n\n    .dataframe tbody tr th {\n        vertical-align: top;\n    }\n\n    .dataframe thead th {\n        text-align: right;\n    }\n</style>\n<table border=\"1\" class=\"dataframe\">\n  <thead>\n    <tr style=\"text-align: right;\">\n      <th></th>\n      <th>mpg</th>\n      <th>cylinders</th>\n      <th>displacement</th>\n      <th>horsepower</th>\n      <th>weight</th>\n      <th>acceleration</th>\n      <th>model</th>\n      <th>origin</th>\n      <th>car</th>\n      <th>owners</th>\n    </tr>\n  </thead>\n  <tbody>\n    <tr>\n      <td>0</td>\n      <td>18.0</td>\n      <td>8</td>\n      <td>307</td>\n      <td>130</td>\n      <td>3504</td>\n      <td>12.0</td>\n      <td>70</td>\n      <td>1</td>\n      <td>chevrolet chevelle malibu</td>\n      <td>24607</td>\n    </tr>\n    <tr>\n      <td>1</td>\n      <td>15.0</td>\n      <td>8</td>\n      <td>350</td>\n      <td>165</td>\n      <td>3693</td>\n      <td>11.5</td>\n      <td>70</td>\n      <td>1</td>\n      <td>buick skylark 320</td>\n      <td>17318</td>\n    </tr>\n    <tr>\n      <td>2</td>\n      <td>18.0</td>\n      <td>8</td>\n      <td>318</td>\n      <td>150</td>\n      <td>3436</td>\n      <td>11.0</td>\n      <td>70</td>\n      <td>1</td>\n      <td>plymouth satellite</td>\n      <td>69615</td>\n    </tr>\n    <tr>\n      <td>3</td>\n      <td>16.0</td>\n      <td>8</td>\n      <td>304</td>\n      <td>150</td>\n      <td>3433</td>\n      <td>12.0</td>\n      <td>70</td>\n      <td>1</td>\n      <td>amc rebel sst</td>\n      <td>27656</td>\n    </tr>\n    <tr>\n      <td>4</td>\n      <td>17.0</td>\n      <td>8</td>\n      <td>302</td>\n      <td>140</td>\n      <td>3449</td>\n      <td>10.5</td>\n      <td>70</td>\n      <td>1</td>\n      <td>ford torino</td>\n      <td>59954</td>\n    </tr>\n    <tr>\n      <td>...</td>\n      <td>...</td>\n      <td>...</td>\n      <td>...</td>\n      <td>...</td>\n      <td>...</td>\n      <td>...</td>\n      <td>...</td>\n      <td>...</td>\n      <td>...</td>\n      <td>...</td>\n    </tr>\n    <tr>\n      <td>393</td>\n      <td>27.0</td>\n      <td>4</td>\n      <td>140</td>\n      <td>86</td>\n      <td>2790</td>\n      <td>15.6</td>\n      <td>82</td>\n      <td>1</td>\n      <td>ford mustang gl</td>\n      <td>33037</td>\n    </tr>\n    <tr>\n      <td>394</td>\n      <td>44.0</td>\n      <td>4</td>\n      <td>97</td>\n      <td>52</td>\n      <td>2130</td>\n      <td>24.6</td>\n      <td>82</td>\n      <td>2</td>\n      <td>vw pickup</td>\n      <td>19440</td>\n    </tr>\n    <tr>\n      <td>395</td>\n      <td>32.0</td>\n      <td>4</td>\n      <td>135</td>\n      <td>84</td>\n      <td>2295</td>\n      <td>11.6</td>\n      <td>82</td>\n      <td>1</td>\n      <td>dodge rampage</td>\n      <td>42822</td>\n    </tr>\n    <tr>\n      <td>396</td>\n      <td>28.0</td>\n      <td>4</td>\n      <td>120</td>\n      <td>79</td>\n      <td>2625</td>\n      <td>18.6</td>\n      <td>82</td>\n      <td>1</td>\n      <td>ford ranger</td>\n      <td>41275</td>\n    </tr>\n    <tr>\n      <td>397</td>\n      <td>31.0</td>\n      <td>4</td>\n      <td>119</td>\n      <td>82</td>\n      <td>2720</td>\n      <td>19.4</td>\n      <td>82</td>\n      <td>1</td>\n      <td>chevy s-10</td>\n      <td>17211</td>\n    </tr>\n  </tbody>\n</table>\n<p>398 rows × 10 columns</p>\n</div>",
      "text/plain": "      mpg  cylinders  displacement horsepower  weight  acceleration  model  \\\n0    18.0          8           307        130    3504          12.0     70   \n1    15.0          8           350        165    3693          11.5     70   \n2    18.0          8           318        150    3436          11.0     70   \n3    16.0          8           304        150    3433          12.0     70   \n4    17.0          8           302        140    3449          10.5     70   \n..    ...        ...           ...        ...     ...           ...    ...   \n393  27.0          4           140         86    2790          15.6     82   \n394  44.0          4            97         52    2130          24.6     82   \n395  32.0          4           135         84    2295          11.6     82   \n396  28.0          4           120         79    2625          18.6     82   \n397  31.0          4           119         82    2720          19.4     82   \n\n     origin                        car  owners  \n0         1  chevrolet chevelle malibu   24607  \n1         1          buick skylark 320   17318  \n2         1         plymouth satellite   69615  \n3         1              amc rebel sst   27656  \n4         1                ford torino   59954  \n..      ...                        ...     ...  \n393       1            ford mustang gl   33037  \n394       2                  vw pickup   19440  \n395       1              dodge rampage   42822  \n396       1                ford ranger   41275  \n397       1                 chevy s-10   17211  \n\n[398 rows x 10 columns]"
     },
     "execution_count": 28,
     "metadata": {},
     "output_type": "execute_result"
    }
   ],
   "source": [
    "cars['owners'] = np.random.randint(15000, 73000, size=len(cars))\n",
    "cars"
   ]
  },
  {
   "cell_type": "code",
   "execution_count": 26,
   "metadata": {},
   "outputs": [
    {
     "data": {
      "text/html": "<div>\n<style scoped>\n    .dataframe tbody tr th:only-of-type {\n        vertical-align: middle;\n    }\n\n    .dataframe tbody tr th {\n        vertical-align: top;\n    }\n\n    .dataframe thead th {\n        text-align: right;\n    }\n</style>\n<table border=\"1\" class=\"dataframe\">\n  <thead>\n    <tr style=\"text-align: right;\">\n      <th></th>\n      <th>mpg</th>\n      <th>cylinders</th>\n      <th>displacement</th>\n      <th>horsepower</th>\n      <th>weight</th>\n      <th>acceleration</th>\n      <th>model</th>\n      <th>origin</th>\n      <th>car</th>\n      <th>owners</th>\n    </tr>\n  </thead>\n  <tbody>\n    <tr>\n      <td>0</td>\n      <td>18.0</td>\n      <td>8</td>\n      <td>307</td>\n      <td>130</td>\n      <td>3504</td>\n      <td>12.0</td>\n      <td>70</td>\n      <td>1</td>\n      <td>chevrolet chevelle malibu</td>\n      <td>17859</td>\n    </tr>\n    <tr>\n      <td>1</td>\n      <td>15.0</td>\n      <td>8</td>\n      <td>350</td>\n      <td>165</td>\n      <td>3693</td>\n      <td>11.5</td>\n      <td>70</td>\n      <td>1</td>\n      <td>buick skylark 320</td>\n      <td>61439</td>\n    </tr>\n    <tr>\n      <td>2</td>\n      <td>18.0</td>\n      <td>8</td>\n      <td>318</td>\n      <td>150</td>\n      <td>3436</td>\n      <td>11.0</td>\n      <td>70</td>\n      <td>1</td>\n      <td>plymouth satellite</td>\n      <td>44431</td>\n    </tr>\n    <tr>\n      <td>3</td>\n      <td>16.0</td>\n      <td>8</td>\n      <td>304</td>\n      <td>150</td>\n      <td>3433</td>\n      <td>12.0</td>\n      <td>70</td>\n      <td>1</td>\n      <td>amc rebel sst</td>\n      <td>34583</td>\n    </tr>\n    <tr>\n      <td>4</td>\n      <td>17.0</td>\n      <td>8</td>\n      <td>302</td>\n      <td>140</td>\n      <td>3449</td>\n      <td>10.5</td>\n      <td>70</td>\n      <td>1</td>\n      <td>ford torino</td>\n      <td>64469</td>\n    </tr>\n    <tr>\n      <td>...</td>\n      <td>...</td>\n      <td>...</td>\n      <td>...</td>\n      <td>...</td>\n      <td>...</td>\n      <td>...</td>\n      <td>...</td>\n      <td>...</td>\n      <td>...</td>\n      <td>...</td>\n    </tr>\n    <tr>\n      <td>393</td>\n      <td>27.0</td>\n      <td>4</td>\n      <td>140</td>\n      <td>86</td>\n      <td>2790</td>\n      <td>15.6</td>\n      <td>82</td>\n      <td>1</td>\n      <td>ford mustang gl</td>\n      <td>29272</td>\n    </tr>\n    <tr>\n      <td>394</td>\n      <td>44.0</td>\n      <td>4</td>\n      <td>97</td>\n      <td>52</td>\n      <td>2130</td>\n      <td>24.6</td>\n      <td>82</td>\n      <td>2</td>\n      <td>vw pickup</td>\n      <td>61743</td>\n    </tr>\n    <tr>\n      <td>395</td>\n      <td>32.0</td>\n      <td>4</td>\n      <td>135</td>\n      <td>84</td>\n      <td>2295</td>\n      <td>11.6</td>\n      <td>82</td>\n      <td>1</td>\n      <td>dodge rampage</td>\n      <td>20377</td>\n    </tr>\n    <tr>\n      <td>396</td>\n      <td>28.0</td>\n      <td>4</td>\n      <td>120</td>\n      <td>79</td>\n      <td>2625</td>\n      <td>18.6</td>\n      <td>82</td>\n      <td>1</td>\n      <td>ford ranger</td>\n      <td>46366</td>\n    </tr>\n    <tr>\n      <td>397</td>\n      <td>31.0</td>\n      <td>4</td>\n      <td>119</td>\n      <td>82</td>\n      <td>2720</td>\n      <td>19.4</td>\n      <td>82</td>\n      <td>1</td>\n      <td>chevy s-10</td>\n      <td>19570</td>\n    </tr>\n  </tbody>\n</table>\n<p>398 rows × 10 columns</p>\n</div>",
      "text/plain": "      mpg  cylinders  displacement horsepower  weight  acceleration  model  \\\n0    18.0          8           307        130    3504          12.0     70   \n1    15.0          8           350        165    3693          11.5     70   \n2    18.0          8           318        150    3436          11.0     70   \n3    16.0          8           304        150    3433          12.0     70   \n4    17.0          8           302        140    3449          10.5     70   \n..    ...        ...           ...        ...     ...           ...    ...   \n393  27.0          4           140         86    2790          15.6     82   \n394  44.0          4            97         52    2130          24.6     82   \n395  32.0          4           135         84    2295          11.6     82   \n396  28.0          4           120         79    2625          18.6     82   \n397  31.0          4           119         82    2720          19.4     82   \n\n     origin                        car  owners  \n0         1  chevrolet chevelle malibu   17859  \n1         1          buick skylark 320   61439  \n2         1         plymouth satellite   44431  \n3         1              amc rebel sst   34583  \n4         1                ford torino   64469  \n..      ...                        ...     ...  \n393       1            ford mustang gl   29272  \n394       2                  vw pickup   61743  \n395       1              dodge rampage   20377  \n396       1                ford ranger   46366  \n397       1                 chevy s-10   19570  \n\n[398 rows x 10 columns]"
     },
     "execution_count": 26,
     "metadata": {},
     "output_type": "execute_result"
    }
   ],
   "source": [
    "cars['owners'] = owners\n",
    "cars"
   ]
  },
  {
   "cell_type": "code",
   "execution_count": null,
   "metadata": {},
   "outputs": [],
   "source": []
  }
 ],
 "metadata": {
  "anaconda-cloud": {},
  "kernelspec": {
   "display_name": "Python 3.7.4 64-bit ('base': conda)",
   "language": "python",
   "name": "python37464bitbaseconda2bb33fe5ffce4701a66c14f076279995"
  },
  "language_info": {
   "codemirror_mode": {
    "name": "ipython",
    "version": 2
   },
   "file_extension": ".py",
   "mimetype": "text/x-python",
   "name": "python",
   "nbconvert_exporter": "python",
   "pygments_lexer": "ipython2",
   "version": "3.7.4-final"
  }
 },
 "nbformat": 4,
 "nbformat_minor": 0
}