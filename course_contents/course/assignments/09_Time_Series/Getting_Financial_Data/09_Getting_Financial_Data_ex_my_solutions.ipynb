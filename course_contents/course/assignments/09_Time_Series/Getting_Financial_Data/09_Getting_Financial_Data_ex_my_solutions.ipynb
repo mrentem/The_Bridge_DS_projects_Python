{
 "cells": [
  {
   "cell_type": "markdown",
   "execution_count": null,
   "metadata": {},
   "outputs": [],
   "source": [
    "# Getting Financial Data - Google Finance"
   ]
  },
  {
   "cell_type": "markdown",
   "execution_count": null,
   "metadata": {},
   "outputs": [],
   "source": [
    "### Introduction:\n",
    "\n",
    "This time you will get data from a website.\n",
    "\n",
    "\n",
    "### Step 1. Import the necessary libraries"
   ]
  },
  {
   "cell_type": "code",
   "execution_count": 3,
   "metadata": {},
   "outputs": [],
   "source": [
    "import pandas as pd\n",
    "\n",
    "# package to extract data from various Internet sources into a DataFrame\n",
    "# make sure you have it installed\n",
    "\n",
    "# Importar el metodo data de pandas_datareader\n",
    "\n",
    "from pandas_datareader import data, wb\n",
    "\n",
    "# package for dates\n",
    "import datetime as dt"
   ]
  },
  {
   "cell_type": "markdown",
   "execution_count": null,
   "metadata": {},
   "outputs": [],
   "source": [
    "### Step 2. Create your time range (start and end variables). The start date should be 01/01/2015 and the end should today (whatever your today is)"
   ]
  },
  {
   "cell_type": "code",
   "execution_count": 4,
   "metadata": {},
   "outputs": [
    {
     "data": {
      "text/plain": "datetime.datetime(2015, 1, 1, 0, 0)"
     },
     "execution_count": 4,
     "metadata": {},
     "output_type": "execute_result"
    }
   ],
   "source": [
    "# https://www.learndatasci.com/tutorials/python-finance-part-yahoo-finance-api-pandas-matplotlib/\n",
    "\n",
    "start_date = dt.datetime(2015,1,1)\n",
    "\n",
    "stop_date = dt.datetime(2020,3,17)\n",
    "\n",
    "start_date\n"
   ]
  },
  {
   "cell_type": "markdown",
   "execution_count": null,
   "metadata": {},
   "outputs": [],
   "source": [
    "### Step 3. Select the Apple, Tesla, Twitter, IBM, LinkedIn stocks symbols and assign them to a variable called stocks"
   ]
  },
  {
   "cell_type": "code",
   "execution_count": 5,
   "metadata": {},
   "outputs": [],
   "source": [
    "stocks = ['AAPL', 'TSLA', 'IBM']"
   ]
  },
  {
   "cell_type": "markdown",
   "execution_count": null,
   "metadata": {},
   "outputs": [],
   "source": [
    "### Step 4. Read the data from google, assign to df and print it"
   ]
  },
  {
   "cell_type": "code",
   "execution_count": 6,
   "metadata": {},
   "outputs": [
    {
     "data": {
      "text/html": "<div>\n<style scoped>\n    .dataframe tbody tr th:only-of-type {\n        vertical-align: middle;\n    }\n\n    .dataframe tbody tr th {\n        vertical-align: top;\n    }\n\n    .dataframe thead tr th {\n        text-align: left;\n    }\n\n    .dataframe thead tr:last-of-type th {\n        text-align: right;\n    }\n</style>\n<table border=\"1\" class=\"dataframe\">\n  <thead>\n    <tr>\n      <th>Attributes</th>\n      <th colspan=\"3\" halign=\"left\">Adj Close</th>\n      <th colspan=\"3\" halign=\"left\">Close</th>\n      <th colspan=\"3\" halign=\"left\">High</th>\n      <th colspan=\"3\" halign=\"left\">Low</th>\n      <th colspan=\"3\" halign=\"left\">Open</th>\n      <th colspan=\"3\" halign=\"left\">Volume</th>\n    </tr>\n    <tr>\n      <th>Symbols</th>\n      <th>AAPL</th>\n      <th>TSLA</th>\n      <th>IBM</th>\n      <th>AAPL</th>\n      <th>TSLA</th>\n      <th>IBM</th>\n      <th>AAPL</th>\n      <th>TSLA</th>\n      <th>IBM</th>\n      <th>AAPL</th>\n      <th>TSLA</th>\n      <th>IBM</th>\n      <th>AAPL</th>\n      <th>TSLA</th>\n      <th>IBM</th>\n      <th>AAPL</th>\n      <th>TSLA</th>\n      <th>IBM</th>\n    </tr>\n    <tr>\n      <th>Date</th>\n      <th></th>\n      <th></th>\n      <th></th>\n      <th></th>\n      <th></th>\n      <th></th>\n      <th></th>\n      <th></th>\n      <th></th>\n      <th></th>\n      <th></th>\n      <th></th>\n      <th></th>\n      <th></th>\n      <th></th>\n      <th></th>\n      <th></th>\n      <th></th>\n    </tr>\n  </thead>\n  <tbody>\n    <tr>\n      <td>2015-01-02</td>\n      <td>100.216454</td>\n      <td>219.309998</td>\n      <td>129.241516</td>\n      <td>109.330002</td>\n      <td>219.309998</td>\n      <td>162.059998</td>\n      <td>111.440002</td>\n      <td>223.250000</td>\n      <td>163.309998</td>\n      <td>107.349998</td>\n      <td>213.259995</td>\n      <td>161.000000</td>\n      <td>111.389999</td>\n      <td>222.869995</td>\n      <td>161.309998</td>\n      <td>53204600.0</td>\n      <td>4764400.0</td>\n      <td>5525500.0</td>\n    </tr>\n    <tr>\n      <td>2015-01-05</td>\n      <td>97.393181</td>\n      <td>210.089996</td>\n      <td>127.207932</td>\n      <td>106.250000</td>\n      <td>210.089996</td>\n      <td>159.509995</td>\n      <td>108.650002</td>\n      <td>216.500000</td>\n      <td>161.270004</td>\n      <td>105.410004</td>\n      <td>207.160004</td>\n      <td>159.190002</td>\n      <td>108.290001</td>\n      <td>214.550003</td>\n      <td>161.270004</td>\n      <td>64285500.0</td>\n      <td>5368500.0</td>\n      <td>4880400.0</td>\n    </tr>\n    <tr>\n      <td>2015-01-06</td>\n      <td>97.402374</td>\n      <td>211.279999</td>\n      <td>124.464600</td>\n      <td>106.260002</td>\n      <td>211.279999</td>\n      <td>156.070007</td>\n      <td>107.430000</td>\n      <td>214.199997</td>\n      <td>159.960007</td>\n      <td>104.629997</td>\n      <td>204.210007</td>\n      <td>155.169998</td>\n      <td>106.540001</td>\n      <td>210.059998</td>\n      <td>159.669998</td>\n      <td>65797100.0</td>\n      <td>6261900.0</td>\n      <td>6146700.0</td>\n    </tr>\n    <tr>\n      <td>2015-01-07</td>\n      <td>98.768150</td>\n      <td>210.949997</td>\n      <td>123.651100</td>\n      <td>107.750000</td>\n      <td>210.949997</td>\n      <td>155.050003</td>\n      <td>108.199997</td>\n      <td>214.779999</td>\n      <td>157.199997</td>\n      <td>106.699997</td>\n      <td>209.779999</td>\n      <td>154.029999</td>\n      <td>107.199997</td>\n      <td>213.350006</td>\n      <td>157.199997</td>\n      <td>40105900.0</td>\n      <td>2968400.0</td>\n      <td>4701800.0</td>\n    </tr>\n    <tr>\n      <td>2015-01-08</td>\n      <td>102.563072</td>\n      <td>210.619995</td>\n      <td>126.338654</td>\n      <td>111.889999</td>\n      <td>210.619995</td>\n      <td>158.419998</td>\n      <td>112.150002</td>\n      <td>213.800003</td>\n      <td>159.039993</td>\n      <td>108.699997</td>\n      <td>210.009995</td>\n      <td>155.550003</td>\n      <td>109.230003</td>\n      <td>212.809998</td>\n      <td>156.240005</td>\n      <td>59364500.0</td>\n      <td>3442500.0</td>\n      <td>4236800.0</td>\n    </tr>\n  </tbody>\n</table>\n</div>",
      "text/plain": "Attributes   Adj Close                               Close              \\\nSymbols           AAPL        TSLA         IBM        AAPL        TSLA   \nDate                                                                     \n2015-01-02  100.216454  219.309998  129.241516  109.330002  219.309998   \n2015-01-05   97.393181  210.089996  127.207932  106.250000  210.089996   \n2015-01-06   97.402374  211.279999  124.464600  106.260002  211.279999   \n2015-01-07   98.768150  210.949997  123.651100  107.750000  210.949997   \n2015-01-08  102.563072  210.619995  126.338654  111.889999  210.619995   \n\nAttributes                    High                                 Low  \\\nSymbols            IBM        AAPL        TSLA         IBM        AAPL   \nDate                                                                     \n2015-01-02  162.059998  111.440002  223.250000  163.309998  107.349998   \n2015-01-05  159.509995  108.650002  216.500000  161.270004  105.410004   \n2015-01-06  156.070007  107.430000  214.199997  159.960007  104.629997   \n2015-01-07  155.050003  108.199997  214.779999  157.199997  106.699997   \n2015-01-08  158.419998  112.150002  213.800003  159.039993  108.699997   \n\nAttributes                                Open                          \\\nSymbols           TSLA         IBM        AAPL        TSLA         IBM   \nDate                                                                     \n2015-01-02  213.259995  161.000000  111.389999  222.869995  161.309998   \n2015-01-05  207.160004  159.190002  108.290001  214.550003  161.270004   \n2015-01-06  204.210007  155.169998  106.540001  210.059998  159.669998   \n2015-01-07  209.779999  154.029999  107.199997  213.350006  157.199997   \n2015-01-08  210.009995  155.550003  109.230003  212.809998  156.240005   \n\nAttributes      Volume                        \nSymbols           AAPL       TSLA        IBM  \nDate                                          \n2015-01-02  53204600.0  4764400.0  5525500.0  \n2015-01-05  64285500.0  5368500.0  4880400.0  \n2015-01-06  65797100.0  6261900.0  6146700.0  \n2015-01-07  40105900.0  2968400.0  4701800.0  \n2015-01-08  59364500.0  3442500.0  4236800.0  "
     },
     "execution_count": 6,
     "metadata": {},
     "output_type": "execute_result"
    }
   ],
   "source": [
    "import pandas_datareader.data as web\n",
    "\n",
    "panel_data = web.DataReader(stocks, 'yahoo', start_date, stop_date)\n",
    "panel_data.head()"
   ]
  },
  {
   "cell_type": "code",
   "execution_count": 7,
   "metadata": {},
   "outputs": [
    {
     "data": {
      "text/html": "<div>\n<style scoped>\n    .dataframe tbody tr th:only-of-type {\n        vertical-align: middle;\n    }\n\n    .dataframe tbody tr th {\n        vertical-align: top;\n    }\n\n    .dataframe thead tr th {\n        text-align: left;\n    }\n\n    .dataframe thead tr:last-of-type th {\n        text-align: right;\n    }\n</style>\n<table border=\"1\" class=\"dataframe\">\n  <thead>\n    <tr>\n      <th>Attributes</th>\n      <th colspan=\"3\" halign=\"left\">Adj Close</th>\n      <th colspan=\"3\" halign=\"left\">Close</th>\n      <th colspan=\"3\" halign=\"left\">High</th>\n      <th colspan=\"3\" halign=\"left\">Low</th>\n      <th colspan=\"3\" halign=\"left\">Open</th>\n      <th colspan=\"3\" halign=\"left\">Volume</th>\n    </tr>\n    <tr>\n      <th>Symbols</th>\n      <th>AAPL</th>\n      <th>TSLA</th>\n      <th>IBM</th>\n      <th>AAPL</th>\n      <th>TSLA</th>\n      <th>IBM</th>\n      <th>AAPL</th>\n      <th>TSLA</th>\n      <th>IBM</th>\n      <th>AAPL</th>\n      <th>TSLA</th>\n      <th>IBM</th>\n      <th>AAPL</th>\n      <th>TSLA</th>\n      <th>IBM</th>\n      <th>AAPL</th>\n      <th>TSLA</th>\n      <th>IBM</th>\n    </tr>\n    <tr>\n      <th>Date</th>\n      <th></th>\n      <th></th>\n      <th></th>\n      <th></th>\n      <th></th>\n      <th></th>\n      <th></th>\n      <th></th>\n      <th></th>\n      <th></th>\n      <th></th>\n      <th></th>\n      <th></th>\n      <th></th>\n      <th></th>\n      <th></th>\n      <th></th>\n      <th></th>\n    </tr>\n  </thead>\n  <tbody>\n    <tr>\n      <td>2020-03-11</td>\n      <td>275.429993</td>\n      <td>634.229980</td>\n      <td>117.970001</td>\n      <td>275.429993</td>\n      <td>634.229980</td>\n      <td>117.970001</td>\n      <td>281.220001</td>\n      <td>653.580017</td>\n      <td>122.580002</td>\n      <td>271.859985</td>\n      <td>613.000000</td>\n      <td>116.379997</td>\n      <td>277.390015</td>\n      <td>640.200012</td>\n      <td>121.010002</td>\n      <td>63899700.0</td>\n      <td>13322500.0</td>\n      <td>8446500.0</td>\n    </tr>\n    <tr>\n      <td>2020-03-12</td>\n      <td>248.229996</td>\n      <td>560.549988</td>\n      <td>102.809998</td>\n      <td>248.229996</td>\n      <td>560.549988</td>\n      <td>102.809998</td>\n      <td>270.000000</td>\n      <td>594.500000</td>\n      <td>109.800003</td>\n      <td>248.000000</td>\n      <td>546.250000</td>\n      <td>102.279999</td>\n      <td>255.940002</td>\n      <td>580.890015</td>\n      <td>109.650002</td>\n      <td>104618500.0</td>\n      <td>18909100.0</td>\n      <td>12512700.0</td>\n    </tr>\n    <tr>\n      <td>2020-03-13</td>\n      <td>277.970001</td>\n      <td>546.619995</td>\n      <td>107.949997</td>\n      <td>277.970001</td>\n      <td>546.619995</td>\n      <td>107.949997</td>\n      <td>279.920013</td>\n      <td>607.570007</td>\n      <td>109.160004</td>\n      <td>252.949997</td>\n      <td>502.000000</td>\n      <td>100.809998</td>\n      <td>264.890015</td>\n      <td>595.000000</td>\n      <td>108.680000</td>\n      <td>92683000.0</td>\n      <td>22640300.0</td>\n      <td>12502100.0</td>\n    </tr>\n    <tr>\n      <td>2020-03-16</td>\n      <td>242.210007</td>\n      <td>445.070007</td>\n      <td>99.080002</td>\n      <td>242.210007</td>\n      <td>445.070007</td>\n      <td>99.080002</td>\n      <td>259.079987</td>\n      <td>494.869995</td>\n      <td>107.410004</td>\n      <td>240.000000</td>\n      <td>442.170013</td>\n      <td>95.000000</td>\n      <td>241.949997</td>\n      <td>469.500000</td>\n      <td>98.000000</td>\n      <td>80605900.0</td>\n      <td>20489500.0</td>\n      <td>10568000.0</td>\n    </tr>\n    <tr>\n      <td>2020-03-17</td>\n      <td>252.860001</td>\n      <td>430.200012</td>\n      <td>106.650002</td>\n      <td>252.860001</td>\n      <td>430.200012</td>\n      <td>106.650002</td>\n      <td>257.609985</td>\n      <td>471.850006</td>\n      <td>107.400002</td>\n      <td>238.399994</td>\n      <td>396.000000</td>\n      <td>97.099998</td>\n      <td>247.509995</td>\n      <td>440.010010</td>\n      <td>100.610001</td>\n      <td>80876700.0</td>\n      <td>23914500.0</td>\n      <td>8888000.0</td>\n    </tr>\n  </tbody>\n</table>\n</div>",
      "text/plain": "Attributes   Adj Close                               Close              \\\nSymbols           AAPL        TSLA         IBM        AAPL        TSLA   \nDate                                                                     \n2020-03-11  275.429993  634.229980  117.970001  275.429993  634.229980   \n2020-03-12  248.229996  560.549988  102.809998  248.229996  560.549988   \n2020-03-13  277.970001  546.619995  107.949997  277.970001  546.619995   \n2020-03-16  242.210007  445.070007   99.080002  242.210007  445.070007   \n2020-03-17  252.860001  430.200012  106.650002  252.860001  430.200012   \n\nAttributes                    High                                 Low  \\\nSymbols            IBM        AAPL        TSLA         IBM        AAPL   \nDate                                                                     \n2020-03-11  117.970001  281.220001  653.580017  122.580002  271.859985   \n2020-03-12  102.809998  270.000000  594.500000  109.800003  248.000000   \n2020-03-13  107.949997  279.920013  607.570007  109.160004  252.949997   \n2020-03-16   99.080002  259.079987  494.869995  107.410004  240.000000   \n2020-03-17  106.650002  257.609985  471.850006  107.400002  238.399994   \n\nAttributes                                Open                          \\\nSymbols           TSLA         IBM        AAPL        TSLA         IBM   \nDate                                                                     \n2020-03-11  613.000000  116.379997  277.390015  640.200012  121.010002   \n2020-03-12  546.250000  102.279999  255.940002  580.890015  109.650002   \n2020-03-13  502.000000  100.809998  264.890015  595.000000  108.680000   \n2020-03-16  442.170013   95.000000  241.949997  469.500000   98.000000   \n2020-03-17  396.000000   97.099998  247.509995  440.010010  100.610001   \n\nAttributes       Volume                          \nSymbols            AAPL        TSLA         IBM  \nDate                                             \n2020-03-11   63899700.0  13322500.0   8446500.0  \n2020-03-12  104618500.0  18909100.0  12512700.0  \n2020-03-13   92683000.0  22640300.0  12502100.0  \n2020-03-16   80605900.0  20489500.0  10568000.0  \n2020-03-17   80876700.0  23914500.0   8888000.0  "
     },
     "execution_count": 7,
     "metadata": {},
     "output_type": "execute_result"
    }
   ],
   "source": [
    "panel_data.tail()"
   ]
  },
  {
   "cell_type": "markdown",
   "execution_count": null,
   "metadata": {},
   "outputs": [],
   "source": [
    "### Step 5.  What is the type of structure of df ?"
   ]
  },
  {
   "cell_type": "code",
   "execution_count": 8,
   "metadata": {},
   "outputs": [
    {
     "name": "stdout",
     "output_type": "stream",
     "text": "<class 'pandas.core.frame.DataFrame'>\nDatetimeIndex: 1310 entries, 2015-01-02 to 2020-03-17\nData columns (total 18 columns):\n(Adj Close, AAPL)    1310 non-null float64\n(Adj Close, TSLA)    1310 non-null float64\n(Adj Close, IBM)     1310 non-null float64\n(Close, AAPL)        1310 non-null float64\n(Close, TSLA)        1310 non-null float64\n(Close, IBM)         1310 non-null float64\n(High, AAPL)         1310 non-null float64\n(High, TSLA)         1310 non-null float64\n(High, IBM)          1310 non-null float64\n(Low, AAPL)          1310 non-null float64\n(Low, TSLA)          1310 non-null float64\n(Low, IBM)           1310 non-null float64\n(Open, AAPL)         1310 non-null float64\n(Open, TSLA)         1310 non-null float64\n(Open, IBM)          1310 non-null float64\n(Volume, AAPL)       1310 non-null float64\n(Volume, TSLA)       1310 non-null float64\n(Volume, IBM)        1310 non-null float64\ndtypes: float64(18)\nmemory usage: 194.5 KB\n"
    }
   ],
   "source": [
    "# 'pandas.core.panel.Panel'\n",
    "panel_data.info()"
   ]
  },
  {
   "cell_type": "markdown",
   "execution_count": null,
   "metadata": {},
   "outputs": [],
   "source": [
    "### Step 6. Print all the Items axis values\n",
    "#### To learn more about the Panel structure go to [documentation](http://pandas.pydata.org/pandas-docs/stable/dsintro.html#panel) "
   ]
  },
  {
   "cell_type": "code",
   "execution_count": 9,
   "metadata": {},
   "outputs": [
    {
     "data": {
      "text/plain": "<bound method DataFrame.items of Attributes   Adj Close                               Close              \\\nSymbols           AAPL        TSLA         IBM        AAPL        TSLA   \nDate                                                                     \n2015-01-02  100.216454  219.309998  129.241516  109.330002  219.309998   \n2015-01-05   97.393181  210.089996  127.207932  106.250000  210.089996   \n2015-01-06   97.402374  211.279999  124.464600  106.260002  211.279999   \n2015-01-07   98.768150  210.949997  123.651100  107.750000  210.949997   \n2015-01-08  102.563072  210.619995  126.338654  111.889999  210.619995   \n...                ...         ...         ...         ...         ...   \n2020-03-11  275.429993  634.229980  117.970001  275.429993  634.229980   \n2020-03-12  248.229996  560.549988  102.809998  248.229996  560.549988   \n2020-03-13  277.970001  546.619995  107.949997  277.970001  546.619995   \n2020-03-16  242.210007  445.070007   99.080002  242.210007  445.070007   \n2020-03-17  252.860001  430.200012  106.650002  252.860001  430.200012   \n\nAttributes                    High                                 Low  \\\nSymbols            IBM        AAPL        TSLA         IBM        AAPL   \nDate                                                                     \n2015-01-02  162.059998  111.440002  223.250000  163.309998  107.349998   \n2015-01-05  159.509995  108.650002  216.500000  161.270004  105.410004   \n2015-01-06  156.070007  107.430000  214.199997  159.960007  104.629997   \n2015-01-07  155.050003  108.199997  214.779999  157.199997  106.699997   \n2015-01-08  158.419998  112.150002  213.800003  159.039993  108.699997   \n...                ...         ...         ...         ...         ...   \n2020-03-11  117.970001  281.220001  653.580017  122.580002  271.859985   \n2020-03-12  102.809998  270.000000  594.500000  109.800003  248.000000   \n2020-03-13  107.949997  279.920013  607.570007  109.160004  252.949997   \n2020-03-16   99.080002  259.079987  494.869995  107.410004  240.000000   \n2020-03-17  106.650002  257.609985  471.850006  107.400002  238.399994   \n\nAttributes                                Open                          \\\nSymbols           TSLA         IBM        AAPL        TSLA         IBM   \nDate                                                                     \n2015-01-02  213.259995  161.000000  111.389999  222.869995  161.309998   \n2015-01-05  207.160004  159.190002  108.290001  214.550003  161.270004   \n2015-01-06  204.210007  155.169998  106.540001  210.059998  159.669998   \n2015-01-07  209.779999  154.029999  107.199997  213.350006  157.199997   \n2015-01-08  210.009995  155.550003  109.230003  212.809998  156.240005   \n...                ...         ...         ...         ...         ...   \n2020-03-11  613.000000  116.379997  277.390015  640.200012  121.010002   \n2020-03-12  546.250000  102.279999  255.940002  580.890015  109.650002   \n2020-03-13  502.000000  100.809998  264.890015  595.000000  108.680000   \n2020-03-16  442.170013   95.000000  241.949997  469.500000   98.000000   \n2020-03-17  396.000000   97.099998  247.509995  440.010010  100.610001   \n\nAttributes       Volume                          \nSymbols            AAPL        TSLA         IBM  \nDate                                             \n2015-01-02   53204600.0   4764400.0   5525500.0  \n2015-01-05   64285500.0   5368500.0   4880400.0  \n2015-01-06   65797100.0   6261900.0   6146700.0  \n2015-01-07   40105900.0   2968400.0   4701800.0  \n2015-01-08   59364500.0   3442500.0   4236800.0  \n...                 ...         ...         ...  \n2020-03-11   63899700.0  13322500.0   8446500.0  \n2020-03-12  104618500.0  18909100.0  12512700.0  \n2020-03-13   92683000.0  22640300.0  12502100.0  \n2020-03-16   80605900.0  20489500.0  10568000.0  \n2020-03-17   80876700.0  23914500.0   8888000.0  \n\n[1310 rows x 18 columns]>"
     },
     "execution_count": 9,
     "metadata": {},
     "output_type": "execute_result"
    }
   ],
   "source": [
    "panel_data.items"
   ]
  },
  {
   "cell_type": "markdown",
   "execution_count": null,
   "metadata": {},
   "outputs": [],
   "source": [
    "### Step 7. Good, now we know  the data avaiable. Create a dataFrame called vol, with the Volume values."
   ]
  },
  {
   "cell_type": "code",
   "execution_count": 10,
   "metadata": {},
   "outputs": [
    {
     "data": {
      "text/html": "<div>\n<style scoped>\n    .dataframe tbody tr th:only-of-type {\n        vertical-align: middle;\n    }\n\n    .dataframe tbody tr th {\n        vertical-align: top;\n    }\n\n    .dataframe thead th {\n        text-align: right;\n    }\n</style>\n<table border=\"1\" class=\"dataframe\">\n  <thead>\n    <tr style=\"text-align: right;\">\n      <th>Symbols</th>\n      <th>AAPL</th>\n      <th>TSLA</th>\n      <th>IBM</th>\n    </tr>\n    <tr>\n      <th>Date</th>\n      <th></th>\n      <th></th>\n      <th></th>\n    </tr>\n  </thead>\n  <tbody>\n    <tr>\n      <td>2015-01-02</td>\n      <td>53204600.0</td>\n      <td>4764400.0</td>\n      <td>5525500.0</td>\n    </tr>\n    <tr>\n      <td>2015-01-05</td>\n      <td>64285500.0</td>\n      <td>5368500.0</td>\n      <td>4880400.0</td>\n    </tr>\n    <tr>\n      <td>2015-01-06</td>\n      <td>65797100.0</td>\n      <td>6261900.0</td>\n      <td>6146700.0</td>\n    </tr>\n    <tr>\n      <td>2015-01-07</td>\n      <td>40105900.0</td>\n      <td>2968400.0</td>\n      <td>4701800.0</td>\n    </tr>\n    <tr>\n      <td>2015-01-08</td>\n      <td>59364500.0</td>\n      <td>3442500.0</td>\n      <td>4236800.0</td>\n    </tr>\n  </tbody>\n</table>\n</div>",
      "text/plain": "Symbols           AAPL       TSLA        IBM\nDate                                        \n2015-01-02  53204600.0  4764400.0  5525500.0\n2015-01-05  64285500.0  5368500.0  4880400.0\n2015-01-06  65797100.0  6261900.0  6146700.0\n2015-01-07  40105900.0  2968400.0  4701800.0\n2015-01-08  59364500.0  3442500.0  4236800.0"
     },
     "execution_count": 10,
     "metadata": {},
     "output_type": "execute_result"
    }
   ],
   "source": [
    "vol = panel_data['Volume']\n",
    "vol.head()"
   ]
  },
  {
   "cell_type": "markdown",
   "execution_count": null,
   "metadata": {},
   "outputs": [],
   "source": [
    "### Step 8. Aggregate the data of Volume to weekly\n",
    "#### Hint: Be careful to not sum data from the same week of 2015 and other years."
   ]
  },
  {
   "cell_type": "code",
   "execution_count": 11,
   "metadata": {},
   "outputs": [
    {
     "data": {
      "text/html": "<div>\n<style scoped>\n    .dataframe tbody tr th:only-of-type {\n        vertical-align: middle;\n    }\n\n    .dataframe tbody tr th {\n        vertical-align: top;\n    }\n\n    .dataframe thead th {\n        text-align: right;\n    }\n</style>\n<table border=\"1\" class=\"dataframe\">\n  <thead>\n    <tr style=\"text-align: right;\">\n      <th>Symbols</th>\n      <th>AAPL</th>\n      <th>TSLA</th>\n      <th>IBM</th>\n    </tr>\n    <tr>\n      <th>Date</th>\n      <th></th>\n      <th></th>\n      <th></th>\n    </tr>\n  </thead>\n  <tbody>\n    <tr>\n      <td>2015-01-04</td>\n      <td>53204600.0</td>\n      <td>4764400.0</td>\n      <td>5525500.0</td>\n    </tr>\n    <tr>\n      <td>2015-01-11</td>\n      <td>283252500.0</td>\n      <td>22709600.0</td>\n      <td>24454000.0</td>\n    </tr>\n    <tr>\n      <td>2015-01-18</td>\n      <td>304226600.0</td>\n      <td>30799200.0</td>\n      <td>23259800.0</td>\n    </tr>\n    <tr>\n      <td>2015-01-25</td>\n      <td>198737000.0</td>\n      <td>16211700.0</td>\n      <td>31244800.0</td>\n    </tr>\n    <tr>\n      <td>2015-02-01</td>\n      <td>465842700.0</td>\n      <td>15720200.0</td>\n      <td>32928000.0</td>\n    </tr>\n    <tr>\n      <td>2015-02-08</td>\n      <td>270757300.0</td>\n      <td>19047600.0</td>\n      <td>22440200.0</td>\n    </tr>\n    <tr>\n      <td>2015-02-15</td>\n      <td>303206800.0</td>\n      <td>40472600.0</td>\n      <td>18165000.0</td>\n    </tr>\n    <tr>\n      <td>2015-02-22</td>\n      <td>194354900.0</td>\n      <td>17829400.0</td>\n      <td>14110300.0</td>\n    </tr>\n    <tr>\n      <td>2015-03-01</td>\n      <td>368216200.0</td>\n      <td>29367900.0</td>\n      <td>22941400.0</td>\n    </tr>\n    <tr>\n      <td>2015-03-08</td>\n      <td>246938500.0</td>\n      <td>28165800.0</td>\n      <td>21117800.0</td>\n    </tr>\n  </tbody>\n</table>\n</div>",
      "text/plain": "Symbols            AAPL        TSLA         IBM\nDate                                           \n2015-01-04   53204600.0   4764400.0   5525500.0\n2015-01-11  283252500.0  22709600.0  24454000.0\n2015-01-18  304226600.0  30799200.0  23259800.0\n2015-01-25  198737000.0  16211700.0  31244800.0\n2015-02-01  465842700.0  15720200.0  32928000.0\n2015-02-08  270757300.0  19047600.0  22440200.0\n2015-02-15  303206800.0  40472600.0  18165000.0\n2015-02-22  194354900.0  17829400.0  14110300.0\n2015-03-01  368216200.0  29367900.0  22941400.0\n2015-03-08  246938500.0  28165800.0  21117800.0"
     },
     "execution_count": 11,
     "metadata": {},
     "output_type": "execute_result"
    }
   ],
   "source": [
    "weekly_vol= vol.resample('W').sum()\n",
    "weekly_vol.head(10)"
   ]
  },
  {
   "cell_type": "markdown",
   "execution_count": null,
   "metadata": {},
   "outputs": [],
   "source": [
    "### Step 9. Find all the volume traded in the year of 2015"
   ]
  },
  {
   "cell_type": "code",
   "execution_count": 15,
   "metadata": {},
   "outputs": [
    {
     "data": {
      "text/html": "<div>\n<style scoped>\n    .dataframe tbody tr th:only-of-type {\n        vertical-align: middle;\n    }\n\n    .dataframe tbody tr th {\n        vertical-align: top;\n    }\n\n    .dataframe thead th {\n        text-align: right;\n    }\n</style>\n<table border=\"1\" class=\"dataframe\">\n  <thead>\n    <tr style=\"text-align: right;\">\n      <th>Symbols</th>\n      <th>AAPL</th>\n      <th>TSLA</th>\n      <th>IBM</th>\n    </tr>\n    <tr>\n      <th>Date</th>\n      <th></th>\n      <th></th>\n      <th></th>\n    </tr>\n  </thead>\n  <tbody>\n    <tr>\n      <td>2015-12-31</td>\n      <td>1.306605e+10</td>\n      <td>1.088218e+09</td>\n      <td>1.105583e+09</td>\n    </tr>\n    <tr>\n      <td>2016-12-31</td>\n      <td>9.682478e+09</td>\n      <td>1.162362e+09</td>\n      <td>1.018606e+09</td>\n    </tr>\n    <tr>\n      <td>2017-12-31</td>\n      <td>6.810776e+09</td>\n      <td>1.590031e+09</td>\n      <td>1.071166e+09</td>\n    </tr>\n    <tr>\n      <td>2018-12-31</td>\n      <td>8.539036e+09</td>\n      <td>2.161639e+09</td>\n      <td>1.368561e+09</td>\n    </tr>\n    <tr>\n      <td>2019-12-31</td>\n      <td>7.063803e+09</td>\n      <td>2.308078e+09</td>\n      <td>9.466952e+08</td>\n    </tr>\n    <tr>\n      <td>2020-12-31</td>\n      <td>2.377698e+09</td>\n      <td>1.096803e+09</td>\n      <td>3.415488e+08</td>\n    </tr>\n  </tbody>\n</table>\n</div>",
      "text/plain": "Symbols             AAPL          TSLA           IBM\nDate                                                \n2015-12-31  1.306605e+10  1.088218e+09  1.105583e+09\n2016-12-31  9.682478e+09  1.162362e+09  1.018606e+09\n2017-12-31  6.810776e+09  1.590031e+09  1.071166e+09\n2018-12-31  8.539036e+09  2.161639e+09  1.368561e+09\n2019-12-31  7.063803e+09  2.308078e+09  9.466952e+08\n2020-12-31  2.377698e+09  1.096803e+09  3.415488e+08"
     },
     "execution_count": 15,
     "metadata": {},
     "output_type": "execute_result"
    }
   ],
   "source": [
    "year_vol= vol.resample('A').sum()\n",
    "year_vol\n"
   ]
  },
  {
   "cell_type": "code",
   "execution_count": null,
   "metadata": {
    "collapsed": true
   },
   "outputs": [],
   "source": []
  }
 ],
 "metadata": {
  "kernelspec": {
   "display_name": "Python 3.7.4 64-bit ('base': conda)",
   "language": "python",
   "name": "python37464bitbaseconda2bb33fe5ffce4701a66c14f076279995"
  },
  "language_info": {
   "codemirror_mode": {
    "name": "ipython",
    "version": 2
   },
   "file_extension": ".py",
   "mimetype": "text/x-python",
   "name": "python",
   "nbconvert_exporter": "python",
   "pygments_lexer": "ipython2",
   "version": "3.7.4-final"
  }
 },
 "nbformat": 4,
 "nbformat_minor": 0
}