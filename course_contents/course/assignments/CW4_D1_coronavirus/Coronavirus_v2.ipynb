{
 "nbformat": 4,
 "nbformat_minor": 2,
 "metadata": {
  "language_info": {
   "name": "python",
   "codemirror_mode": {
    "name": "ipython",
    "version": 3
   },
   "version": "3.7.4-final"
  },
  "orig_nbformat": 2,
  "file_extension": ".py",
  "mimetype": "text/x-python",
  "name": "python",
  "npconvert_exporter": "python",
  "pygments_lexer": "ipython3",
  "version": 3,
  "kernelspec": {
   "name": "python37464bitbaseconda2bb33fe5ffce4701a66c14f076279995",
   "display_name": "Python 3.7.4 64-bit ('base': conda)"
  }
 },
 "cells": [
  {
   "cell_type": "markdown",
   "metadata": {},
   "source": [
    "To check that your coronavirus exercise was right, try to use the last '.csv' file from the next url. \n",
    "\n",
    "https://covid.ourworldindata.org/data/ecdc/full_data.csv\n",
    "\n",
    "When you execute all your code, it must run without problems updating the graphs and outputs with the last available information. "
   ]
  },
  {
   "cell_type": "markdown",
   "metadata": {},
   "source": [
    "### Tasks: \n",
    "\n",
    "- Create a new dataframe with all the locations except the median. Call it \"no_median_df\". All must be different locations. \n",
    "\n",
    "#### Try to create a new function that return the answer of the next tasks and questions. One function per task: \n",
    "\n",
    "- Which countries have less cases than the percentile country 75%?\n",
    "- Imagine that the median location is the 175th row. Create a dataframe with all the locations from the 165 to 185. Call it \"median_df\". \n",
    "- With \"median_df\", create with bars, with lines, with points and with pie charts the top 10 in reverse. Both in seaborn and matplotlib. \n",
    "- Create a new dataframe with the concatenation of the \"median_df\" and \"no_median_df\". After that, create a function that receives a dataframe as param and return the number of non NaN values per each column and per each file. \n",
    "- Show, in a graph, which location appears more times in the dataset. \n",
    "- Which is the country with less frequency?\n",
    "- There is any unusual value? Why?\n",
    "- Delete all NaN value and repeat the same tasks using the functions created.\n",
    "- Do you find differences? Why?\n",
    "- What conclusion can we draw?"
   ]
  },
  {
   "cell_type": "code",
   "execution_count": 14,
   "metadata": {},
   "outputs": [],
   "source": [
    "import pandas as pd\n",
    "import matplotlib.pyplot as plt"
   ]
  },
  {
   "cell_type": "code",
   "execution_count": 2,
   "metadata": {},
   "outputs": [],
   "source": [
    "df = pd.read_csv(\"https://covid.ourworldindata.org/data/ecdc/full_data.csv\")"
   ]
  },
  {
   "cell_type": "code",
   "execution_count": 3,
   "metadata": {},
   "outputs": [
    {
     "output_type": "execute_result",
     "data": {
      "text/plain": "            date     location  new_cases  new_deaths  total_cases  \\\n0     2019-12-31  Afghanistan          0           0            0   \n1     2020-01-01  Afghanistan          0           0            0   \n2     2020-01-02  Afghanistan          0           0            0   \n3     2020-01-03  Afghanistan          0           0            0   \n4     2020-01-04  Afghanistan          0           0            0   \n...          ...          ...        ...         ...          ...   \n6447  2020-03-22       Zambia          0           0            2   \n6448  2020-03-23       Zambia          1           0            3   \n6449  2020-03-21     Zimbabwe          1           0            1   \n6450  2020-03-22     Zimbabwe          1           0            2   \n6451  2020-03-23     Zimbabwe          0           0            2   \n\n      total_deaths  \n0                0  \n1                0  \n2                0  \n3                0  \n4                0  \n...            ...  \n6447             0  \n6448             0  \n6449             0  \n6450             0  \n6451             0  \n\n[6452 rows x 6 columns]",
      "text/html": "<div>\n<style scoped>\n    .dataframe tbody tr th:only-of-type {\n        vertical-align: middle;\n    }\n\n    .dataframe tbody tr th {\n        vertical-align: top;\n    }\n\n    .dataframe thead th {\n        text-align: right;\n    }\n</style>\n<table border=\"1\" class=\"dataframe\">\n  <thead>\n    <tr style=\"text-align: right;\">\n      <th></th>\n      <th>date</th>\n      <th>location</th>\n      <th>new_cases</th>\n      <th>new_deaths</th>\n      <th>total_cases</th>\n      <th>total_deaths</th>\n    </tr>\n  </thead>\n  <tbody>\n    <tr>\n      <td>0</td>\n      <td>2019-12-31</td>\n      <td>Afghanistan</td>\n      <td>0</td>\n      <td>0</td>\n      <td>0</td>\n      <td>0</td>\n    </tr>\n    <tr>\n      <td>1</td>\n      <td>2020-01-01</td>\n      <td>Afghanistan</td>\n      <td>0</td>\n      <td>0</td>\n      <td>0</td>\n      <td>0</td>\n    </tr>\n    <tr>\n      <td>2</td>\n      <td>2020-01-02</td>\n      <td>Afghanistan</td>\n      <td>0</td>\n      <td>0</td>\n      <td>0</td>\n      <td>0</td>\n    </tr>\n    <tr>\n      <td>3</td>\n      <td>2020-01-03</td>\n      <td>Afghanistan</td>\n      <td>0</td>\n      <td>0</td>\n      <td>0</td>\n      <td>0</td>\n    </tr>\n    <tr>\n      <td>4</td>\n      <td>2020-01-04</td>\n      <td>Afghanistan</td>\n      <td>0</td>\n      <td>0</td>\n      <td>0</td>\n      <td>0</td>\n    </tr>\n    <tr>\n      <td>...</td>\n      <td>...</td>\n      <td>...</td>\n      <td>...</td>\n      <td>...</td>\n      <td>...</td>\n      <td>...</td>\n    </tr>\n    <tr>\n      <td>6447</td>\n      <td>2020-03-22</td>\n      <td>Zambia</td>\n      <td>0</td>\n      <td>0</td>\n      <td>2</td>\n      <td>0</td>\n    </tr>\n    <tr>\n      <td>6448</td>\n      <td>2020-03-23</td>\n      <td>Zambia</td>\n      <td>1</td>\n      <td>0</td>\n      <td>3</td>\n      <td>0</td>\n    </tr>\n    <tr>\n      <td>6449</td>\n      <td>2020-03-21</td>\n      <td>Zimbabwe</td>\n      <td>1</td>\n      <td>0</td>\n      <td>1</td>\n      <td>0</td>\n    </tr>\n    <tr>\n      <td>6450</td>\n      <td>2020-03-22</td>\n      <td>Zimbabwe</td>\n      <td>1</td>\n      <td>0</td>\n      <td>2</td>\n      <td>0</td>\n    </tr>\n    <tr>\n      <td>6451</td>\n      <td>2020-03-23</td>\n      <td>Zimbabwe</td>\n      <td>0</td>\n      <td>0</td>\n      <td>2</td>\n      <td>0</td>\n    </tr>\n  </tbody>\n</table>\n<p>6452 rows × 6 columns</p>\n</div>"
     },
     "metadata": {},
     "execution_count": 3
    }
   ],
   "source": [
    "df"
   ]
  },
  {
   "cell_type": "markdown",
   "metadata": {},
   "source": [
    "### Q.1. Create a new dataframe with all the locations except the median. Call it \"no_median_df\". All must be different locations.\n",
    "\n",
    "- First, we will check the median values of the original dataframe. Having a look at the dataframe it seems we might want to get rid of the 'location' 'World', as it does not represent a specific location, but rather the sum of all values of the countries listed. To do so, we will create a dataframe 'df_no_world' with the grouped locations, dropping the one with value 'World'.\n",
    "- Once we have a clean dataframe without the value 'World', we compute the median, and filter the observation with that value. In this cases, we chose to do so in the column 'total_cases'. In seems the median of the dataframe is the location 'Faeroe Islands'\n",
    "- Finally, we create the required dataframe 'no_median_df', by dropping the row/observation 'Faeroe Islands'"
   ]
  },
  {
   "cell_type": "code",
   "execution_count": 33,
   "metadata": {},
   "outputs": [
    {
     "output_type": "execute_result",
     "data": {
      "text/plain": "new_cases       0.0\nnew_deaths      0.0\ntotal_cases     1.0\ntotal_deaths    0.0\ndtype: float64"
     },
     "metadata": {},
     "execution_count": 33
    }
   ],
   "source": [
    "df.median()"
   ]
  },
  {
   "cell_type": "code",
   "execution_count": 34,
   "metadata": {},
   "outputs": [
    {
     "output_type": "execute_result",
     "data": {
      "text/plain": "             new_cases  new_deaths  total_cases  total_deaths\nlocation                                                     \nAfghanistan         34           0          213             0\nAlbania             89           2          635            17\nAlgeria            102          15          782            66\nAndorra            113           0          440             0\nAngola               2           0            4             0\n...                ...         ...          ...           ...\nVatican              1           0            9             0\nVenezuela           36           0          265             0\nVietnam            118           0         1413             0\nZambia               3           0           11             0\nZimbabwe             2           0            5             0\n\n[183 rows x 4 columns]",
      "text/html": "<div>\n<style scoped>\n    .dataframe tbody tr th:only-of-type {\n        vertical-align: middle;\n    }\n\n    .dataframe tbody tr th {\n        vertical-align: top;\n    }\n\n    .dataframe thead th {\n        text-align: right;\n    }\n</style>\n<table border=\"1\" class=\"dataframe\">\n  <thead>\n    <tr style=\"text-align: right;\">\n      <th></th>\n      <th>new_cases</th>\n      <th>new_deaths</th>\n      <th>total_cases</th>\n      <th>total_deaths</th>\n    </tr>\n    <tr>\n      <th>location</th>\n      <th></th>\n      <th></th>\n      <th></th>\n      <th></th>\n    </tr>\n  </thead>\n  <tbody>\n    <tr>\n      <td>Afghanistan</td>\n      <td>34</td>\n      <td>0</td>\n      <td>213</td>\n      <td>0</td>\n    </tr>\n    <tr>\n      <td>Albania</td>\n      <td>89</td>\n      <td>2</td>\n      <td>635</td>\n      <td>17</td>\n    </tr>\n    <tr>\n      <td>Algeria</td>\n      <td>102</td>\n      <td>15</td>\n      <td>782</td>\n      <td>66</td>\n    </tr>\n    <tr>\n      <td>Andorra</td>\n      <td>113</td>\n      <td>0</td>\n      <td>440</td>\n      <td>0</td>\n    </tr>\n    <tr>\n      <td>Angola</td>\n      <td>2</td>\n      <td>0</td>\n      <td>4</td>\n      <td>0</td>\n    </tr>\n    <tr>\n      <td>...</td>\n      <td>...</td>\n      <td>...</td>\n      <td>...</td>\n      <td>...</td>\n    </tr>\n    <tr>\n      <td>Vatican</td>\n      <td>1</td>\n      <td>0</td>\n      <td>9</td>\n      <td>0</td>\n    </tr>\n    <tr>\n      <td>Venezuela</td>\n      <td>36</td>\n      <td>0</td>\n      <td>265</td>\n      <td>0</td>\n    </tr>\n    <tr>\n      <td>Vietnam</td>\n      <td>118</td>\n      <td>0</td>\n      <td>1413</td>\n      <td>0</td>\n    </tr>\n    <tr>\n      <td>Zambia</td>\n      <td>3</td>\n      <td>0</td>\n      <td>11</td>\n      <td>0</td>\n    </tr>\n    <tr>\n      <td>Zimbabwe</td>\n      <td>2</td>\n      <td>0</td>\n      <td>5</td>\n      <td>0</td>\n    </tr>\n  </tbody>\n</table>\n<p>183 rows × 4 columns</p>\n</div>"
     },
     "metadata": {},
     "execution_count": 34
    }
   ],
   "source": [
    "df_no_world = df.groupby('location').sum().drop(\"World\", axis=0)\n",
    "df_no_world"
   ]
  },
  {
   "cell_type": "code",
   "execution_count": 35,
   "metadata": {},
   "outputs": [
    {
     "output_type": "execute_result",
     "data": {
      "text/plain": "new_cases        64.0\nnew_deaths        0.0\ntotal_cases     359.0\ntotal_deaths      0.0\ndtype: float64"
     },
     "metadata": {},
     "execution_count": 35
    }
   ],
   "source": [
    "df_no_world.median()"
   ]
  },
  {
   "cell_type": "code",
   "execution_count": 36,
   "metadata": {},
   "outputs": [
    {
     "output_type": "execute_result",
     "data": {
      "text/plain": "                new_cases  new_deaths  total_cases  total_deaths\nlocation                                                        \nFaeroe Islands        115           0          359             0",
      "text/html": "<div>\n<style scoped>\n    .dataframe tbody tr th:only-of-type {\n        vertical-align: middle;\n    }\n\n    .dataframe tbody tr th {\n        vertical-align: top;\n    }\n\n    .dataframe thead th {\n        text-align: right;\n    }\n</style>\n<table border=\"1\" class=\"dataframe\">\n  <thead>\n    <tr style=\"text-align: right;\">\n      <th></th>\n      <th>new_cases</th>\n      <th>new_deaths</th>\n      <th>total_cases</th>\n      <th>total_deaths</th>\n    </tr>\n    <tr>\n      <th>location</th>\n      <th></th>\n      <th></th>\n      <th></th>\n      <th></th>\n    </tr>\n  </thead>\n  <tbody>\n    <tr>\n      <td>Faeroe Islands</td>\n      <td>115</td>\n      <td>0</td>\n      <td>359</td>\n      <td>0</td>\n    </tr>\n  </tbody>\n</table>\n</div>"
     },
     "metadata": {},
     "execution_count": 36
    }
   ],
   "source": [
    "is_median = df_no_world['total_cases'] == df_no_world['total_cases'].median()\n",
    "df_no_world_median = df_no_world[is_median]\n",
    "df_no_world_median"
   ]
  },
  {
   "cell_type": "code",
   "execution_count": 37,
   "metadata": {},
   "outputs": [
    {
     "output_type": "execute_result",
     "data": {
      "text/plain": "             new_cases  new_deaths  total_cases  total_deaths\nlocation                                                     \nAfghanistan         34           0          213             0\nAlbania             89           2          635            17\nAlgeria            102          15          782            66\nAndorra            113           0          440             0\nAngola               2           0            4             0\n...                ...         ...          ...           ...\nVatican              1           0            9             0\nVenezuela           36           0          265             0\nVietnam            118           0         1413             0\nZambia               3           0           11             0\nZimbabwe             2           0            5             0\n\n[182 rows x 4 columns]",
      "text/html": "<div>\n<style scoped>\n    .dataframe tbody tr th:only-of-type {\n        vertical-align: middle;\n    }\n\n    .dataframe tbody tr th {\n        vertical-align: top;\n    }\n\n    .dataframe thead th {\n        text-align: right;\n    }\n</style>\n<table border=\"1\" class=\"dataframe\">\n  <thead>\n    <tr style=\"text-align: right;\">\n      <th></th>\n      <th>new_cases</th>\n      <th>new_deaths</th>\n      <th>total_cases</th>\n      <th>total_deaths</th>\n    </tr>\n    <tr>\n      <th>location</th>\n      <th></th>\n      <th></th>\n      <th></th>\n      <th></th>\n    </tr>\n  </thead>\n  <tbody>\n    <tr>\n      <td>Afghanistan</td>\n      <td>34</td>\n      <td>0</td>\n      <td>213</td>\n      <td>0</td>\n    </tr>\n    <tr>\n      <td>Albania</td>\n      <td>89</td>\n      <td>2</td>\n      <td>635</td>\n      <td>17</td>\n    </tr>\n    <tr>\n      <td>Algeria</td>\n      <td>102</td>\n      <td>15</td>\n      <td>782</td>\n      <td>66</td>\n    </tr>\n    <tr>\n      <td>Andorra</td>\n      <td>113</td>\n      <td>0</td>\n      <td>440</td>\n      <td>0</td>\n    </tr>\n    <tr>\n      <td>Angola</td>\n      <td>2</td>\n      <td>0</td>\n      <td>4</td>\n      <td>0</td>\n    </tr>\n    <tr>\n      <td>...</td>\n      <td>...</td>\n      <td>...</td>\n      <td>...</td>\n      <td>...</td>\n    </tr>\n    <tr>\n      <td>Vatican</td>\n      <td>1</td>\n      <td>0</td>\n      <td>9</td>\n      <td>0</td>\n    </tr>\n    <tr>\n      <td>Venezuela</td>\n      <td>36</td>\n      <td>0</td>\n      <td>265</td>\n      <td>0</td>\n    </tr>\n    <tr>\n      <td>Vietnam</td>\n      <td>118</td>\n      <td>0</td>\n      <td>1413</td>\n      <td>0</td>\n    </tr>\n    <tr>\n      <td>Zambia</td>\n      <td>3</td>\n      <td>0</td>\n      <td>11</td>\n      <td>0</td>\n    </tr>\n    <tr>\n      <td>Zimbabwe</td>\n      <td>2</td>\n      <td>0</td>\n      <td>5</td>\n      <td>0</td>\n    </tr>\n  </tbody>\n</table>\n<p>182 rows × 4 columns</p>\n</div>"
     },
     "metadata": {},
     "execution_count": 37
    }
   ],
   "source": [
    "no_median_df = df_no_world.groupby('location').sum().drop(\"Faeroe Islands\", axis=0)\n",
    "no_median_df"
   ]
  },
  {
   "cell_type": "markdown",
   "metadata": {},
   "source": [
    "### Q.2. Try to create a new function that return the answer of the next tasks and questions. One function per task: \n",
    "\n",
    "- Which countries have less cases than the percentile country 75%?\n",
    "- Imagine that the median location is the 175th row. Create a dataframe with all the locations from the 165 to 185. Call it \"median_df\". \n",
    "- With \"median_df\", create with bars, with lines, with points and with pie charts the top 10 in reverse. Both in seaborn and matplotlib. \n",
    "- Create a new dataframe with the concatenation of the \"median_df\" and \"no_median_df\". After that, create a function that receives a dataframe as param and return the number of non NaN values per each column and per each file. \n",
    "- Show, in a graph, which location appears more times in the dataset. \n",
    "- Which is the country with less frequency?\n",
    "- There is any unusual value? Why?\n",
    "- Delete all NaN value and repeat the same tasks using the functions created.\n",
    "- Do you find differences? Why?\n",
    "- What conclusion can we draw?"
   ]
  },
  {
   "cell_type": "markdown",
   "metadata": {},
   "source": [
    "### Which countries have less cases than the percentile country 75%?\n",
    "\n",
    "First, we cumpute the 75% quantile and then filter the dataframe using a mask with that value:"
   ]
  },
  {
   "cell_type": "code",
   "execution_count": 60,
   "metadata": {},
   "outputs": [
    {
     "output_type": "execute_result",
     "data": {
      "text/plain": "new_cases        348.5\nnew_deaths         3.0\ntotal_cases     2238.0\ntotal_deaths      14.0\nName: 0.75, dtype: float64"
     },
     "metadata": {},
     "execution_count": 60
    }
   ],
   "source": [
    "df_no_world.quantile(q=0.75)"
   ]
  },
  {
   "cell_type": "code",
   "execution_count": 47,
   "metadata": {},
   "outputs": [
    {
     "output_type": "execute_result",
     "data": {
      "text/plain": "             new_cases  new_deaths  total_cases  total_deaths\nlocation                                                     \nAfghanistan         34           0          213             0\nAlbania             89           2          635            17\nAlgeria            102          15          782            66\nAndorra            113           0          440             0\nAngola               2           0            4             0\n...                ...         ...          ...           ...\nVatican              1           0            9             0\nVenezuela           36           0          265             0\nVietnam            118           0         1413             0\nZambia               3           0           11             0\nZimbabwe             2           0            5             0\n\n[137 rows x 4 columns]",
      "text/html": "<div>\n<style scoped>\n    .dataframe tbody tr th:only-of-type {\n        vertical-align: middle;\n    }\n\n    .dataframe tbody tr th {\n        vertical-align: top;\n    }\n\n    .dataframe thead th {\n        text-align: right;\n    }\n</style>\n<table border=\"1\" class=\"dataframe\">\n  <thead>\n    <tr style=\"text-align: right;\">\n      <th></th>\n      <th>new_cases</th>\n      <th>new_deaths</th>\n      <th>total_cases</th>\n      <th>total_deaths</th>\n    </tr>\n    <tr>\n      <th>location</th>\n      <th></th>\n      <th></th>\n      <th></th>\n      <th></th>\n    </tr>\n  </thead>\n  <tbody>\n    <tr>\n      <td>Afghanistan</td>\n      <td>34</td>\n      <td>0</td>\n      <td>213</td>\n      <td>0</td>\n    </tr>\n    <tr>\n      <td>Albania</td>\n      <td>89</td>\n      <td>2</td>\n      <td>635</td>\n      <td>17</td>\n    </tr>\n    <tr>\n      <td>Algeria</td>\n      <td>102</td>\n      <td>15</td>\n      <td>782</td>\n      <td>66</td>\n    </tr>\n    <tr>\n      <td>Andorra</td>\n      <td>113</td>\n      <td>0</td>\n      <td>440</td>\n      <td>0</td>\n    </tr>\n    <tr>\n      <td>Angola</td>\n      <td>2</td>\n      <td>0</td>\n      <td>4</td>\n      <td>0</td>\n    </tr>\n    <tr>\n      <td>...</td>\n      <td>...</td>\n      <td>...</td>\n      <td>...</td>\n      <td>...</td>\n    </tr>\n    <tr>\n      <td>Vatican</td>\n      <td>1</td>\n      <td>0</td>\n      <td>9</td>\n      <td>0</td>\n    </tr>\n    <tr>\n      <td>Venezuela</td>\n      <td>36</td>\n      <td>0</td>\n      <td>265</td>\n      <td>0</td>\n    </tr>\n    <tr>\n      <td>Vietnam</td>\n      <td>118</td>\n      <td>0</td>\n      <td>1413</td>\n      <td>0</td>\n    </tr>\n    <tr>\n      <td>Zambia</td>\n      <td>3</td>\n      <td>0</td>\n      <td>11</td>\n      <td>0</td>\n    </tr>\n    <tr>\n      <td>Zimbabwe</td>\n      <td>2</td>\n      <td>0</td>\n      <td>5</td>\n      <td>0</td>\n    </tr>\n  </tbody>\n</table>\n<p>137 rows × 4 columns</p>\n</div>"
     },
     "metadata": {},
     "execution_count": 47
    }
   ],
   "source": [
    "less_3q = df_no_world['total_cases'] < 2238\n",
    "df_no_world[less_3q]"
   ]
  },
  {
   "cell_type": "markdown",
   "metadata": {},
   "source": [
    "### Imagine that the median location is the 175th row. Create a dataframe with all the locations from the 165 to 185. Call it \"median_df\"."
   ]
  },
  {
   "cell_type": "code",
   "execution_count": null,
   "metadata": {},
   "outputs": [],
   "source": []
  },
  {
   "cell_type": "code",
   "execution_count": null,
   "metadata": {},
   "outputs": [],
   "source": []
  },
  {
   "cell_type": "code",
   "execution_count": null,
   "metadata": {},
   "outputs": [],
   "source": []
  }
 ]
}