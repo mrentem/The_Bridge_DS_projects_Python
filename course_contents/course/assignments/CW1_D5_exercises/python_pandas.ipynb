{
 "nbformat": 4,
 "nbformat_minor": 2,
 "metadata": {
  "language_info": {
   "name": "python",
   "codemirror_mode": {
    "name": "ipython",
    "version": 3
   },
   "version": "3.7.4-final"
  },
  "orig_nbformat": 2,
  "file_extension": ".py",
  "mimetype": "text/x-python",
  "name": "python",
  "npconvert_exporter": "python",
  "pygments_lexer": "ipython3",
  "version": 3,
  "kernelspec": {
   "name": "python37464bitbasecondadf9388185d494eceb1ea53207dd5bb3f",
   "display_name": "Python 3.7.4 64-bit ('base': conda)"
  }
 },
 "cells": [
  {
   "cell_type": "markdown",
   "execution_count": null,
   "metadata": {},
   "outputs": [],
   "source": [
    "## Exercise 1:"
   ]
  },
  {
   "cell_type": "markdown",
   "execution_count": null,
   "metadata": {},
   "outputs": [],
   "source": [
    "Create, in your library/module, a protected function called 'f_protected' that creates a lambda function. The lambda function must receive a param 'x' and return a boolean True if 'x' is higher than 5.  Also, 'f_protected' must create a list ('l1') with 'list comprehesion' that generates a list from 0 to 15. Finally, 'f_protected' must return 'l1' filtered (using function 'filter') using the lambda function.\n",
    "\n",
    "After that, create a decorator called \"prepost\". The decorator must receive an *args and a **kwargs argument. \n",
    "\n",
    "If in 'kwargs' there is a key called \"url\", then it must do the next:\n",
    "\n",
    "    1. Open with a pandas the url as 'csv'. The variable is called 'df'.\n",
    "    2. Do what normal function does (the function wrapped with the decorator).\n",
    "    3. Plot histograms of each column in 'df'.\n",
    "\n",
    "Finally, use the decorator as follow and call the function:"
   ]
  },
  {
   "cell_type": "code",
   "execution_count": null,
   "metadata": {},
   "outputs": [],
   "source": [
    "key_url = http://winterolympicsmedals.com/medals.csv\n",
    "\n",
    "@prepost(key=key_url):\n",
    "#(here the defintion of 'f_protected')\n",
    "    #here the functionality of 'f_protected'\n",
    "\n",
    "f_protected()"
   ]
  },
  {
   "cell_type": "code",
   "execution_count": null,
   "metadata": {},
   "outputs": [],
   "source": []
  }
 ]
}