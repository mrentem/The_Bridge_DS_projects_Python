{
 "cells": [
  {
   "cell_type": "markdown",
   "execution_count": null,
   "metadata": {},
   "outputs": [],
   "source": [
    "# Ex1 - Filtering and Sorting Data"
   ]
  },
  {
   "cell_type": "markdown",
   "execution_count": null,
   "metadata": {},
   "outputs": [],
   "source": [
    "This time we are going to pull data directly from the internet.\n",
    "Special thanks to: https://github.com/justmarkham for sharing the dataset and materials.\n",
    "\n",
    "### Step 1. Import the necessary libraries"
   ]
  },
  {
   "cell_type": "code",
   "execution_count": 1,
   "metadata": {},
   "outputs": [],
   "source": [
    "import pandas as pd\n",
    "import numpy as np"
   ]
  },
  {
   "cell_type": "markdown",
   "execution_count": null,
   "metadata": {},
   "outputs": [],
   "source": [
    "### Step 2. Import the dataset from this [address](https://raw.githubusercontent.com/justmarkham/DAT8/master/data/chipotle.tsv). "
   ]
  },
  {
   "cell_type": "code",
   "execution_count": 2,
   "metadata": {},
   "outputs": [],
   "source": [
    "url = 'https://raw.githubusercontent.com/justmarkham/DAT8/master/data/chipotle.tsv'\n",
    "\n",
    "url_data = pd.read_table(url, sep='\\t')"
   ]
  },
  {
   "cell_type": "markdown",
   "execution_count": null,
   "metadata": {},
   "outputs": [],
   "source": [
    "### Step 3. Assign it to a variable called chipo."
   ]
  },
  {
   "cell_type": "code",
   "execution_count": 3,
   "metadata": {},
   "outputs": [],
   "source": [
    "chipo = url_data"
   ]
  },
  {
   "cell_type": "markdown",
   "execution_count": null,
   "metadata": {},
   "outputs": [],
   "source": [
    "### Step 4. What is the name of the max valued product?"
   ]
  },
  {
   "cell_type": "code",
   "execution_count": 4,
   "metadata": {},
   "outputs": [],
   "source": [
    "# Primero creamos una nueva columna con el precio en formato float\n",
    "\n",
    "chipo['new_item_price'] = chipo['item_price'].apply(lambda x: np.float64(x[1:]))\n"
   ]
  },
  {
   "cell_type": "code",
   "execution_count": 5,
   "metadata": {},
   "outputs": [
    {
     "name": "stdout",
     "output_type": "stream",
     "text": "44.25\n"
    }
   ],
   "source": [
    "#  Buscamos el precio maximo en esta nueva columna\n",
    "\n",
    "max_price = chipo['new_item_price'].max()\n",
    "print(max_price)\n",
    "\n",
    "# tenemos varias opciones para hacer esto:\n",
    "\n",
    "#index = chipo.new_item_price.idxmax()\n",
    "#print(index)\n"
   ]
  },
  {
   "cell_type": "code",
   "execution_count": 6,
   "metadata": {},
   "outputs": [
    {
     "data": {
      "text/plain": "[3598]"
     },
     "execution_count": 6,
     "metadata": {},
     "output_type": "execute_result"
    }
   ],
   "source": [
    "# Hacemos una lista de comprension (comprehension list) para localizar el/los indices en los que se encuentra nuestro valor, en este caso el maximo:\n",
    "\n",
    "indexes = [i for i, x in enumerate(chipo.new_item_price) if x == max(chipo.new_item_price)]\n",
    "indexes"
   ]
  },
  {
   "cell_type": "code",
   "execution_count": 7,
   "metadata": {},
   "outputs": [
    {
     "data": {
      "text/plain": "3598    44.25\nName: new_item_price, dtype: float64"
     },
     "execution_count": 7,
     "metadata": {},
     "output_type": "execute_result"
    }
   ],
   "source": [
    "# En este otro metodo empleamos una máscara para llegar a el/los valores que cumplen la condicion. Genera un array booleano (con True para los que cumplen, False para los que no).\n",
    "# Luego mostramos aquellos que la cumplen, en este caso uno.\n",
    "\n",
    "x = chipo.new_item_price[chipo.new_item_price == max(chipo.new_item_price)]\n",
    "x"
   ]
  },
  {
   "cell_type": "code",
   "execution_count": 8,
   "metadata": {},
   "outputs": [
    {
     "data": {
      "text/plain": "'Chips and Fresh Tomato Salsa'"
     },
     "execution_count": 8,
     "metadata": {},
     "output_type": "execute_result"
    }
   ],
   "source": [
    "chipo.loc[3598,'item_name']"
   ]
  },
  {
   "cell_type": "code",
   "execution_count": 9,
   "metadata": {},
   "outputs": [
    {
     "data": {
      "text/html": "<div>\n<style scoped>\n    .dataframe tbody tr th:only-of-type {\n        vertical-align: middle;\n    }\n\n    .dataframe tbody tr th {\n        vertical-align: top;\n    }\n\n    .dataframe thead th {\n        text-align: right;\n    }\n</style>\n<table border=\"1\" class=\"dataframe\">\n  <thead>\n    <tr style=\"text-align: right;\">\n      <th></th>\n      <th>item_name</th>\n      <th>choice_description</th>\n    </tr>\n  </thead>\n  <tbody>\n    <tr>\n      <td>3598</td>\n      <td>Chips and Fresh Tomato Salsa</td>\n      <td>NaN</td>\n    </tr>\n  </tbody>\n</table>\n</div>",
      "text/plain": "                         item_name choice_description\n3598  Chips and Fresh Tomato Salsa                NaN"
     },
     "execution_count": 9,
     "metadata": {},
     "output_type": "execute_result"
    }
   ],
   "source": [
    "# Mas ejemplos de mascaras, mostrando mas columnas:\n",
    "\n",
    "x = chipo[['item_name', 'choice_description']][chipo.new_item_price == max(chipo.new_item_price)]\n",
    "x"
   ]
  },
  {
   "cell_type": "code",
   "execution_count": 11,
   "metadata": {},
   "outputs": [
    {
     "data": {
      "text/html": "<div>\n<style scoped>\n    .dataframe tbody tr th:only-of-type {\n        vertical-align: middle;\n    }\n\n    .dataframe tbody tr th {\n        vertical-align: top;\n    }\n\n    .dataframe thead th {\n        text-align: right;\n    }\n</style>\n<table border=\"1\" class=\"dataframe\">\n  <thead>\n    <tr style=\"text-align: right;\">\n      <th></th>\n      <th>item_name</th>\n      <th>choice_description</th>\n    </tr>\n  </thead>\n  <tbody>\n    <tr>\n      <td>11</td>\n      <td>Chicken Crispy Tacos</td>\n      <td>[Roasted Chili Corn Salsa, [Fajita Vegetables,...</td>\n    </tr>\n    <tr>\n      <td>12</td>\n      <td>Chicken Soft Tacos</td>\n      <td>[Roasted Chili Corn Salsa, [Rice, Black Beans,...</td>\n    </tr>\n    <tr>\n      <td>19</td>\n      <td>Chicken Bowl</td>\n      <td>[Tomatillo Red Chili Salsa, [Fajita Vegetables...</td>\n    </tr>\n    <tr>\n      <td>35</td>\n      <td>Chicken Soft Tacos</td>\n      <td>[Roasted Chili Corn Salsa, Rice]</td>\n    </tr>\n    <tr>\n      <td>36</td>\n      <td>Chicken Soft Tacos</td>\n      <td>[Roasted Chili Corn Salsa, [Cheese, Lettuce]]</td>\n    </tr>\n    <tr>\n      <td>...</td>\n      <td>...</td>\n      <td>...</td>\n    </tr>\n    <tr>\n      <td>4599</td>\n      <td>Chicken Bowl</td>\n      <td>[Roasted Chili Corn Salsa, [Cheese, Lettuce]]</td>\n    </tr>\n    <tr>\n      <td>4604</td>\n      <td>Chicken Bowl</td>\n      <td>[Fresh Tomato Salsa, [Rice, Black Beans, Chees...</td>\n    </tr>\n    <tr>\n      <td>4615</td>\n      <td>Chicken Soft Tacos</td>\n      <td>[Fresh Tomato Salsa, [Rice, Cheese, Sour Cream]]</td>\n    </tr>\n    <tr>\n      <td>4620</td>\n      <td>Chicken Salad Bowl</td>\n      <td>[Fresh Tomato Salsa, [Fajita Vegetables, Lettu...</td>\n    </tr>\n    <tr>\n      <td>4621</td>\n      <td>Chicken Salad Bowl</td>\n      <td>[Fresh Tomato Salsa, [Fajita Vegetables, Pinto...</td>\n    </tr>\n  </tbody>\n</table>\n<p>730 rows × 2 columns</p>\n</div>",
      "text/plain": "                 item_name                                 choice_description\n11    Chicken Crispy Tacos  [Roasted Chili Corn Salsa, [Fajita Vegetables,...\n12      Chicken Soft Tacos  [Roasted Chili Corn Salsa, [Rice, Black Beans,...\n19            Chicken Bowl  [Tomatillo Red Chili Salsa, [Fajita Vegetables...\n35      Chicken Soft Tacos                   [Roasted Chili Corn Salsa, Rice]\n36      Chicken Soft Tacos      [Roasted Chili Corn Salsa, [Cheese, Lettuce]]\n...                    ...                                                ...\n4599          Chicken Bowl      [Roasted Chili Corn Salsa, [Cheese, Lettuce]]\n4604          Chicken Bowl  [Fresh Tomato Salsa, [Rice, Black Beans, Chees...\n4615    Chicken Soft Tacos   [Fresh Tomato Salsa, [Rice, Cheese, Sour Cream]]\n4620    Chicken Salad Bowl  [Fresh Tomato Salsa, [Fajita Vegetables, Lettu...\n4621    Chicken Salad Bowl  [Fresh Tomato Salsa, [Fajita Vegetables, Pinto...\n\n[730 rows x 2 columns]"
     },
     "execution_count": 11,
     "metadata": {},
     "output_type": "execute_result"
    }
   ],
   "source": [
    "# Otro ejemplo de mascara buscando otro precio del que hay mas de un producto con ese precio\n",
    "\n",
    "x = chipo[['item_name', 'choice_description']][chipo.new_item_price == 8.75]\n",
    "x"
   ]
  },
  {
   "cell_type": "code",
   "execution_count": null,
   "metadata": {},
   "outputs": [],
   "source": []
  },
  {
   "cell_type": "markdown",
   "execution_count": null,
   "metadata": {},
   "outputs": [],
   "source": [
    "### Step 5. What is the price of each item? \n",
    "###### print a data frame with only two columns item_name and item_price"
   ]
  },
  {
   "cell_type": "code",
   "execution_count": 12,
   "metadata": {},
   "outputs": [
    {
     "data": {
      "text/html": "<div>\n<style scoped>\n    .dataframe tbody tr th:only-of-type {\n        vertical-align: middle;\n    }\n\n    .dataframe tbody tr th {\n        vertical-align: top;\n    }\n\n    .dataframe thead th {\n        text-align: right;\n    }\n</style>\n<table border=\"1\" class=\"dataframe\">\n  <thead>\n    <tr style=\"text-align: right;\">\n      <th></th>\n      <th>order_id</th>\n      <th>quantity</th>\n      <th>item_name</th>\n      <th>choice_description</th>\n      <th>item_price</th>\n      <th>new_item_price</th>\n    </tr>\n  </thead>\n  <tbody>\n    <tr>\n      <td>0</td>\n      <td>1</td>\n      <td>1</td>\n      <td>Chips and Fresh Tomato Salsa</td>\n      <td>NaN</td>\n      <td>$2.39</td>\n      <td>2.39</td>\n    </tr>\n    <tr>\n      <td>1</td>\n      <td>1</td>\n      <td>1</td>\n      <td>Izze</td>\n      <td>[Clementine]</td>\n      <td>$3.39</td>\n      <td>3.39</td>\n    </tr>\n    <tr>\n      <td>2</td>\n      <td>1</td>\n      <td>1</td>\n      <td>Nantucket Nectar</td>\n      <td>[Apple]</td>\n      <td>$3.39</td>\n      <td>3.39</td>\n    </tr>\n    <tr>\n      <td>3</td>\n      <td>1</td>\n      <td>1</td>\n      <td>Chips and Tomatillo-Green Chili Salsa</td>\n      <td>NaN</td>\n      <td>$2.39</td>\n      <td>2.39</td>\n    </tr>\n    <tr>\n      <td>5</td>\n      <td>3</td>\n      <td>1</td>\n      <td>Chicken Bowl</td>\n      <td>[Fresh Tomato Salsa (Mild), [Rice, Cheese, Sou...</td>\n      <td>$10.98</td>\n      <td>10.98</td>\n    </tr>\n    <tr>\n      <td>6</td>\n      <td>3</td>\n      <td>1</td>\n      <td>Side of Chips</td>\n      <td>NaN</td>\n      <td>$1.69</td>\n      <td>1.69</td>\n    </tr>\n    <tr>\n      <td>7</td>\n      <td>4</td>\n      <td>1</td>\n      <td>Steak Burrito</td>\n      <td>[Tomatillo Red Chili Salsa, [Fajita Vegetables...</td>\n      <td>$11.75</td>\n      <td>11.75</td>\n    </tr>\n    <tr>\n      <td>8</td>\n      <td>4</td>\n      <td>1</td>\n      <td>Steak Soft Tacos</td>\n      <td>[Tomatillo Green Chili Salsa, [Pinto Beans, Ch...</td>\n      <td>$9.25</td>\n      <td>9.25</td>\n    </tr>\n    <tr>\n      <td>10</td>\n      <td>5</td>\n      <td>1</td>\n      <td>Chips and Guacamole</td>\n      <td>NaN</td>\n      <td>$4.45</td>\n      <td>4.45</td>\n    </tr>\n    <tr>\n      <td>11</td>\n      <td>6</td>\n      <td>1</td>\n      <td>Chicken Crispy Tacos</td>\n      <td>[Roasted Chili Corn Salsa, [Fajita Vegetables,...</td>\n      <td>$8.75</td>\n      <td>8.75</td>\n    </tr>\n    <tr>\n      <td>12</td>\n      <td>6</td>\n      <td>1</td>\n      <td>Chicken Soft Tacos</td>\n      <td>[Roasted Chili Corn Salsa, [Rice, Black Beans,...</td>\n      <td>$8.75</td>\n      <td>8.75</td>\n    </tr>\n    <tr>\n      <td>16</td>\n      <td>8</td>\n      <td>1</td>\n      <td>Chicken Burrito</td>\n      <td>[Tomatillo-Green Chili Salsa (Medium), [Pinto ...</td>\n      <td>$8.49</td>\n      <td>8.49</td>\n    </tr>\n    <tr>\n      <td>21</td>\n      <td>11</td>\n      <td>1</td>\n      <td>Barbacoa Burrito</td>\n      <td>[[Fresh Tomato Salsa (Mild), Tomatillo-Green C...</td>\n      <td>$8.99</td>\n      <td>8.99</td>\n    </tr>\n    <tr>\n      <td>27</td>\n      <td>14</td>\n      <td>1</td>\n      <td>Carnitas Burrito</td>\n      <td>[[Tomatillo-Green Chili Salsa (Medium), Roaste...</td>\n      <td>$8.99</td>\n      <td>8.99</td>\n    </tr>\n    <tr>\n      <td>28</td>\n      <td>14</td>\n      <td>1</td>\n      <td>Canned Soda</td>\n      <td>[Dr. Pepper]</td>\n      <td>$1.09</td>\n      <td>1.09</td>\n    </tr>\n    <tr>\n      <td>33</td>\n      <td>17</td>\n      <td>1</td>\n      <td>Carnitas Bowl</td>\n      <td>[Tomatillo-Red Chili Salsa (Hot), [Black Beans...</td>\n      <td>$8.99</td>\n      <td>8.99</td>\n    </tr>\n    <tr>\n      <td>34</td>\n      <td>17</td>\n      <td>1</td>\n      <td>Bottled Water</td>\n      <td>NaN</td>\n      <td>$1.09</td>\n      <td>1.09</td>\n    </tr>\n    <tr>\n      <td>38</td>\n      <td>18</td>\n      <td>1</td>\n      <td>Chips and Tomatillo Green Chili Salsa</td>\n      <td>NaN</td>\n      <td>$2.95</td>\n      <td>2.95</td>\n    </tr>\n    <tr>\n      <td>39</td>\n      <td>19</td>\n      <td>1</td>\n      <td>Barbacoa Bowl</td>\n      <td>[Roasted Chili Corn Salsa, [Fajita Vegetables,...</td>\n      <td>$11.75</td>\n      <td>11.75</td>\n    </tr>\n    <tr>\n      <td>40</td>\n      <td>19</td>\n      <td>1</td>\n      <td>Chips</td>\n      <td>NaN</td>\n      <td>$2.15</td>\n      <td>2.15</td>\n    </tr>\n    <tr>\n      <td>44</td>\n      <td>20</td>\n      <td>1</td>\n      <td>Chicken Salad Bowl</td>\n      <td>[Fresh Tomato Salsa, [Fajita Vegetables, Pinto...</td>\n      <td>$8.75</td>\n      <td>8.75</td>\n    </tr>\n    <tr>\n      <td>54</td>\n      <td>25</td>\n      <td>1</td>\n      <td>Steak Bowl</td>\n      <td>[Fresh Tomato Salsa (Mild), [Black Beans, Rice...</td>\n      <td>$8.99</td>\n      <td>8.99</td>\n    </tr>\n    <tr>\n      <td>56</td>\n      <td>26</td>\n      <td>1</td>\n      <td>Barbacoa Soft Tacos</td>\n      <td>[Fresh Tomato Salsa, [Fajita Vegetables, Black...</td>\n      <td>$9.25</td>\n      <td>9.25</td>\n    </tr>\n    <tr>\n      <td>57</td>\n      <td>26</td>\n      <td>1</td>\n      <td>Veggie Burrito</td>\n      <td>[Tomatillo Red Chili Salsa, [Fajita Vegetables...</td>\n      <td>$11.25</td>\n      <td>11.25</td>\n    </tr>\n    <tr>\n      <td>62</td>\n      <td>28</td>\n      <td>1</td>\n      <td>Veggie Bowl</td>\n      <td>[Fresh Tomato Salsa, [Fajita Vegetables, Rice,...</td>\n      <td>$11.25</td>\n      <td>11.25</td>\n    </tr>\n    <tr>\n      <td>92</td>\n      <td>40</td>\n      <td>1</td>\n      <td>Steak Crispy Tacos</td>\n      <td>[Fresh Tomato Salsa, Sour Cream]</td>\n      <td>$9.25</td>\n      <td>9.25</td>\n    </tr>\n    <tr>\n      <td>111</td>\n      <td>49</td>\n      <td>1</td>\n      <td>Chips and Tomatillo Red Chili Salsa</td>\n      <td>NaN</td>\n      <td>$2.95</td>\n      <td>2.95</td>\n    </tr>\n    <tr>\n      <td>168</td>\n      <td>75</td>\n      <td>1</td>\n      <td>Barbacoa Crispy Tacos</td>\n      <td>[Tomatillo Red Chili Salsa, [Rice, Black Beans...</td>\n      <td>$11.75</td>\n      <td>11.75</td>\n    </tr>\n    <tr>\n      <td>186</td>\n      <td>83</td>\n      <td>1</td>\n      <td>Veggie Salad Bowl</td>\n      <td>[Fresh Tomato Salsa, [Fajita Vegetables, Rice,...</td>\n      <td>$11.25</td>\n      <td>11.25</td>\n    </tr>\n    <tr>\n      <td>191</td>\n      <td>85</td>\n      <td>1</td>\n      <td>Chips and Roasted Chili-Corn Salsa</td>\n      <td>NaN</td>\n      <td>$2.39</td>\n      <td>2.39</td>\n    </tr>\n    <tr>\n      <td>233</td>\n      <td>102</td>\n      <td>1</td>\n      <td>Chips and Roasted Chili Corn Salsa</td>\n      <td>NaN</td>\n      <td>$2.95</td>\n      <td>2.95</td>\n    </tr>\n    <tr>\n      <td>237</td>\n      <td>103</td>\n      <td>1</td>\n      <td>Carnitas Soft Tacos</td>\n      <td>[Tomatillo Green Chili Salsa, [Fajita Vegetabl...</td>\n      <td>$9.25</td>\n      <td>9.25</td>\n    </tr>\n    <tr>\n      <td>250</td>\n      <td>109</td>\n      <td>1</td>\n      <td>Chicken Salad</td>\n      <td>[Roasted Chili Corn Salsa (Medium), [Black Bea...</td>\n      <td>$10.98</td>\n      <td>10.98</td>\n    </tr>\n    <tr>\n      <td>263</td>\n      <td>114</td>\n      <td>1</td>\n      <td>Canned Soft Drink</td>\n      <td>[Coke]</td>\n      <td>$1.25</td>\n      <td>1.25</td>\n    </tr>\n    <tr>\n      <td>298</td>\n      <td>129</td>\n      <td>1</td>\n      <td>6 Pack Soft Drink</td>\n      <td>[Sprite]</td>\n      <td>$6.49</td>\n      <td>6.49</td>\n    </tr>\n    <tr>\n      <td>300</td>\n      <td>130</td>\n      <td>1</td>\n      <td>Chips and Tomatillo-Red Chili Salsa</td>\n      <td>NaN</td>\n      <td>$2.39</td>\n      <td>2.39</td>\n    </tr>\n    <tr>\n      <td>510</td>\n      <td>214</td>\n      <td>1</td>\n      <td>Burrito</td>\n      <td>[Adobo-Marinated and Grilled Chicken, Pinto Be...</td>\n      <td>$7.40</td>\n      <td>7.40</td>\n    </tr>\n    <tr>\n      <td>520</td>\n      <td>217</td>\n      <td>1</td>\n      <td>Crispy Tacos</td>\n      <td>[Adobo-Marinated and Grilled Steak]</td>\n      <td>$7.40</td>\n      <td>7.40</td>\n    </tr>\n    <tr>\n      <td>554</td>\n      <td>230</td>\n      <td>1</td>\n      <td>Carnitas Crispy Tacos</td>\n      <td>[Roasted Chili Corn Salsa]</td>\n      <td>$9.25</td>\n      <td>9.25</td>\n    </tr>\n    <tr>\n      <td>606</td>\n      <td>250</td>\n      <td>1</td>\n      <td>Steak Salad Bowl</td>\n      <td>[Fresh Tomato Salsa, [Pinto Beans, Cheese, Gua...</td>\n      <td>$11.89</td>\n      <td>11.89</td>\n    </tr>\n    <tr>\n      <td>664</td>\n      <td>276</td>\n      <td>1</td>\n      <td>Steak Salad</td>\n      <td>[Tomatillo-Red Chili Salsa (Hot), [Black Beans...</td>\n      <td>$8.99</td>\n      <td>8.99</td>\n    </tr>\n    <tr>\n      <td>673</td>\n      <td>279</td>\n      <td>1</td>\n      <td>Bowl</td>\n      <td>[Adobo-Marinated and Grilled Steak, [Sour Crea...</td>\n      <td>$7.40</td>\n      <td>7.40</td>\n    </tr>\n    <tr>\n      <td>674</td>\n      <td>279</td>\n      <td>1</td>\n      <td>Chips and Mild Fresh Tomato Salsa</td>\n      <td>NaN</td>\n      <td>$3.00</td>\n      <td>3.00</td>\n    </tr>\n    <tr>\n      <td>738</td>\n      <td>304</td>\n      <td>1</td>\n      <td>Veggie Soft Tacos</td>\n      <td>[Tomatillo Red Chili Salsa, [Fajita Vegetables...</td>\n      <td>$11.25</td>\n      <td>11.25</td>\n    </tr>\n    <tr>\n      <td>1132</td>\n      <td>468</td>\n      <td>1</td>\n      <td>Carnitas Salad Bowl</td>\n      <td>[Fresh Tomato Salsa, [Rice, Black Beans, Chees...</td>\n      <td>$11.89</td>\n      <td>11.89</td>\n    </tr>\n    <tr>\n      <td>1229</td>\n      <td>501</td>\n      <td>1</td>\n      <td>Barbacoa Salad Bowl</td>\n      <td>[Fresh Tomato Salsa, [Rice, Fajita Vegetables,...</td>\n      <td>$11.89</td>\n      <td>11.89</td>\n    </tr>\n    <tr>\n      <td>1414</td>\n      <td>575</td>\n      <td>1</td>\n      <td>Salad</td>\n      <td>[Brown Rice, Adobo-Marinated and Grilled Chick...</td>\n      <td>$7.40</td>\n      <td>7.40</td>\n    </tr>\n    <tr>\n      <td>1653</td>\n      <td>668</td>\n      <td>1</td>\n      <td>Veggie Crispy Tacos</td>\n      <td>[Fresh Tomato Salsa (Mild), [Pinto Beans, Rice...</td>\n      <td>$8.49</td>\n      <td>8.49</td>\n    </tr>\n    <tr>\n      <td>1694</td>\n      <td>686</td>\n      <td>1</td>\n      <td>Veggie Salad</td>\n      <td>[[Fresh Tomato Salsa (Mild), Roasted Chili Cor...</td>\n      <td>$8.49</td>\n      <td>8.49</td>\n    </tr>\n    <tr>\n      <td>3750</td>\n      <td>1500</td>\n      <td>1</td>\n      <td>Carnitas Salad</td>\n      <td>[[Fresh Tomato Salsa (Mild), Roasted Chili Cor...</td>\n      <td>$8.99</td>\n      <td>8.99</td>\n    </tr>\n  </tbody>\n</table>\n</div>",
      "text/plain": "      order_id  quantity                              item_name  \\\n0            1         1           Chips and Fresh Tomato Salsa   \n1            1         1                                   Izze   \n2            1         1                       Nantucket Nectar   \n3            1         1  Chips and Tomatillo-Green Chili Salsa   \n5            3         1                           Chicken Bowl   \n6            3         1                          Side of Chips   \n7            4         1                          Steak Burrito   \n8            4         1                       Steak Soft Tacos   \n10           5         1                    Chips and Guacamole   \n11           6         1                   Chicken Crispy Tacos   \n12           6         1                     Chicken Soft Tacos   \n16           8         1                        Chicken Burrito   \n21          11         1                       Barbacoa Burrito   \n27          14         1                       Carnitas Burrito   \n28          14         1                            Canned Soda   \n33          17         1                          Carnitas Bowl   \n34          17         1                          Bottled Water   \n38          18         1  Chips and Tomatillo Green Chili Salsa   \n39          19         1                          Barbacoa Bowl   \n40          19         1                                  Chips   \n44          20         1                     Chicken Salad Bowl   \n54          25         1                             Steak Bowl   \n56          26         1                    Barbacoa Soft Tacos   \n57          26         1                         Veggie Burrito   \n62          28         1                            Veggie Bowl   \n92          40         1                     Steak Crispy Tacos   \n111         49         1    Chips and Tomatillo Red Chili Salsa   \n168         75         1                  Barbacoa Crispy Tacos   \n186         83         1                      Veggie Salad Bowl   \n191         85         1     Chips and Roasted Chili-Corn Salsa   \n233        102         1     Chips and Roasted Chili Corn Salsa   \n237        103         1                    Carnitas Soft Tacos   \n250        109         1                          Chicken Salad   \n263        114         1                      Canned Soft Drink   \n298        129         1                      6 Pack Soft Drink   \n300        130         1    Chips and Tomatillo-Red Chili Salsa   \n510        214         1                                Burrito   \n520        217         1                           Crispy Tacos   \n554        230         1                  Carnitas Crispy Tacos   \n606        250         1                       Steak Salad Bowl   \n664        276         1                            Steak Salad   \n673        279         1                                   Bowl   \n674        279         1      Chips and Mild Fresh Tomato Salsa   \n738        304         1                      Veggie Soft Tacos   \n1132       468         1                    Carnitas Salad Bowl   \n1229       501         1                    Barbacoa Salad Bowl   \n1414       575         1                                  Salad   \n1653       668         1                    Veggie Crispy Tacos   \n1694       686         1                           Veggie Salad   \n3750      1500         1                         Carnitas Salad   \n\n                                     choice_description item_price  \\\n0                                                   NaN     $2.39    \n1                                          [Clementine]     $3.39    \n2                                               [Apple]     $3.39    \n3                                                   NaN     $2.39    \n5     [Fresh Tomato Salsa (Mild), [Rice, Cheese, Sou...    $10.98    \n6                                                   NaN     $1.69    \n7     [Tomatillo Red Chili Salsa, [Fajita Vegetables...    $11.75    \n8     [Tomatillo Green Chili Salsa, [Pinto Beans, Ch...     $9.25    \n10                                                  NaN     $4.45    \n11    [Roasted Chili Corn Salsa, [Fajita Vegetables,...     $8.75    \n12    [Roasted Chili Corn Salsa, [Rice, Black Beans,...     $8.75    \n16    [Tomatillo-Green Chili Salsa (Medium), [Pinto ...     $8.49    \n21    [[Fresh Tomato Salsa (Mild), Tomatillo-Green C...     $8.99    \n27    [[Tomatillo-Green Chili Salsa (Medium), Roaste...     $8.99    \n28                                         [Dr. Pepper]     $1.09    \n33    [Tomatillo-Red Chili Salsa (Hot), [Black Beans...     $8.99    \n34                                                  NaN     $1.09    \n38                                                  NaN     $2.95    \n39    [Roasted Chili Corn Salsa, [Fajita Vegetables,...    $11.75    \n40                                                  NaN     $2.15    \n44    [Fresh Tomato Salsa, [Fajita Vegetables, Pinto...     $8.75    \n54    [Fresh Tomato Salsa (Mild), [Black Beans, Rice...     $8.99    \n56    [Fresh Tomato Salsa, [Fajita Vegetables, Black...     $9.25    \n57    [Tomatillo Red Chili Salsa, [Fajita Vegetables...    $11.25    \n62    [Fresh Tomato Salsa, [Fajita Vegetables, Rice,...    $11.25    \n92                     [Fresh Tomato Salsa, Sour Cream]     $9.25    \n111                                                 NaN     $2.95    \n168   [Tomatillo Red Chili Salsa, [Rice, Black Beans...    $11.75    \n186   [Fresh Tomato Salsa, [Fajita Vegetables, Rice,...    $11.25    \n191                                                 NaN     $2.39    \n233                                                 NaN     $2.95    \n237   [Tomatillo Green Chili Salsa, [Fajita Vegetabl...     $9.25    \n250   [Roasted Chili Corn Salsa (Medium), [Black Bea...    $10.98    \n263                                              [Coke]     $1.25    \n298                                            [Sprite]     $6.49    \n300                                                 NaN     $2.39    \n510   [Adobo-Marinated and Grilled Chicken, Pinto Be...     $7.40    \n520                 [Adobo-Marinated and Grilled Steak]     $7.40    \n554                          [Roasted Chili Corn Salsa]     $9.25    \n606   [Fresh Tomato Salsa, [Pinto Beans, Cheese, Gua...    $11.89    \n664   [Tomatillo-Red Chili Salsa (Hot), [Black Beans...     $8.99    \n673   [Adobo-Marinated and Grilled Steak, [Sour Crea...     $7.40    \n674                                                 NaN     $3.00    \n738   [Tomatillo Red Chili Salsa, [Fajita Vegetables...    $11.25    \n1132  [Fresh Tomato Salsa, [Rice, Black Beans, Chees...    $11.89    \n1229  [Fresh Tomato Salsa, [Rice, Fajita Vegetables,...    $11.89    \n1414  [Brown Rice, Adobo-Marinated and Grilled Chick...     $7.40    \n1653  [Fresh Tomato Salsa (Mild), [Pinto Beans, Rice...     $8.49    \n1694  [[Fresh Tomato Salsa (Mild), Roasted Chili Cor...     $8.49    \n3750  [[Fresh Tomato Salsa (Mild), Roasted Chili Cor...     $8.99    \n\n      new_item_price  \n0               2.39  \n1               3.39  \n2               3.39  \n3               2.39  \n5              10.98  \n6               1.69  \n7              11.75  \n8               9.25  \n10              4.45  \n11              8.75  \n12              8.75  \n16              8.49  \n21              8.99  \n27              8.99  \n28              1.09  \n33              8.99  \n34              1.09  \n38              2.95  \n39             11.75  \n40              2.15  \n44              8.75  \n54              8.99  \n56              9.25  \n57             11.25  \n62             11.25  \n92              9.25  \n111             2.95  \n168            11.75  \n186            11.25  \n191             2.39  \n233             2.95  \n237             9.25  \n250            10.98  \n263             1.25  \n298             6.49  \n300             2.39  \n510             7.40  \n520             7.40  \n554             9.25  \n606            11.89  \n664             8.99  \n673             7.40  \n674             3.00  \n738            11.25  \n1132           11.89  \n1229           11.89  \n1414            7.40  \n1653            8.49  \n1694            8.49  \n3750            8.99  "
     },
     "execution_count": 12,
     "metadata": {},
     "output_type": "execute_result"
    }
   ],
   "source": [
    "# delete the duplicates in item_name and quantity\n",
    "\n",
    "chipo_price_item = chipo.drop_duplicates(subset=('item_name', 'quantity'), keep='first')\n",
    "chipo_price_item\n",
    "\n",
    "# select only the products with quantity equals to 1\n",
    "\n",
    "chipo_price_item.loc[chipo_price_item['quantity'] == 1]\n",
    "\n",
    "# select only the item_name and item_price columns\n",
    "\n",
    "\n",
    "# sort the values from the most to less expensive\n"
   ]
  },
  {
   "cell_type": "markdown",
   "execution_count": null,
   "metadata": {},
   "outputs": [],
   "source": [
    "### Step 6. Sort by the name of the item"
   ]
  },
  {
   "cell_type": "code",
   "execution_count": 13,
   "metadata": {},
   "outputs": [],
   "source": [
    "\n",
    "\n",
    "# OR\n",
    "\n"
   ]
  },
  {
   "cell_type": "markdown",
   "execution_count": null,
   "metadata": {},
   "outputs": [],
   "source": [
    "### Step 7. What was the quantity of the most expensive item ordered?"
   ]
  },
  {
   "cell_type": "code",
   "execution_count": 15,
   "metadata": {},
   "outputs": [
    {
     "data": {
      "text/html": "<div>\n<style scoped>\n    .dataframe tbody tr th:only-of-type {\n        vertical-align: middle;\n    }\n\n    .dataframe tbody tr th {\n        vertical-align: top;\n    }\n\n    .dataframe thead th {\n        text-align: right;\n    }\n</style>\n<table border=\"1\" class=\"dataframe\">\n  <thead>\n    <tr style=\"text-align: right;\">\n      <th></th>\n      <th>order_id</th>\n      <th>quantity</th>\n      <th>item_name</th>\n      <th>choice_description</th>\n      <th>item_price</th>\n      <th>new_item_price</th>\n    </tr>\n  </thead>\n  <tbody>\n    <tr>\n      <td>3598</td>\n      <td>1443</td>\n      <td>15</td>\n      <td>Chips and Fresh Tomato Salsa</td>\n      <td>NaN</td>\n      <td>$44.25</td>\n      <td>44.25</td>\n    </tr>\n  </tbody>\n</table>\n</div>",
      "text/plain": "      order_id  quantity                     item_name choice_description  \\\n3598      1443        15  Chips and Fresh Tomato Salsa                NaN   \n\n     item_price  new_item_price  \n3598    $44.25            44.25  "
     },
     "execution_count": 15,
     "metadata": {},
     "output_type": "execute_result"
    }
   ],
   "source": [
    "chipo.sort_values(by='new_item_price', ascending=False).head(1)"
   ]
  },
  {
   "cell_type": "markdown",
   "metadata": {},
   "source": [
    "### What is the order_id with the hightest value? "
   ]
  },
  {
   "cell_type": "code",
   "execution_count": 19,
   "metadata": {},
   "outputs": [
    {
     "data": {
      "text/html": "<div>\n<style scoped>\n    .dataframe tbody tr th:only-of-type {\n        vertical-align: middle;\n    }\n\n    .dataframe tbody tr th {\n        vertical-align: top;\n    }\n\n    .dataframe thead th {\n        text-align: right;\n    }\n</style>\n<table border=\"1\" class=\"dataframe\">\n  <thead>\n    <tr style=\"text-align: right;\">\n      <th></th>\n      <th>quantity</th>\n      <th>new_item_price</th>\n    </tr>\n    <tr>\n      <th>order_id</th>\n      <th></th>\n      <th></th>\n    </tr>\n  </thead>\n  <tbody>\n    <tr>\n      <td>926</td>\n      <td>23</td>\n      <td>205.25</td>\n    </tr>\n  </tbody>\n</table>\n</div>",
      "text/plain": "          quantity  new_item_price\norder_id                          \n926             23          205.25"
     },
     "execution_count": 19,
     "metadata": {},
     "output_type": "execute_result"
    }
   ],
   "source": [
    "chipo_ = chipo.groupby('order_id').sum()\n",
    "chipo_.sort_values(by='new_item_price', ascending=False).head(1)"
   ]
  },
  {
   "cell_type": "markdown",
   "execution_count": null,
   "metadata": {},
   "outputs": [],
   "source": [
    "### Step 8. How many times was a Veggie Salad Bowl ordered?"
   ]
  },
  {
   "cell_type": "code",
   "execution_count": 20,
   "metadata": {},
   "outputs": [
    {
     "data": {
      "text/plain": "18"
     },
     "execution_count": 20,
     "metadata": {},
     "output_type": "execute_result"
    }
   ],
   "source": [
    "# We make a mask to identify the tickets where the Veggie Salad Bowl was ordered\n",
    "\n",
    "chipo_salad = chipo[chipo.item_name == 'Veggie Salad Bowl']\n",
    "len(chipo_salad)"
   ]
  },
  {
   "cell_type": "code",
   "execution_count": 22,
   "metadata": {},
   "outputs": [
    {
     "data": {
      "text/plain": "18"
     },
     "execution_count": 22,
     "metadata": {},
     "output_type": "execute_result"
    }
   ],
   "source": [
    "# Using value_counts: (as we used 'item_name' with value_counts, it takes that column as index)\n",
    "\n",
    "chipo.item_name.value_counts()['Veggie Salad Bowl']"
   ]
  },
  {
   "cell_type": "markdown",
   "execution_count": null,
   "metadata": {},
   "outputs": [],
   "source": [
    "### Step 9. How many times did someone order more than one Canned Soda?"
   ]
  },
  {
   "cell_type": "code",
   "execution_count": 24,
   "metadata": {},
   "outputs": [
    {
     "data": {
      "text/plain": "20"
     },
     "execution_count": 24,
     "metadata": {},
     "output_type": "execute_result"
    }
   ],
   "source": [
    "# As we want to filter, we use a mask stting the two conditions: first, that the item_name is Canned Soda, and second that the quantity is more than 1.\n",
    "\n",
    "chipo_drink_soda = chipo[(chipo.item_name == 'Canned Soda') & (chipo.quantity > 1)]\n",
    "len(chipo_drink_soda)"
   ]
  },
  {
   "cell_type": "code",
   "execution_count": 25,
   "metadata": {},
   "outputs": [
    {
     "ename": "TypeError",
     "evalue": "'DataFrame' object is not callable",
     "output_type": "error",
     "traceback": [
      "\u001b[1;31m---------------------------------------------------------------------------\u001b[0m",
      "\u001b[1;31mTypeError\u001b[0m                                 Traceback (most recent call last)",
      "\u001b[1;32m<ipython-input-25-c9eef18427f4>\u001b[0m in \u001b[0;36m<module>\u001b[1;34m\u001b[0m\n\u001b[1;32m----> 1\u001b[1;33m \u001b[0mchipo_drink_soda2\u001b[0m \u001b[1;33m=\u001b[0m \u001b[0mchipo\u001b[0m\u001b[1;33m(\u001b[0m\u001b[0mchipo\u001b[0m\u001b[1;33m.\u001b[0m\u001b[0mitem_name\u001b[0m \u001b[1;33m==\u001b[0m \u001b[1;34m'Canned Soda'\u001b[0m\u001b[1;33m)\u001b[0m \u001b[1;33m&\u001b[0m \u001b[1;33m(\u001b[0m\u001b[0mchipo\u001b[0m\u001b[1;33m.\u001b[0m\u001b[0mquantity\u001b[0m \u001b[1;33m>\u001b[0m \u001b[1;36m1\u001b[0m\u001b[1;33m)\u001b[0m\u001b[1;33m\u001b[0m\u001b[1;33m\u001b[0m\u001b[0m\n\u001b[0m\u001b[0;32m      2\u001b[0m \u001b[0mchipo_drink_soda2\u001b[0m\u001b[1;33m.\u001b[0m\u001b[0msum\u001b[0m\u001b[1;33m(\u001b[0m\u001b[1;33m)\u001b[0m\u001b[1;33m\u001b[0m\u001b[1;33m\u001b[0m\u001b[0m\n",
      "\u001b[1;31mTypeError\u001b[0m: 'DataFrame' object is not callable"
     ]
    }
   ],
   "source": [
    "chipo_drink_soda2 = chipo(chipo.item_name == 'Canned Soda') & (chipo.quantity > 1)\n",
    "chipo_drink_soda2.sum()"
   ]
  },
  {
   "cell_type": "code",
   "execution_count": null,
   "metadata": {},
   "outputs": [],
   "source": []
  }
 ],
 "metadata": {
  "anaconda-cloud": {},
  "kernelspec": {
   "display_name": "Python 3.7.4 64-bit ('base': conda)",
   "language": "python",
   "name": "python37464bitbaseconda2bb33fe5ffce4701a66c14f076279995"
  },
  "language_info": {
   "codemirror_mode": {
    "name": "ipython",
    "version": 2
   },
   "file_extension": ".py",
   "mimetype": "text/x-python",
   "name": "python",
   "nbconvert_exporter": "python",
   "pygments_lexer": "ipython2",
   "version": "3.7.4-final"
  }
 },
 "nbformat": 4,
 "nbformat_minor": 0
}