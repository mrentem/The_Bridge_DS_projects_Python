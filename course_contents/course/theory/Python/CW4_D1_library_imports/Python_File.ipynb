{
 "nbformat": 4,
 "nbformat_minor": 2,
 "metadata": {
  "language_info": {
   "name": "python",
   "codemirror_mode": {
    "name": "ipython",
    "version": 3
   },
   "version": "3.7.4-final"
  },
  "orig_nbformat": 2,
  "file_extension": ".py",
  "mimetype": "text/x-python",
  "name": "python",
  "npconvert_exporter": "python",
  "pygments_lexer": "ipython3",
  "version": 3,
  "kernelspec": {
   "name": "python37464bitbaseconda2bb33fe5ffce4701a66c14f076279995",
   "display_name": "Python 3.7.4 64-bit ('base': conda)"
  }
 },
 "cells": [
  {
   "cell_type": "markdown",
   "metadata": {},
   "source": [
    "#### We are goint to use the function inside the \"my_library.py\" file from this day."
   ]
  },
  {
   "cell_type": "code",
   "execution_count": 9,
   "metadata": {},
   "outputs": [
    {
     "output_type": "execute_result",
     "data": {
      "text/plain": "'c:\\\\Users\\\\Maria\\\\Documents\\\\DataScience\\\\my_repo\\\\my_personal_data_science_the_bridge\\\\Temary\\\\Curso\\\\Week4\\\\CW4D1\\\\theory\\\\python\\\\library_imports'"
     },
     "metadata": {},
     "execution_count": 9
    }
   ],
   "source": [
    "## Importamos dos librerías\n",
    "\n",
    "import os \n",
    "import sys\n",
    "\n",
    "# El metodo getcwd() nos permite saber en que carpeta esta --- How to know my current path?\n",
    "\n",
    "os.getcwd()"
   ]
  },
  {
   "cell_type": "code",
   "execution_count": 10,
   "metadata": {},
   "outputs": [
    {
     "output_type": "stream",
     "name": "stdout",
     "text": "['c:\\\\Users\\\\Maria\\\\Documents\\\\DataScience\\\\my_repo\\\\my_personal_data_science_the_bridge\\\\Temary\\\\Curso\\\\Week4\\\\CW4D1\\\\theory\\\\python\\\\library_imports', 'C:\\\\Users\\\\Maria\\\\AppData\\\\Local\\\\Temp\\\\d916b822-bb89-4bec-9f8a-bf90ded0ee6c', 'c:\\\\Users\\\\Maria\\\\.vscode\\\\extensions\\\\ms-python.python-2020.3.69010\\\\pythonFiles', 'c:\\\\Users\\\\Maria\\\\.vscode\\\\extensions\\\\ms-python.python-2020.3.69010\\\\pythonFiles\\\\lib\\\\python', 'C:\\\\Users\\\\Maria\\\\Anaconda3\\\\python37.zip', 'C:\\\\Users\\\\Maria\\\\Anaconda3\\\\DLLs', 'C:\\\\Users\\\\Maria\\\\Anaconda3\\\\lib', 'C:\\\\Users\\\\Maria\\\\Anaconda3', '', 'C:\\\\Users\\\\Maria\\\\Anaconda3\\\\lib\\\\site-packages', 'C:\\\\Users\\\\Maria\\\\Anaconda3\\\\lib\\\\site-packages\\\\win32', 'C:\\\\Users\\\\Maria\\\\Anaconda3\\\\lib\\\\site-packages\\\\win32\\\\lib', 'C:\\\\Users\\\\Maria\\\\Anaconda3\\\\lib\\\\site-packages\\\\Pythonwin', 'C:\\\\Users\\\\Maria\\\\Anaconda3\\\\lib\\\\site-packages\\\\IPython\\\\extensions', 'C:\\\\Users\\\\Maria\\\\.ipython', 'c:\\\\Users\\\\Maria\\\\Documents\\\\DataScience\\\\my_repo\\\\my_personal_data_science_the_bridge\\\\Temary']\n"
    }
   ],
   "source": [
    "print(sys.path)"
   ]
  },
  {
   "cell_type": "code",
   "execution_count": 11,
   "metadata": {},
   "outputs": [
    {
     "output_type": "stream",
     "name": "stdout",
     "text": "c:\\Users\\Maria\\Documents\\DataScience\\my_repo\\my_personal_data_science_the_bridge\\Temary\\Curso\\Week4\\CW4D1\\theory\\python\\library_imports \n\nC:\\Users\\Maria\\AppData\\Local\\Temp\\d916b822-bb89-4bec-9f8a-bf90ded0ee6c \n\nc:\\Users\\Maria\\.vscode\\extensions\\ms-python.python-2020.3.69010\\pythonFiles \n\nc:\\Users\\Maria\\.vscode\\extensions\\ms-python.python-2020.3.69010\\pythonFiles\\lib\\python \n\nC:\\Users\\Maria\\Anaconda3\\python37.zip \n\nC:\\Users\\Maria\\Anaconda3\\DLLs \n\nC:\\Users\\Maria\\Anaconda3\\lib \n\nC:\\Users\\Maria\\Anaconda3 \n\n \n\nC:\\Users\\Maria\\Anaconda3\\lib\\site-packages \n\nC:\\Users\\Maria\\Anaconda3\\lib\\site-packages\\win32 \n\nC:\\Users\\Maria\\Anaconda3\\lib\\site-packages\\win32\\lib \n\nC:\\Users\\Maria\\Anaconda3\\lib\\site-packages\\Pythonwin \n\nC:\\Users\\Maria\\Anaconda3\\lib\\site-packages\\IPython\\extensions \n\nC:\\Users\\Maria\\.ipython \n\nc:\\Users\\Maria\\Documents\\DataScience\\my_repo\\my_personal_data_science_the_bridge\\Temary \n\n"
    }
   ],
   "source": [
    "# La propia carpeta en la que estamos la importa al sys path\n",
    "\n",
    "for _ in sys.path:\n",
    "    print(_, \"\\n\")"
   ]
  },
  {
   "cell_type": "code",
   "execution_count": 12,
   "metadata": {},
   "outputs": [],
   "source": [
    "# lib\\site-packages  ---- Estas son las libreria que tenemos\n",
    "# Gracias a que tenemos estas librerias en el site packages, podemos importarlas"
   ]
  },
  {
   "cell_type": "code",
   "execution_count": 13,
   "metadata": {},
   "outputs": [
    {
     "output_type": "execute_result",
     "data": {
      "text/plain": "'c:\\\\Users\\\\Maria\\\\Documents\\\\DataScience\\\\my_repo\\\\my_personal_data_science_the_bridge\\\\Temary\\\\Curso\\\\Week4\\\\CW4D1\\\\theory\\\\python\\\\library_imports'"
     },
     "metadata": {},
     "execution_count": 13
    }
   ],
   "source": [
    "current_path = os.path.abspath('')\n",
    "current_path"
   ]
  },
  {
   "cell_type": "code",
   "execution_count": 14,
   "metadata": {},
   "outputs": [],
   "source": [
    "# Queremos agregar a sys-path donde estan las librerias de Python la carpeta en la que tenemos nuestra\n",
    "# librerias."
   ]
  },
  {
   "cell_type": "code",
   "execution_count": 15,
   "metadata": {},
   "outputs": [
    {
     "output_type": "execute_result",
     "data": {
      "text/plain": "'c:\\\\Users\\\\Maria\\\\Documents\\\\DataScience\\\\my_repo\\\\my_personal_data_science_the_bridge\\\\Temary\\\\Curso\\\\Week4\\\\CW4D1\\\\theory\\\\python'"
     },
     "metadata": {},
     "execution_count": 15
    }
   ],
   "source": [
    "# Primero sabemos la carpeta en la que estamos\n",
    "os.path.dirname(current_path)"
   ]
  },
  {
   "cell_type": "code",
   "execution_count": 16,
   "metadata": {},
   "outputs": [],
   "source": [
    "## CREAMOS LOS METODOS:\n",
    "\n",
    "# Luego queremos ver hasta dónde tiene que ir para llegar a la carpeta raiz, en este caso feb2020\n",
    "\n",
    "def get_root_folder_project(number_folders_to_up, current_path=None):\n",
    "    \"\"\" Return the root folder while \"\"\"\n",
    "    new_path = current_path if current_path else os.path.abspath('')\n",
    "    for _ in range(number_folders_to_up):\n",
    "        new_path = os.path.dirname(new_path) # por cada una de las veces, sube una carpeta\n",
    "    print(new_path)\n",
    "    return new_path\n",
    "\n",
    "# Lo ultimo es añadir una carpeta al sys-path, en funcion del resultado de la funcion anterior\n",
    "\n",
    "def add_folder_to_sys_path(folder_to_add):\n",
    "    \"\"\"Add folder to sys.path\"\"\"\n",
    "    sys.path.append(folder_to_add)\n",
    "    print(\"\\nsys.path:\\n\\n\", sys.path)"
   ]
  },
  {
   "cell_type": "code",
   "execution_count": 17,
   "metadata": {},
   "outputs": [
    {
     "output_type": "stream",
     "name": "stdout",
     "text": "c:\\Users\\Maria\\Documents\\DataScience\\my_repo\\my_personal_data_science_the_bridge\\Temary\n"
    }
   ],
   "source": [
    "## Dando el numero de carpetas, da lo mismo como se llame la unidad, o cómo esten denominadas las carpetas\n",
    "## siempre ira ese numero de carpetas por encima. De este modo nombrando de forma relativa siempre funcionara.\n",
    "\n",
    "numbers_of_folders = 6\n",
    "\n",
    "root = get_root_folder_project(number_folders_to_up=numbers_of_folders)"
   ]
  },
  {
   "cell_type": "code",
   "execution_count": 18,
   "metadata": {},
   "outputs": [
    {
     "output_type": "stream",
     "name": "stdout",
     "text": "\nsys.path:\n\n ['c:\\\\Users\\\\Maria\\\\Documents\\\\DataScience\\\\my_repo\\\\my_personal_data_science_the_bridge\\\\Temary\\\\Curso\\\\Week4\\\\CW4D1\\\\theory\\\\python\\\\library_imports', 'C:\\\\Users\\\\Maria\\\\AppData\\\\Local\\\\Temp\\\\d916b822-bb89-4bec-9f8a-bf90ded0ee6c', 'c:\\\\Users\\\\Maria\\\\.vscode\\\\extensions\\\\ms-python.python-2020.3.69010\\\\pythonFiles', 'c:\\\\Users\\\\Maria\\\\.vscode\\\\extensions\\\\ms-python.python-2020.3.69010\\\\pythonFiles\\\\lib\\\\python', 'C:\\\\Users\\\\Maria\\\\Anaconda3\\\\python37.zip', 'C:\\\\Users\\\\Maria\\\\Anaconda3\\\\DLLs', 'C:\\\\Users\\\\Maria\\\\Anaconda3\\\\lib', 'C:\\\\Users\\\\Maria\\\\Anaconda3', '', 'C:\\\\Users\\\\Maria\\\\Anaconda3\\\\lib\\\\site-packages', 'C:\\\\Users\\\\Maria\\\\Anaconda3\\\\lib\\\\site-packages\\\\win32', 'C:\\\\Users\\\\Maria\\\\Anaconda3\\\\lib\\\\site-packages\\\\win32\\\\lib', 'C:\\\\Users\\\\Maria\\\\Anaconda3\\\\lib\\\\site-packages\\\\Pythonwin', 'C:\\\\Users\\\\Maria\\\\Anaconda3\\\\lib\\\\site-packages\\\\IPython\\\\extensions', 'C:\\\\Users\\\\Maria\\\\.ipython', 'c:\\\\Users\\\\Maria\\\\Documents\\\\DataScience\\\\my_repo\\\\my_personal_data_science_the_bridge\\\\Temary', 'c:\\\\Users\\\\Maria\\\\Documents\\\\DataScience\\\\my_repo\\\\my_personal_data_science_the_bridge\\\\Temary']\n"
    }
   ],
   "source": [
    "add_folder_to_sys_path(folder_to_add=root)"
   ]
  },
  {
   "cell_type": "code",
   "execution_count": 19,
   "metadata": {},
   "outputs": [
    {
     "output_type": "execute_result",
     "data": {
      "text/plain": "6"
     },
     "metadata": {},
     "execution_count": 19
    }
   ],
   "source": [
    "import Curso.Week4.CW4D1.theory.my_library as mlib\n",
    "\n",
    "mlib.my_function() "
   ]
  },
  {
   "cell_type": "code",
   "execution_count": null,
   "metadata": {},
   "outputs": [],
   "source": []
  },
  {
   "cell_type": "code",
   "execution_count": null,
   "metadata": {},
   "outputs": [],
   "source": []
  }
 ]
}