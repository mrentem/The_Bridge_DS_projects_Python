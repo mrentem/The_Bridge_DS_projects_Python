{
 "nbformat": 4,
 "nbformat_minor": 2,
 "metadata": {
  "language_info": {
   "name": "python",
   "codemirror_mode": {
    "name": "ipython",
    "version": 3
   },
   "version": "3.7.4-final"
  },
  "orig_nbformat": 2,
  "file_extension": ".py",
  "mimetype": "text/x-python",
  "name": "python",
  "npconvert_exporter": "python",
  "pygments_lexer": "ipython3",
  "version": 3,
  "kernelspec": {
   "name": "python37464bitbasecondadf9388185d494eceb1ea53207dd5bb3f",
   "display_name": "Python 3.7.4 64-bit ('base': conda)"
  }
 },
 "cells": [
  {
   "cell_type": "markdown",
   "metadata": {},
   "source": [
    "## Class properties\n",
    "\n",
    "Ahora que x es una función atributo, porque le hemos puesto @property, tenemos que ponerle el setter.\n",
    "En nuestro ejemplo es lo que hacemos en @x.setter. Estamos forzando a que x tenga un valor entre 0 y 1000. Es decir, hay una lógica dentro del atributo, no puede hacer cualquier cosa.\n",
    "\n",
    "Depende de la clase y de su lógica, podemos limitar el atributo. Por ejemplo, si queremos limitar que la edad de un empleado este entre 18 y 65; o que un proceso no dure mas de un determinado tiempo, etc."
   ]
  },
  {
   "cell_type": "code",
   "execution_count": 1,
   "metadata": {},
   "outputs": [],
   "source": [
    "class P:\n",
    "    def __init__(self,x): # Esta funcion lo que hace es recibir un atributo x y transformarlo en privado ( __x )\n",
    "        self.__x = x \n",
    "\n",
    "    @property       # Si no pusieramos @property tendriamos que llamar a la funcion  - variable.funcion() - \n",
    "                    # Pero como hemos colocado el decorador lo hemos convertido en atributo\n",
    "                    # por ejemplo, en np.shape, shape es un atributo que puedo llamar directamente y que ejecute\n",
    "                    # la funcion\n",
    "\n",
    "    def x(self):\n",
    "        return self.__x\n",
    "\n",
    "    @x.setter\n",
    "    def x(self, x):\n",
    "        if x < 0:\n",
    "            self.__x = 0\n",
    "        elif x > 1000:\n",
    "            self.__x = 1000\n",
    "        else:\n",
    "            self.__x = x"
   ]
  },
  {
   "cell_type": "code",
   "execution_count": 11,
   "metadata": {},
   "outputs": [],
   "source": [
    "p = P(2)"
   ]
  },
  {
   "cell_type": "code",
   "execution_count": 3,
   "metadata": {},
   "outputs": [
    {
     "data": {
      "text/plain": "2"
     },
     "execution_count": 3,
     "metadata": {},
     "output_type": "execute_result"
    }
   ],
   "source": [
    "p.x"
   ]
  },
  {
   "cell_type": "code",
   "execution_count": 6,
   "metadata": {},
   "outputs": [],
   "source": [
    "p.x = -98989"
   ]
  },
  {
   "cell_type": "code",
   "execution_count": 7,
   "metadata": {},
   "outputs": [
    {
     "data": {
      "text/plain": "0"
     },
     "execution_count": 7,
     "metadata": {},
     "output_type": "execute_result"
    }
   ],
   "source": [
    "p.x"
   ]
  },
  {
   "cell_type": "code",
   "execution_count": 9,
   "metadata": {},
   "outputs": [
    {
     "data": {
      "text/plain": "5"
     },
     "execution_count": 9,
     "metadata": {},
     "output_type": "execute_result"
    }
   ],
   "source": [
    "p.x = 5\n",
    "p.x"
   ]
  },
  {
   "cell_type": "code",
   "execution_count": 10,
   "metadata": {},
   "outputs": [
    {
     "data": {
      "text/plain": "1000"
     },
     "execution_count": 10,
     "metadata": {},
     "output_type": "execute_result"
    }
   ],
   "source": [
    "p.x = 1587385178571\n",
    "p.x"
   ]
  },
  {
   "cell_type": "code",
   "execution_count": null,
   "metadata": {},
   "outputs": [],
   "source": []
  }
 ]
}