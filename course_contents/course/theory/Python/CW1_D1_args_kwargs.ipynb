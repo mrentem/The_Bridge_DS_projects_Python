{
 "nbformat": 4,
 "nbformat_minor": 2,
 "metadata": {
  "language_info": {
   "name": "python",
   "codemirror_mode": {
    "name": "ipython",
    "version": 3
   },
   "version": "3.7.4-final"
  },
  "orig_nbformat": 2,
  "file_extension": ".py",
  "mimetype": "text/x-python",
  "name": "python",
  "npconvert_exporter": "python",
  "pygments_lexer": "ipython3",
  "version": 3,
  "kernelspec": {
   "name": "python37464bitbaseconda2bb33fe5ffce4701a66c14f076279995",
   "display_name": "Python 3.7.4 64-bit ('base': conda)"
  }
 },
 "cells": [
  {
   "cell_type": "markdown",
   "metadata": {},
   "source": [
    "## Parámetros *arg y *kwargs en Python"
   ]
  },
  {
   "cell_type": "markdown",
   "metadata": {},
   "source": [
    "Nota: Recurso extra: https://realpython.com/python-kwargs-and-args/"
   ]
  },
  {
   "cell_type": "code",
   "execution_count": 8,
   "metadata": {},
   "outputs": [
    {
     "name": "stdout",
     "output_type": "stream",
     "text": "args: (1, 4, 7)\ntype(args): <class 'tuple'>\none: 1\n"
    }
   ],
   "source": [
    "# Ejemplo *args\n",
    "\n",
    "def args_example(*args):\n",
    "    print(\"args:\", args)\n",
    "    print(\"type(args):\", type(args))\n",
    "    one = args[0]\n",
    "    return one\n",
    "\n",
    "one = args_example(1, 4, 7)\n",
    "print(\"one:\", one)"
   ]
  },
  {
   "cell_type": "code",
   "execution_count": 15,
   "metadata": {},
   "outputs": [
    {
     "name": "stdout",
     "output_type": "stream",
     "text": "kwargs: {'x': 1, 'y': 4, 'z': 7}\ntype(kwargs): <class 'dict'>\none: 1\n"
    }
   ],
   "source": [
    "# Ejemplo **kwargs\n",
    "\n",
    "def kwargs_example(**kwargs):\n",
    "    print(\"kwargs:\", kwargs)\n",
    "    print(\"type(kwargs):\", type(kwargs))\n",
    "    one = kwargs[\"x\"]\n",
    "    return one\n",
    "\n",
    "one = kwargs_example(x=1, y=4, z=7)\n",
    "print(\"one:\", one)"
   ]
  },
  {
   "cell_type": "code",
   "execution_count": null,
   "metadata": {},
   "outputs": [],
   "source": []
  }
 ]
}