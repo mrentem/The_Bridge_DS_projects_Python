{
 "nbformat": 4,
 "nbformat_minor": 2,
 "metadata": {
  "language_info": {
   "name": "python",
   "codemirror_mode": {
    "name": "ipython",
    "version": 3
   },
   "version": "3.6.4-final"
  },
  "orig_nbformat": 2,
  "file_extension": ".py",
  "mimetype": "text/x-python",
  "name": "python",
  "npconvert_exporter": "python",
  "pygments_lexer": "ipython3",
  "version": 3,
  "kernelspec": {
   "name": "python36464bitc2077ed07ea84d23aa5b518d224882ab",
   "display_name": "Python 3.6.4 64-bit"
  }
 },
 "cells": [
  {
   "cell_type": "markdown",
   "metadata": {},
   "source": [
    "pip install beautifulsoup4"
   ]
  },
  {
   "cell_type": "markdown",
   "metadata": {},
   "source": [
    "Data Wrangling"
   ]
  },
  {
   "cell_type": "code",
   "execution_count": 2,
   "metadata": {},
   "outputs": [],
   "source": [
    "import bs4\n",
    "import pandas as pd\n",
    "import requests"
   ]
  },
  {
   "cell_type": "code",
   "execution_count": 5,
   "metadata": {},
   "outputs": [],
   "source": [
    "def numeric_value(movie, tag, class_=None, order=None):\n",
    "    if order:\n",
    "        if len(movie.findAll(tag, class_)) > 1:\n",
    "            to_extract = movie.findAll(tag, class_)[order]['data-value']\n",
    "        else:\n",
    "            to_extract = None\n",
    "    else:\n",
    "        to_extract = movie.find(tag, class_)['data-value']\n",
    "\n",
    "    return to_extract\n",
    "\n",
    "\n",
    "def text_value(movie, tag, class_=None):\n",
    "    if movie.find(tag, class_):\n",
    "        return movie.find(tag, class_).text\n",
    "    else:\n",
    "        return\n",
    "\n",
    "\n",
    "def nested_text_value(movie, tag_1, class_1, tag_2, class_2, order=None):\n",
    "    if not order:\n",
    "        return movie.find(tag_1, class_1).find(tag_2, class_2).text\n",
    "    else:\n",
    "        return [val.text for val in movie.find(tag_1, class_1).findAll(tag_2, class_2)[order]]\n",
    "\n",
    "\n",
    "def extract_attribute(soup, tag_1, class_1='', tag_2='', class_2='',\n",
    "                      text_attribute=True, order=None, nested=False):\n",
    "    movies = soup.findAll('div', class_='lister-item-content')\n",
    "    data_list = []\n",
    "    for movie in movies:\n",
    "        if text_attribute:\n",
    "            if nested:\n",
    "                data_list.append(nested_text_value(movie, tag_1, class_1, tag_2, class_2, order))\n",
    "            else:\n",
    "                data_list.append(text_value(movie, tag_1, class_1))\n",
    "        else:\n",
    "            data_list.append(numeric_value(movie, tag_1, class_1, order))\n",
    "\n",
    "    return data_list"
   ]
  },
  {
   "cell_type": "code",
   "execution_count": 7,
   "metadata": {},
   "outputs": [],
   "source": [
    "url = 'https://www.imdb.com/search/title/?count=100&groups=top_1000&sort=user_rating'\n",
    "def get_page_contents(url):\n",
    "    page = requests.get(url, headers={\"Accept-Language\": \"en-US\"})\n",
    "    return bs4.BeautifulSoup(page.text, \"html.parser\")\n",
    "\n",
    "soup = get_page_contents(url)"
   ]
  },
  {
   "cell_type": "code",
   "execution_count": 8,
   "metadata": {},
   "outputs": [
    {
     "data": {
      "text/html": "<div>\n<style scoped>\n    .dataframe tbody tr th:only-of-type {\n        vertical-align: middle;\n    }\n\n    .dataframe tbody tr th {\n        vertical-align: top;\n    }\n\n    .dataframe thead th {\n        text-align: right;\n    }\n</style>\n<table border=\"1\" class=\"dataframe\">\n  <thead>\n    <tr style=\"text-align: right;\">\n      <th></th>\n      <th>Title</th>\n      <th>Relase</th>\n      <th>Audience Rating</th>\n      <th>Runtime</th>\n      <th>Genre</th>\n      <th>IMDB Rating</th>\n      <th>Votes</th>\n      <th>Box Office Earnings</th>\n      <th>Director</th>\n      <th>Actors</th>\n    </tr>\n  </thead>\n  <tbody>\n    <tr>\n      <th>0</th>\n      <td>The Shawshank Redemption</td>\n      <td>(1994)</td>\n      <td>R</td>\n      <td>142 min</td>\n      <td>\\nDrama</td>\n      <td>\\n\\n9.3\\n</td>\n      <td>2,200,425</td>\n      <td>2,200,425</td>\n      <td>Frank Darabont</td>\n      <td>[Tim Robbins, Morgan Freeman, Bob Gunton, Will...</td>\n    </tr>\n    <tr>\n      <th>1</th>\n      <td>The Godfather</td>\n      <td>(1972)</td>\n      <td>R</td>\n      <td>175 min</td>\n      <td>\\nCrime, Drama</td>\n      <td>\\n\\n9.2\\n</td>\n      <td>1,516,103</td>\n      <td>1,516,103</td>\n      <td>Francis Ford Coppola</td>\n      <td>[Marlon Brando, Al Pacino, James Caan, Diane K...</td>\n    </tr>\n    <tr>\n      <th>2</th>\n      <td>The Dark Knight</td>\n      <td>(2008)</td>\n      <td>PG-13</td>\n      <td>152 min</td>\n      <td>\\nAction, Crime, Drama</td>\n      <td>\\n\\n9.0\\n</td>\n      <td>2,182,036</td>\n      <td>2,182,036</td>\n      <td>Christopher Nolan</td>\n      <td>[Christian Bale, Heath Ledger, Aaron Eckhart, ...</td>\n    </tr>\n    <tr>\n      <th>3</th>\n      <td>The Godfather: Part II</td>\n      <td>(1974)</td>\n      <td>R</td>\n      <td>202 min</td>\n      <td>\\nCrime, Drama</td>\n      <td>\\n\\n9.0\\n</td>\n      <td>1,062,090</td>\n      <td>1,062,090</td>\n      <td>Francis Ford Coppola</td>\n      <td>[Al Pacino, Robert De Niro, Robert Duvall, Dia...</td>\n    </tr>\n    <tr>\n      <th>4</th>\n      <td>The Lord of the Rings: The Return of the King</td>\n      <td>(2003)</td>\n      <td>PG-13</td>\n      <td>201 min</td>\n      <td>\\nAdventure, Drama, Fantasy</td>\n      <td>\\n\\n8.9\\n</td>\n      <td>1,564,021</td>\n      <td>1,564,021</td>\n      <td>Peter Jackson</td>\n      <td>[Elijah Wood, Viggo Mortensen, Ian McKellen, O...</td>\n    </tr>\n    <tr>\n      <th>...</th>\n      <td>...</td>\n      <td>...</td>\n      <td>...</td>\n      <td>...</td>\n      <td>...</td>\n      <td>...</td>\n      <td>...</td>\n      <td>...</td>\n      <td>...</td>\n      <td>...</td>\n    </tr>\n    <tr>\n      <th>95</th>\n      <td>Good Will Hunting</td>\n      <td>(1997)</td>\n      <td>R</td>\n      <td>126 min</td>\n      <td>\\nDrama, Romance</td>\n      <td>\\n\\n8.3\\n</td>\n      <td>807,984</td>\n      <td>807,984</td>\n      <td>Gus Van Sant</td>\n      <td>[Robin Williams, Matt Damon, Ben Affleck, Stel...</td>\n    </tr>\n    <tr>\n      <th>96</th>\n      <td>Children of Heaven</td>\n      <td>(1997)</td>\n      <td>PG</td>\n      <td>89 min</td>\n      <td>\\nDrama, Family, Sport</td>\n      <td>\\n\\n8.3\\n</td>\n      <td>58,439</td>\n      <td>58,439</td>\n      <td>Majid Majidi</td>\n      <td>[Mohammad Amir Naji, Amir Farrokh Hashemian, B...</td>\n    </tr>\n    <tr>\n      <th>97</th>\n      <td>The Bandit</td>\n      <td>(1996)</td>\n      <td>TV-MA</td>\n      <td>128 min</td>\n      <td>\\nCrime, Drama, Thriller</td>\n      <td>\\n\\n8.3\\n</td>\n      <td>58,915</td>\n      <td>58,915</td>\n      <td>Yavuz Turgul</td>\n      <td>[Sener Sen, Ugur Yücel, Sermin Hürmeriç, Yesim...</td>\n    </tr>\n    <tr>\n      <th>98</th>\n      <td>Toy Story</td>\n      <td>(1995)</td>\n      <td>G</td>\n      <td>81 min</td>\n      <td>\\nAnimation, Adventure, Comedy</td>\n      <td>\\n\\n8.3\\n</td>\n      <td>839,929</td>\n      <td>839,929</td>\n      <td>John Lasseter</td>\n      <td>[Tom Hanks, Tim Allen, Don Rickles, Jim Varney]</td>\n    </tr>\n    <tr>\n      <th>99</th>\n      <td>Braveheart</td>\n      <td>(1995)</td>\n      <td>R</td>\n      <td>178 min</td>\n      <td>\\nBiography, Drama, History</td>\n      <td>\\n\\n8.3\\n</td>\n      <td>921,873</td>\n      <td>921,873</td>\n      <td>Mel Gibson</td>\n      <td>[Mel Gibson, Sophie Marceau, Patrick McGoohan,...</td>\n    </tr>\n  </tbody>\n</table>\n<p>100 rows × 10 columns</p>\n</div>",
      "text/plain": "                                            Title  Relase Audience Rating  \\\n0                        The Shawshank Redemption  (1994)               R   \n1                                   The Godfather  (1972)               R   \n2                                 The Dark Knight  (2008)           PG-13   \n3                          The Godfather: Part II  (1974)               R   \n4   The Lord of the Rings: The Return of the King  (2003)           PG-13   \n..                                            ...     ...             ...   \n95                              Good Will Hunting  (1997)               R   \n96                             Children of Heaven  (1997)              PG   \n97                                     The Bandit  (1996)           TV-MA   \n98                                      Toy Story  (1995)               G   \n99                                     Braveheart  (1995)               R   \n\n    Runtime                                       Genre IMDB Rating  \\\n0   142 min                         \\nDrama               \\n\\n9.3\\n   \n1   175 min                  \\nCrime, Drama               \\n\\n9.2\\n   \n2   152 min          \\nAction, Crime, Drama               \\n\\n9.0\\n   \n3   202 min                  \\nCrime, Drama               \\n\\n9.0\\n   \n4   201 min     \\nAdventure, Drama, Fantasy               \\n\\n8.9\\n   \n..      ...                                         ...         ...   \n95  126 min                \\nDrama, Romance               \\n\\n8.3\\n   \n96   89 min          \\nDrama, Family, Sport               \\n\\n8.3\\n   \n97  128 min        \\nCrime, Drama, Thriller               \\n\\n8.3\\n   \n98   81 min  \\nAnimation, Adventure, Comedy               \\n\\n8.3\\n   \n99  178 min     \\nBiography, Drama, History               \\n\\n8.3\\n   \n\n        Votes Box Office Earnings              Director  \\\n0   2,200,425           2,200,425        Frank Darabont   \n1   1,516,103           1,516,103  Francis Ford Coppola   \n2   2,182,036           2,182,036     Christopher Nolan   \n3   1,062,090           1,062,090  Francis Ford Coppola   \n4   1,564,021           1,564,021         Peter Jackson   \n..        ...                 ...                   ...   \n95    807,984             807,984          Gus Van Sant   \n96     58,439              58,439          Majid Majidi   \n97     58,915              58,915          Yavuz Turgul   \n98    839,929             839,929         John Lasseter   \n99    921,873             921,873            Mel Gibson   \n\n                                               Actors  \n0   [Tim Robbins, Morgan Freeman, Bob Gunton, Will...  \n1   [Marlon Brando, Al Pacino, James Caan, Diane K...  \n2   [Christian Bale, Heath Ledger, Aaron Eckhart, ...  \n3   [Al Pacino, Robert De Niro, Robert Duvall, Dia...  \n4   [Elijah Wood, Viggo Mortensen, Ian McKellen, O...  \n..                                                ...  \n95  [Robin Williams, Matt Damon, Ben Affleck, Stel...  \n96  [Mohammad Amir Naji, Amir Farrokh Hashemian, B...  \n97  [Sener Sen, Ugur Yücel, Sermin Hürmeriç, Yesim...  \n98    [Tom Hanks, Tim Allen, Don Rickles, Jim Varney]  \n99  [Mel Gibson, Sophie Marceau, Patrick McGoohan,...  \n\n[100 rows x 10 columns]"
     },
     "execution_count": 8,
     "metadata": {},
     "output_type": "execute_result"
    }
   ],
   "source": [
    "titles = extract_attribute(soup, 'a')\n",
    "release = extract_attribute(soup, 'span', 'lister-item-year text-muted unbold')\n",
    "audience_rating = extract_attribute(soup, 'span', 'certificate')\n",
    "runtime = extract_attribute(soup, 'span', 'runtime')\n",
    "genre = extract_attribute(soup, 'span', 'genre')\n",
    "imdb_rating = extract_attribute(soup, 'div', 'inline-block ratings-imdb-rating', False)\n",
    "votes = extract_attribute(soup, 'span' , {'name' : 'nv'}, False, 0)\n",
    "earnings = extract_attribute(soup, 'span' , {'name' : 'nv'}, False, 1)\n",
    "directors = extract_attribute(soup, 'p', '', 'a', '', True, 0, True)\n",
    "actors = extract_attribute(soup, 'p', '', 'a', '', True, slice(1, 5, None), True)\n",
    "\n",
    "\n",
    "df_dict = {'Title': titles, 'Relase': release, 'Audience Rating': audience_rating,\n",
    "           'Runtime': runtime, 'Genre': genre, 'IMDB Rating': imdb_rating,\n",
    "           'Votes': votes, 'Box Office Earnings': earnings, 'Director': directors,\n",
    "           'Actors': actors}\n",
    "df = pd.DataFrame(df_dict)\n",
    "df"
   ]
  },
  {
   "cell_type": "code",
   "execution_count": null,
   "metadata": {},
   "outputs": [],
   "source": []
  }
 ]
}