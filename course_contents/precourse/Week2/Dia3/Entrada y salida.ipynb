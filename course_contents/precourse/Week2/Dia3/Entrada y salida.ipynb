{
 "cells": [
  {
   "cell_type": "markdown",
   "metadata": {},
   "source": [
    "# Entrada y salida"
   ]
  },
  {
   "cell_type": "markdown",
   "metadata": {},
   "source": [
    "## Índice de contenidos\n",
    "* [1. Entrada y salida estándar](#sec_1)\n",
    " * [1.1. Funciones input y print](#sec_1_1)\n",
    " * [1.2. Formateo de cadenas](#sec_1_2)\n",
    "* [2. Lectura y escritura de ficheros](#sec_2)\n",
    " * [2.1. Apertura y cierre de ficheros](#sec_2_1)\n",
    " * [2.2. Lectura y escritura de texto libre](#sec_2_2)\n",
    " * [2.3. Lectura y escritura de CSV](#sec_2_3)\n",
    " * [2.4. Serialización y deserialización mediante JSON](#sec_2_4)"
   ]
  },
  {
   "cell_type": "markdown",
   "metadata": {},
   "source": [
    "# 1. Entrada y salida estándar <a name=\"sec_1\"/>"
   ]
  },
  {
   "cell_type": "markdown",
   "metadata": {},
   "source": [
    "## 1.1. Funciones input y print <a name=\"sec_1_1\"/>"
   ]
  },
  {
   "cell_type": "markdown",
   "metadata": {},
   "source": [
    "Por regla general, cuando ejecutamos un programa en Python llamamos **entrada estándar** al teclado de nuestro ordenador, y **salida estándar** a la pantalla. Como ya hemos visto en anteriores notebooks, podemos leer datos desde el teclado mediante la función **input**, y escribir en la pantalla mediante la función **print**:"
   ]
  },
  {
   "cell_type": "code",
   "execution_count": null,
   "metadata": {},
   "outputs": [],
   "source": [
    "print(\"==== Cálculo de una potencia =====\")\n",
    "base = int(input(\"Introduzca un número entero (base):\")) # La función predefinida input permite leer texto desde el teclado\n",
    "exponente = int(input(\"Introduzca un número entero (exponente):\"))\n",
    "\n",
    "print(\"El resultado de\", base, \"elevado a\", exponente, \"es\", base**exponente, '.')"
   ]
  },
  {
   "cell_type": "markdown",
   "metadata": {},
   "source": [
    "La función **input** recibe opcionalmente un mensaje, que es mostrado al usuario para a continuación esperar que introduzca un texto. La ejecución del programa \"se espera\" en este punto, hasta que el usuario introduce el texto y pulsa la tecla *enter*. Entonces, **la función *input* devuelve el texto introducido por el usuario** (excluyendo la pulsación de la tecla *enter*, que no aparece en la cadena devuelta). Si en nuestro programa estábamos esperando un dato numérico, en lugar de una cadena, será necesario convertir la cadena al tipo deseado mediante alguna de las funciones de construcción de tipos que ya conocemos (por ejemplo, *int* para obtener un número entero o *float* para obtener un número real).\n",
    "\n",
    "Por su parte, la función **print** recibe una o varias expresiones por parámetros, y **muestra el resultado** de dichas expresiones en **pantalla**. Si el resultado de alguna de las expresiones es una cadena de texto, la muestra tal cual. Si el resultado de alguna de las expresiones es de cualquier otro tipo, la función *print* se encarga de convertir el resultado a cadena mediante el uso de la función *str*. Si recibe varias expresiones, por defecto *print* las muestra una tras otra, separadas por un espacio en blanco. Al finalizar de mostrar las expresiones, la ejecución de *print* finaliza imprimiendo un salto de línea; por consiguiente, la siguiente llamada a *print* escribirá en la siguiente línea de la pantalla. Ambas cosas, el carácter usado para separar las distintas expresiones y el carácter usado como finalizador, pueden cambiarse utilizando los parámetros opcionales adecuados:"
   ]
  },
  {
   "cell_type": "code",
   "execution_count": null,
   "metadata": {},
   "outputs": [],
   "source": [
    "import random\n",
    "numeros = [random.randint(1, 100) for _ in range(10)]\n",
    "print(\"Se han generado los siguientes números aleatorios: \")\n",
    "for i, numero in enumerate(numeros):\n",
    "    print(i, numero, sep=': ') # Se usa la cadena ': ' para separar las expresiones recibidas por print"
   ]
  },
  {
   "cell_type": "code",
   "execution_count": null,
   "metadata": {},
   "outputs": [],
   "source": [
    "texto = \"Muestrame con guiones\"\n",
    "for caracter in texto:\n",
    "    print('-' + caracter, end='') # Se indica a print que no concatene ninguna cadena al final del mensaje a mostrar"
   ]
  },
  {
   "cell_type": "markdown",
   "metadata": {},
   "source": [
    "Aunque el uso de los parámetro opcionales *sep* y *end* nos da algunas opciones para obtener la salida que deseamos en pantalla, a veces se nos puede quedar corto. Por ejemplo, si queremos mostrar un mensaje formado por distintos trozos de texto y datos a extraer de variables o expresiones, puede que no siempre queramos usar el mismo separador entre cada dos expresiones. Un ejemplo sencillo lo tenemos en la siguiente sentencia que ya hemos escrito antes:"
   ]
  },
  {
   "cell_type": "code",
   "execution_count": null,
   "metadata": {},
   "outputs": [],
   "source": [
    "print(\"El resultado de\", base, \"elevado a\", exponente, \"es\", base**exponente, '.')"
   ]
  },
  {
   "cell_type": "markdown",
   "metadata": {},
   "source": [
    "En este caso, nos interesa usar el espacio para separar los distintos trozos del mensaje a mostrar, salvo para el punto final, que debería aparecer a continuación del resultado de la expresión ``base**exponente``. Además, la forma en que las cadenas de texto y las expresiones se van intercalando en los parámetros del *print* complica un poco la legibilidad de la sentencia. Es por todo esto por lo que es apropiado usar el **formateo de cadenas** en estos casos."
   ]
  },
  {
   "cell_type": "markdown",
   "metadata": {},
   "source": [
    "## 1.2. Formateo de cadenas <a name=\"sec_1_2\"/>"
   ]
  },
  {
   "cell_type": "markdown",
   "metadata": {},
   "source": [
    "El método **format** de las cadenas devuelve una versión *formateada* de la cadena. Entre otras cosas, nos permite intercalar en una cadena los resultados de diversas expresiones, eligiendo el orden o el formato en que se representan dichos resultados. Esta flexibilidad hace de *format* una función perfecta para ser utilizada junto a *print* para mostrar mensajes más o menos complejos, con mucho más control sobre la salida obtenida del que tendríamos usando únicamente *print*. \n",
    "\n",
    "El uso más básico de *format* consiste en intercalar en la cadena parejas de llaves, de manera que el método devolverá una cadena en la que se sustituirán las llaves por los resultados de evaluar las expresiones que reciba como parámetros, en el mismo orden:"
   ]
  },
  {
   "cell_type": "code",
   "execution_count": null,
   "metadata": {},
   "outputs": [],
   "source": [
    "a = int(input('Introduce un número:'))\n",
    "b = int(input('Introduce un número:'))\n",
    "\n",
    "print('El resultado de {} elevado a {} es {}.'.format(a, b, a**b))"
   ]
  },
  {
   "cell_type": "markdown",
   "metadata": {},
   "source": [
    "Podemos hacer mención explícita entre las llaves a la expresión concreta que queremos intercalar. Para ello utilizamos números comenzando en cero (como si los parámetros recibidos por format fueran una lista):"
   ]
  },
  {
   "cell_type": "code",
   "execution_count": null,
   "metadata": {},
   "outputs": [],
   "source": [
    "print('El resultado de {0} multiplicado por {1} es {2}'.format(a, b, a*b))"
   ]
  },
  {
   "cell_type": "markdown",
   "metadata": {},
   "source": [
    "Esto nos permite intercalar los datos en cualquier orden, o usarlos varias veces dentro de la cadena:"
   ]
  },
  {
   "cell_type": "code",
   "execution_count": null,
   "metadata": {},
   "outputs": [],
   "source": [
    "print('El resultado de {0} entre {1} es {2}, y el de {1} entre {0} es {3}'.format(a, b, a/b, b/a))"
   ]
  },
  {
   "cell_type": "markdown",
   "metadata": {},
   "source": [
    "Podemos formatear los valores numéricos, por ejemplo indicando que queremos redondear a 2 decimales. La f del siguiente ejemplo indica que el número a mostrar es un real:"
   ]
  },
  {
   "cell_type": "code",
   "execution_count": null,
   "metadata": {},
   "outputs": [],
   "source": [
    "print('El resultado de {0} entre {1} es {2:.2f}, y el de {1} entre {0} es {3}'.format(a, b, a/b, b/a))"
   ]
  },
  {
   "cell_type": "markdown",
   "metadata": {},
   "source": [
    "También es posible conseguir que un dato ocupe un mínimo de caracteres, rellenando  los huecos con espacios si es necesario. Esto es especialmente útil cuando se desea mostrar información en forma de tabla, consiguiendo que las columnas queden alineadas. La d en el siguiente ejemplo indica que los números a mostrar son enteros:"
   ]
  },
  {
   "cell_type": "code",
   "execution_count": null,
   "metadata": {},
   "outputs": [],
   "source": [
    "print(\"Mostrando los cuadrados y los cubos de los números del 1 al 5:\")\n",
    "for i in range(1,6):\n",
    "    print('{0} {1:2d} {2:3d}'.format(i, i*i, i*i*i))"
   ]
  },
  {
   "cell_type": "markdown",
   "metadata": {},
   "source": [
    "Si lo preferimos, podemos rellenar los huecos con ceros en lugar de espacios, como se muestra en este ejemplo:"
   ]
  },
  {
   "cell_type": "code",
   "execution_count": null,
   "metadata": {},
   "outputs": [],
   "source": [
    "print(\"Mostrando los cuadrados y los cubos de los números del 1 al 5:\")\n",
    "for i in range(1,6):\n",
    "    print('{0:03d} {1:03d} {2:03d}'.format(i, i*i, i*i*i))\n",
    "    "
   ]
  },
  {
   "cell_type": "markdown",
   "metadata": {},
   "source": [
    "En ocasiones, nombrar a las distintas expresiones que pasamos al método format puede mejorar la legibilidad. Para ello, usaremos parámetros con nombre en la llamada a format, y podremos referirnos a dichos nombres en las distintas llaves que utilicemos en la cadena a formatear:"
   ]
  },
  {
   "cell_type": "code",
   "execution_count": null,
   "metadata": {},
   "outputs": [],
   "source": [
    "print('Si x es igual a {x} e y es igual a {y}, entonces la inecuación x < (y * 2) es {inecuacion}'.\n",
    "             format(x=a, y=b, inecuacion= a<(b*2)))"
   ]
  },
  {
   "cell_type": "markdown",
   "metadata": {
    "collapsed": true
   },
   "source": [
    "# 2. Lectura y escritura de ficheros <a name=\"sec_2\"/>"
   ]
  },
  {
   "cell_type": "markdown",
   "metadata": {},
   "source": [
    "Muchas veces no es suficiente con la introducción de datos desde el teclado por parte del usuario. Como hemos visto en los ejercicios realizados a lo largo del curso, es muy habitual leer datos desde un fichero o archivo (que llamamos de entrada). Igualmente, es posible escribir datos en un fichero (que llamamos de salida).\n",
    "\n",
    "Tanto la lectura como la escritura de datos en un fichero se puede realizar de diversas formas:\n",
    "\n",
    "* Mediante cadenas de texto libres, en lo que llamamos **ficheros de texto**.\n",
    "* Mediante cadenas de texto de un formato predefinido, como es el caso de los ficheros **csv**.\n",
    "* Mediante algún formato estándar de intercambio de datos (por ejemplo, **json**), lo que nos permite guardar y recuperar más tarde fácilmente el contenido de las variables de nuestros programas. A este tipo de escrituras y lecturas las llamamos *serialización* y *deserialización*, respectivamente.\n",
    "* Mediante datos binarios, en lo que llamamos *ficheros binarios*. De esta forma, el programador tiene el control absoluto de los datos que se escriben o se leen de un fichero. Esto no lo veremos en esta asignatura.\n"
   ]
  },
  {
   "cell_type": "markdown",
   "metadata": {},
   "source": [
    "## 2.1. Apertura y cierre de ficheros <a name=\"sec_2_1\"/>\n",
    "\n",
    "Lo primero que hay que hacer para poder trabajar con un fichero es abrirlo. Al abrir un fichero, establecemos la manera en que vamos a trabajar con él: si lo haremos en modo texto o modo binario, o si vamos a leer o escribir de él, entre otras cosas. \n",
    "\n",
    "La apertura de un fichero se realiza mediante la función **open**:"
   ]
  },
  {
   "cell_type": "code",
   "execution_count": null,
   "metadata": {},
   "outputs": [],
   "source": [
    "f = open('fichero.txt')"
   ]
  },
  {
   "cell_type": "markdown",
   "metadata": {},
   "source": [
    "Si la apertura del fichero se lleva a cabo sin problemas, la función nos devuelve un **descriptor del fichero**. Usaremos esta variable más adelante para leer o escribir en el fichero.\n",
    "\n",
    "Por defecto, el fichero se abre en modo texto para lectura. Podemos cambiar el modo en que se abre el fichero mediante el parámetro opcional **mode**, en el que pasaremos una cadena formada por alguno(s) de los caracteres siguientes:\n",
    "* 'r': abre el fichero en modo lectura.\n",
    "* 'w': abre el fichero en modo escritura. Si el archivo existía, lo sobrescribe (es decir, primero es borrado).\n",
    "* 'a': abre el fichero en modo escritura. Si el archivo existía, las escrituras se añadirán al final del fichero.\n",
    "* 't': abre el fichero en modo texto. Es el modo por defecto, así que normalmente no lo indicaremos y se entenderá que lo abrimos en modo texto. Es el modo que usaremos siempre en nuestra asignatura.\n",
    "* 'b': abre el fichero en modo binario.\n",
    "\n",
    "Veamos como ejemplo cómo abrir un fichero de texto para escribir en él, sobrescribiéndolo si ya existía:"
   ]
  },
  {
   "cell_type": "code",
   "execution_count": null,
   "metadata": {},
   "outputs": [],
   "source": [
    "f2 = open('fichero_escritura.txt', mode='w')"
   ]
  },
  {
   "cell_type": "markdown",
   "metadata": {},
   "source": [
    "Cuando abrimos un fichero de texto es importante que tengamos en cuenta la **codificación de caracteres** utilizada por el fichero. Existen diversos estándares, aunque el más utilizado hoy en día en el contexto de Internet es el **utf-8**. Será éste el que usaremos preferiblemente. Por defecto, la función *open* decide la codificación de caracteres en función de la configuración de nuestro sistema operativo. Para especificar explícitamente que se utilice *utf-8* lo haremos mediantes el parámetro opcional **encoding**:"
   ]
  },
  {
   "cell_type": "code",
   "execution_count": null,
   "metadata": {},
   "outputs": [],
   "source": [
    "f3 = open('fichero.txt', encoding='utf-8')"
   ]
  },
  {
   "cell_type": "markdown",
   "metadata": {},
   "source": [
    "Cuando terminemos de trabajar con el fichero (por ejemplo, al acabar de leer su contenido), es importante **cerrarlo**. De esta forma liberamos el recurso para que puedan trabajar con él otros procesos de nuestra máquina, y también nos aseguramos de que las escrituras que hayamos realizado se llevan a cabo de manera efectiva en disco (ya que las escrituras suelen utilizar un buffer en memoria para mejorar la eficiencia). Para cerrar un fichero usamos el método **close** sobre el descriptor del fichero que queremos cerrar:"
   ]
  },
  {
   "cell_type": "code",
   "execution_count": null,
   "metadata": {},
   "outputs": [],
   "source": [
    "f.close()\n",
    "f2.close()\n",
    "f3.close()"
   ]
  },
  {
   "cell_type": "markdown",
   "metadata": {},
   "source": [
    "Una forma de no olvidarnos de cerrar el fichero (algo muy habitual) es usar la sentencia **with**:"
   ]
  },
  {
   "cell_type": "code",
   "execution_count": null,
   "metadata": {},
   "outputs": [],
   "source": [
    "with open('fichero.txt', encoding='utf-8') as f:\n",
    "    print('Trabajamos con el fichero...')    "
   ]
  },
  {
   "cell_type": "markdown",
   "metadata": {},
   "source": [
    "Una vez ejecutadas las instrucciones contenidas en el bloque *with*, el fichero es cerrado automáticamente. Esta variante tiene la ventaja además de que si se produce cualquier error mientras trabajamos con el fichero, que produzca la parada de la ejecución de nuestro programa, el fichero también es cerrado. Esto no ocurre si abrimos el fichero sin usar *with*."
   ]
  },
  {
   "cell_type": "markdown",
   "metadata": {},
   "source": [
    "## 2.2. Lectura y escritura de texto libre <a name=\"sec_2_2\"/>"
   ]
  },
  {
   "cell_type": "markdown",
   "metadata": {},
   "source": [
    "Una vez abierto un fichero en modo texto, podemos leer todo el contenido y guardarlo en una variable de tipo cadena mediante el método **read**:"
   ]
  },
  {
   "cell_type": "code",
   "execution_count": null,
   "metadata": {},
   "outputs": [],
   "source": [
    "with open('fichero.txt', encoding='utf-8') as f:\n",
    "    contenido = f.read()\n",
    "    print(contenido)  # Mostramos el contenido del fichero"
   ]
  },
  {
   "cell_type": "markdown",
   "metadata": {},
   "source": [
    "Aunque se puede hacer de esta forma, es más habitual leer los ficheros de texto línea a línea. De esta forma podemos procesar archivos muy grandes sin usar demasiada memoria. Para ello, podemos usar el descriptor del fichero dentro de un bucle *for*, como si se tratara de una secuencia de cadenas, de manera que en cada paso del bucle obtendremos la siguiente línea del fichero:"
   ]
  },
  {
   "cell_type": "code",
   "execution_count": null,
   "metadata": {},
   "outputs": [],
   "source": [
    "with open('fichero.txt', encoding='utf-8') as f:\n",
    "    for linea in f:\n",
    "        print(linea)"
   ]
  },
  {
   "cell_type": "markdown",
   "metadata": {},
   "source": [
    "Observarás que en el ejemplo anterior se está visualizando cada línea separada con una línea vacía. Esto es así porque la línea leida del fichero incluye al final un salto de línea, y a su vez la función *print* incluye un salto de línea tras la cadena a mostrar. Si queremos mostrar el contenido del fichero con el mismo formato que en el ejemplo anterior, podríamos hacer esto:"
   ]
  },
  {
   "cell_type": "code",
   "execution_count": null,
   "metadata": {},
   "outputs": [],
   "source": [
    "with open('fichero.txt', encoding='utf-8') as f:\n",
    "    for linea in f:\n",
    "        print(linea, end='')"
   ]
  },
  {
   "cell_type": "markdown",
   "metadata": {},
   "source": [
    "Para escribir texto en un fichero, usaremos el método **write** sobre el descriptor del fichero:"
   ]
  },
  {
   "cell_type": "code",
   "execution_count": null,
   "metadata": {},
   "outputs": [],
   "source": [
    "with open('fichero_escritura.txt', mode='w', encoding='utf-8') as f:\n",
    "    f.write('Este texto se almacenará en el fichero.')"
   ]
  },
  {
   "cell_type": "markdown",
   "metadata": {},
   "source": [
    "Comprobemos si se ha realizado la escritura correctamente:"
   ]
  },
  {
   "cell_type": "code",
   "execution_count": null,
   "metadata": {},
   "outputs": [],
   "source": [
    "with open('fichero_escritura.txt', encoding='utf-8') as f:\n",
    "    contenido = f.read()\n",
    "    print(contenido)"
   ]
  },
  {
   "cell_type": "markdown",
   "metadata": {},
   "source": [
    "## 2.3. Lectura y escritura de CSV <a name=\"sec_2_3\"/>"
   ]
  },
  {
   "cell_type": "markdown",
   "metadata": {},
   "source": [
    "Un tipo de fichero de texto que usamos en muchos ejercicios es el llamado formato **CSV** (por *Comma-Separated Values*). Estos ficheros se utilizan para almacenar datos de tipo tabular, al estilo de una hoja de cálculo. En este notebook se incluye un fichero con este formato, extraído del ejercicio \"Servicio de alquiler de bicicletas públicas de Sevilla (Sevici)\". Veamos un trozo de su contenido:"
   ]
  },
  {
   "cell_type": "code",
   "execution_count": null,
   "metadata": {},
   "outputs": [],
   "source": [
    "with open('estaciones.csv', encoding='utf-8') as f:\n",
    "    # Leemos las líneas del fichero junto con un número que indica la línea por la que vamos\n",
    "    for num_linea, linea in enumerate(f):  \n",
    "        print(linea, end='')\n",
    "        if num_linea == 10:   # Al llegar a las 10 líneas, paramos\n",
    "            break"
   ]
  },
  {
   "cell_type": "markdown",
   "metadata": {},
   "source": [
    "Como puedes observar, los datos vienen expresados por columnas. Cada columna o atributo representa un dato concreto, y cada línea representa una tupla o registro de valores para cada uno de los atributos. \n",
    "\n",
    "Para poder trabajar con estos datos, lo normal es que necesitemos acceder a cada atributo de cada registro por separado. Si leemos el fichero línea a línea, podríamos acceder a cada atributo si rompemos la cadena en cada uno de los trozos separados por una coma. Esto puede conseguirse así:"
   ]
  },
  {
   "cell_type": "code",
   "execution_count": null,
   "metadata": {},
   "outputs": [],
   "source": [
    "with open('estaciones.csv', encoding='utf-8') as f:\n",
    "    for num_linea, linea in enumerate(f):  \n",
    "        trozos = linea.split(',')\n",
    "        print(trozos)\n",
    "        if num_linea == 10:   # Al llegar a las 10 líneas, paramos\n",
    "            break"
   ]
  },
  {
   "cell_type": "markdown",
   "metadata": {},
   "source": [
    "Como puedes observar, al usar el método *split* obtenemos una lista con los distintos atributos de cada línea. Podríamos acceder ahora al atributo que quisiéramos usando los corchetes sobre dicha lista.\n",
    "\n",
    "Sin embargo, esta no es la mejor manera de trabajar con un CSV, ya que se nos pueden colar espacios en blanco en sitios que no esperamos, caracteres de salto de línea... Existen en Python dos mecanismos que nos permiten leer CSV de una forma más sencilla y robusta:\n",
    "* Mediante la función **csv.reader**, que nos permite recorrer cada registro del fichero en formato lista.\n",
    "* Mediante el objeto **csv.DictReader**, que nos permite recorrer cada registro del fichero en formato diccionario.\n",
    "\n",
    "Empecemos viendo un ejemplo de uso de **csv.reader**:"
   ]
  },
  {
   "cell_type": "code",
   "execution_count": null,
   "metadata": {},
   "outputs": [],
   "source": [
    "import csv # Hay que importar el paquete csv\n",
    "\n",
    "with open('estaciones.csv', encoding='utf-8') as f:\n",
    "    lector = csv.reader(f)\n",
    "    for registro in lector:\n",
    "        print(registro)\n",
    "        # Para este ejemplo, nos basta con ver el primer registro\n",
    "        break;"
   ]
  },
  {
   "cell_type": "markdown",
   "metadata": {},
   "source": [
    "En el CSV que estamos procesando, la primera línea contiene los nombres de los atributos. No es por tanto un registro como tal (no contiene valores), por lo que lo habitual es saltárnoslo. Esto se puede conseguir de la siguiente forma:"
   ]
  },
  {
   "cell_type": "code",
   "execution_count": null,
   "metadata": {},
   "outputs": [],
   "source": [
    "with open('estaciones.csv', encoding='utf-8') as f:\n",
    "    lector = csv.reader(f)\n",
    "    next(lector) # Nos saltamos la cabecera del CSV\n",
    "    for registro in lector:\n",
    "        print(registro)\n",
    "        # Para este ejemplo, nos basta con ver el primer registro\n",
    "        break;"
   ]
  },
  {
   "cell_type": "markdown",
   "metadata": {},
   "source": [
    "Normalmente, nos interesa almacenar los registros en alguna estructura de datos, para utilizarlos más adelante en nuestro programa. Podemos utilizar por ejemplo una lista para almacenar cada registro. Además, es conveniente que convirtamos cada atributo al tipo de datos de Python que mejor se adapte al tipo de dato que representa el atributo. En nuestro ejemplo, el primer atributo es una cadena de texto, los tres siguientes son números enteros, y los dos últimos números reales.\n",
    "\n",
    "Podríamos obtener una lista de tuplas, cada tupla representando un registro del fichero, de esta manera:"
   ]
  },
  {
   "cell_type": "code",
   "execution_count": null,
   "metadata": {},
   "outputs": [],
   "source": [
    "with open('estaciones.csv', encoding='utf-8') as f:\n",
    "    lector = csv.reader(f)\n",
    "    next(lector) # Nos saltamos la cabecera del CSV\n",
    "    registros = []\n",
    "    for registro in lector:\n",
    "        name = registro[0]\n",
    "        slots = int(registro[1])\n",
    "        empty_slots = int(registro[2])\n",
    "        free_bikes = int(registro[3])\n",
    "        latitude = float(registro[4])\n",
    "        longitude = float(registro[5])\n",
    "        tupla = (name, slots, empty_slots, free_bikes, latitude, longitude)\n",
    "        registros.append(tupla)\n",
    "\n",
    "# Mostremos los 10 primeros registros\n",
    "print(registros[:10])"
   ]
  },
  {
   "cell_type": "markdown",
   "metadata": {},
   "source": [
    "Si tenemos muchos atributos, es preferible utilizar **csv.DictReader** para leer el CSV. La diferencia con *csv.reader* es que cada registro devuelto está representado mediante un diccionario, en el que las claves son los nombres de los atributos (obtenidos a partir de la cabecera del CSV) y los valores asociados son los valores de los atributos correspondientes. Al hacer uso de los nombres de los atributos para acceder a los atributos se mejora la legibilidad del código:"
   ]
  },
  {
   "cell_type": "code",
   "execution_count": null,
   "metadata": {},
   "outputs": [],
   "source": [
    "with open('estaciones.csv', encoding='utf-8') as f:\n",
    "    lector = csv.DictReader(f)\n",
    "    registros = []\n",
    "    for registro in lector:\n",
    "        name = registro['name']\n",
    "        slots = int(registro['slots'])\n",
    "        empty_slots = int(registro['empty_slots'])\n",
    "        free_bikes = int(registro['free_bikes'])\n",
    "        latitude = float(registro['latitude'])\n",
    "        longitude = float(registro['longitude'])\n",
    "        tupla = (name, slots, empty_slots, free_bikes, latitude, longitude)\n",
    "        registros.append(tupla)\n",
    "\n",
    "# Mostremos los 10 primeros registros\n",
    "print(registros[:10])"
   ]
  },
  {
   "cell_type": "markdown",
   "metadata": {},
   "source": [
    "Si el CSV que utilizamos no tiene una primera línea de cabecera con los nombres de los atributos, podemos pasarle dichos nombres a *csv.DictReader* mediante el parámetro opcional **fieldnames**. Debemos pasar en dicho parámetro una lista de cadenas con los nombres que queremos asignarle a los atributos, en el mismo orden en que aparezcan en el CSV."
   ]
  },
  {
   "cell_type": "markdown",
   "metadata": {},
   "source": [
    "## 2.4. Serialización y deserialización mediante JSON <a name=\"sec_2_4\"/>"
   ]
  },
  {
   "cell_type": "markdown",
   "metadata": {},
   "source": [
    "Llamamos **serialización** al proceso de convertir los datos almacenados en una o varias variables de nuestro programa a una representación en formato textual o binario, de manera que posteriormente esta representación pueda ser utilizada para volver a cargar dichos datos en nuestro programa, proceso que se conoce como **deserialización**. \n",
    "\n",
    "La serialización/deserialización nos permite guardar el contenido de una variable tal cual en un fichero, de manera que en una ejecución posterior de nuestro programa (o de otro programa) esos datos puedan ser cargados fácilmente en otra variable, y se pueda seguir trabajando con ellos. Otra posibilidad es utilizar la representación obtenida para enviarla a través de Internet, de manera que permitamos que dos programas situados en máquinas distintas se envíen estos datos uno al otro; conseguimos así que ambos programas puedan colaborar como si se ejecutaran en una misma máquina y compartieran dicha variable. Esta es la base de los **servicios web**, aplicaciones que ofrecen funcionalidades que pueden ser utilizadas por programas a través del protocolo **http**. Por poner algunos ejemplos, es posible consultar información sobre artistas o canciones haciendo consultas a los servicios web ofrecidos por *Spotify*. La información requerida es serializada por los servidores de *Spotify*, y enviada por Internet como respuesta a la petición de un cliente. El programa del cliente deserializará dicha información y podrá utilizarla para llevar a cabo la funcionalidad que se desee.\n",
    "\n",
    "Un formato estándar de intercambio de datos ampliamente utilizado y muy bien integrado en Python es **json**. De hecho, la representación de los datos en *json* es muy parecida a la propia sintaxis de Python. Puedes comprobarlo en el siguiente ejemplo, en el que serializamos la variable glosario:"
   ]
  },
  {
   "cell_type": "code",
   "execution_count": null,
   "metadata": {},
   "outputs": [],
   "source": [
    "import json\n",
    "\n",
    "glosario = {'programación estructurada': [14,15,18,24,85,86], 'funciones': [2,3,4,8,9,10,11,14,15,18]}\n",
    "glosario_json = json.dumps(glosario)\n",
    "print(glosario_json)"
   ]
  },
  {
   "cell_type": "markdown",
   "metadata": {},
   "source": [
    "Aunque la variable que se está serializando en este ejemplo es simple, con el mismo código podemos serializar cualquier variable, sea cual sea la complejidad de los datos que almacena. \n",
    "\n",
    "Para deserializar la representación *json* obtenida, lo haremos así:"
   ]
  },
  {
   "cell_type": "code",
   "execution_count": null,
   "metadata": {},
   "outputs": [],
   "source": [
    "glosario = json.loads(glosario_json)\n",
    "print(glosario)"
   ]
  },
  {
   "cell_type": "markdown",
   "metadata": {},
   "source": [
    "Si combinamos los ejemplos anteriores con la escritura y lectura de ficheros de texto, podemos guardar en un fichero el contenido de la variable, y en una ejecución posterior leer el fichero y cargar dichos datos de nuevo en una variable:"
   ]
  },
  {
   "cell_type": "code",
   "execution_count": null,
   "metadata": {},
   "outputs": [],
   "source": [
    "glosario = {'programación estructurada': [14,15,18,24,85,86], 'funciones': [2,3,4,8,9,10,11,14,15,18]}\n",
    "glosario_json = json.dumps(glosario)\n",
    "print('Almacenando la variable glosario en el fichero glosario.txt')\n",
    "with open('glosario.txt','w') as f:\n",
    "    f.write(glosario_json)"
   ]
  },
  {
   "cell_type": "code",
   "execution_count": null,
   "metadata": {},
   "outputs": [],
   "source": [
    "print('Cargando los datos del fichero glosario.txt en la variable glosario')\n",
    "with open('glosario.txt') as f:\n",
    "    glosario_json = f.read()\n",
    "    glosario = json.loads(glosario_json)\n",
    "    print('Datos cargados:', glosario)"
   ]
  },
  {
   "cell_type": "markdown",
   "metadata": {},
   "source": [
    "La deserialización de *json* nos permite hacer multitud de consultas a diversos servicios web, y trabajar con los datos obtenidos directamente en nuestro programa Python. Por ejemplo, el siguiente ejemplo muestra cómo obtener la información sobre las estaciones de bicicletas de alquiler de Sevici (servicio público de alquiler de bicicletas de Sevilla), a través del servicio web ofrecido por https://citybik.es/:"
   ]
  },
  {
   "cell_type": "code",
   "execution_count": null,
   "metadata": {},
   "outputs": [],
   "source": [
    "import urllib.request\n",
    "\n",
    "# urllib.request.urlopen es parecido a la función open, pero en lugar de leer\n",
    "# desde un fichero estamos leyendo una dirección http\n",
    "with urllib.request.urlopen(\"https://api.citybik.es/v2/networks/sevici\") as f:\n",
    "    sevici_json = f.read()\n",
    "    estaciones = json.loads(sevici_json)\n",
    "    print(estaciones)"
   ]
  },
  {
   "cell_type": "markdown",
   "metadata": {},
   "source": [
    "El objeto que hemos cargado en la variable estaciones tiene una estructura compleja, por lo que es conveniente consultar la [documentación del servicio](https://api.citybik.es/v2/) si queremos utilizar dichos datos en nuestro programa. Observe el abundante uso de diccionarios y listas. Por ejemplo, es posible acceder a las direcciones de todas las estaciones mediante este código:"
   ]
  },
  {
   "cell_type": "code",
   "execution_count": null,
   "metadata": {},
   "outputs": [],
   "source": [
    "with urllib.request.urlopen(\"https://api.citybik.es/v2/networks/sevici\") as f:\n",
    "    sevici_json = f.read()\n",
    "    estaciones = json.loads(sevici_json)\n",
    "    for estacion in estaciones['network']['stations']:\n",
    "        print(estacion['extra']['address'])"
   ]
  },
  {
   "cell_type": "markdown",
   "metadata": {},
   "source": [
    "**NOTA:** Si obtienes un error al ejecutar las dos celdas de código anteriores, prueba a cambiar la llamada a la función json.loads, de esta forma:\n",
    "```python\n",
    "json.loads(sevici_json.decode('utf-8'))\n",
    "```"
   ]
  },
  {
   "cell_type": "markdown",
   "metadata": {},
   "source": [
    "### ¡Prueba tú!\n",
    "El servicio web ofrecido por https://swapi.co/ proporciona información sobre las películas de la saga Star Wars. Consulta la [documentación del servicio](https://swapi.co/documentation) y escribe un código similar al de Sevici que muestre los nombres de todos los personajes que aparecen en el episodio VII.\n",
    "\n",
    "NOTA: Para poder acceder a los recursos de la API, es necesario hacer la consulta de la url de manera algo distinta a lo mostrado anteriormente, incorporando el campo [User-Agent](https://es.wikipedia.org/wiki/Agente_de_usuario) en la llamada. Se proporciona a continuación el código necesario para hacer esto."
   ]
  },
  {
   "cell_type": "code",
   "execution_count": null,
   "metadata": {},
   "outputs": [],
   "source": [
    "from urllib.request import urlopen, Request\n",
    "\n",
    "# Consultar la información del episodio 7 de Star Wars\n",
    "with urllib.request.urlopen(Request(\"https://swapi.co/api/films/7\", headers={'User-Agent': 'python'})) as f:\n",
    "    # TODO\n",
    "            "
   ]
  },
  {
   "cell_type": "code",
   "execution_count": null,
   "metadata": {},
   "outputs": [],
   "source": []
  }
 ],
 "metadata": {
  "anaconda-cloud": {},
  "kernelspec": {
   "display_name": "Python 3",
   "language": "python",
   "name": "python3"
  },
  "language_info": {
   "codemirror_mode": {
    "name": "ipython",
    "version": 3
   },
   "file_extension": ".py",
   "mimetype": "text/x-python",
   "name": "python",
   "nbconvert_exporter": "python",
   "pygments_lexer": "ipython3",
   "version": "3.6.4"
  }
 },
 "nbformat": 4,
 "nbformat_minor": 2
}