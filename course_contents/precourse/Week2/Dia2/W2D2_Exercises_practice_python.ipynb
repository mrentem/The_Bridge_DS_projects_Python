{
 "nbformat": 4,
 "nbformat_minor": 2,
 "metadata": {
  "language_info": {
   "name": "python",
   "codemirror_mode": {
    "name": "ipython",
    "version": 3
   },
   "version": "3.7.4-final"
  },
  "orig_nbformat": 2,
  "file_extension": ".py",
  "mimetype": "text/x-python",
  "name": "python",
  "npconvert_exporter": "python",
  "pygments_lexer": "ipython3",
  "version": 3,
  "kernelspec": {
   "name": "python3",
   "display_name": "Python 3"
  }
 },
 "cells": [
  {
   "cell_type": "markdown",
   "execution_count": null,
   "metadata": {},
   "outputs": [],
   "source": [
    "# Ejercicios de repaso"
   ]
  },
  {
   "cell_type": "markdown",
   "execution_count": null,
   "metadata": {},
   "outputs": [],
   "source": [
    "Aquellos alumnos que no han terminado los ejercicios de días anteriores, deben acabarlos antes de empezar con los siguientes. Los profesores vamos a ir resolviendo dudas durante la clase, ¡ni se os ocurra no preguntar!\n",
    "\n",
    "Aquellos que terminen el apartado 8 del archivo \"exercises.ipynb\" del Dia1 de la Week2 han de seguir realizando los siguientes ejercicios:\n",
    "\n",
    "- https://www.practicepython.org/\n",
    "\n",
    "Después, ha de empezarse con esta lista: \n",
    "\n",
    "- https://github.com/darkprinx/100-plus-Python-programming-exercises-extended/tree/master/Status (++)\n",
    "\n",
    "- https://github.com/mahtab04/Python-Programming-Practice (++)\n",
    "\n",
    "- https://github.com/whojayantkumar/Python_Programs (+++)\n",
    "\n",
    "- https://www.w3resource.com/python-exercises/ (++++)\n",
    "\n",
    "- https://github.com/fupus/notebooks-ejercicios (+++++)\n",
    "\n"
   ]
  },
  {
   "cell_type": "markdown",
   "execution_count": null,
   "metadata": {},
   "outputs": [],
   "source": [
    "### Realizar los ejercicios en este fichero. Utilizad una o más celdas por cada ejercicio. "
   ]
  },
  {
   "cell_type": "markdown",
   "execution_count": null,
   "metadata": {},
   "outputs": [],
   "source": [
    "## Ejericio 1: character input"
   ]
  },
  {
   "cell_type": "code",
   "execution_count": null,
   "metadata": {},
   "outputs": [],
   "source": [
    "#  Create a program that asks the user to enter their name and their age. Print out a message addressed to them that tells them the year that they will turn 100 years old.\n",
    "\n",
    "nombre = input(\"¿Cómo te llamas?\")\n",
    "edad = input(\"¿Qué edad tienes?\")\n",
    "\n",
    "\n",
    "print(nombre,\"cumplirás 100 años en el año\", (2020 + (100 - int(edad))))\n",
    "\n"
   ]
  },
  {
   "cell_type": "code",
   "execution_count": 15,
   "metadata": {},
   "outputs": [
    {
     "name": "stdout",
     "output_type": "stream",
     "text": "Tu número es par\n"
    }
   ],
   "source": [
    "## Ask the user for a number. Depending on whether the number is even or odd, print out an appropriate message to the user. Hint: how does an even / odd number react differently when divided by 2?\n",
    "\n",
    "mi_numero = input(\"Elige un numero:\")\n",
    "\n",
    "if (int(mi_numero) % 2) == 0:\n",
    "    print(\"Tu número es par\")\n",
    "\n",
    "else:\n",
    "    print(\"Tu número es impar\")\n",
    "\n"
   ]
  },
  {
   "cell_type": "code",
   "execution_count": 17,
   "metadata": {},
   "outputs": [
    {
     "name": "stdout",
     "output_type": "stream",
     "text": "16 es divisible entre 4\n"
    }
   ],
   "source": [
    "## Ask the user for two numbers: one number to check (call it num) and one number to divide by (check). If check divides evenly into num, tell that to the user. If not, print a different appropriate message.\n",
    "\n",
    "mi_numero = input(\"Elige un numero:\")\n",
    "divisor = input(\"¿Por qué número quieres dividirlo?\")\n",
    "\n",
    "if int(mi_numero) % int(divisor) == 0:\n",
    "    print(mi_numero,\"es divisible entre\", divisor)\n",
    "\n"
   ]
  },
  {
   "cell_type": "code",
   "execution_count": 22,
   "metadata": {},
   "outputs": [
    {
     "name": "stdout",
     "output_type": "stream",
     "text": "[1, 1, 2, 3]\n"
    }
   ],
   "source": [
    "## write a program that prints out all the elements of the list that are less than 5.\n",
    "\n",
    "lista = [1, 1, 2, 3, 5, 8, 13, 21, 34, 55, 89]\n",
    "lista_reducida = []\n",
    "\n",
    "for elemento in lista:\n",
    "    if elemento < 5:\n",
    "        lista_reducida.append(elemento)\n",
    "\n",
    "print(lista_reducida)\n",
    "\n",
    "\n"
   ]
  },
  {
   "cell_type": "code",
   "execution_count": null,
   "metadata": {},
   "outputs": [],
   "source": []
  }
 ]
}