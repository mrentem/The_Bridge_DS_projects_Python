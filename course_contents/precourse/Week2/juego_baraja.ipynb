{
 "nbformat": 4,
 "nbformat_minor": 2,
 "metadata": {
  "language_info": {
   "name": "python",
   "codemirror_mode": {
    "name": "ipython",
    "version": 3
   },
   "version": "3.7.4-final"
  },
  "orig_nbformat": 2,
  "file_extension": ".py",
  "mimetype": "text/x-python",
  "name": "python",
  "npconvert_exporter": "python",
  "pygments_lexer": "ipython3",
  "version": 3,
  "kernelspec": {
   "name": "python37464bitbaseconda2bb33fe5ffce4701a66c14f076279995",
   "display_name": "Python 3.7.4 64-bit ('base': conda)"
  }
 },
 "cells": [
  {
   "cell_type": "markdown",
   "execution_count": null,
   "metadata": {},
   "outputs": [],
   "source": [
    "## Haz un programa utilizando 'while' que genere una baraja de cartas de 4 palos distintos. La baraja ha de tener 40 cartas."
   ]
  },
  {
   "cell_type": "code",
   "execution_count": 10,
   "metadata": {},
   "outputs": [
    {
     "name": "stdout",
     "output_type": "stream",
     "text": "1 de Oros\n1 de Bastos\n1 de Copas\n1 de Espadas\n2 de Oros\n2 de Bastos\n2 de Copas\n2 de Espadas\n3 de Oros\n3 de Bastos\n3 de Copas\n3 de Espadas\n4 de Oros\n4 de Bastos\n4 de Copas\n4 de Espadas\n5 de Oros\n5 de Bastos\n5 de Copas\n5 de Espadas\n6 de Oros\n6 de Bastos\n6 de Copas\n6 de Espadas\n7 de Oros\n7 de Bastos\n7 de Copas\n7 de Espadas\nsota de Oros\nsota de Bastos\nsota de Copas\nsota de Espadas\ncaballo de Oros\ncaballo de Bastos\ncaballo de Copas\ncaballo de Espadas\nrey de Oros\nrey de Bastos\nrey de Copas\nrey de Espadas\n"
    }
   ],
   "source": [
    "## PRIMERA SOLUCION: CON DOS BUCLES FOR:\n",
    "\n",
    "lista_numeros = [\"1\", \"2\", \"3\", \"4\", \"5\", \"6\", \"7\", \"sota\", \"caballo\", \"rey\"]\n",
    "lista_palos = [\"Oros\", \"Bastos\", \"Copas\", \"Espadas\"]\n",
    "\n",
    "def baraja_de_cartas(lista1, lista2):\n",
    "\n",
    "    for carta in range(len(lista1)):\n",
    "        for palo in range(len(lista2)):\n",
    "            print(lista1[carta], \"de\", lista2[palo])\n",
    "\n",
    "baraja_de_cartas(lista_numeros, lista_palos)"
   ]
  },
  {
   "cell_type": "code",
   "execution_count": null,
   "metadata": {},
   "outputs": [],
   "source": [
    "## SEGUNDA SOLUCION: CON UN BUCLE WHILE\n",
    "\n",
    "lista_numeros = [\"1\", \"2\", \"3\", \"4\", \"5\", \"6\", \"7\", \"sota\", \"caballo\", \"rey\"]\n",
    "lista_palos = [\"Oros\", \"Bastos\", \"Copas\", \"Espadas\"]\n",
    "\n",
    "def mi_funcion(lista1, lista2):\n",
    "    acum1 = 0\n",
    "    tamano_lista1 = len(lista1)\n",
    "    while (acum1 < tamano_lista1):\n",
    "        print(lista2[0], lista1[acum1])\n",
    "        print(lista2[1], lista1[acum1])\n",
    "        print(lista2[2], lista1[acum1])\n",
    "        print(lista2[3], lista1[acum1])\n",
    "        print(lista2[4], lista1[acum1])\n",
    "        print(lista2[5], lista1[acum1])\n",
    "        print(lista2[6], lista1[acum1])\n",
    "        print(lista2[7], lista1[acum1])\n",
    "        print(lista2[8], lista1[acum1])\n",
    "        print(lista2[9], lista1[acum1])  # NOTA: En esta sucesion de prints la unica diferencia es la posicion\n",
    "        print(\"\")\n",
    "        acum1 = acum1 + 1\n",
    "        \n",
    "mi_funcion(lista_palos, lista_numeros)"
   ]
  },
  {
   "cell_type": "code",
   "execution_count": 8,
   "metadata": {},
   "outputs": [
    {
     "name": "stdout",
     "output_type": "stream",
     "text": "1 Oros\n2 Oros\n3 Oros\n4 Oros\n5 Oros\n6 Oros\n7 Oros\nsota Oros\ncaballo Oros\nrey Oros\n"
    }
   ],
   "source": [
    "## SEGUNDA SOLUCION CON DOS BUCLES WHILE:\n",
    "\n",
    "lista_numeros = [\"1\", \"2\", \"3\", \"4\", \"5\", \"6\", \"7\", \"sota\", \"caballo\", \"rey\"]\n",
    "lista_palos = [\"Oros\", \"Bastos\", \"Copas\", \"Espadas\"]\n",
    "\n",
    "def baraja_de_cartas(lista1, lista2):\n",
    "\n",
    "    acum1 = 0\n",
    "    while acum1 < len(lista1):\n",
    "        print(lista1[acum1], lista2[0])\n",
    "        acum1 = acum1 + 1\n",
    "\n",
    "baraja_de_cartas(lista_numeros, lista_palos)\n",
    "\n",
    "\n",
    "\n"
   ]
  },
  {
   "cell_type": "code",
   "execution_count": null,
   "metadata": {},
   "outputs": [],
   "source": []
  },
  {
   "cell_type": "code",
   "execution_count": null,
   "metadata": {},
   "outputs": [],
   "source": [
    "computer_brands = [\"Apple\", \"Asus\", \"Dell\", \"Samsung\"]\n",
    "i = 0\n",
    "while i < len(computer_brands):\n",
    "    print(computer_brands[i])\n",
    "    i = i + 1"
   ]
  },
  {
   "cell_type": "code",
   "execution_count": null,
   "metadata": {},
   "outputs": [],
   "source": []
  }
 ]
}