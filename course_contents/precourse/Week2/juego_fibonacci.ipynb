{
 "nbformat": 4,
 "nbformat_minor": 2,
 "metadata": {
  "language_info": {
   "name": "python",
   "codemirror_mode": {
    "name": "ipython",
    "version": 3
   },
   "version": "3.7.4-final"
  },
  "orig_nbformat": 2,
  "file_extension": ".py",
  "mimetype": "text/x-python",
  "name": "python",
  "npconvert_exporter": "python",
  "pygments_lexer": "ipython3",
  "version": 3,
  "kernelspec": {
   "name": "python37464bitmariavirtualenvb7bd58478ec147f1aa71a66e1777c7e5",
   "display_name": "Python 3.7.4 64-bit ('Maria': virtualenv)"
  }
 },
 "cells": [
  {
   "cell_type": "markdown",
   "execution_count": null,
   "metadata": {},
   "outputs": [],
   "source": [
    "En matemáticas, la sucesión de Fibonacci (a veces llamada erróneamente serie de Fibonacci) es la siguiente sucesión infinita de números naturales: 0,1,1,2,3,5,8,13,21,34,55,89,144,233,377,610,987,1597\n",
    "\n",
    "La sucesión comienza con los números 0 y 1, y a partir de estos, «cada término es la suma de los dos anteriores», es la relación de recurrencia que la define.\n",
    "\n",
    "A los elementos de esta sucesión se les llama números de Fibonacci. Esta sucesión fue descrita en Europa por Leonardo de Pisa, matemático italiano del siglo XIII también conocido como Fibonacci.\n",
    "\n",
    "Tiene numerosas aplicaciones en ciencias de la computación, matemáticas y teoría de juegos. También aparece en configuraciones biológicas, como por ejemplo en las ramas de los árboles, en la disposición de las hojas en el tallo, en las flores de alcachofas y girasoles, en las inflorescencias del brécol romanesco y en la configuración de las piñas de las coníferas."
   ]
  },
  {
   "cell_type": "markdown",
   "execution_count": null,
   "metadata": {},
   "outputs": [],
   "source": [
    "Se pide realizar una función 'secuencia_fibonacci' que recibe un parámetro de entrada 'limite_sucesion' (Entero) que devuelva y muestre la sucesión de Fibonacci a partir de un número. \n",
    "\n",
    "Ejemplo: \n",
    "- secuencia_fibonacci(limite_sucesion=3) --> 0, 1 ,1\n",
    "- secuencia_fibonacci(limite_sucesion=1) --> 0\n",
    "- secuencia_fibonacci(limite_sucesion=6) --> 0, 1 ,1, 2, 3, 5"
   ]
  },
  {
   "cell_type": "code",
   "execution_count": 1,
   "metadata": {},
   "outputs": [
    {
     "name": "stdout",
     "output_type": "stream",
     "text": "La Sucesión de Fibonacci es: 0 1 1 2 3 5 8"
    }
   ],
   "source": [
    "limite_de_sucesion = int(input(\"¿De cuántos elementos quieres que sea tu Sucesión de Fibonacci? Dame un número entero\"))\n",
    "\n",
    "## Pido el número de elementos que quiero que tenga la sucesión Y LO PASO A INTEGER!!!\n",
    "\n",
    "def secuencia_fibonacci(limite_de_sucesion):\n",
    "    p = 0  ## primer elemento de la sucesión\n",
    "    s = 1  ## segundo elemento de la sucesión\n",
    "    if limite_de_sucesion == 1:  ## Cuando sólo quiero una sucesión de 1 elemento\n",
    "        print(\"La Sucesión de Fibonacci es:\", p)\n",
    "    else:\n",
    "        print(\"La Sucesión de Fibonacci es:\", p, s, end = \" \") ## cuando quiero una sucesión con 2 elementos\n",
    "        for i in range(2, limite_de_sucesion): ## Indico el range desde 2 a limite_de_sucesion porque para 0 y 1 ya lo tengo impreso anteriormente, y tengo que decirle qué ocurre a partir de ahí.\n",
    "            siguiente_numero = p + s\n",
    "            print(siguiente_numero, end = \" \")\n",
    "            p = s\n",
    "            s = siguiente_numero\n",
    "\n",
    "## El loop for hace que cada vez el primer 'p' y segundo 's' elemento se vayan incrementando uno a uno\n",
    "\n",
    "secuencia_fibonacci(limite_de_sucesion)"
   ]
  },
  {
   "cell_type": "code",
   "execution_count": 3,
   "metadata": {},
   "outputs": [
    {
     "name": "stdout",
     "output_type": "stream",
     "text": "0\n1\n1\n2\n3\n5\n8\n13\n21\n34\n55\n89\n144\n233\n377\n610\n987\n1597\n2584\n4181\n6765\n10946\n17711\n28657\n46368\n75025\n121393\n"
    }
   ],
   "source": [
    "#Funcion \"Secuencia_fibonacci\"\n",
    "def secuencia_fibonacci(limite):\n",
    "    lista = [0,1]\n",
    "    for e in range(limite):\n",
    "        ultimo_elemento = lista[-1] + lista[-2]\n",
    "        lista.append(ultimo_elemento)\n",
    "    return lista\n",
    "fibo = secuencia_fibonacci(limite = 25)\n",
    "\n",
    "for e in fibo:\n",
    "    print(e)"
   ]
  },
  {
   "cell_type": "code",
   "execution_count": null,
   "metadata": {},
   "outputs": [],
   "source": []
  }
 ]
}