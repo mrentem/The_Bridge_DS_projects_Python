{
 "nbformat": 4,
 "nbformat_minor": 2,
 "metadata": {
  "language_info": {
   "name": "python",
   "codemirror_mode": {
    "name": "ipython",
    "version": 3
   },
   "version": "3.7.4-final"
  },
  "orig_nbformat": 2,
  "file_extension": ".py",
  "mimetype": "text/x-python",
  "name": "python",
  "npconvert_exporter": "python",
  "pygments_lexer": "ipython3",
  "version": 3,
  "kernelspec": {
   "name": "python3",
   "display_name": "Python 3"
  }
 },
 "cells": [
  {
   "cell_type": "markdown",
   "execution_count": null,
   "metadata": {},
   "outputs": [],
   "source": [
    "## Bootcamp Data Science - The Brige. Febrero 2020. Precurso. "
   ]
  },
  {
   "cell_type": "markdown",
   "execution_count": null,
   "metadata": {},
   "outputs": [],
   "source": [
    "## Repaso\n",
    "\n",
    "1. Variables y tipos:\n",
    "    - Creación de variables\n",
    "    - String\n",
    "    - Enteros\n",
    "    - Booleanos\n",
    "    - None (Ningún tipo)\n",
    "2. Operadores lógicos:\n",
    "    - Suma\n",
    "    - Resta\n",
    "    - División\n",
    "    - División absoluta\n",
    "    - Exponente\n",
    "    - Multiplicación\n",
    "    - And, or, not\n",
    "3. Listas, Tuplas y Set (Conjuntos):\n",
    "    - Acceso a dato por posiciones\n",
    "    - Tamaño de lista \n",
    "    - Listas dentro de listas\n",
    "    - Añadir datos a la listas\n",
    "    - Eliminar datos de listas\n",
    "4. Bucles:\n",
    "    - For\n",
    "    - range\n",
    "    - enumerate\n",
    "5. Funciones:\n",
    "    - Función con parámetros\n",
    "    - Funciones dentro de Funciones\n",
    "    - Funciones recursivas\n",
    "    - Return\n",
    "6. Input \n"
   ]
  },
  {
   "cell_type": "markdown",
   "execution_count": null,
   "metadata": {},
   "outputs": [],
   "source": [
    "## Ejercicios:\n",
    "\n",
    "### Apartado 1:\n",
    "\n",
    "1. Crea una variable llamada 'numero_bridge' que tenga como valor 15. Tipo entero.\n",
    "2. Crea una variable llamada 'nombre_calle' que sea un string y sea 'Recoletos'\n",
    "3. Crea una variable llamada 'gusto_personal' que sea True si eres más de playa y False si eres más de montaña.\n",
    "4. Crea una variable llamada 'nada' de la siguiente forma: 'nada = None'. None no representa ningún valor. Ha de tenerse en cuenta que si se hace 'if (nada):', 'nada' actúa como un valor booleano False. Para más información, observar el primer ejemplo de abajo.\n",
    "5. Crea una variable que llamada 'lista_direccion' que sea una lista y que contenga 2 valores. El primer valor debe ser la variable 'numero_bridge' y el segundo valor de la lista debe ser la variable 'nombre_calle'\n",
    "6. Crea una variable llamada 'horas_sueno' que almacene, en forma de String, las horas que has dormido hoy. Ejemplo: horas_sueno = \"8\" \n",
    "6. Crea una lista llamada 'lista_informacion' que tenga cada una de las variables creadas anteriormente en el orden en el que se han expuesto en el ejercicio.\n",
    "\n",
    "IMPORTANTE: A partir de este momento y para todos estos ejercicios, solo se van a utilizar los datos almacenados en 'lista_informacion'. Debe contener 6 elementos. "
   ]
  },
  {
   "cell_type": "code",
   "execution_count": null,
   "metadata": {},
   "outputs": [],
   "source": [
    "nada = None\n",
    "if nada:\n",
    "    print(\"Entra en el if\")\n",
    "else: \n",
    "    print(\"Entra en el else porque la variable 'nada' actúa como un booleano False\")"
   ]
  },
  {
   "cell_type": "markdown",
   "execution_count": null,
   "metadata": {},
   "outputs": [],
   "source": [
    "### Creación de variables del apartado 1."
   ]
  },
  {
   "cell_type": "code",
   "execution_count": 18,
   "metadata": {},
   "outputs": [],
   "source": [
    "### Escribe aquí tu código para el apartado 1. Cuando acabes, ejecuta la celda para que las variables se queden en la memoria. \n",
    "\n",
    "numero_bridge = 15\n",
    "nombre_calle = \"Recoletos\"\n",
    "gusto_personal = True\n",
    "nada = None\n",
    "lista_direccion = [numero_bridge, nombre_calle]\n",
    "horas_sueno = \"7\"\n",
    "lista_informacion = [numero_bridge, nombre_calle, gusto_personal, nada, lista_direccion, horas_sueno]\n"
   ]
  },
  {
   "cell_type": "markdown",
   "execution_count": null,
   "metadata": {},
   "outputs": [],
   "source": [
    "#### Borrar variables. Del\n",
    "Ejecuta esta celda de jupyter para borrar todas las variables que has tenido que crear antes. El contenido de 'lista_informacion' no cambiará. De esta forma, nos aseguraremos de que solo uses la información de 'lista_informacion'. "
   ]
  },
  {
   "cell_type": "code",
   "execution_count": 19,
   "metadata": {},
   "outputs": [],
   "source": [
    "# Ejecuta esta celda cuando las variables del apartado 1 ya han sido creadas y guardadas en memoria.\n",
    "del numero_bridge\n",
    "del nombre_calle\n",
    "del gusto_personal \n",
    "del nada\n",
    "del lista_direccion\n",
    "del horas_sueno"
   ]
  },
  {
   "cell_type": "markdown",
   "execution_count": null,
   "metadata": {},
   "outputs": [],
   "source": [
    "### Ejercicios con 'lista_informacion'. Recuerda no usar las variables. Leer cada punto hasta el final antes de hacer la tarea. \n",
    "\n",
    "1. Mostrar por pantalla, sin uso de funciones ni bucles: \n",
    "    - La concatenación del número de The Bridge, dos puntos y el nombre de la calle. \n",
    "    - La suma del número de The Bridge y las horas que has dormido hoy. \n",
    "    - La concatenación del número de The Bridge, el nombre de la calle, tu gusto personal y las horas de sueño. Cada uno debe estar separado por lo siguiente: \" : \".\n",
    "    - Accediendo a la lista de la quinta posición de 'lista_informacion' muestra por pantalla la suma de lo siguiente (si la quinta posición de tu 'lista_informacion' no es una lista, pregunta a los profesores):\n",
    "        - La concatenación de los dos elementos. \n",
    "        - La multiplicación del tamaño de la lista de la quinta posición de 'lista_informacion' y el tamaño del número de caracteres que tiene el nombre de la calle.\n",
    "\n",
    "2. Dentro de funciones con el nombre que decidáis, con un argumento de entrada llamado 'lista' siendo este la 'lista_informacion' cuando se invoque a la función. Cuando sea 'recorre' se refiere a bucle 'for'. Cada punto representa una función y celda de Jupyter diferente:\n",
    "\n",
    "    - Mostrar por pantalla \"Me gusta la tranquilidad\" si te gusta más la montaña y \"Me gusta ver las carnes al aire libre\" si te gusta más la playa.\n",
    "    - Mostrar por pantalla \"Hoy estoy cansado\" si has dormido menos de 7 horas y \"Hoy me como el mundo\" si has dormido más de 7 horas. \n",
    "    - Recorrer 'lista' para mostrar todos los elementos que contiene. \n",
    "    - Recorrer 'lista' para mostrar todos los elementos que contiene concatenado con el string \"--> OK\"\n",
    "    - Recorrer 'lista' para mostrar todos los elementos que contiene excepto el primero\n",
    "    - Recorrer 'lista' para mostrar todos los elementos que contiene excepto el último. \n",
    "    - Recorrer 'lista' para mostrar todos los elementos que contiene excepto el número de la calle y las horas que has dormido.\n",
    "    - Recorrer 'lista' para mostrar todos los elementos que contiene excepto el primer elemento de la lista de la quinta posición. \n",
    "    - Recorrer 'lista' para mostrar todos los elementos que contiene excepto el que contiene la información sobre si os gusta la montaña o playa SI os gusta la montaña.\n",
    "    - Recorrer 'lista' para mostrar el último elemento.\n",
    "    - Crear una variable llamada 'zona' y darle el valor de None. Recorrer 'lista' y actualizar 'zona' a True si y solo si has dormido más de 7 horas, te gusta la playa y la suma de las horas que has dormido más el número de The Bridge es menor a 24. Para cualquier otro caso, 'zona' será True. Retornar el valor de 'zona'. Esta función se llamará 'funcion_zona'.\n",
    "    - Dentro de una función llamada 'funcion_comprobacion' que recibe solo un parámetro llamado 'valor_zona' que será el valor que devuelve la función 'funcion_zona' cuando sea invocado, mostrar el valor de 'valor_zona' si es True.\n",
    "\n",
    "3. Dentro de funciones con el nombre que queráis:\n",
    "    - Utilizar la función enumerate del bucle for utilizándo la lista de alturas y la lista de alumnos creada en días anteriores (las listas han de estar ordenadas) para: \n",
    "        - Mostrar la altura acompañado del nombre del alumno al que pertenece. \n",
    "\n",
    "4. Hacer un programa que pregunte si le gusta la montaña al usuario y, si es que no, llame a la función funcion_zona. \n",
    "\n",
    "    "
   ]
  },
  {
   "cell_type": "markdown",
   "metadata": {},
   "source": [
    "## Resolucion Ejercicio 1:"
   ]
  },
  {
   "cell_type": "code",
   "execution_count": 20,
   "metadata": {},
   "outputs": [
    {
     "name": "stdout",
     "output_type": "stream",
     "text": "[15, 'Recoletos', True, None, [15, 'Recoletos'], '7']\n"
    }
   ],
   "source": [
    "## Mostrar por pantalla, sin uso de funciones ni bucles:\n",
    "\n",
    "print(lista_informacion)"
   ]
  },
  {
   "cell_type": "code",
   "execution_count": 21,
   "metadata": {},
   "outputs": [
    {
     "name": "stdout",
     "output_type": "stream",
     "text": "15: Recoletos\n"
    }
   ],
   "source": [
    "## La concatenación del número de The Bridge, dos puntos y el nombre de la calle.\n",
    "\n",
    "concatenacion = str(lista_informacion[0]) + \": \" + lista_informacion[1]\n",
    "print(concatenacion)"
   ]
  },
  {
   "cell_type": "code",
   "execution_count": 22,
   "metadata": {},
   "outputs": [
    {
     "name": "stdout",
     "output_type": "stream",
     "text": "22\n"
    }
   ],
   "source": [
    "## La suma del número de The Bridge y las horas que has dormido hoy.\n",
    "\n",
    "suma_direccion_horas_sueno = lista_informacion[0] + int(lista_informacion[5])\n",
    "print(suma_direccion_horas_sueno)"
   ]
  },
  {
   "cell_type": "code",
   "execution_count": 23,
   "metadata": {},
   "outputs": [
    {
     "name": "stdout",
     "output_type": "stream",
     "text": "15RecoletosTrue7\n"
    }
   ],
   "source": [
    "## La concatenación del número de The Bridge, el nombre de la calle, tu gusto personal y las horas de sueño. Cada uno debe estar separado por lo siguiente: \" : \".\n",
    "\n",
    "concatenacion_larga = str(lista_informacion[0]) + lista_informacion[1] + str(lista_informacion[2]) + lista_informacion[5]\n",
    "print(concatenacion_larga)"
   ]
  },
  {
   "cell_type": "code",
   "execution_count": 26,
   "metadata": {},
   "outputs": [
    {
     "name": "stdout",
     "output_type": "stream",
     "text": "[15, 'Recoletos', True, None, [15, 'Recoletos'], '7']\n15Recoletos\n18\n"
    }
   ],
   "source": [
    "## Accediendo a la lista de la quinta posición de 'lista_informacion' muestra por pantalla la suma de lo siguiente (si la quinta posición de tu 'lista_informacion' no es una lista, pregunta a los profesores):\n",
    "## La concatenación de los dos elementos.\n",
    "## La multiplicación del tamaño de la lista de la quinta posición de 'lista_informacion' y el tamaño del número de caracteres que tiene el nombre de la calle.\n",
    "\n",
    "print(lista_informacion)\n",
    "\n",
    "concatenacion_interna = str(lista_informacion[4][0]) + lista_informacion[4][1]\n",
    "print(concatenacion_interna)\n",
    "\n",
    "multiplicacion = len(lista_informacion[4])*len(lista_informacion[1])\n",
    "print(multiplicacion)\n"
   ]
  },
  {
   "cell_type": "markdown",
   "metadata": {},
   "source": [
    "## Resolucion Ejercicio 2"
   ]
  },
  {
   "cell_type": "code",
   "execution_count": 27,
   "metadata": {},
   "outputs": [
    {
     "name": "stdout",
     "output_type": "stream",
     "text": "[15, 'Recoletos', True, None, [15, 'Recoletos'], '7']\n"
    }
   ],
   "source": [
    "## Dentro de funciones con el nombre que decidáis, con un argumento de entrada llamado 'lista' siendo este la 'lista_informacion' cuando se invoque a la función. Cuando sea 'recorre' se refiere a bucle 'for'. Cada punto representa una función y celda de Jupyter diferente:\n",
    "\n",
    "print(lista_informacion)"
   ]
  },
  {
   "cell_type": "code",
   "execution_count": 31,
   "metadata": {},
   "outputs": [
    {
     "name": "stdout",
     "output_type": "stream",
     "text": "Me gusta ver las carnes al aire libre\n"
    }
   ],
   "source": [
    "# Mostrar por pantalla \"Me gusta la tranquilidad\" si te gusta más la montaña y \"Me gusta ver las carnes al aire libre\" si te gusta más la playa.\n",
    "\n",
    "if lista_informacion[2] is True:\n",
    "    print(\"Me gusta ver las carnes al aire libre\")\n",
    "else:\n",
    "    print(\"Me gusta la tranquilidad\")"
   ]
  },
  {
   "cell_type": "code",
   "execution_count": 38,
   "metadata": {},
   "outputs": [
    {
     "name": "stdout",
     "output_type": "stream",
     "text": "Hoy has dormido lo justo\n"
    }
   ],
   "source": [
    "# Mostrar por pantalla \"Hoy estoy cansado\" si has dormido menos de 7 horas y \"Hoy me como el mundo\" si has dormido más de 7 horas.\n",
    "\n",
    "if int(lista_informacion[5]) < 7:\n",
    "    print(\"Hoy estoy cansado\")\n",
    "elif int(lista_informacion[5]) == 7:\n",
    "    print(\"Hoy has dormido lo justo\")\n",
    "else:\n",
    "    print(\"Hoy me como el mundo\")\n"
   ]
  },
  {
   "cell_type": "code",
   "execution_count": 34,
   "metadata": {},
   "outputs": [
    {
     "name": "stdout",
     "output_type": "stream",
     "text": "15\nRecoletos\nTrue\nNone\n[15, 'Recoletos']\n7\n"
    }
   ],
   "source": [
    "# Recorrer 'lista' para mostrar todos los elementos que contiene.\n",
    "\n",
    "for elemento in lista_informacion:\n",
    "    print(elemento)\n"
   ]
  },
  {
   "cell_type": "code",
   "execution_count": 41,
   "metadata": {},
   "outputs": [
    {
     "name": "stdout",
     "output_type": "stream",
     "text": "15--> OK\nRecoletos--> OK\nTrue--> OK\nNone--> OK\n[15, 'Recoletos']--> OK\n7--> OK\n"
    }
   ],
   "source": [
    "# Recorrer 'lista' para mostrar todos los elementos que contiene concatenado con el string \"--> OK\"\n",
    "\n",
    "for elemento in lista_informacion:\n",
    "    print(str(elemento) + \"--> OK\")\n"
   ]
  },
  {
   "cell_type": "code",
   "execution_count": 46,
   "metadata": {},
   "outputs": [
    {
     "name": "stdout",
     "output_type": "stream",
     "text": "[15, 'Recoletos', True, None, [15, 'Recoletos'], '7']\nRecoletos\nTrue\nNone\n[15, 'Recoletos']\n7\n"
    }
   ],
   "source": [
    "# Recorrer 'lista' para mostrar todos los elementos que contiene excepto el primero\n",
    "\n",
    "cont = 0\n",
    "for elemento in lista_informacion:\n",
    "    if cont != 0:\n",
    "        print(elemento)\n",
    "    cont = cont + 1"
   ]
  },
  {
   "cell_type": "code",
   "execution_count": 48,
   "metadata": {},
   "outputs": [
    {
     "name": "stdout",
     "output_type": "stream",
     "text": "[15, 'Recoletos', True, None, [15, 'Recoletos'], '7']\n15\nRecoletos\nTrue\nNone\n[15, 'Recoletos']\n"
    }
   ],
   "source": [
    "# Recorrer 'lista' para mostrar todos los elementos que contiene excepto el último.\n",
    "\n",
    "print(lista_informacion)\n",
    "\n",
    "cont = 0\n",
    "for elemento in lista_informacion:\n",
    "    if cont < (len(lista_informacion) - 1):\n",
    "        print(elemento)\n",
    "    cont = cont + 1\n",
    "\n"
   ]
  },
  {
   "cell_type": "code",
   "execution_count": 57,
   "metadata": {},
   "outputs": [
    {
     "name": "stdout",
     "output_type": "stream",
     "text": "[15, 'Recoletos', True, None, [15, 'Recoletos'], '7']\nRecoletos\nTrue\nNone\n[15, 'Recoletos']\n"
    }
   ],
   "source": [
    "# Recorrer 'lista' para mostrar todos los elementos que contiene excepto el número de la calle y las horas que has dormido.\n",
    "\n",
    "cont = 0\n",
    "for elemento in lista_informacion:\n",
    "    if 0 < cont < (len(lista_informacion) - 1):\n",
    "        print(elemento)\n",
    "    cont = cont + 1\n"
   ]
  },
  {
   "cell_type": "code",
   "execution_count": 60,
   "metadata": {},
   "outputs": [
    {
     "name": "stdout",
     "output_type": "stream",
     "text": "[15, 'Recoletos', True, None, [15, 'Recoletos'], '7']\n15\nRecoletos\nTrue\nNone\nRecoletos\n7\n"
    }
   ],
   "source": [
    "# Recorrer 'lista' para mostrar todos los elementos que contiene excepto el primer elemento de la lista de la quinta posición.\n",
    "\n",
    "print(lista_informacion)\n",
    "\n",
    "cont = 0\n",
    "for elemento in lista_informacion:\n",
    "    if type(elemento) is list: # Comprueba si el elemento de la lista es o no una lista y le dice qué debe imprimir\n",
    "        print(elemento[1])\n",
    "    else:\n",
    "        print(elemento)\n",
    "    cont = cont + 1\n"
   ]
  },
  {
   "cell_type": "code",
   "execution_count": 76,
   "metadata": {},
   "outputs": [
    {
     "name": "stdout",
     "output_type": "stream",
     "text": "[15, 'Recoletos', True, None, [15, 'Recoletos'], '7']\n15\nRecoletos\nTrue\nNone\n[15, 'Recoletos']\n7\n"
    }
   ],
   "source": [
    "# Recorrer 'lista' para mostrar todos los elementos que contiene excepto el que contiene la información sobre si os gusta la montaña o playa SI os gusta la montaña.\n",
    "\n",
    "print(lista_informacion)\n",
    "\n",
    "for elemento in lista_informacion:\n",
    "    if not((type(elemento) is bool) and (elemento is False)):\n",
    "        print(elemento)\n"
   ]
  },
  {
   "cell_type": "code",
   "execution_count": 84,
   "metadata": {},
   "outputs": [
    {
     "name": "stdout",
     "output_type": "stream",
     "text": "7\n"
    }
   ],
   "source": [
    "# Recorrer 'lista' para mostrar el último elemento.\n",
    "\n",
    "cont = 0\n",
    "for elemento in lista_informacion:\n",
    "    if cont == (len(lista_informacion)-1):\n",
    "        print(elemento)\n",
    "    cont = cont + 1\n",
    "\n"
   ]
  },
  {
   "cell_type": "code",
   "execution_count": 85,
   "metadata": {},
   "outputs": [
    {
     "name": "stdout",
     "output_type": "stream",
     "text": "[15, 'Recoletos', True, None, [15, 'Recoletos'], '7']\n"
    }
   ],
   "source": [
    "print(lista_informacion)"
   ]
  },
  {
   "cell_type": "code",
   "execution_count": 2,
   "metadata": {},
   "outputs": [
    {
     "output_type": "stream",
     "name": "stdout",
     "text": "False\n"
    }
   ],
   "source": [
    "# Crear una variable llamada 'zona' y darle el valor de None. Recorrer 'lista' y actualizar 'zona' a True si y solo si has dormido más de 7 horas, te gusta la playa y la suma de las horas que has dormido más el número de The Bridge es menor a 24. Para cualquier otro caso, 'zona' será False. Retornar el valor de 'zona'. Esta función se llamará 'funcion_zona'.\n",
    "\n",
    "lista_informacion = [15, 'Recoletos', True, None, [15, 'Recoletos'], '7']\n",
    "\n",
    "def funcion_zona(lista):\n",
    "    zona = None\n",
    "    for elemento in lista:\n",
    "        if (int(lista[5]) > 7) and (lista[3] == True) and ((lista[5] + int(lista[0]) < 24)):\n",
    "            zona = True\n",
    "        else:\n",
    "            zona = False\n",
    "    return zona\n",
    "\n",
    "print(funcion_zona(lista_informacion))\n",
    ""
   ]
  },
  {
   "cell_type": "code",
   "execution_count": 3,
   "metadata": {},
   "outputs": [],
   "source": [
    "# Dentro de una función llamada 'funcion_comprobacion' que recibe solo un parámetro llamado 'valor_zona' que será el valor que devuelve la función 'funcion_zona' cuando sea invocado, mostrar el valor de 'valor_zona' si es True.\n",
    "\n",
    "def funcion_comprobacion(valor_zona):\n",
    "    if valor_zona is True:\n",
    "        print(zona)\n",
    "\n",
    "funcion_comprobacion(valor_zona=(funcion_zona(lista_informacion)))\n",
    ""
   ]
  },
  {
   "cell_type": "markdown",
   "metadata": {},
   "source": [
    "## Resolución Ejercicio 3\n"
   ]
  },
  {
   "cell_type": "markdown",
   "metadata": {},
   "source": [
    "3. Dentro de funciones con el nombre que queráis:\n",
    "    - Utilizar la función enumerate del bucle for utilizándo la lista de alturas y la lista de alumnos creada en días anteriores (las listas han de estar ordenadas) para: \n",
    "        - Mostrar la altura acompañado del nombre del alumno al que pertenece. "
   ]
  },
  {
   "cell_type": "code",
   "execution_count": 135,
   "metadata": {},
   "outputs": [
    {
     "name": "stdout",
     "output_type": "stream",
     "text": "1.78  -  Pilar\n1.63  -  Cynthia\n1.75  -  Dio\n1.68  -  Sara\n2.0  -  Borja\n1.82  -  Gonzalo\n1.65  -  Gonzalo\n1.73  -  Blanca\n1.75  -  Ana\n1.72  -  Begoña\n1.71  -  May\n1.71  -  Miguel\n1.62  -  Eddy\n"
    }
   ],
   "source": [
    "columna1 = [\"Pilar\", \"Cynthia\", \"Dio\", \"Sara\"]\n",
    "columna2 = [\"Borja\", \"Gonzalo\"]\n",
    "columna3 = [\"Gonzalo\", \"Blanca\", \"Ana\", \"Fran\"]\n",
    "columna4 = [\"Begoña\", \"May\", \"Miguel\", \"Eddy\"]\n",
    "\n",
    "lista_alumnos = [columna1, columna2, columna3, columna4]\n",
    "\n",
    "altura1 = [1.78, 1.63, 1.75, 1.68]\n",
    "altura2 = [2.00, 1.82]\n",
    "altura3 = [1.65, 1.73, 1.75]\n",
    "altura4 = [1.72, 1.71, 1.71, 1.62]\n",
    "\n",
    "lista_alturas = [altura1, altura2, altura3, altura4]\n",
    "\n",
    "def listar_alturas_nombres(lista1, lista2):\n",
    "    for posicion,columna in enumerate(lista1): # Enumerate asigna una posicion a cada valor de la lista\n",
    "        for posicion_fila,elemento_columna in enumerate(columna): # Como mi lista es una lista de listas, necesito bajar un nivel para obtener la posicion de cada valor del total de los valores\n",
    "            print(elemento_columna, \" - \", lista2[posicion][posicion_fila]) # Ambas listas son iguales, de modo que 'posocion' y 'posicion_fila' nos dara la posicion de los valores de ambas listas. En el primer elemento de print() obtenemos el de las alturas y en el tercero le decimos que vaya a la lista2 (nombres) y busque las posiciones que dan 'posicion' y 'posicion_fila', en este caso separados por un guion.\n",
    "\n",
    "listar_alturas_nombres(lista_alturas, lista_alumnos)\n"
   ]
  },
  {
   "cell_type": "markdown",
   "metadata": {},
   "source": [
    "## Resolución Ejercicio 4"
   ]
  },
  {
   "cell_type": "markdown",
   "metadata": {},
   "source": [
    "4. Hacer un programa que pregunte si le gusta la montaña al usuario y, si es que no, llame a la función funcion_zona. "
   ]
  },
  {
   "cell_type": "code",
   "execution_count": 140,
   "metadata": {},
   "outputs": [
    {
     "name": "stdout",
     "output_type": "stream",
     "text": "False\n"
    }
   ],
   "source": [
    "x = input(\"¿Te gusta la montaña? Di 'sí' o 'no'\")\n",
    "if x == \"no\":\n",
    "    print(funcion_zona(lista_informacion))"
   ]
  },
  {
   "cell_type": "code",
   "execution_count": null,
   "metadata": {},
   "outputs": [],
   "source": []
  }
 ]
}