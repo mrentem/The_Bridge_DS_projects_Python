{
 "nbformat": 4,
 "nbformat_minor": 2,
 "metadata": {
  "language_info": {
   "name": "python",
   "codemirror_mode": {
    "name": "ipython",
    "version": 3
   },
   "version": "3.7.4-final"
  },
  "orig_nbformat": 2,
  "file_extension": ".py",
  "mimetype": "text/x-python",
  "name": "python",
  "npconvert_exporter": "python",
  "pygments_lexer": "ipython3",
  "version": 3,
  "kernelspec": {
   "name": "python37464bitbaseconda2bb33fe5ffce4701a66c14f076279995",
   "display_name": "Python 3.7.4 64-bit ('base': conda)"
  }
 },
 "cells": [
  {
   "cell_type": "markdown",
   "execution_count": null,
   "metadata": {},
   "outputs": [],
   "source": [
    "# Repaso de los Ejercicios de la semana 1"
   ]
  },
  {
   "cell_type": "markdown",
   "execution_count": null,
   "metadata": {},
   "outputs": [],
   "source": [
    "## Día 1: Ejercicio 1: \n",
    "### Crear una nueva celda.\n",
    "### Declarar tres variables: \n",
    "- Una con el nombre \"edad\" con valor vuestra edad\n",
    "- Otra \"edad_compañero_der\" que contengan la edad de tipo entero de vuestro compañero de la derecha\n",
    "- Otra \"suma_anterior\" que contenga la suma de las dos variables anteriormente declaradas\n",
    "\n",
    " Mostrar por pantalla la variable \"suma_anterior\""
   ]
  },
  {
   "cell_type": "code",
   "execution_count": null,
   "metadata": {},
   "outputs": [],
   "source": [
    "edad = 45\n",
    "edad_companero = 43\n",
    "suma_anterior = edad + edad_companero\n",
    "print(suma_anterior)\n"
   ]
  },
  {
   "cell_type": "markdown",
   "execution_count": null,
   "metadata": {},
   "outputs": [],
   "source": [
    "## Día 1: Ejercicio 2:\n",
    "- Crear uan funcion que define un parametro de entrada, de nombre 'nombre', que comprueba y muestra por pantalla solamente si el tamaño del apellido es mayor a 5 \"Cumple la condicion\" de lo contrario \"No cumple la condicion\"\n",
    "- Partimos de la lista de alturas de los alumnos de la clase, ordanadas como una lista de listas (columnas de clase)"
   ]
  },
  {
   "cell_type": "code",
   "execution_count": null,
   "metadata": {},
   "outputs": [],
   "source": [
    "## He modificaco un poco este ejericio para crear un loop que compruebe si todos los elementos cumplen o no la condicion:\n",
    "\n",
    "lista_alumnos = [\"Pilar\", \"Cynthia\", \"Dio\", \"Sara\", \"Borja\", \"Gonzalo\", \"Blanca\", \"Ana\", \"Fran\", \"Begoña\", \"May\", \"Miguel\", \"Eddy\"]\n",
    "\n",
    "def funcion_de_prueba (nombre):\n",
    "    for i in nombre:\n",
    "        if len(i) > 5:\n",
    "            print(i, \"Cumple condicion\")\n",
    "        else:\n",
    "            print(i, \"No cumple la condición\")\n",
    "\n",
    "funcion_de_prueba(lista_alumnos)\n"
   ]
  },
  {
   "cell_type": "markdown",
   "execution_count": null,
   "metadata": {},
   "outputs": [],
   "source": [
    "## Día 2: Ejercicios refuerzo:\n",
    "\n",
    "Nota: Se utilizará la lista creada de alumnos. Ha de actualizarse con todos los alumnos de la clase. \n",
    "\n",
    "Crear cuatro variables: \n",
    "\n",
    "- Un String que contenga vuestro segundo apellido. La variable sé llamará 'apellido'.\n",
    "- Dos enteros que sean: uno, el número de vuestra casa y dos, la edad del compañero de la izquierda. Nombre de variables a vuestra elección.\n",
    "- Una lista que contenga como primer parámetro el número de vuestra casa, como segundo parámetro vuestro segundo apellido y como tercer parámetro la edad de vuestro compañero. \n",
    "\n",
    "Objetivo a partir de los valores de la lista:\n",
    "\n",
    "(Crear una nueva celda de jupyter por cada punto)\n",
    "\n",
    "- Crear una variable que contenga la CONCATENACIÓN de vuestro apellido con vuestra calle. \n",
    "- Otra variable que contenga la CONCATENACIÓN de vuestra calle, un espacio en blanco y la edad del compañero. Utilizar función str. \n",
    "- Otra variable que sea igual al número de caracteres que tiene vuestro apellido SUMADO al número de vuestra calle.\n",
    "- Crear una función llamada 'funcion_vivienda\" que, al invocarla, muestre por pantalla vuestro apellido, un espacio en blanco y el número de vuestra calle. La función recibe un parámetro de entrada que será la lista de alumnos cuando se la invoque.\n",
    "- Crear una función  llamada 'funcion_alumno_edad' que reciba dos argumentos por parámetro (la lista de alumnos de la clase y la lista de los valores previamente creada cuando es invocada) y muestre por pantalla el alumno al que le habéis pedido la edad, dos puntos y su edad."
   ]
  },
  {
   "cell_type": "code",
   "execution_count": null,
   "metadata": {},
   "outputs": [],
   "source": [
    "## Creamos una variable para cada columna, y despues una lista con cada columna\n",
    "\n",
    "columna1 = [\"Pilar\", \"Cythia\", \"Dio\", \"Sara\"]\n",
    "columna2 = [\"Borja\", \"Gonzalo\"]\n",
    "columna3 = [\"Blanca\", \"Ana\", \"Fran\"]\n",
    "columna4 = [\"Begoña\", \"Maï\", \"Miguel\", \"Eddy\"]\n",
    "lista_alumnos = [columna1, columna2, columna3, columna4]"
   ]
  },
  {
   "cell_type": "markdown",
   "execution_count": null,
   "metadata": {},
   "outputs": [],
   "source": [
    "- Crear una variable que contenga la CONCATENACIÓN de vuestro apellido con vuestra calle.\n",
    "Otra variable que contenga la CONCATENACIÓN de vuestra calle, un espacio en blanco y la edad del compañero. Utilizar función str.\n",
    "- Otra variable que sea igual al número de caracteres que tiene vuestro apellido SUMADO al número de vuestra calle.\n",
    "Crear una función llamada 'funcion_vivienda\" que, al invocarla, muestre por pantalla vuestro apellido, un espacio en blanco y el número de vuestra calle. La función recibe un parámetro de entrada que será la lista de alumnos cuando se la invoque.\n",
    "- Crear una función llamada 'funcion_alumno_edad' que reciba dos argumentos por parámetro (la lista de alumnos de la clase y la lista de los valores previamente creada cuando es invocada) y muestre por pantalla el alumno al que le habéis pedido la edad, dos puntos y su edad."
   ]
  },
  {
   "cell_type": "code",
   "execution_count": null,
   "metadata": {},
   "outputs": [],
   "source": [
    "apellido = \"Entem\"\n",
    "mi_casa = 13\n",
    "edad_companero = 43\n",
    "mi_lista = [mi_casa, apellido, edad_companero]"
   ]
  },
  {
   "cell_type": "code",
   "execution_count": null,
   "metadata": {},
   "outputs": [],
   "source": [
    "concatenacion = apellido + str(mi_casa)\n",
    "segunda_concatenacion = str(mi_casa) + \" \" + str(edad_companero)\n",
    "print(concatenacion)\n",
    "print(segunda_concatenacion)"
   ]
  },
  {
   "cell_type": "code",
   "execution_count": null,
   "metadata": {},
   "outputs": [],
   "source": []
  },
  {
   "cell_type": "code",
   "execution_count": null,
   "metadata": {},
   "outputs": [],
   "source": []
  },
  {
   "cell_type": "markdown",
   "execution_count": null,
   "metadata": {},
   "outputs": [],
   "source": [
    "Crear una función llamada 'funcion_vivienda\" que, al invocarla, muestre por pantalla vuestro apellido, un espacio en blanco y el número de vuestra calle. La función recibe un parámetro de entrada que será la lista de alumnos cuando se la invoque.\n",
    "Crear una función llamada 'funcion_alumno_edad' que reciba dos argumentos por parámetro (la lista de alumnos de la clase y la lista de los valores previamente creada cuando es invocada) y muestre por pantalla el alumno al que le habéis pedido la edad, dos puntos y su edad."
   ]
  },
  {
   "cell_type": "markdown",
   "execution_count": null,
   "metadata": {},
   "outputs": [],
   "source": [
    "### If, else, Bucle for, append, input, sort listas.\n",
    "\n",
    "#### Nueva celda por punto.\n",
    "----------\n",
    "- Crear una lista de listas con la altura de los alumnos (más o menos). Debe tener el mismo orden que la lista de listas de los alumnos. \n",
    "\n",
    "----------\n",
    "Crear una función 'funcion_altura_v1' que reciba un parámetro (que será la lista de alturas). La función debe:\n",
    "\n",
    "- Recorrer la lista de alturas y mostrar por pantalla solo las alturas que sean mayores o iguales que 175cms.\n",
    "\n",
    "----------\n",
    "Crear una función 'funcion_altura_v2' que reciba un parámetro (que será la lista de alturas). La función debe:\n",
    "\n",
    "\n",
    "- Recorrer la lista de alturas y mostrar sólo el índice en la lista del valor de la altura que está recorriendo.\n",
    "\n",
    "----------\n",
    "Crear una función 'funcion_altura_v3' que reciba dos parámetros (que serán la lista de alturas y la lista de alumnos). La función debe:\n",
    "\n",
    "- Recorrer ambas listas para mostrar por pantalla las alturas que sean menores que 175 ACOMPAÑADO del nombre de la persona que tenga esa altura. Se recuerda que las dos listas han de estar ordenadas Alumno - Altura en la misma posición."
   ]
  },
  {
   "cell_type": "markdown",
   "execution_count": null,
   "metadata": {},
   "outputs": [],
   "source": [
    "### Refuerzo\n",
    "\n",
    "Crear una lista que tenga cuatro elementos:\n",
    "\n",
    "- Los dos primeros deben ser Strings,\n",
    "El tercero debe ser Entero\n",
    "El cuarto ha una lista de dos números consecutivos.\n",
    "La lista ha de llamarse lista_refuerzo. Además, se debe crear una función 'funcion_refuerzo' que reciba un parámetro de entrada llamado 'lista'. La función debe guardar en una variable el tercer elemento de 'lista'. Para la variable guardada, que es el tercer elemento de la lista que hemos creado en primer lugar, se debe:\n",
    "\n",
    "- Mostrar por pantalla la suma de los dos elementos que tiene.\n",
    "Para llamar a la función, se debe pasar por parámetro la lista que hemos creado en primer lugar."
   ]
  },
  {
   "cell_type": "markdown",
   "execution_count": null,
   "metadata": {},
   "outputs": [],
   "source": [
    "- Crear una función 'funcion_comparativa' que reciba un parámetro de entrada 'param1' y que muestre por pantalla 'Menor a 0' si 'param1' es menor a 0. En el caso en el que sea igual a 0, debe mostrar 'Igual a 0'. En el caso en el que sea mayor a 20 y menor que 70, debe mostrar 'Mayor a 20 y menor que 70' . Para cualquier otro caso, mostrar 'Demasiado grande'"
   ]
  },
  {
   "cell_type": "markdown",
   "execution_count": null,
   "metadata": {},
   "outputs": [],
   "source": [
    "- A partir de la lista de alumnos, mostrar las columnas de alumnos cuando haya más de 3 alumnos. "
   ]
  },
  {
   "cell_type": "code",
   "execution_count": null,
   "metadata": {},
   "outputs": [],
   "source": []
  }
 ]
}