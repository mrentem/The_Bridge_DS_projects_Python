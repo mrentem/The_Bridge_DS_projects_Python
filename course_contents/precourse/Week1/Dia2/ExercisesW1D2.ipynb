{
 "nbformat": 4,
 "nbformat_minor": 2,
 "metadata": {
  "language_info": {
   "name": "python",
   "codemirror_mode": {
    "name": "ipython",
    "version": 3
   },
   "version": "3.7.4-final"
  },
  "orig_nbformat": 2,
  "file_extension": ".py",
  "mimetype": "text/x-python",
  "name": "python",
  "npconvert_exporter": "python",
  "pygments_lexer": "ipython3",
  "version": 3,
  "kernelspec": {
   "name": "python37464bitbaseconda2bb33fe5ffce4701a66c14f076279995",
   "display_name": "Python 3.7.4 64-bit ('base': conda)"
  }
 },
 "cells": [
  {
   "cell_type": "markdown",
   "execution_count": null,
   "metadata": {},
   "outputs": [],
   "source": [
    "### Ejercicios refuerzo\n",
    "\n",
    "Nota: Se utilizará la lista creada de alumnos. Ha de actualizarse con todos los alumnos de la clase. \n",
    "\n",
    "Crear cuatro variables: \n",
    "\n",
    "- Un String que contenga vuestro segundo apellido. La variable sé llamará 'apellido'.\n",
    "- Dos enteros que sean: uno, el número de vuestra casa y dos, la edad del compañero de la izquierda. Nombre de variables a vuestra elección.\n",
    "- Una lista que contenga como primer parámetro el número de vuestra casa, como segundo parámetro vuestro segundo apellido y como tercer parámetro la edad de vuestro compañero. \n",
    "\n",
    "Objetivo a partir de los valores de la lista:\n",
    "\n",
    "(Crear una nueva celda de jupyter por cada punto)\n",
    "\n",
    "- Crear una variable que contenga la CONCATENACIÓN de vuestro apellido con vuestra calle. \n",
    "- Otra variable que contenga la CONCATENACIÓN de vuestra calle, un espacio en blanco y la edad del compañero. Utilizar función str. \n",
    "- Otra variable que sea igual al número de caracteres que tiene vuestro apellido SUMADO al número de vuestra calle.\n",
    "- Crear una función llamada 'funcion_vivienda\" que, al invocarla, muestre por pantalla vuestro apellido, un espacio en blanco y el número de vuestra calle. La función recibe un parámetro de entrada que será la lista cuando se la invoque.\n",
    "- Crear una función  llamada 'funcion_alumno_edad' que reciba dos argumentos por parámetro (la lista de alumnos de la clase y la lista de los valores previamente creada cuando es invocada) y muestre por pantalla el alumno al que le habéis pedido la edad, dos puntos y su edad."
   ]
  },
  {
   "cell_type": "code",
   "execution_count": null,
   "metadata": {},
   "outputs": [],
   "source": [
    "## Creamos una variable para cada columna, y despues una lista con cada columna\n",
    "\n",
    "columna1 = [\"Pilar\", \"Cythia\", \"Dio\", \"Sara\"]\n",
    "columna2 = [\"Borja\", \"Gonzalo\"]\n",
    "columna3 = [\"Blanca\", \"Ana\", \"Fran\"]\n",
    "columna4 = [\"Begoña\", \"Maï\", \"Miguel\", \"Eddy\"]\n",
    "lista_alumnos = [columna1, columna2, columna3, columna4]\n"
   ]
  },
  {
   "cell_type": "code",
   "execution_count": 1,
   "metadata": {},
   "outputs": [],
   "source": [
    "## Un String que contenga vuestro segundo apellido. La variable sé llamará 'apellido'\n",
    "\n",
    "apellido = \"Entem\"\n",
    "\n",
    "## Dos enteros que sean: uno, el número de vuestra casa y dos, la edad del compañero de la izquierda. Nombre de variables a vuestra elección\n",
    "\n",
    "mi_casa = 13\n",
    "edad_begona = 43\n",
    "\n",
    "## Una lista que contenga como primer parámetro el número de vuestra casa, como segundo parámetro vuestro segundo apellido y como tercer parámetro la edad de vuestro compañero\n",
    "\n",
    "lista_parametros = [mi_casa, apellido, edad_begona]"
   ]
  },
  {
   "cell_type": "code",
   "execution_count": 18,
   "metadata": {},
   "outputs": [
    {
     "name": "stdout",
     "output_type": "stream",
     "text": "Entem13\n"
    }
   ],
   "source": [
    "## Crear una variable que contenga la CONCATENACIÓN de vuestro apellido con vuestra calle\n",
    "\n",
    "apellido_mi_casa = lista_parametros[1] + str(lista_parametros[0])\n",
    "print(apellido_mi_casa)\n"
   ]
  },
  {
   "cell_type": "code",
   "execution_count": 19,
   "metadata": {},
   "outputs": [
    {
     "name": "stdout",
     "output_type": "stream",
     "text": "13 43\n"
    }
   ],
   "source": [
    "## Otra variable que contenga la CONCATENACIÓN de vuestra calle, un espacio en blanco y la edad del compañero. Utilizar función str\n",
    "\n",
    "mi_casa_edad_begona = str(lista_parametros[0]) + \" \" + str(lista_parametros[2])\n",
    "print(mi_casa_edad_begona)"
   ]
  },
  {
   "cell_type": "code",
   "execution_count": 23,
   "metadata": {},
   "outputs": [
    {
     "name": "stdout",
     "output_type": "stream",
     "text": "18\n"
    }
   ],
   "source": [
    "## Otra variable que sea igual al número de caracteres que tiene vuestro apellido SUMADO al número de vuestra calle.\n",
    "\n",
    "caracteres_apellido_mi_casa = len(lista_parametros[1]) + lista_parametros[0]\n",
    "print(caracteres_apellido_mi_casa)"
   ]
  },
  {
   "cell_type": "code",
   "execution_count": 24,
   "metadata": {},
   "outputs": [
    {
     "name": "stdout",
     "output_type": "stream",
     "text": "Martin 34\n"
    }
   ],
   "source": [
    "## Crear una función llamada 'funcion_vivienda\" que, al invocarla, muestre por pantalla vuestro apellido, un espacio en blanco y el número de vuestra calle. La función recibe un parámetro de entrada que será la lista cuando se la invoque.\n",
    "\n",
    "lista_parametros = [mi_casa, apellido, edad_begona]\n",
    "\n",
    "\n",
    "def funcion_vivienda(x):\n",
    "    print(x[1] + \" \" + str(x[0]))\n",
    "\n",
    "funcion_vivienda(lista_parametros)\n"
   ]
  },
  {
   "cell_type": "code",
   "execution_count": 28,
   "metadata": {},
   "outputs": [
    {
     "name": "stdout",
     "output_type": "stream",
     "text": "Begoña: 43\n"
    }
   ],
   "source": [
    "## Crear una función llamada 'funcion_alumno_edad' que reciba dos argumentos por parámetro (la lista de alumnos de la clase y la lista de los valores previamente creada cuando es invocada) y muestre por pantalla el alumno al que le habéis pedido la edad, dos puntos y su edad.\n",
    "\n",
    "columna1 = [\"Pilar\", \"Cythia\", \"Dio\", \"Sara\"]\n",
    "columna2 = [\"Borja\", \"Gonzalo\"]\n",
    "columna3 = [\"Blanca\", \"Ana\", \"Fran\"]\n",
    "columna4 = [\"Begoña\", \"Maï\", \"Miguel\", \"Eddy\"]\n",
    "lista_alumnos = [columna1, columna2, columna3, columna4]\n",
    "\n",
    "def funcion_alumno_edad(x, y):\n",
    "    print(x[3][0]+\": \"+ str(y[-1]))\n",
    "\n",
    "funcion_alumno_edad(x=lista_alumnos, y=lista_parametros)"
   ]
  },
  {
   "cell_type": "markdown",
   "execution_count": null,
   "metadata": {},
   "outputs": [],
   "source": [
    "### If, else, Bucle for, append, input, sort listas.\n",
    "\n",
    "#### Nueva celda por punto.\n",
    "----------\n",
    "- Crear una lista de listas con la altura de los alumnos (más o menos). Debe tener el mismo orden que la lista de listas de los alumnos. \n",
    "\n",
    "----------\n",
    "Crear una función 'funcion_altura_v1' que reciba un parámetro (que será la lista de alturas). La función debe:\n",
    "\n",
    "- Recorrer la lista de alturas y mostrar por pantalla solo las alturas que sean mayores o iguales que 175cms.\n",
    "\n",
    "----------\n",
    "Crear una función 'funcion_altura_v2' que reciba un parámetro (que será la lista de alturas). La función debe:\n",
    "\n",
    "\n",
    "- Recorrer la lista de alturas y mostrar sólo el índice en la lista del valor de la altura que está recorriendo.\n",
    "\n",
    "----------\n",
    "Crear una función 'funcion_altura_v3' que reciba dos parámetros (que serán la lista de alturas y la lista de alumnos). La función debe:\n",
    "\n",
    "- Recorrer ambas listas para mostrar por pantalla las alturas que sean menores que 175 ACOMPAÑADO del nombre de la persona que tenga esa altura. Se recuerda que las dos listas han de estar ordenadas Alumno - Altura en la misma posición."
   ]
  },
  {
   "cell_type": "code",
   "execution_count": null,
   "metadata": {},
   "outputs": [],
   "source": [
    "## Alturas: Crear una lista de listas con la altura de los alumnos (más o menos). Debe tener el mismo orden que la lista de listas de los alumnos.\n",
    "\n",
    "altura_columna1 = [177, 163, 175, 168]\n",
    "altura_columna2 = [200, 182]\n",
    "altura_columna3 = [165, 173, 175]\n",
    "altura_columna4 = [172, 171, 171, 162]\n",
    "lista_altura_alumnos = [altura_columna1, altura_columna2, altura_columna3, altura_columna4]"
   ]
  },
  {
   "cell_type": "code",
   "execution_count": 4,
   "metadata": {},
   "outputs": [
    {
     "output_type": "stream",
     "name": "stdout",
     "text": "177\n175\n200\n182\n175\n"
    }
   ],
   "source": [
    "## Crear una función 'funcion_altura_v1' que reciba un parámetro (que será la lista de alturas). La función debe: Recorrer la lista de alturas y mostrar por pantalla solo las alturas que sean mayores o iguales que 170cms.\n",
    "\n",
    "altura_columna1 = [177, 163, 175, 168]\n",
    "altura_columna2 = [200, 182]\n",
    "altura_columna3 = [165, 173, 175]\n",
    "altura_columna4 = [172, 171, 171, 162]\n",
    "lista_altura_alumnos = [altura_columna1, altura_columna2, altura_columna3, altura_columna4]\n",
    "\n",
    "## Primero recorremos la lista de listas\n",
    "## Luego recorremos cada una de las listas dentro de la lista de listas\n",
    "## Despues declaramos la condicion y mostramos por pantalla los elementos que la cumplan\n",
    "## OJO: REVISAR SIEMPRE LA INDENTACION Y LOS DOS PUNTOS AL FINAL DE LOS BUCLES Y LAS CONDICIONES\n",
    "\n",
    "def funcion_altura_v1(param1):\n",
    "    for lista_alturas_por_columna in param1:\n",
    "        for altura in lista_alturas_por_columna:\n",
    "            if altura >= 175:\n",
    "                print(altura)\n",
    "\n",
    "funcion_altura_v1(param1=lista_altura_alumnos)\n",
    "\n",
    ""
   ]
  },
  {
   "cell_type": "code",
   "execution_count": 9,
   "metadata": {},
   "outputs": [
    {
     "output_type": "stream",
     "name": "stdout",
     "text": "0\n1\n2\n3\n0\n1\n0\n1\n2\n0\n1\n2\n3\n"
    }
   ],
   "source": [
    "## Crear una función 'funcion_altura_v2' que reciba un parámetro (que será la lista de alturas). La función debe: Recorrer la lista de alturas y mostrar sólo el índice en la lista del valor de la altura que está recorriendo.\n",
    "\n",
    "altura_columna1 = [177, 163, 175, 168]\n",
    "altura_columna2 = [200, 182]\n",
    "altura_columna3 = [165, 173, 175]\n",
    "altura_columna4 = [172, 171, 171, 162]\n",
    "lista_altura_alumnos = [altura_columna1, altura_columna2, altura_columna3, altura_columna4]\n",
    "\n",
    "## Como queremos que nos devuelva la posición en cada una de las listas, tenemos que resetear el acumulador --- Esta es una solucion, aunque no es la mas eficiente:\n",
    "## Hay que meter una variable que sea la que va contando la posición, ése es el acumulador\n",
    "\n",
    "def funcion_altura_v2(lista):\n",
    "    acum = 0\n",
    "    for lista_altura_por_columna in lista:\n",
    "        for altura in lista_altura_por_columna:\n",
    "            print(acum)\n",
    "            acum = acum + 1\n",
    "            if acum >= len(lista_altura_por_columna):\n",
    "                acum = 0\n",
    "\n",
    "funcion_altura_v2(lista_altura_alumnos)"
   ]
  },
  {
   "cell_type": "code",
   "execution_count": 12,
   "metadata": {},
   "outputs": [
    {
     "output_type": "stream",
     "name": "stdout",
     "text": "0\n1\n2\n3\n0\n1\n0\n1\n2\n0\n1\n2\n3\n"
    }
   ],
   "source": [
    "## SOLICION MAS EFICIENTE:\n",
    "\n",
    "ltura_columna1 = [177, 163, 175, 168]\n",
    "altura_columna2 = [200, 182]\n",
    "altura_columna3 = [165, 173, 175]\n",
    "altura_columna4 = [172, 171, 171, 162]\n",
    "lista_altura_alumnos = [altura_columna1, altura_columna2, altura_columna3, altura_columna4]\n",
    "\n",
    "def funcion_altura_v2(lista):\n",
    "    for lista_altura_por_columna in lista:\n",
    "        acum = 0\n",
    "        for altura in lista_altura_por_columna:\n",
    "            print(acum)\n",
    "            acum = acum + 1\n",
    "\n",
    "funcion_altura_v2(lista_altura_alumnos)\n",
    "\n",
    "\n"
   ]
  },
  {
   "cell_type": "code",
   "execution_count": 41,
   "metadata": {},
   "outputs": [
    {
     "name": "stdout",
     "output_type": "stream",
     "text": "5 :  0\n3 :  1\n7 :  2\n34 :  3\n98 :  4\n2 :  5\n4 :  6\n"
    }
   ],
   "source": [
    "## Creamos un acumulador que se va actualizando conforme pasamos por la lista\n",
    "\n",
    "lista = [5, 3, 7, 34, 98, 2, 4]\n",
    "acum = 0\n",
    "for x in lista:\n",
    "    print(x, \": \", acum)\n",
    "    acum = acum + 1\n",
    "    "
   ]
  },
  {
   "cell_type": "code",
   "execution_count": 1,
   "metadata": {},
   "outputs": [
    {
     "output_type": "stream",
     "name": "stdout",
     "text": "Cythia - 163\nSara - 168\nBlanca - 165\nAna - 173\nBegoña - 172\nMaï - 171\nMiguel - 171\nEddy - 162\n"
    }
   ],
   "source": [
    "## Crear una función 'funcion_altura_v3' que reciba dos parámetros (que serán la lista de alturas y la lista de alumnos). La función debe: Recorrer ambas listas para mostrar por pantalla las alturas que sean menores que 175 ACOMPAÑADO del nombre de la persona que tenga esa altura. Se recuerda que las dos listas han de estar ordenadas Alumno - Altura en la misma posición.\n",
    "\n",
    "columna1 = [\"Pilar\", \"Cythia\", \"Dio\", \"Sara\"]\n",
    "columna2 = [\"Borja\", \"Gonzalo\"]\n",
    "columna3 = [\"Blanca\", \"Ana\", \"Fran\"]\n",
    "columna4 = [\"Begoña\", \"Maï\", \"Miguel\", \"Eddy\"]\n",
    "lista_alumnos = [columna1, columna2, columna3, columna4]\n",
    "\n",
    "altura_columna1 = [177, 163, 175, 168]\n",
    "altura_columna2 = [200, 182]\n",
    "altura_columna3 = [165, 173, 175]\n",
    "altura_columna4 = [172, 171, 171, 162]\n",
    "lista_altura_alumnos = [altura_columna1, altura_columna2, altura_columna3, altura_columna4]\n",
    "\n",
    "## Primero definimos la funcion con las dos variables correspondientes a las dos listas\n",
    "## Estableceremos la condicion en la lista de alturas para filtrar aquellos valores menores de 175\n",
    "## Necesitamos saber las posiciones de las alturas que cumplen la condicion para luego localizar sus nombres en la lista de nombres. Para ello vamos a necesitar establecer DOS CONTADORES\n",
    "## En este caso debemos de colocar el contador dentro del for o el if adecuado: ES IMPORTANTE LA INDEXACION\n",
    "\n",
    "\n",
    "def funcion_altura_v3 (lista1, lista2):\n",
    "    acum_col = 0\n",
    "    for lista_por_columna_lista1 in lista1:\n",
    "        acum_fil = 0\n",
    "        for altura in lista_por_columna_lista1:\n",
    "            if altura < 175:\n",
    "                print ( lista2[acum_col][acum_fil]+ \" - \" + str(altura))\n",
    "            acum_fil = acum_fil + 1\n",
    "        acum_col = acum_col +1\n",
    "\n",
    "funcion_altura_v3(lista_altura_alumnos, lista_alumnos)\n",
    "\n",
    ""
   ]
  },
  {
   "cell_type": "code",
   "execution_count": null,
   "metadata": {},
   "outputs": [],
   "source": [
    "## Trabajamos con estas listas:\n",
    "\n",
    "columna1 = [\"Pilar\", \"Cythia\", \"Dio\", \"Sara\"]\n",
    "columna2 = [\"Borja\", \"Gonzalo\"]\n",
    "columna3 = [\"Blanca\", \"Ana\", \"Fran\"]\n",
    "columna4 = [\"Begoña\", \"Maï\", \"Miguel\", \"Eddy\"]\n",
    "lista_alumnos = [columna1, columna2, columna3, columna4]\n"
   ]
  },
  {
   "cell_type": "code",
   "execution_count": 1,
   "metadata": {},
   "outputs": [],
   "source": [
    "## Crear una lista de listas con la altura de los alumnos (más o menos). Debe tener el mismo orden que la lista de listas de los alumnos. \n",
    "\n",
    "altura_columna1 = [177, 163, 175, 168]\n",
    "altura_columna2 = [200, 182]\n",
    "altura_columna3 = [165, 173, 175]\n",
    "altura_columna4 = [172, 171, 171, 162]\n",
    "lista_altura_alumnos = [altura_columna1, altura_columna2, altura_columna3, altura_columna4]\n",
    ""
   ]
  },
  {
   "cell_type": "code",
   "execution_count": 2,
   "metadata": {},
   "outputs": [
    {
     "output_type": "stream",
     "name": "stdout",
     "text": "177\n175\n200\n182\n175\n"
    }
   ],
   "source": [
    "## Crear una función 'funcion_altura_v1' que reciba un parámetro (que será la lista de alturas). La función debe: Recorrer la lista de alturas y mostrar por pantalla solo las alturas que sean mayores o iguales que 175cms.\n",
    "\n",
    "def funcion_altura_v1(lista_altura):\n",
    "    for lista_columnas in lista_altura:\n",
    "        for altura in lista_columnas:\n",
    "            if altura >= 175:\n",
    "                print(altura)\n",
    "\n",
    "funcion_altura_v1(lista_altura_alumnos\n",
    "\n"
   ]
  },
  {
   "cell_type": "code",
   "execution_count": 8,
   "metadata": {},
   "outputs": [
    {
     "output_type": "stream",
     "name": "stdout",
     "text": "0\n1\n2\n3\n4\n5\n6\n7\n8\n9\n10\n11\n12\n"
    }
   ],
   "source": [
    "## Crear una función 'funcion_altura_v2' que reciba un parámetro (que será la lista de alturas). La función debe: Recorrer la lista de alturas y mostrar sólo el índice en la lista del valor de la altura que está recorriendo.\n",
    "\n",
    "def funcion_altura_v2(lista_altura):\n",
    "    acum = 0\n",
    "    for lista_columnas in lista_altura:\n",
    "        for altura in lista_columnas:\n",
    "            print(acum)\n",
    "            acum = acum + 1\n",
    "\n",
    "funcion_altura_v2(lista_altura_alumnos)\n",
    "\n",
    "\n",
    "\n",
    ""
   ]
  },
  {
   "cell_type": "code",
   "execution_count": null,
   "metadata": {},
   "outputs": [],
   "source": []
  }
 ]
}