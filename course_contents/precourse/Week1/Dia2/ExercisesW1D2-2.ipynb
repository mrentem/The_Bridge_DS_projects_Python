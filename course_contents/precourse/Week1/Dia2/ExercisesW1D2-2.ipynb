{
 "nbformat": 4,
 "nbformat_minor": 2,
 "metadata": {
  "language_info": {
   "name": "python",
   "codemirror_mode": {
    "name": "ipython",
    "version": 3
   },
   "version": "3.7.4-final"
  },
  "orig_nbformat": 2,
  "file_extension": ".py",
  "mimetype": "text/x-python",
  "name": "python",
  "npconvert_exporter": "python",
  "pygments_lexer": "ipython3",
  "version": 3,
  "kernelspec": {
   "name": "python3",
   "display_name": "Python 3"
  }
 },
 "cells": [
  {
   "cell_type": "markdown",
   "execution_count": null,
   "metadata": {},
   "outputs": [],
   "source": [
    "### Ejercicios refuerzo\n",
    "\n",
    "Nota: Se utilizará la lista creada de alumnos. Ha de actualizarse con todos los alumnos de la clase. \n",
    "\n",
    "Crear cuatro variables: \n",
    "\n",
    "- Un String que contenga vuestro segundo apellido. La variable sé llamará 'apellido'.\n",
    "- Dos enteros que sean: uno, el número de vuestra casa y dos, la edad del compañero de la izquierda. Nombre de variables a vuestra elección.\n",
    "- Una lista que contenga como primer parámetro el número de vuestra casa, como segundo parámetro vuestro segundo apellido y como tercer parámetro la edad de vuestro compañero. \n",
    "\n",
    "Objetivo a partir de los valores de la lista:\n",
    "\n",
    "(Crear una nueva celda de jupyter por cada punto)\n",
    "\n",
    "- Crear una variable que contenga la CONCATENACIÓN de vuestro apellido con vuestra calle. \n",
    "- Otra variable que contenga la CONCATENACIÓN de vuestra calle, un espacio en blanco y la edad del compañero. Utilizar función str. \n",
    "- Otra variable que sea igual al número de caracteres que tiene vuestro apellido SUMADO al número de vuestra calle.\n",
    "- Crear una función llamada 'funcion_vivienda\" que, al invocarla, muestre por pantalla vuestro apellido, un espacio en blanco y el número de vuestra calle. La función recibe un parámetro de entrada que será la lista de alumnos cuando se la invoque.\n",
    "- Crear una función  llamada 'funcion_alumno_edad' que reciba dos argumentos por parámetro (la lista de alumnos de la clase y la lista de los valores previamente creada cuando es invocada) y muestre por pantalla el alumno al que le habéis pedido la edad, dos puntos y su edad."
   ]
  },
  {
   "cell_type": "code",
   "execution_count": 1,
   "metadata": {},
   "outputs": [],
   "source": [
    "lista_alumnos = [\"Pilar\", \"Cynthia\", \"Dio\", \"Sara\", \"Borja\", \"Gonzalo\", \"Blanca\", \"Ana\", \"Fran\", \"Begoña\", \"May\", \"Miguel\", \"Eddy\" ]\n",
    "\n",
    "columna1 = [\"Pilar\", \"Cynthia\", \"Dio\", \"Sara\"]\n",
    "columna2 = [\"Borja\", \"Gonzalo\"]\n",
    "columna3 = [\"Gonzalo\", \"Blanca\", \"Ana\", \"Fran\"]\n",
    "columna4 = [\"Begoña\", \"May\", \"Miguel\", \"Eddy\"]\n",
    "\n",
    "lista_alumnos = [columna1, columna2, columna3, columna4]\n",
    "\n"
   ]
  },
  {
   "cell_type": "code",
   "execution_count": 20,
   "metadata": {},
   "outputs": [],
   "source": [
    "altura1 = [1.78, 1.63, 1.75, 1.68]\n",
    "altura2 = [2.00, 1.82]\n",
    "altura3 = [1.65, 1.73, 1.75]\n",
    "altura4 = [1.72, 1.71, 1.71, 1.62]\n",
    "\n",
    "lista_alturas = [altura1, altura2, altura3, altura4]"
   ]
  },
  {
   "cell_type": "markdown",
   "execution_count": null,
   "metadata": {},
   "outputs": [],
   "source": [
    "Un String que contenga vuestro segundo apellido. La variable sé llamará 'apellido'.\n",
    "Dos enteros que sean: uno, el número de vuestra casa y dos, la edad del compañero de la izquierda. Nombre de variables a vuestra elección.\n",
    "Una lista que contenga como primer parámetro el número de vuestra casa, como segundo parámetro vuestro segundo apellido y como tercer parámetro la edad de vuestro compañero."
   ]
  },
  {
   "cell_type": "code",
   "execution_count": 2,
   "metadata": {},
   "outputs": [],
   "source": [
    "apellido = \"Torres\"\n",
    "numero_casa = 5\n",
    "edad = 18\n",
    "lista_total = [numero_casa, apellido, edad]"
   ]
  },
  {
   "cell_type": "code",
   "execution_count": 5,
   "metadata": {},
   "outputs": [
    {
     "data": {
      "text/plain": "'Torres5'"
     },
     "execution_count": 5,
     "metadata": {},
     "output_type": "execute_result"
    }
   ],
   "source": [
    "contatenacion1 = lista_total[1] + str(lista_total[0])\n",
    "contatenacion1"
   ]
  },
  {
   "cell_type": "code",
   "execution_count": 7,
   "metadata": {},
   "outputs": [
    {
     "data": {
      "text/plain": "'Torres 5'"
     },
     "execution_count": 7,
     "metadata": {},
     "output_type": "execute_result"
    }
   ],
   "source": [
    "concatenacion2 = lista_total[1] + \" \" + str(lista_total[0])\n",
    "concatenacion2"
   ]
  },
  {
   "cell_type": "code",
   "execution_count": 8,
   "metadata": {},
   "outputs": [
    {
     "data": {
      "text/plain": "24"
     },
     "execution_count": 8,
     "metadata": {},
     "output_type": "execute_result"
    }
   ],
   "source": [
    "numero_de_caracteres = len(lista_total[1])\n",
    "x = numero_de_caracteres + lista_total[2]\n",
    "x"
   ]
  },
  {
   "cell_type": "code",
   "execution_count": 10,
   "metadata": {},
   "outputs": [
    {
     "name": "stdout",
     "output_type": "stream",
     "text": "Torres 5\n"
    }
   ],
   "source": [
    "def funcion_vivienda(parametro_entrada):\n",
    "    print(parametro_entrada[1] + \" \" + str(parametro_entrada[0]))\n",
    "    \n",
    "funcion_vivienda(parametro_entrada=lista_total)"
   ]
  },
  {
   "cell_type": "code",
   "execution_count": 14,
   "metadata": {},
   "outputs": [
    {
     "name": "stdout",
     "output_type": "stream",
     "text": "Pilar:18\n"
    }
   ],
   "source": [
    "def funcion_alumno_edad(x, y):\n",
    "    primera_columna = x[0]\n",
    "    primera_alumna = primera_columna[0]\n",
    "    print(primera_alumna + \":\" + str(y[-1]))\n",
    "    #print(primera_alumna, \":\", y[-1])\n",
    "\n",
    "funcion_alumno_edad(x=lista_alumnos, y=lista_total)\n",
    "#funcion_alumno_edad(param1=lista_alumnos, param2=lista_total)"
   ]
  },
  {
   "cell_type": "code",
   "execution_count": 16,
   "metadata": {},
   "outputs": [
    {
     "ename": "TypeError",
     "evalue": "can only concatenate str (not \"int\") to str",
     "output_type": "error",
     "traceback": [
      "\u001b[0;31m---------------------------------------------------------------------------\u001b[0m",
      "\u001b[0;31mTypeError\u001b[0m                                 Traceback (most recent call last)",
      "\u001b[0;32m<ipython-input-16-1bfbb3baef42>\u001b[0m in \u001b[0;36m<module>\u001b[0;34m\u001b[0m\n\u001b[1;32m      8\u001b[0m     \u001b[0mprint\u001b[0m\u001b[0;34m(\u001b[0m\u001b[0msuma\u001b[0m\u001b[0;34m)\u001b[0m\u001b[0;34m\u001b[0m\u001b[0;34m\u001b[0m\u001b[0m\n\u001b[1;32m      9\u001b[0m \u001b[0;34m\u001b[0m\u001b[0m\n\u001b[0;32m---> 10\u001b[0;31m \u001b[0msuma_elementos\u001b[0m\u001b[0;34m(\u001b[0m\u001b[0mparam1\u001b[0m\u001b[0;34m=\u001b[0m\u001b[0mapellido\u001b[0m\u001b[0;34m,\u001b[0m \u001b[0mparam2\u001b[0m\u001b[0;34m=\u001b[0m\u001b[0;36m2\u001b[0m\u001b[0;34m)\u001b[0m\u001b[0;34m\u001b[0m\u001b[0;34m\u001b[0m\u001b[0m\n\u001b[0m\u001b[1;32m     11\u001b[0m \u001b[0msuma_elementos\u001b[0m\u001b[0;34m(\u001b[0m\u001b[0;34m)\u001b[0m\u001b[0;34m\u001b[0m\u001b[0;34m\u001b[0m\u001b[0m\n",
      "\u001b[0;32m<ipython-input-15-de98edfe0740>\u001b[0m in \u001b[0;36msuma_elementos\u001b[0;34m(param1, param2)\u001b[0m\n\u001b[1;32m      1\u001b[0m \u001b[0;32mdef\u001b[0m \u001b[0msuma_elementos\u001b[0m\u001b[0;34m(\u001b[0m\u001b[0mparam1\u001b[0m\u001b[0;34m,\u001b[0m \u001b[0mparam2\u001b[0m\u001b[0;34m)\u001b[0m\u001b[0;34m:\u001b[0m\u001b[0;34m\u001b[0m\u001b[0;34m\u001b[0m\u001b[0m\n\u001b[0;32m----> 2\u001b[0;31m     \u001b[0msuma\u001b[0m \u001b[0;34m=\u001b[0m \u001b[0mparam1\u001b[0m \u001b[0;34m+\u001b[0m \u001b[0mparam2\u001b[0m\u001b[0;34m\u001b[0m\u001b[0;34m\u001b[0m\u001b[0m\n\u001b[0m\u001b[1;32m      3\u001b[0m     \u001b[0mprint\u001b[0m\u001b[0;34m(\u001b[0m\u001b[0msuma\u001b[0m\u001b[0;34m)\u001b[0m\u001b[0;34m\u001b[0m\u001b[0;34m\u001b[0m\u001b[0m\n\u001b[1;32m      4\u001b[0m \u001b[0;34m\u001b[0m\u001b[0m\n\u001b[1;32m      5\u001b[0m \u001b[0msuma_elementos\u001b[0m\u001b[0;34m(\u001b[0m\u001b[0mparam1\u001b[0m\u001b[0;34m=\u001b[0m\u001b[0mapellido\u001b[0m\u001b[0;34m,\u001b[0m \u001b[0mparam2\u001b[0m\u001b[0;34m=\u001b[0m\u001b[0;36m2\u001b[0m\u001b[0;34m)\u001b[0m\u001b[0;34m\u001b[0m\u001b[0;34m\u001b[0m\u001b[0m\n",
      "\u001b[0;31mTypeError\u001b[0m: can only concatenate str (not \"int\") to str"
     ]
    }
   ],
   "source": [
    "def suma_elementos_solo_cadenas(param1, param2):\n",
    "    \"\"\" \n",
    "    Esta funcion suma dos argumentos de entrada. Son param1 y param2.\n",
    "    \"\"\"\n",
    "    param1 = str(param1)\n",
    "    param2 = str(param2)\n",
    "    suma = param1 + param2\n",
    "    print(suma)\n",
    "\n",
    "suma_elementos(param1=apellido, param2=2)\n",
    "suma_elementos()\n"
   ]
  },
  {
   "cell_type": "code",
   "execution_count": 19,
   "metadata": {},
   "outputs": [
    {
     "name": "stdout",
     "output_type": "stream",
     "text": "1 : 0\n2 : 1\n3 : 2\n4 : 3\n55 : 4\n5 : 5\n"
    }
   ],
   "source": [
    "lista = [1,2,3,4,55,5]\n",
    "acum = 0\n",
    "for x in lista:\n",
    "    print(x, \":\", acum)\n",
    "    acum = acum + 1"
   ]
  },
  {
   "cell_type": "markdown",
   "execution_count": null,
   "metadata": {},
   "outputs": [],
   "source": [
    "\n",
    "Crear una función llamada 'funcion_vivienda\" que, al invocarla, muestre por pantalla vuestro apellido, un espacio en blanco y el número de vuestra calle. La función recibe un parámetro de entrada que será la lista de alumnos cuando se la invoque.\n",
    "Crear una función llamada 'funcion_alumno_edad' que reciba dos argumentos por parámetro (la lista de alumnos de la clase y la lista de los valores previamente creada cuando es invocada) y muestre por pantalla el alumno al que le habéis pedido la edad, dos puntos y su edad."
   ]
  },
  {
   "cell_type": "markdown",
   "execution_count": null,
   "metadata": {},
   "outputs": [],
   "source": [
    "### If, else, Bucle for, append, input, sort listas.\n",
    "\n",
    "#### Nueva celda por punto.\n",
    "----------\n",
    "- Crear una lista de listas con la altura de los alumnos (más o menos). Debe tener el mismo orden que la lista de listas de los alumnos. \n",
    "\n",
    "----------\n",
    "Crear una función 'funcion_altura_v1' que reciba un parámetro (que será la lista de alturas). La función debe:\n",
    "\n",
    "- Recorrer la lista de alturas y mostrar por pantalla solo las alturas que sean mayores o iguales que 175cms.\n",
    "\n",
    "----------\n",
    "Crear una función 'funcion_altura_v2' que reciba un parámetro (que será la lista de alturas). La función debe:\n",
    "\n",
    "\n",
    "- Recorrer la lista de alturas y mostrar sólo el índice en la lista del valor de la altura que está recorriendo.\n",
    "\n",
    "----------\n",
    "Crear una función 'funcion_altura_v3' que reciba dos parámetros (que serán la lista de alturas y la lista de alumnos). La función debe:\n",
    "\n",
    "- Recorrer ambas listas para mostrar por pantalla las alturas que sean menores que 175 ACOMPAÑADO del nombre de la persona que tenga esa altura. Se recuerda que las dos listas han de estar ordenadas Alumno - Altura en la misma posición."
   ]
  },
  {
   "cell_type": "markdown",
   "execution_count": null,
   "metadata": {},
   "outputs": [],
   "source": [
    "### Refuerzo\n",
    "\n",
    "Crear una lista que tenga cuatro elementos: \n",
    "- Los dos primeros deben ser Strings, \n",
    "- El tercero debe ser Entero\n",
    "- El cuarto ha una lista de dos números consecutivos. \n",
    "\n",
    "La lista ha de llamarse lista_refuerzo. Además, se debe crear una función 'funcion_refuerzo' que reciba un parámetro de entrada llamado 'lista'. La función debe guardar en una variable el tercer elemento de 'lista'. Para la variable guardada, que es el tercer elemento de la lista que hemos creado en primer lugar, se debe:\n",
    "\n",
    "- Mostrar por pantalla la suma de los dos elementos que tiene. \n",
    "\n",
    "Para llamar a la función, se debe pasar por parámetro la lista que hemos creado en primer lugar.\n",
    "\n",
    "\n"
   ]
  },
  {
   "cell_type": "markdown",
   "execution_count": null,
   "metadata": {},
   "outputs": [],
   "source": [
    "Crear una función 'funcion_comparativa' que reciba un parámetro de entrada 'param1' y que muestre por pantalla 'Menor a 0' si 'param1' es menor a 0. En el caso en el que sea igual a 0, debe mostrar 'Igual a 0'. En el caso en el que sea mayor a 20 y menor que 70, debe mostrar 'Mayor a 20 y menor que 70' . Para cualquier otro caso, mostrar 'Demasiado grande'"
   ]
  },
  {
   "cell_type": "code",
   "execution_count": 52,
   "metadata": {},
   "outputs": [
    {
     "name": "stdout",
     "output_type": "stream",
     "text": "Mayor a 20 y menor a 70\n"
    }
   ],
   "source": [
    "def funcion_comparativa(param1):\n",
    "    if param1 < 0:\n",
    "        print(\"Menor a 0\")\n",
    "    elif param1 == 0:\n",
    "        print(\"Igual a 0\")\n",
    "    elif (20 < param1 < 70):\n",
    "        print(\"Mayor a 20 y menor a 70\")\n",
    "    else:\n",
    "        print(\"Demasiado grande\")\n",
    "\n",
    "funcion_comparativa(param1=45)"
   ]
  },
  {
   "cell_type": "code",
   "execution_count": 54,
   "metadata": {},
   "outputs": [
    {
     "name": "stdout",
     "output_type": "stream",
     "text": "Numero: -4\nMenor a 0\nNumero: 1\nDemasiado grande\nNumero: 56\nMayor a 20 y menor a 70\nNumero: 89\nDemasiado grande\n"
    }
   ],
   "source": [
    "def funcion_comparativa(param1):\n",
    "    for numero in param1:\n",
    "        print(\"Numero:\", numero)\n",
    "        if numero < 0:\n",
    "            print(\"Menor a 0\")\n",
    "        elif numero == 0:\n",
    "            print(\"Igual a 0\")\n",
    "        elif (20 < numero < 70) or (0 < numero <= 20):\n",
    "            print(\"Mayor a 0 y menor a 70\")\n",
    "        else:\n",
    "            print(\"Demasiado grande\")\n",
    "\n",
    "lista_numeros = [-4,1,56,89]\n",
    "funcion_comparativa(param1=lista_numeros)"
   ]
  },
  {
   "cell_type": "markdown",
   "execution_count": null,
   "metadata": {},
   "outputs": [],
   "source": [
    "A partir de la lista de alumnos, mostrar las columnas de alumnos cuando haya más de 3 alumnos. "
   ]
  },
  {
   "cell_type": "code",
   "execution_count": 24,
   "metadata": {},
   "outputs": [
    {
     "name": "stdout",
     "output_type": "stream",
     "text": "['Pilar', 'Cynthia', 'Dio', 'Sara']\n['Gonzalo_Infiltrado', 'Blanca', 'Ana', 'Fran']\n['Begoña', 'May', 'Miguel', 'Eddy']\n"
    }
   ],
   "source": [
    "columna1 = [\"Pilar\", \"Cynthia\", \"Dio\", \"Sara\"]\n",
    "columna2 = [\"Borja\", \"Gonzalo\"]\n",
    "columna3 = [\"Gonzalo_Infiltrado\", \"Blanca\", \"Ana\", \"Fran\"]\n",
    "columna4 = [\"Begoña\", \"May\", \"Miguel\", \"Eddy\"]\n",
    "\n",
    "lista_alumnos = [columna1, columna2, columna3, columna4]\n",
    "\n",
    "for columna_alumnos in lista_alumnos:\n",
    "    tamano_columna = len(columna_alumnos)\n",
    "    if tamano_columna > 3:\n",
    "        print(columna_alumnos)"
   ]
  },
  {
   "cell_type": "markdown",
   "execution_count": null,
   "metadata": {},
   "outputs": [],
   "source": [
    "Crear una función 'funcion_recorre' que sea capaz de recorrer una lista de entrada y mostrar un elemento sí, otro no, otro sí, otro no,(...)."
   ]
  },
  {
   "cell_type": "code",
   "execution_count": 50,
   "metadata": {},
   "outputs": [
    {
     "name": "stdout",
     "output_type": "stream",
     "text": "uno\ntres\n"
    }
   ],
   "source": [
    "def funcion_recorre(lista):\n",
    "    contador = 0\n",
    "    tamano_lista = len(lista)\n",
    "    for elemento in lista:\n",
    "        if contador == 0 :  # Primer elemento\n",
    "            print(elemento)\n",
    "        if contador == 2:\n",
    "            print(elemento)\n",
    "        #print(\"Contador: \", contador)\n",
    "        contador = contador + 1\n",
    "        \n",
    "\n",
    "lista_entrada = [\"uno\", 2, \"tres\", 4, 412, \"515\"] \n",
    "funcion_recorre(lista=lista_entrada)"
   ]
  },
  {
   "cell_type": "code",
   "execution_count": 46,
   "metadata": {},
   "outputs": [
    {
     "name": "stdout",
     "output_type": "stream",
     "text": "uno\ntres\n4\n7\n3\n7\n"
    }
   ],
   "source": [
    "def funcion_iteracion(lista):\n",
    "    contador = 0\n",
    "    for elemento in lista:\n",
    "        if contador % 2 == 0:\n",
    "            print(elemento)\n",
    "        #print(\"Contador: \", contador)\n",
    "        contador = contador + 1\n",
    "        \n",
    "lista_entrada = [\"uno\", 2, \"tres\", 4, 4,6,7,1,3,5,7] \n",
    "funcion_iteracion(lista=lista_entrada)"
   ]
  },
  {
   "cell_type": "code",
   "execution_count": 49,
   "metadata": {},
   "outputs": [
    {
     "name": "stdout",
     "output_type": "stream",
     "text": "uno\ntres\nad\nhja\n"
    }
   ],
   "source": [
    "def funcion_recorre(lista):\n",
    "    contador = 0\n",
    "    tamano_lista = len(lista)\n",
    "    for elemento in lista:\n",
    "        if contador < tamano_lista:\n",
    "            print(lista[contador])\n",
    "            contador = contador + 2\n",
    "        \n",
    "\n",
    "lista_entrada = [\"uno\", 2, \"tres\", 4, \"ad\", 595, \"hja\", 5151] \n",
    "funcion_recorre(lista=lista_entrada)"
   ]
  },
  {
   "cell_type": "code",
   "execution_count": 22,
   "metadata": {},
   "outputs": [
    {
     "ename": "RecursionError",
     "evalue": "maximum recursion depth exceeded",
     "output_type": "error",
     "traceback": [
      "\u001b[0;31m---------------------------------------------------------------------------\u001b[0m",
      "\u001b[0;31mRecursionError\u001b[0m                            Traceback (most recent call last)",
      "\u001b[0;32m<ipython-input-22-367712b64876>\u001b[0m in \u001b[0;36m<module>\u001b[0;34m\u001b[0m\n\u001b[1;32m      3\u001b[0m     \u001b[0mprint\u001b[0m\u001b[0;34m(\u001b[0m\u001b[0;34m\"Hola\"\u001b[0m\u001b[0;34m)\u001b[0m\u001b[0;34m\u001b[0m\u001b[0;34m\u001b[0m\u001b[0m\n\u001b[1;32m      4\u001b[0m \u001b[0;34m\u001b[0m\u001b[0m\n\u001b[0;32m----> 5\u001b[0;31m \u001b[0mrecursivo\u001b[0m\u001b[0;34m(\u001b[0m\u001b[0;34m)\u001b[0m\u001b[0;34m\u001b[0m\u001b[0;34m\u001b[0m\u001b[0m\n\u001b[0m",
      "\u001b[0;32m<ipython-input-22-367712b64876>\u001b[0m in \u001b[0;36mrecursivo\u001b[0;34m()\u001b[0m\n\u001b[1;32m      1\u001b[0m \u001b[0;32mdef\u001b[0m \u001b[0mrecursivo\u001b[0m\u001b[0;34m(\u001b[0m\u001b[0;34m)\u001b[0m\u001b[0;34m:\u001b[0m\u001b[0;34m\u001b[0m\u001b[0;34m\u001b[0m\u001b[0m\n\u001b[0;32m----> 2\u001b[0;31m     \u001b[0mrecursivo\u001b[0m\u001b[0;34m(\u001b[0m\u001b[0;34m)\u001b[0m\u001b[0;34m\u001b[0m\u001b[0;34m\u001b[0m\u001b[0m\n\u001b[0m\u001b[1;32m      3\u001b[0m     \u001b[0mprint\u001b[0m\u001b[0;34m(\u001b[0m\u001b[0;34m\"Hola\"\u001b[0m\u001b[0;34m)\u001b[0m\u001b[0;34m\u001b[0m\u001b[0;34m\u001b[0m\u001b[0m\n\u001b[1;32m      4\u001b[0m \u001b[0;34m\u001b[0m\u001b[0m\n\u001b[1;32m      5\u001b[0m \u001b[0mrecursivo\u001b[0m\u001b[0;34m(\u001b[0m\u001b[0;34m)\u001b[0m\u001b[0;34m\u001b[0m\u001b[0;34m\u001b[0m\u001b[0m\n",
      "... last 1 frames repeated, from the frame below ...\n",
      "\u001b[0;32m<ipython-input-22-367712b64876>\u001b[0m in \u001b[0;36mrecursivo\u001b[0;34m()\u001b[0m\n\u001b[1;32m      1\u001b[0m \u001b[0;32mdef\u001b[0m \u001b[0mrecursivo\u001b[0m\u001b[0;34m(\u001b[0m\u001b[0;34m)\u001b[0m\u001b[0;34m:\u001b[0m\u001b[0;34m\u001b[0m\u001b[0;34m\u001b[0m\u001b[0m\n\u001b[0;32m----> 2\u001b[0;31m     \u001b[0mrecursivo\u001b[0m\u001b[0;34m(\u001b[0m\u001b[0;34m)\u001b[0m\u001b[0;34m\u001b[0m\u001b[0;34m\u001b[0m\u001b[0m\n\u001b[0m\u001b[1;32m      3\u001b[0m     \u001b[0mprint\u001b[0m\u001b[0;34m(\u001b[0m\u001b[0;34m\"Hola\"\u001b[0m\u001b[0;34m)\u001b[0m\u001b[0;34m\u001b[0m\u001b[0;34m\u001b[0m\u001b[0m\n\u001b[1;32m      4\u001b[0m \u001b[0;34m\u001b[0m\u001b[0m\n\u001b[1;32m      5\u001b[0m \u001b[0mrecursivo\u001b[0m\u001b[0;34m(\u001b[0m\u001b[0;34m)\u001b[0m\u001b[0;34m\u001b[0m\u001b[0;34m\u001b[0m\u001b[0m\n",
      "\u001b[0;31mRecursionError\u001b[0m: maximum recursion depth exceeded"
     ]
    }
   ],
   "source": [
    "def recursivo():\n",
    "    recursivo()\n",
    "    print(\"Hola\")\n",
    "\n",
    "recursivo()"
   ]
  },
  {
   "cell_type": "code",
   "execution_count": 42,
   "metadata": {},
   "outputs": [
    {
     "name": "stdout",
     "output_type": "stream",
     "text": "Es par\n"
    }
   ],
   "source": [
    "def funcion_es_par(numero):\n",
    "    \"\"\" Comprueba que el número es par\"\"\"\n",
    "    if numero % 2 == 0:\n",
    "        print(\"Es par\")\n",
    "    else:\n",
    "        print(\"Es impar\")\n",
    "\n",
    "funcion_es_par(numero=9581958164)"
   ]
  },
  {
   "cell_type": "code",
   "execution_count": null,
   "metadata": {},
   "outputs": [],
   "source": []
  },
  {
   "cell_type": "code",
   "execution_count": 51,
   "metadata": {},
   "outputs": [
    {
     "name": "stdout",
     "output_type": "stream",
     "text": "indice: 0\nelemento: uno\nindice: 1\nelemento: 2\nindice: 2\nelemento: tres\nindice: 3\nelemento: 4\n"
    }
   ],
   "source": [
    "lista_entrada = [\"uno\", 2, \"tres\", 4]\n",
    "\n",
    "for (pepito, elemento) in enumerate(lista_entrada):\n",
    "    print(\"indice:\", pepito)\n",
    "    print(\"elemento:\", elemento)\n"
   ]
  },
  {
   "cell_type": "code",
   "execution_count": null,
   "metadata": {},
   "outputs": [],
   "source": []
  }
 ]
}