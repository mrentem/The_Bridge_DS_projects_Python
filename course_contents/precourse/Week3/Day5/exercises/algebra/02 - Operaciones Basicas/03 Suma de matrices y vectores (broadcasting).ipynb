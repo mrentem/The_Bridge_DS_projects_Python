{
 "cells": [
  {
   "cell_type": "code",
   "execution_count": 1,
   "metadata": {},
   "outputs": [],
   "source": [
    "import numpy as np"
   ]
  },
  {
   "cell_type": "code",
   "execution_count": 2,
   "metadata": {},
   "outputs": [],
   "source": [
    "# Escribamos nuevamente nuestros elementos y veamos como funciona el broadcasting\n",
    "\n",
    "escalar = 5.6789\n",
    "vector = np.array([3,4,5])\n",
    "matriz = np.array([[1,2],[3,4],[5,6]])"
   ]
  },
  {
   "cell_type": "code",
   "execution_count": 3,
   "metadata": {},
   "outputs": [
    {
     "name": "stdout",
     "output_type": "stream",
     "text": "(3,)\n(3, 2)\n"
    }
   ],
   "source": [
    "# La libreria NumPy nos permite realizar operaciones con arrays de distintas dimensiones. La manera de hacerlo es\n",
    "# extendiendo el elemento de menor dimension hasta igualar el mas grande. Las reglas generales para hacer\n",
    "# broadcasting son las dimensiones coinciden o una de ellas es igual a 1\n",
    "# para conocer mas del funcionamiento https://docs.scipy.org/doc/numpy-1.13.0/user/basics.broadcasting.html\n",
    "print(vector.shape)\n",
    "print(matriz.shape)"
   ]
  },
  {
   "cell_type": "code",
   "execution_count": 4,
   "metadata": {},
   "outputs": [
    {
     "ename": "ValueError",
     "evalue": "operands could not be broadcast together with shapes (3,) (3,2) ",
     "output_type": "error",
     "traceback": [
      "\u001b[1;31m---------------------------------------------------------------------------\u001b[0m",
      "\u001b[1;31mValueError\u001b[0m                                Traceback (most recent call last)",
      "\u001b[1;32m<ipython-input-4-21f25ff80867>\u001b[0m in \u001b[0;36m<module>\u001b[1;34m\u001b[0m\n\u001b[0;32m      1\u001b[0m \u001b[1;31m# Matematicamente hablando la operacion no estaria definida, pero con Python podemos ver que ocurre si las\u001b[0m\u001b[1;33m\u001b[0m\u001b[1;33m\u001b[0m\u001b[1;33m\u001b[0m\u001b[0m\n\u001b[0;32m      2\u001b[0m \u001b[1;31m# condiciones correctas estan dadas, esto es que la dimension del menor pueda ser extendido\u001b[0m\u001b[1;33m\u001b[0m\u001b[1;33m\u001b[0m\u001b[1;33m\u001b[0m\u001b[0m\n\u001b[1;32m----> 3\u001b[1;33m \u001b[0mA\u001b[0m \u001b[1;33m=\u001b[0m \u001b[0mvector\u001b[0m \u001b[1;33m+\u001b[0m \u001b[0mmatriz\u001b[0m\u001b[1;33m\u001b[0m\u001b[1;33m\u001b[0m\u001b[0m\n\u001b[0m\u001b[0;32m      4\u001b[0m \u001b[0mprint\u001b[0m\u001b[1;33m(\u001b[0m\u001b[0mA\u001b[0m\u001b[1;33m.\u001b[0m\u001b[0mshape\u001b[0m\u001b[1;33m)\u001b[0m\u001b[1;33m\u001b[0m\u001b[1;33m\u001b[0m\u001b[0m\n\u001b[0;32m      5\u001b[0m \u001b[0mprint\u001b[0m\u001b[1;33m(\u001b[0m\u001b[0mA\u001b[0m\u001b[1;33m)\u001b[0m\u001b[1;33m\u001b[0m\u001b[1;33m\u001b[0m\u001b[0m\n",
      "\u001b[1;31mValueError\u001b[0m: operands could not be broadcast together with shapes (3,) (3,2) "
     ]
    }
   ],
   "source": [
    "# Matematicamente hablando la operacion no estaria definida, pero con Python podemos ver que ocurre si las\n",
    "# condiciones correctas estan dadas, esto es que la dimension del menor pueda ser extendido\n",
    "A = vector + matriz\n",
    "print(A.shape)\n",
    "print(A)"
   ]
  },
  {
   "cell_type": "code",
   "execution_count": 5,
   "metadata": {},
   "outputs": [
    {
     "name": "stdout",
     "output_type": "stream",
     "text": "Matriz (transpuesta) y vector con el que vamos a operar\n[[1 3 5]\n [2 4 6]]\n[3 4 5]\nDimensiones de los arrays\n(2, 3)\n(3,)\nMatriz resultante de la suma\n[[ 4  7 10]\n [ 5  8 11]]\n"
    }
   ],
   "source": [
    "B = matriz.T + vector\n",
    "\n",
    "print(\"Matriz (transpuesta) y vector con el que vamos a operar\")\n",
    "print(matriz.T)\n",
    "print(vector)\n",
    "\n",
    "print(\"Dimensiones de los arrays\")\n",
    "print(B.shape)\n",
    "print(vector.shape)\n",
    "\n",
    "print(\"Matriz resultante de la suma\")\n",
    "print(B)"
   ]
  },
  {
   "cell_type": "code",
   "execution_count": 18,
   "metadata": {},
   "outputs": [
    {
     "name": "stdout",
     "output_type": "stream",
     "text": [
      "[[43 44]\n",
      " [45 46]\n",
      " [47 48]]\n"
     ]
    }
   ],
   "source": [
    "# Tambien hicimos broadcasting cuando sumamos un escalar y una matriz\n",
    "C = matriz + 42\n",
    "print(C)"
   ]
  },
  {
   "cell_type": "code",
   "execution_count": 20,
   "metadata": {},
   "outputs": [
    {
     "name": "stdout",
     "output_type": "stream",
     "text": [
      "[[43 44]\n",
      " [45 46]\n",
      " [47 48]]\n"
     ]
    }
   ],
   "source": [
    "D = matriz + [[42],[42],[42]]\n",
    "print(D)"
   ]
  },
  {
   "cell_type": "markdown",
   "metadata": {},
   "source": [
    "# Ejercicio"
   ]
  },
  {
   "cell_type": "code",
   "execution_count": 7,
   "metadata": {},
   "outputs": [
    {
     "name": "stdout",
     "output_type": "stream",
     "text": "Dimensiones del vector:  (5, 1)\nDimensiones de la matriz:  (5, 5)\nSuma del vector y la matriz\n[[ 3  4  6  8 10]\n [ 4  5  7  9 11]\n [ 5  6  8 10 12]\n [ 6  7  9 11 13]\n [ 7  8 10 12 14]]\n"
    }
   ],
   "source": [
    "# Hacer la suma de un vector de dimension 5 con una matriz de dimension 5x5\n",
    "v = np.array([[1],[2],[3],[4],[5]])\n",
    "E = np.array([[2,3,5,7,9],[2,3,5,7,9],[2,3,5,7,9],[2,3,5,7,9],[2,3,5,7,9]])\n",
    "print(\"Dimensiones del vector: \", v.shape)\n",
    "print(\"Dimensiones de la matriz: \", E.shape)\n",
    "print(\"Suma del vector y la matriz\")\n",
    "print(E+v)"
   ]
  },
  {
   "cell_type": "code",
   "execution_count": null,
   "metadata": {},
   "outputs": [],
   "source": [
    "# The term broadcasting describes how numpy treats arrays with different shapes during arithmetic operations. \n",
    "# Subject to certain constraints, the smaller array is “broadcast” across the larger array so that they have \n",
    "# compatible shapes. Broadcasting provides a means of vectorizing array operations so that looping occurs in C\n",
    "# instead of Python. It does this without making needless copies of data and usually leads to efficient algorithm\n",
    "# implementations. There are, however, cases where broadcasting is a bad idea because it leads to inefficient use of\n",
    "# memory that slows computation."
   ]
  }
 ],
 "metadata": {
  "kernelspec": {
   "display_name": "Python 3",
   "language": "python",
   "name": "python3"
  },
  "language_info": {
   "codemirror_mode": {
    "name": "ipython",
    "version": 3
   },
   "file_extension": ".py",
   "mimetype": "text/x-python",
   "name": "python",
   "nbconvert_exporter": "python",
   "pygments_lexer": "ipython3",
   "version": "3.7.4-final"
  }
 },
 "nbformat": 4,
 "nbformat_minor": 2
}