{
 "nbformat": 4,
 "nbformat_minor": 2,
 "metadata": {
  "language_info": {
   "name": "python",
   "codemirror_mode": {
    "name": "ipython",
    "version": 3
   },
   "version": "3.7.4-final"
  },
  "orig_nbformat": 2,
  "file_extension": ".py",
  "mimetype": "text/x-python",
  "name": "python",
  "npconvert_exporter": "python",
  "pygments_lexer": "ipython3",
  "version": 3,
  "kernelspec": {
   "name": "python37464bitbasecondadf9388185d494eceb1ea53207dd5bb3f",
   "display_name": "Python 3.7.4 64-bit ('base': conda)"
  }
 },
 "cells": [
  {
   "cell_type": "markdown",
   "metadata": {},
   "source": [
    "# Visualización de datos"
   ]
  },
  {
   "cell_type": "markdown",
   "metadata": {},
   "source": [
    "En el día de ayer (Precurso W3D4), vimos una serie de ejercicios de visualización de datos. Este ejercicio consiste en cargar el fichero 'cancer_test_data.csv' de la carpeta 'data' y realizar los ejercicios 1 y 2 de ayer con esos datos.\n"
   ]
  },
  {
   "cell_type": "code",
   "execution_count": 1,
   "metadata": {},
   "outputs": [],
   "source": [
    "import pandas as pd"
   ]
  },
  {
   "cell_type": "markdown",
   "metadata": {},
   "source": []
  },
  {
   "cell_type": "code",
   "execution_count": 2,
   "metadata": {},
   "outputs": [
    {
     "data": {
      "text/html": "<div>\n<style scoped>\n    .dataframe tbody tr th:only-of-type {\n        vertical-align: middle;\n    }\n\n    .dataframe tbody tr th {\n        vertical-align: top;\n    }\n\n    .dataframe thead th {\n        text-align: right;\n    }\n</style>\n<table border=\"1\" class=\"dataframe\">\n  <thead>\n    <tr style=\"text-align: right;\">\n      <th></th>\n      <th>patient_id</th>\n      <th>test_result</th>\n      <th>has_cancer</th>\n    </tr>\n  </thead>\n  <tbody>\n    <tr>\n      <td>0</td>\n      <td>79452</td>\n      <td>Negative</td>\n      <td>False</td>\n    </tr>\n    <tr>\n      <td>1</td>\n      <td>81667</td>\n      <td>Positive</td>\n      <td>True</td>\n    </tr>\n    <tr>\n      <td>2</td>\n      <td>76297</td>\n      <td>Negative</td>\n      <td>False</td>\n    </tr>\n    <tr>\n      <td>3</td>\n      <td>36593</td>\n      <td>Negative</td>\n      <td>False</td>\n    </tr>\n    <tr>\n      <td>4</td>\n      <td>53717</td>\n      <td>Negative</td>\n      <td>False</td>\n    </tr>\n    <tr>\n      <td>...</td>\n      <td>...</td>\n      <td>...</td>\n      <td>...</td>\n    </tr>\n    <tr>\n      <td>2909</td>\n      <td>39378</td>\n      <td>Negative</td>\n      <td>False</td>\n    </tr>\n    <tr>\n      <td>2910</td>\n      <td>58684</td>\n      <td>Negative</td>\n      <td>False</td>\n    </tr>\n    <tr>\n      <td>2911</td>\n      <td>64038</td>\n      <td>Negative</td>\n      <td>False</td>\n    </tr>\n    <tr>\n      <td>2912</td>\n      <td>61290</td>\n      <td>Positive</td>\n      <td>False</td>\n    </tr>\n    <tr>\n      <td>2913</td>\n      <td>75721</td>\n      <td>Positive</td>\n      <td>False</td>\n    </tr>\n  </tbody>\n</table>\n<p>2914 rows × 3 columns</p>\n</div>",
      "text/plain": "      patient_id test_result  has_cancer\n0          79452    Negative       False\n1          81667    Positive        True\n2          76297    Negative       False\n3          36593    Negative       False\n4          53717    Negative       False\n...          ...         ...         ...\n2909       39378    Negative       False\n2910       58684    Negative       False\n2911       64038    Negative       False\n2912       61290    Positive       False\n2913       75721    Positive       False\n\n[2914 rows x 3 columns]"
     },
     "execution_count": 2,
     "metadata": {},
     "output_type": "execute_result"
    }
   ],
   "source": [
    "df = pandas.read_csv(\"cancer_test_data.csv\")\n",
    "\n",
    "df"
   ]
  },
  {
   "cell_type": "code",
   "execution_count": 4,
   "metadata": {},
   "outputs": [
    {
     "data": {
      "text/plain": "Negative    2106\nPositive     808\nName: test_result, dtype: int64"
     },
     "execution_count": 4,
     "metadata": {},
     "output_type": "execute_result"
    }
   ],
   "source": [
    "test_result = df['test_result'].value_counts()\n",
    "test_result"
   ]
  },
  {
   "cell_type": "code",
   "execution_count": 5,
   "metadata": {},
   "outputs": [
    {
     "data": {
      "text/plain": "2106"
     },
     "execution_count": 5,
     "metadata": {},
     "output_type": "execute_result"
    }
   ],
   "source": [
    "test_result[\"Negative\"]"
   ]
  },
  {
   "cell_type": "code",
   "execution_count": 6,
   "metadata": {},
   "outputs": [
    {
     "data": {
      "text/plain": "2106"
     },
     "execution_count": 6,
     "metadata": {},
     "output_type": "execute_result"
    }
   ],
   "source": [
    "test_result[0]"
   ]
  },
  {
   "cell_type": "code",
   "execution_count": null,
   "metadata": {},
   "outputs": [],
   "source": []
  }
 ]
}