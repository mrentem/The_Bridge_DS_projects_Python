{
 "nbformat": 4,
 "nbformat_minor": 2,
 "metadata": {
  "language_info": {
   "name": "python",
   "codemirror_mode": {
    "name": "ipython",
    "version": 3
   },
   "version": "3.7.4-final"
  },
  "orig_nbformat": 2,
  "file_extension": ".py",
  "mimetype": "text/x-python",
  "name": "python",
  "npconvert_exporter": "python",
  "pygments_lexer": "ipython3",
  "version": 3,
  "kernelspec": {
   "name": "python37464bitbaseconda2bb33fe5ffce4701a66c14f076279995",
   "display_name": "Python 3.7.4 64-bit ('base': conda)"
  }
 },
 "cells": [
  {
   "cell_type": "markdown",
   "execution_count": null,
   "metadata": {},
   "outputs": [],
   "source": [
    "## Classes"
   ]
  },
  {
   "cell_type": "markdown",
   "execution_count": null,
   "metadata": {},
   "outputs": [],
   "source": [
    "### LO IMPORTANTE ES COMPRENDER LA DIFERENCIA ENTRE CLASE E INSTANCIA:\n",
    "Todos somos una misma clase, pero somos diferentes atributos. Es decir que lo que le ocurra a una instancia no afecta a otra instacia, pese a que sean la misma clase."
   ]
  },
  {
   "cell_type": "markdown",
   "metadata": {},
   "source": [
    "## Clase Perro. \n",
    "Vamos a crear una clase llamada Perro, en la que estableceremos unos atributos y sus métodos:"
   ]
  },
  {
   "cell_type": "code",
   "execution_count": 3,
   "metadata": {},
   "outputs": [
    {
     "name": "stdout",
     "output_type": "stream",
     "text": "velocidad and andar: 3\nVelocidad al parar: 0\n0\n"
    }
   ],
   "source": [
    "# Por buenas prácticas los nombre de las clases se indican en mayuscula\n",
    "\n",
    "class Perro():\n",
    "    # Atributos\n",
    "    numero_ojos = 2     # por defecto son 2 ojos\n",
    "    numero_patas = 4    # por defecto son 4 patas\n",
    "    raza = None         # no hay valor por defecto\n",
    "    velocidad = 0       # comienza en 0 y cada instancia irá cambiando\n",
    "\n",
    "    def __init__(self, patas=4, ojos=2):    # aquí hemos dado unos valores de patas y ojos por defecto al crear la instancia\n",
    "        # __init__ es el \"constructor\" de nuestra clase. Siempre está, aunque sea vacío\n",
    "        # con este método podemos modificar los atributos de la clase\n",
    "        self.numero_patas = patas\n",
    "\n",
    "    def andar(self, aumento_de_velocidad):    # METODOS: la funcion andar va a cambiar uno de los atributos de la clase\n",
    "                        # con 'self' llama a todos los atributos de esa clase\n",
    "                        # En cada uno de los metodos de la clase, va a comenzar con 'self'\n",
    "        self.velocidad += aumento_de_velocidad\n",
    "    \n",
    "    def parar(self):\n",
    "        self.velocidad = 0\n",
    "\n",
    "dogi = Perro(patas=5)\n",
    "\n",
    "nuevo_dogi = Perro(patas=7, ojos=3)\n",
    "nuevo_dogi.set_numero_patas = 4\n",
    "nuevo_dogi.numero_patas = 4\n",
    "\n",
    "lasy = Perro()                          # perro_comun representa una instancia de la clase Perro\n",
    "lasy.andar(aumento_de_velocidad=3)      # si llamamos a la función andar, llama a sí misma (lasy) y cambiar la velocidad\n",
    "                                        # este es el modo de modificar la velocidad de una de las instancias de la clase sin\n",
    "                                        # modificar la otra --> en esta caso modifica la velocidad de lasy.\n",
    "print(\"velocidad and andar:\", lasy.velocidad)\n",
    "lasy.parar()\n",
    "print(\"Velocidad al parar:\", lasy.velocidad)\n",
    "\n",
    "laica = Perro()     # otra instancia de perro\n",
    "print(laica.velocidad)\n"
   ]
  },
  {
   "cell_type": "markdown",
   "metadata": {},
   "source": [
    "## Clase Humano:\n",
    "- Ahora vamos a crear la clase Humano.\n",
    "- Definimos los atributos dentro del \"constructor\", de manera que sabemos cómo creará las diferentes instancias de esa Clase.\n",
    "- También definiremos los métodos que modificarán los atributos o crearán atributos nuevos. La creación de nuevos atributos tiene la misma estructura (Ver 'profesion' y 'nueva_profesion'. )\n",
    "- Una de las instancias consiste en mostrar los atributos de la instancia.\n",
    "- Creamos una instacia 'raul' con sus atributos"
   ]
  },
  {
   "cell_type": "code",
   "execution_count": 19,
   "metadata": {},
   "outputs": [
    {
     "name": "stdout",
     "output_type": "stream",
     "text": "Raúl\n42\nProfesor\n"
    }
   ],
   "source": [
    "class Humano():\n",
    "    \n",
    "    def __init__(self, nombre, edad=0, piernas=2):\n",
    "        self.nombre = nombre                # hacemos que al crear la instancia de nombre tenemos que darle un nombre\n",
    "        self.edad = edad                    # Si no, no hago nada\n",
    "        self.piernas = piernas\n",
    "        \n",
    "    def modificar_numero_de_piernas(self, numero_de_piernas):\n",
    "        \"\"\" Con esta funcion se cambia el numero de piernas\n",
    "        \"\"\"\n",
    "        self.piernas = nuevo_numero_de_piernas\n",
    "\n",
    "    def nueva_profesion(self, nueva_profesion):\n",
    "        \"\"\" Con esta función creamos un nuevo atributo que es profesión\n",
    "        \"\"\"\n",
    "        self.profesion = nueva_profesion        # profesion es el nombre del atributo y nueva_profesion es el valor de la instancia\n",
    "\n",
    "    def mostrar_atributos(self):\n",
    "        print(\"Nombre:\", self.nombre)\n",
    "        print(\"Edad:\", self.edad)\n",
    "        print(\"Número de piernas\", self.piernas)\n",
    "        print(\"Profesión:\", self.profesion)\n",
    "\n",
    "\n",
    "raul = Humano(nombre=\"Raúl\", edad=42)       # Aquí estamos llamando al constructor de la clase para crear la instancia 'raul' de 'Humano'\n",
    "                                            # dándole un nombre y con una edad por defecto\n",
    "\n",
    "raul.nueva_profesion(nueva_profesion=\"Profesor\")    # Tengo que darle un valor a la variable profesion\n",
    "\n",
    "\n",
    "print(raul.nombre)\n",
    "print(raul.edad)\n",
    "print(raul.profesion)\n"
   ]
  },
  {
   "cell_type": "markdown",
   "metadata": {},
   "source": [
    "Creamos una nueva instancia de Humano, llamada carmen_de_mairena:\n",
    "- Creamos la instancia con el atributo 'nombre' y el atributo 'edad\n",
    "- Modificamos la instancia para darle el atributo 'profesion'"
   ]
  },
  {
   "cell_type": "code",
   "execution_count": 17,
   "metadata": {},
   "outputs": [
    {
     "name": "stdout",
     "output_type": "stream",
     "text": "Nombre: Carmen de Mairena\nEdad: 86\nNúmero de piernas 2\nProfesión: Artista\n"
    }
   ],
   "source": [
    "carmen_de_mairena = Humano(nombre=\"Carmen de Mairena\", edad=86)\n",
    "carmen_de_mairena.nueva_profesion(nueva_profesion=\"Artista\")\n",
    "\n",
    "carmen_de_mairena.mostrar_atributos()"
   ]
  },
  {
   "cell_type": "code",
   "execution_count": 20,
   "metadata": {},
   "outputs": [
    {
     "name": "stdout",
     "output_type": "stream",
     "text": "Nombre: Raúl\nEdad: 42\nNúmero de piernas 2\nProfesión: Profesor\n---------\nNombre: Carmen de Mairena\nEdad: 86\nNúmero de piernas 2\nProfesión: Artista\n---------\n"
    }
   ],
   "source": [
    "lista_humanos = [raul, carmen_de_mairena]\n",
    "\n",
    "for x in lista_humanos:\n",
    "    x.mostrar_atributos()\n",
    "    print(\"---------\")"
   ]
  },
  {
   "cell_type": "code",
   "execution_count": null,
   "metadata": {},
   "outputs": [],
   "source": []
  },
  {
   "cell_type": "code",
   "execution_count": null,
   "metadata": {},
   "outputs": [],
   "source": [
    "\n",
    "my_variable = 0\n",
    "\n",
    "def my_function():\n",
    "    \"\"\"\n",
    "    Example function\n",
    "    \"\"\"\n",
    "    return my_variable\n",
    "    \n",
    "class MyClass:\n",
    "    \"\"\"\n",
    "    Example class.\n",
    "    \"\"\"\n",
    "\n",
    "    def __init__(self):\n",
    "        \"\"\" Constructor \"\"\"\n",
    "        self.variable = my_variable\n",
    "        \n",
    "    def set_variable(self, new_value):\n",
    "        \"\"\"\n",
    "        Set self.variable to a new value\n",
    "        \"\"\"\n",
    "        self.variable = new_value\n",
    "        \n",
    "    def get_variable(self):\n",
    "        return self.variable"
   ]
  },
  {
   "cell_type": "markdown",
   "metadata": {},
   "source": [
    "## Creamos la Clase Punto"
   ]
  },
  {
   "cell_type": "code",
   "execution_count": 21,
   "metadata": {},
   "outputs": [],
   "source": [
    "class Punto:\n",
    "\n",
    "    def __init__(self, x, y):\n",
    "        \"\"\" Constructor\n",
    "        \"\"\"\n",
    "        self.x = x\n",
    "        self.y = y\n",
    "        \"\"\" Un punto con sus coordenadas x e y\n",
    "        \"\"\"\n",
    "\n",
    "punto1 = Punto(x=2, y=2)    ## Creamos la instancia punto1 de la clase Punto\n",
    "punto2 = Punto(x=1, y=1)\n",
    "punto3 = Punto(x=1.5, y=1.5)"
   ]
  },
  {
   "cell_type": "code",
   "execution_count": 23,
   "metadata": {},
   "outputs": [
    {
     "data": {
      "image/png": "[encoded data removed]",
      "text/plain": "<Figure size 432x288 with 1 Axes>"
     },
     "metadata": {
      "needs_background": "light"
     },
     "output_type": "display_data"
    }
   ],
   "source": [
    "import numpy as np\n",
    "import matplotlib.pyplot as plt\n",
    "\n",
    "# Fixing random state for reproducibility\n",
    "np.random.seed(19680801)\n",
    "\n",
    "\n",
    "N = 50\n",
    "x = np.random.rand(N)\n",
    "y = np.random.rand(N)\n",
    "points_x = [0.1, 0.2, 0.3]\n",
    "points_y = [0.1, 0.2, 0.3]\n",
    "points_color = np.random.rand(3)\n",
    "\n",
    "colors = np.random.rand(N)\n",
    "area = (30 * np.random.rand(N))**2  # 0 to 15 point radii\n",
    "\n",
    "#plt.scatter(x, y, s=area, c=colors, alpha=0.5)\n",
    "plt.scatter(points_x, points_y, c=points_color, alpha=1)\n",
    "plt.show()"
   ]
  },
  {
   "cell_type": "markdown",
   "execution_count": null,
   "metadata": {},
   "outputs": [],
   "source": [
    "### Human class"
   ]
  },
  {
   "cell_type": "code",
   "execution_count": null,
   "metadata": {},
   "outputs": [],
   "source": []
  }
 ]
}